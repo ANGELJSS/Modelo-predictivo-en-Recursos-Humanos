{
  "nbformat": 4,
  "nbformat_minor": 0,
  "metadata": {
    "kernelspec": {
      "display_name": "Python 3",
      "language": "python",
      "name": "python3"
    },
    "language_info": {
      "codemirror_mode": {
        "name": "ipython",
        "version": 3
      },
      "file_extension": ".py",
      "mimetype": "text/x-python",
      "name": "python",
      "nbconvert_exporter": "python",
      "pygments_lexer": "ipython3",
      "version": "3.7.4"
    },
    "toc": {
      "base_numbering": 1,
      "nav_menu": {},
      "number_sections": true,
      "sideBar": true,
      "skip_h1_title": false,
      "title_cell": "Table of Contents",
      "title_sidebar": "Contents",
      "toc_cell": false,
      "toc_position": {
        "height": "calc(100% - 180px)",
        "left": "10px",
        "top": "150px",
        "width": "165px"
      },
      "toc_section_display": true,
      "toc_window_display": false
    },
    "varInspector": {
      "cols": {
        "lenName": 16,
        "lenType": 16,
        "lenVar": 40
      },
      "kernels_config": {
        "python": {
          "delete_cmd_postfix": "",
          "delete_cmd_prefix": "del ",
          "library": "var_list.py",
          "varRefreshCmd": "print(var_dic_list())"
        },
        "r": {
          "delete_cmd_postfix": ") ",
          "delete_cmd_prefix": "rm(",
          "library": "var_list.r",
          "varRefreshCmd": "cat(var_dic_list()) "
        }
      },
      "types_to_exclude": [
        "module",
        "function",
        "builtin_function_or_method",
        "instance",
        "_Feature"
      ],
      "window_display": false
    },
    "colab": {
      "name": "00-JORGE SALAZAR-ANGEL-PROYECTO1 (1).ipynb",
      "provenance": [],
      "include_colab_link": true
    }
  },
  "cells": [
    {
      "cell_type": "markdown",
      "metadata": {
        "id": "view-in-github",
        "colab_type": "text"
      },
      "source": [
        "<a href=\"https://colab.research.google.com/github/ANGELJSS/Modelo-predictivo-en-Recursos-Humanos/blob/main/00_JORGE_SALAZAR_ANGEL_PROYECTO1_(1).ipynb\" target=\"_parent\"><img src=\"https://colab.research.google.com/assets/colab-badge.svg\" alt=\"Open In Colab\"/></a>"
      ]
    },
    {
      "cell_type": "markdown",
      "metadata": {
        "id": "HrBlctKjIQdF"
      },
      "source": [
        "# Predicción recursos humanos1\n",
        "\n",
        "## Modelamiento\n",
        "\n",
        "Angel Jorge Salazar | Analista de datos jr  @ Lutem First Capital\n",
        "* Correo: angel.jorge@unmsm.edu.pe\n",
        "* Linkedin https://www.linkedin.com/in/angel-jorge-salazar-7b3bb614b/"
      ]
    },
    {
      "cell_type": "markdown",
      "metadata": {
        "id": "oaDwu0QnIQdJ"
      },
      "source": [
        "## Caso de uso: HR Analytics"
      ]
    },
    {
      "cell_type": "markdown",
      "metadata": {
        "id": "rFrYJfBeIQdK"
      },
      "source": [
        "<img src = \"https://datahack-prod.s3.ap-south-1.amazonaws.com/__sized__/contest_cover/hr_1920x480_s5WuoZs-thumbnail-1200x1200-90.jpg\" alt=\"Flores\" class=\"card-img-top\">"
      ]
    },
    {
      "cell_type": "markdown",
      "metadata": {
        "id": "qaZESN2lIQdK"
      },
      "source": [
        "Métrica de evaluación: Elegí analizar la metrica AUC(area bajo la curva ROC(`auc_score`)) y el f1_score\n",
        "    "
      ]
    },
    {
      "cell_type": "markdown",
      "metadata": {
        "id": "3JobAbfwIQdL"
      },
      "source": [
        "HR ANALYTICS CHALLENGE: https://datahack.analyticsvidhya.com/contest/wns-analytics-hackathon-2018-1/#LeaderBoard"
      ]
    },
    {
      "cell_type": "markdown",
      "metadata": {
        "id": "GWZ8TdBwIQdL"
      },
      "source": [
        "## Importación de librerías a utilizar"
      ]
    },
    {
      "cell_type": "code",
      "metadata": {
        "id": "kyyZ-2z3IQdM"
      },
      "source": [
        "import pandas as pd\n",
        "import numpy as np\n",
        "import seaborn as sns\n",
        "import matplotlib.pyplot as plt"
      ],
      "execution_count": null,
      "outputs": []
    },
    {
      "cell_type": "code",
      "metadata": {
        "id": "yLzhFMCtIQdM",
        "outputId": "9aa07545-49fa-41f3-aa75-3d043d620a8f"
      },
      "source": [
        "pd.__version__"
      ],
      "execution_count": null,
      "outputs": [
        {
          "output_type": "execute_result",
          "data": {
            "text/plain": [
              "'1.2.1'"
            ]
          },
          "metadata": {
            "tags": []
          },
          "execution_count": 2
        }
      ]
    },
    {
      "cell_type": "code",
      "metadata": {
        "id": "NYHW7h2zIQdO",
        "outputId": "5f2c5d9a-cd2b-42ff-9937-9c4d6c592344"
      },
      "source": [
        "np.__version__"
      ],
      "execution_count": null,
      "outputs": [
        {
          "output_type": "execute_result",
          "data": {
            "text/plain": [
              "'1.19.5'"
            ]
          },
          "metadata": {
            "tags": []
          },
          "execution_count": 3
        }
      ]
    },
    {
      "cell_type": "code",
      "metadata": {
        "id": "7EpuweOpIQdP",
        "outputId": "8c83cce0-0d1f-4ae1-a6c7-66c8cd999a93"
      },
      "source": [
        "sns.__version__"
      ],
      "execution_count": null,
      "outputs": [
        {
          "output_type": "execute_result",
          "data": {
            "text/plain": [
              "'0.11.1'"
            ]
          },
          "metadata": {
            "tags": []
          },
          "execution_count": 4
        }
      ]
    },
    {
      "cell_type": "markdown",
      "metadata": {
        "id": "JbNE4hp4IQdQ"
      },
      "source": [
        "Usamos una semilla a lo largo de todo el notebook para los procesos aleatorios"
      ]
    },
    {
      "cell_type": "code",
      "metadata": {
        "id": "QcTB0-oVIQdR"
      },
      "source": [
        "seed = 2021"
      ],
      "execution_count": null,
      "outputs": []
    },
    {
      "cell_type": "markdown",
      "metadata": {
        "id": "1cu-8zs8IQdR"
      },
      "source": [
        "## Lectura de la  base de datos"
      ]
    },
    {
      "cell_type": "code",
      "metadata": {
        "id": "XM7s0cZ-IQdR"
      },
      "source": [
        "data_RH = pd.read_csv('D:\\\\ANGEL\\\\DMC\\\\Machine Learning Advanced\\\\MACHINE LEARNING ADVANCED _VIVO\\\\train.csv', sep = \",\",index_col=0)"
      ],
      "execution_count": null,
      "outputs": []
    },
    {
      "cell_type": "code",
      "metadata": {
        "id": "sQqFTcfmIQdS",
        "outputId": "32318370-3fe9-490d-a481-705f4e0658e3"
      },
      "source": [
        "data_RH.head(2)"
      ],
      "execution_count": null,
      "outputs": [
        {
          "output_type": "execute_result",
          "data": {
            "text/html": [
              "<div>\n",
              "<style scoped>\n",
              "    .dataframe tbody tr th:only-of-type {\n",
              "        vertical-align: middle;\n",
              "    }\n",
              "\n",
              "    .dataframe tbody tr th {\n",
              "        vertical-align: top;\n",
              "    }\n",
              "\n",
              "    .dataframe thead th {\n",
              "        text-align: right;\n",
              "    }\n",
              "</style>\n",
              "<table border=\"1\" class=\"dataframe\">\n",
              "  <thead>\n",
              "    <tr style=\"text-align: right;\">\n",
              "      <th></th>\n",
              "      <th>department</th>\n",
              "      <th>region</th>\n",
              "      <th>education</th>\n",
              "      <th>gender</th>\n",
              "      <th>recruitment_channel</th>\n",
              "      <th>no_of_trainings</th>\n",
              "      <th>age</th>\n",
              "      <th>previous_year_rating</th>\n",
              "      <th>length_of_service</th>\n",
              "      <th>KPIs_met &gt;80%</th>\n",
              "      <th>awards_won?</th>\n",
              "      <th>avg_training_score</th>\n",
              "      <th>is_promoted</th>\n",
              "    </tr>\n",
              "    <tr>\n",
              "      <th>employee_id</th>\n",
              "      <th></th>\n",
              "      <th></th>\n",
              "      <th></th>\n",
              "      <th></th>\n",
              "      <th></th>\n",
              "      <th></th>\n",
              "      <th></th>\n",
              "      <th></th>\n",
              "      <th></th>\n",
              "      <th></th>\n",
              "      <th></th>\n",
              "      <th></th>\n",
              "      <th></th>\n",
              "    </tr>\n",
              "  </thead>\n",
              "  <tbody>\n",
              "    <tr>\n",
              "      <th>65438</th>\n",
              "      <td>Sales &amp; Marketing</td>\n",
              "      <td>region_7</td>\n",
              "      <td>Master's &amp; above</td>\n",
              "      <td>f</td>\n",
              "      <td>sourcing</td>\n",
              "      <td>1</td>\n",
              "      <td>35</td>\n",
              "      <td>5.0</td>\n",
              "      <td>8</td>\n",
              "      <td>1</td>\n",
              "      <td>0</td>\n",
              "      <td>49</td>\n",
              "      <td>0</td>\n",
              "    </tr>\n",
              "    <tr>\n",
              "      <th>65141</th>\n",
              "      <td>Operations</td>\n",
              "      <td>region_22</td>\n",
              "      <td>Bachelor's</td>\n",
              "      <td>m</td>\n",
              "      <td>other</td>\n",
              "      <td>1</td>\n",
              "      <td>30</td>\n",
              "      <td>5.0</td>\n",
              "      <td>4</td>\n",
              "      <td>0</td>\n",
              "      <td>0</td>\n",
              "      <td>60</td>\n",
              "      <td>0</td>\n",
              "    </tr>\n",
              "  </tbody>\n",
              "</table>\n",
              "</div>"
            ],
            "text/plain": [
              "                    department     region         education gender  \\\n",
              "employee_id                                                          \n",
              "65438        Sales & Marketing   region_7  Master's & above      f   \n",
              "65141               Operations  region_22        Bachelor's      m   \n",
              "\n",
              "            recruitment_channel  no_of_trainings  age  previous_year_rating  \\\n",
              "employee_id                                                                   \n",
              "65438                  sourcing                1   35                   5.0   \n",
              "65141                     other                1   30                   5.0   \n",
              "\n",
              "             length_of_service  KPIs_met >80%  awards_won?  \\\n",
              "employee_id                                                  \n",
              "65438                        8              1            0   \n",
              "65141                        4              0            0   \n",
              "\n",
              "             avg_training_score  is_promoted  \n",
              "employee_id                                   \n",
              "65438                        49            0  \n",
              "65141                        60            0  "
            ]
          },
          "metadata": {
            "tags": []
          },
          "execution_count": 7
        }
      ]
    },
    {
      "cell_type": "code",
      "metadata": {
        "id": "74SFuvoXIQdS",
        "outputId": "636bf745-28ca-422d-c661-5ef3d0c28838"
      },
      "source": [
        "data_RH.shape"
      ],
      "execution_count": null,
      "outputs": [
        {
          "output_type": "execute_result",
          "data": {
            "text/plain": [
              "(54808, 13)"
            ]
          },
          "metadata": {
            "tags": []
          },
          "execution_count": 8
        }
      ]
    },
    {
      "cell_type": "code",
      "metadata": {
        "id": "tYYbST6gIQdT",
        "outputId": "4d7c79df-cede-4aae-e91c-ec7083a672f5"
      },
      "source": [
        "type(data_RH)"
      ],
      "execution_count": null,
      "outputs": [
        {
          "output_type": "execute_result",
          "data": {
            "text/plain": [
              "pandas.core.frame.DataFrame"
            ]
          },
          "metadata": {
            "tags": []
          },
          "execution_count": 9
        }
      ]
    },
    {
      "cell_type": "code",
      "metadata": {
        "id": "HcJoAzVaIQdT"
      },
      "source": [
        "target = 'is_promoted'"
      ],
      "execution_count": null,
      "outputs": []
    },
    {
      "cell_type": "code",
      "metadata": {
        "id": "jPQBEhEQIQdT",
        "outputId": "861d49f9-2bc7-4526-dc80-69c9573538a9"
      },
      "source": [
        "data_RH[target].value_counts()\n",
        "### Donde:\n",
        "# 0 nos indica: personas  no adecuadas para la promoción y prepararlas a tiempo\n",
        "# 1 nos indica: personas adecuadas para la promoción y prepararlas a tiempo"
      ],
      "execution_count": null,
      "outputs": [
        {
          "output_type": "execute_result",
          "data": {
            "text/plain": [
              "0    50140\n",
              "1     4668\n",
              "Name: is_promoted, dtype: int64"
            ]
          },
          "metadata": {
            "tags": []
          },
          "execution_count": 11
        }
      ]
    },
    {
      "cell_type": "code",
      "metadata": {
        "id": "v93bLrqoIQdU",
        "outputId": "48ed91b1-64fe-49ce-f177-f5b0d24f502e"
      },
      "source": [
        "data_RH[target].value_counts(normalize = True)"
      ],
      "execution_count": null,
      "outputs": [
        {
          "output_type": "execute_result",
          "data": {
            "text/plain": [
              "0    0.91483\n",
              "1    0.08517\n",
              "Name: is_promoted, dtype: float64"
            ]
          },
          "metadata": {
            "tags": []
          },
          "execution_count": 12
        }
      ]
    },
    {
      "cell_type": "markdown",
      "metadata": {
        "id": "M7cGfiyFIQdU"
      },
      "source": [
        "Observamos el target de forma gráfica"
      ]
    },
    {
      "cell_type": "code",
      "metadata": {
        "id": "SLM52emrIQdV",
        "outputId": "ec45638f-b371-4fbb-ac5e-52fe01380673"
      },
      "source": [
        "### Observamos la frecuencia de los datos a predecir(class)###\n",
        "LABELS =['No Promover','Promover']\n",
        "count_classes = pd.value_counts(data_RH['is_promoted'], sort = True)\n",
        "count_classes.plot(kind = 'bar', rot=0)\n",
        "plt.xticks(range(2), LABELS)\n",
        "plt.title(\"Frequencia por número de observación\")\n",
        "plt.xlabel(\"Clase\")\n",
        "plt.ylabel(\"Numero de observaciones\")"
      ],
      "execution_count": null,
      "outputs": [
        {
          "output_type": "execute_result",
          "data": {
            "text/plain": [
              "Text(0, 0.5, 'Numero de observaciones')"
            ]
          },
          "metadata": {
            "tags": []
          },
          "execution_count": 15
        },
        {
          "output_type": "display_data",
          "data": {
            "image/png": "[encoded data removed]",
            "text/plain": [
              "<Figure size 432x288 with 1 Axes>"
            ]
          },
          "metadata": {
            "tags": [],
            "needs_background": "light"
          }
        }
      ]
    },
    {
      "cell_type": "code",
      "metadata": {
        "id": "e1QvFGOXIQdV",
        "outputId": "8d8d108c-b542-43d0-dbe5-970a554be915"
      },
      "source": [
        "# Observamos la etiqueta en porcentajes y en gráfico pastel\n",
        "plt.pie(pd.value_counts(data_RH['is_promoted']), labels=LABELS, autopct=\"%0.1f %%\")\n",
        "plt.axis(\"equal\")\n",
        "plt.show()"
      ],
      "execution_count": null,
      "outputs": [
        {
          "output_type": "display_data",
          "data": {
            "image/png": "[encoded data removed]",
            "text/plain": [
              "<Figure size 432x288 with 1 Axes>"
            ]
          },
          "metadata": {
            "tags": []
          }
        }
      ]
    },
    {
      "cell_type": "markdown",
      "metadata": {
        "id": "WjNjclyMIQdW"
      },
      "source": [
        "## División en conjuntos de entrenamiento y prueba"
      ]
    },
    {
      "cell_type": "code",
      "metadata": {
        "id": "YpJq8tAlIQdX"
      },
      "source": [
        "X = data_RH.drop(target, axis =1)\n",
        "y = data_RH[target]"
      ],
      "execution_count": null,
      "outputs": []
    },
    {
      "cell_type": "code",
      "metadata": {
        "id": "8P_5jiGRIQdX",
        "outputId": "08b2c7e5-77de-4149-c10c-a9c4b10f7943"
      },
      "source": [
        "X.head(2)"
      ],
      "execution_count": null,
      "outputs": [
        {
          "output_type": "execute_result",
          "data": {
            "text/html": [
              "<div>\n",
              "<style scoped>\n",
              "    .dataframe tbody tr th:only-of-type {\n",
              "        vertical-align: middle;\n",
              "    }\n",
              "\n",
              "    .dataframe tbody tr th {\n",
              "        vertical-align: top;\n",
              "    }\n",
              "\n",
              "    .dataframe thead th {\n",
              "        text-align: right;\n",
              "    }\n",
              "</style>\n",
              "<table border=\"1\" class=\"dataframe\">\n",
              "  <thead>\n",
              "    <tr style=\"text-align: right;\">\n",
              "      <th></th>\n",
              "      <th>department</th>\n",
              "      <th>region</th>\n",
              "      <th>education</th>\n",
              "      <th>gender</th>\n",
              "      <th>recruitment_channel</th>\n",
              "      <th>no_of_trainings</th>\n",
              "      <th>age</th>\n",
              "      <th>previous_year_rating</th>\n",
              "      <th>length_of_service</th>\n",
              "      <th>KPIs_met &gt;80%</th>\n",
              "      <th>awards_won?</th>\n",
              "      <th>avg_training_score</th>\n",
              "    </tr>\n",
              "    <tr>\n",
              "      <th>employee_id</th>\n",
              "      <th></th>\n",
              "      <th></th>\n",
              "      <th></th>\n",
              "      <th></th>\n",
              "      <th></th>\n",
              "      <th></th>\n",
              "      <th></th>\n",
              "      <th></th>\n",
              "      <th></th>\n",
              "      <th></th>\n",
              "      <th></th>\n",
              "      <th></th>\n",
              "    </tr>\n",
              "  </thead>\n",
              "  <tbody>\n",
              "    <tr>\n",
              "      <th>65438</th>\n",
              "      <td>Sales &amp; Marketing</td>\n",
              "      <td>region_7</td>\n",
              "      <td>Master's &amp; above</td>\n",
              "      <td>f</td>\n",
              "      <td>sourcing</td>\n",
              "      <td>1</td>\n",
              "      <td>35</td>\n",
              "      <td>5.0</td>\n",
              "      <td>8</td>\n",
              "      <td>1</td>\n",
              "      <td>0</td>\n",
              "      <td>49</td>\n",
              "    </tr>\n",
              "    <tr>\n",
              "      <th>65141</th>\n",
              "      <td>Operations</td>\n",
              "      <td>region_22</td>\n",
              "      <td>Bachelor's</td>\n",
              "      <td>m</td>\n",
              "      <td>other</td>\n",
              "      <td>1</td>\n",
              "      <td>30</td>\n",
              "      <td>5.0</td>\n",
              "      <td>4</td>\n",
              "      <td>0</td>\n",
              "      <td>0</td>\n",
              "      <td>60</td>\n",
              "    </tr>\n",
              "  </tbody>\n",
              "</table>\n",
              "</div>"
            ],
            "text/plain": [
              "                    department     region         education gender  \\\n",
              "employee_id                                                          \n",
              "65438        Sales & Marketing   region_7  Master's & above      f   \n",
              "65141               Operations  region_22        Bachelor's      m   \n",
              "\n",
              "            recruitment_channel  no_of_trainings  age  previous_year_rating  \\\n",
              "employee_id                                                                   \n",
              "65438                  sourcing                1   35                   5.0   \n",
              "65141                     other                1   30                   5.0   \n",
              "\n",
              "             length_of_service  KPIs_met >80%  awards_won?  avg_training_score  \n",
              "employee_id                                                                     \n",
              "65438                        8              1            0                  49  \n",
              "65141                        4              0            0                  60  "
            ]
          },
          "metadata": {
            "tags": []
          },
          "execution_count": 18
        }
      ]
    },
    {
      "cell_type": "code",
      "metadata": {
        "id": "0zfCma6RIQdX",
        "outputId": "e178b9fa-b2be-47ef-a901-624a3e894b89"
      },
      "source": [
        "y.head(2)"
      ],
      "execution_count": null,
      "outputs": [
        {
          "output_type": "execute_result",
          "data": {
            "text/plain": [
              "employee_id\n",
              "65438    0\n",
              "65141    0\n",
              "Name: is_promoted, dtype: int64"
            ]
          },
          "metadata": {
            "tags": []
          },
          "execution_count": 19
        }
      ]
    },
    {
      "cell_type": "code",
      "metadata": {
        "id": "LCvqBUg6IQdY",
        "outputId": "1e3dc09d-1898-4dcf-c04d-18286b2e3d55"
      },
      "source": [
        "X.shape"
      ],
      "execution_count": null,
      "outputs": [
        {
          "output_type": "execute_result",
          "data": {
            "text/plain": [
              "(54808, 12)"
            ]
          },
          "metadata": {
            "tags": []
          },
          "execution_count": 20
        }
      ]
    },
    {
      "cell_type": "code",
      "metadata": {
        "id": "NgXM0GPnIQdY",
        "outputId": "266c0fa5-c6af-4dbe-80d7-f03c756fc161"
      },
      "source": [
        "y.shape"
      ],
      "execution_count": null,
      "outputs": [
        {
          "output_type": "execute_result",
          "data": {
            "text/plain": [
              "(54808,)"
            ]
          },
          "metadata": {
            "tags": []
          },
          "execution_count": 21
        }
      ]
    },
    {
      "cell_type": "code",
      "metadata": {
        "id": "ujhXlcr8IQdY"
      },
      "source": [
        "from sklearn.model_selection import train_test_split"
      ],
      "execution_count": null,
      "outputs": []
    },
    {
      "cell_type": "code",
      "metadata": {
        "id": "6jN5W_Q1IQdZ",
        "outputId": "c1afb764-f292-45ba-85f3-b1b487af64ad"
      },
      "source": [
        "seed"
      ],
      "execution_count": null,
      "outputs": [
        {
          "output_type": "execute_result",
          "data": {
            "text/plain": [
              "2021"
            ]
          },
          "metadata": {
            "tags": []
          },
          "execution_count": 23
        }
      ]
    },
    {
      "cell_type": "code",
      "metadata": {
        "scrolled": true,
        "id": "oTWol7xTIQdZ"
      },
      "source": [
        "X_train, X_test, y_train, y_test = train_test_split(X, y, test_size = 0.2, stratify = y, random_state = seed)"
      ],
      "execution_count": null,
      "outputs": []
    },
    {
      "cell_type": "code",
      "metadata": {
        "id": "iceFcOBwIQdZ",
        "outputId": "2f9322e6-9f52-40bd-f7d0-b8f45d6b34ea"
      },
      "source": [
        "X_train.head(2)"
      ],
      "execution_count": null,
      "outputs": [
        {
          "output_type": "execute_result",
          "data": {
            "text/html": [
              "<div>\n",
              "<style scoped>\n",
              "    .dataframe tbody tr th:only-of-type {\n",
              "        vertical-align: middle;\n",
              "    }\n",
              "\n",
              "    .dataframe tbody tr th {\n",
              "        vertical-align: top;\n",
              "    }\n",
              "\n",
              "    .dataframe thead th {\n",
              "        text-align: right;\n",
              "    }\n",
              "</style>\n",
              "<table border=\"1\" class=\"dataframe\">\n",
              "  <thead>\n",
              "    <tr style=\"text-align: right;\">\n",
              "      <th></th>\n",
              "      <th>department</th>\n",
              "      <th>region</th>\n",
              "      <th>education</th>\n",
              "      <th>gender</th>\n",
              "      <th>recruitment_channel</th>\n",
              "      <th>no_of_trainings</th>\n",
              "      <th>age</th>\n",
              "      <th>previous_year_rating</th>\n",
              "      <th>length_of_service</th>\n",
              "      <th>KPIs_met &gt;80%</th>\n",
              "      <th>awards_won?</th>\n",
              "      <th>avg_training_score</th>\n",
              "    </tr>\n",
              "    <tr>\n",
              "      <th>employee_id</th>\n",
              "      <th></th>\n",
              "      <th></th>\n",
              "      <th></th>\n",
              "      <th></th>\n",
              "      <th></th>\n",
              "      <th></th>\n",
              "      <th></th>\n",
              "      <th></th>\n",
              "      <th></th>\n",
              "      <th></th>\n",
              "      <th></th>\n",
              "      <th></th>\n",
              "    </tr>\n",
              "  </thead>\n",
              "  <tbody>\n",
              "    <tr>\n",
              "      <th>53924</th>\n",
              "      <td>Sales &amp; Marketing</td>\n",
              "      <td>region_6</td>\n",
              "      <td>Bachelor's</td>\n",
              "      <td>m</td>\n",
              "      <td>other</td>\n",
              "      <td>1</td>\n",
              "      <td>31</td>\n",
              "      <td>3.0</td>\n",
              "      <td>4</td>\n",
              "      <td>0</td>\n",
              "      <td>0</td>\n",
              "      <td>50</td>\n",
              "    </tr>\n",
              "    <tr>\n",
              "      <th>39112</th>\n",
              "      <td>Technology</td>\n",
              "      <td>region_7</td>\n",
              "      <td>Bachelor's</td>\n",
              "      <td>m</td>\n",
              "      <td>other</td>\n",
              "      <td>1</td>\n",
              "      <td>26</td>\n",
              "      <td>2.0</td>\n",
              "      <td>6</td>\n",
              "      <td>0</td>\n",
              "      <td>0</td>\n",
              "      <td>77</td>\n",
              "    </tr>\n",
              "  </tbody>\n",
              "</table>\n",
              "</div>"
            ],
            "text/plain": [
              "                    department    region   education gender  \\\n",
              "employee_id                                                   \n",
              "53924        Sales & Marketing  region_6  Bachelor's      m   \n",
              "39112               Technology  region_7  Bachelor's      m   \n",
              "\n",
              "            recruitment_channel  no_of_trainings  age  previous_year_rating  \\\n",
              "employee_id                                                                   \n",
              "53924                     other                1   31                   3.0   \n",
              "39112                     other                1   26                   2.0   \n",
              "\n",
              "             length_of_service  KPIs_met >80%  awards_won?  avg_training_score  \n",
              "employee_id                                                                     \n",
              "53924                        4              0            0                  50  \n",
              "39112                        6              0            0                  77  "
            ]
          },
          "metadata": {
            "tags": []
          },
          "execution_count": 25
        }
      ]
    },
    {
      "cell_type": "code",
      "metadata": {
        "id": "QF0FhxPoIQda",
        "outputId": "ec4f7525-3ae6-4e8f-8769-84a6992236fc"
      },
      "source": [
        "X_test.head(2)"
      ],
      "execution_count": null,
      "outputs": [
        {
          "output_type": "execute_result",
          "data": {
            "text/html": [
              "<div>\n",
              "<style scoped>\n",
              "    .dataframe tbody tr th:only-of-type {\n",
              "        vertical-align: middle;\n",
              "    }\n",
              "\n",
              "    .dataframe tbody tr th {\n",
              "        vertical-align: top;\n",
              "    }\n",
              "\n",
              "    .dataframe thead th {\n",
              "        text-align: right;\n",
              "    }\n",
              "</style>\n",
              "<table border=\"1\" class=\"dataframe\">\n",
              "  <thead>\n",
              "    <tr style=\"text-align: right;\">\n",
              "      <th></th>\n",
              "      <th>department</th>\n",
              "      <th>region</th>\n",
              "      <th>education</th>\n",
              "      <th>gender</th>\n",
              "      <th>recruitment_channel</th>\n",
              "      <th>no_of_trainings</th>\n",
              "      <th>age</th>\n",
              "      <th>previous_year_rating</th>\n",
              "      <th>length_of_service</th>\n",
              "      <th>KPIs_met &gt;80%</th>\n",
              "      <th>awards_won?</th>\n",
              "      <th>avg_training_score</th>\n",
              "    </tr>\n",
              "    <tr>\n",
              "      <th>employee_id</th>\n",
              "      <th></th>\n",
              "      <th></th>\n",
              "      <th></th>\n",
              "      <th></th>\n",
              "      <th></th>\n",
              "      <th></th>\n",
              "      <th></th>\n",
              "      <th></th>\n",
              "      <th></th>\n",
              "      <th></th>\n",
              "      <th></th>\n",
              "      <th></th>\n",
              "    </tr>\n",
              "  </thead>\n",
              "  <tbody>\n",
              "    <tr>\n",
              "      <th>30828</th>\n",
              "      <td>Finance</td>\n",
              "      <td>region_28</td>\n",
              "      <td>Bachelor's</td>\n",
              "      <td>m</td>\n",
              "      <td>sourcing</td>\n",
              "      <td>1</td>\n",
              "      <td>31</td>\n",
              "      <td>5.0</td>\n",
              "      <td>5</td>\n",
              "      <td>1</td>\n",
              "      <td>0</td>\n",
              "      <td>55</td>\n",
              "    </tr>\n",
              "    <tr>\n",
              "      <th>51784</th>\n",
              "      <td>Operations</td>\n",
              "      <td>region_19</td>\n",
              "      <td>Bachelor's</td>\n",
              "      <td>m</td>\n",
              "      <td>sourcing</td>\n",
              "      <td>1</td>\n",
              "      <td>45</td>\n",
              "      <td>4.0</td>\n",
              "      <td>19</td>\n",
              "      <td>0</td>\n",
              "      <td>0</td>\n",
              "      <td>57</td>\n",
              "    </tr>\n",
              "  </tbody>\n",
              "</table>\n",
              "</div>"
            ],
            "text/plain": [
              "             department     region   education gender recruitment_channel  \\\n",
              "employee_id                                                                 \n",
              "30828           Finance  region_28  Bachelor's      m            sourcing   \n",
              "51784        Operations  region_19  Bachelor's      m            sourcing   \n",
              "\n",
              "             no_of_trainings  age  previous_year_rating  length_of_service  \\\n",
              "employee_id                                                                  \n",
              "30828                      1   31                   5.0                  5   \n",
              "51784                      1   45                   4.0                 19   \n",
              "\n",
              "             KPIs_met >80%  awards_won?  avg_training_score  \n",
              "employee_id                                                  \n",
              "30828                    1            0                  55  \n",
              "51784                    0            0                  57  "
            ]
          },
          "metadata": {
            "tags": []
          },
          "execution_count": 26
        }
      ]
    },
    {
      "cell_type": "code",
      "metadata": {
        "id": "vmB8vBJ6IQda",
        "outputId": "d26359c0-8cb4-4773-daa8-5ad0a383927c"
      },
      "source": [
        "X_train.shape, X_test.shape"
      ],
      "execution_count": null,
      "outputs": [
        {
          "output_type": "execute_result",
          "data": {
            "text/plain": [
              "((43846, 12), (10962, 12))"
            ]
          },
          "metadata": {
            "tags": []
          },
          "execution_count": 27
        }
      ]
    },
    {
      "cell_type": "code",
      "metadata": {
        "id": "CEDSwPuMIQda",
        "outputId": "f531047b-0f4a-4feb-8aed-07490faba93e"
      },
      "source": [
        "y_train.shape, y_test.shape"
      ],
      "execution_count": null,
      "outputs": [
        {
          "output_type": "execute_result",
          "data": {
            "text/plain": [
              "((43846,), (10962,))"
            ]
          },
          "metadata": {
            "tags": []
          },
          "execution_count": 28
        }
      ]
    },
    {
      "cell_type": "code",
      "metadata": {
        "id": "F47B8Hc0IQdb",
        "outputId": "c9dd7e5c-82b2-4086-b89a-9ef589fe71f1"
      },
      "source": [
        "y.mean()"
      ],
      "execution_count": null,
      "outputs": [
        {
          "output_type": "execute_result",
          "data": {
            "text/plain": [
              "0.08517004816815063"
            ]
          },
          "metadata": {
            "tags": []
          },
          "execution_count": 29
        }
      ]
    },
    {
      "cell_type": "code",
      "metadata": {
        "scrolled": true,
        "id": "3yi6frzeIQdb",
        "outputId": "eb7452b4-970b-47a6-a3a5-c8b94e00fc7c"
      },
      "source": [
        "y_train.mean()"
      ],
      "execution_count": null,
      "outputs": [
        {
          "output_type": "execute_result",
          "data": {
            "text/plain": [
              "0.08516170232176254"
            ]
          },
          "metadata": {
            "tags": []
          },
          "execution_count": 30
        }
      ]
    },
    {
      "cell_type": "code",
      "metadata": {
        "id": "OQ5Q03FUIQdb",
        "outputId": "90f0ff34-1378-44ed-f665-0830b205b6e6"
      },
      "source": [
        "y_train.value_counts()"
      ],
      "execution_count": null,
      "outputs": [
        {
          "output_type": "execute_result",
          "data": {
            "text/plain": [
              "0    40112\n",
              "1     3734\n",
              "Name: is_promoted, dtype: int64"
            ]
          },
          "metadata": {
            "tags": []
          },
          "execution_count": 31
        }
      ]
    },
    {
      "cell_type": "code",
      "metadata": {
        "id": "XFJttjH3IQdc",
        "outputId": "b53a5ee7-880d-478c-f596-02cd49653cbe"
      },
      "source": [
        "y_test.mean()"
      ],
      "execution_count": null,
      "outputs": [
        {
          "output_type": "execute_result",
          "data": {
            "text/plain": [
              "0.08520343003101624"
            ]
          },
          "metadata": {
            "tags": []
          },
          "execution_count": 32
        }
      ]
    },
    {
      "cell_type": "code",
      "metadata": {
        "id": "wga528pvIQdc",
        "outputId": "e8e33059-a383-495f-e2ff-3928145befb4"
      },
      "source": [
        "y_test.value_counts()"
      ],
      "execution_count": null,
      "outputs": [
        {
          "output_type": "execute_result",
          "data": {
            "text/plain": [
              "0    10028\n",
              "1      934\n",
              "Name: is_promoted, dtype: int64"
            ]
          },
          "metadata": {
            "tags": []
          },
          "execution_count": 33
        }
      ]
    },
    {
      "cell_type": "markdown",
      "metadata": {
        "id": "ymwemURrIQdc"
      },
      "source": [
        "# Análisis exploratorio"
      ]
    },
    {
      "cell_type": "markdown",
      "metadata": {
        "id": "j8KbYGenIQdd"
      },
      "source": [
        "Columnas del conjunto de datos"
      ]
    },
    {
      "cell_type": "code",
      "metadata": {
        "id": "jdkYhhC3IQdd",
        "outputId": "083844ae-34ce-4325-b5bd-3153c31882c3"
      },
      "source": [
        "X_train.head()"
      ],
      "execution_count": null,
      "outputs": [
        {
          "output_type": "execute_result",
          "data": {
            "text/html": [
              "<div>\n",
              "<style scoped>\n",
              "    .dataframe tbody tr th:only-of-type {\n",
              "        vertical-align: middle;\n",
              "    }\n",
              "\n",
              "    .dataframe tbody tr th {\n",
              "        vertical-align: top;\n",
              "    }\n",
              "\n",
              "    .dataframe thead th {\n",
              "        text-align: right;\n",
              "    }\n",
              "</style>\n",
              "<table border=\"1\" class=\"dataframe\">\n",
              "  <thead>\n",
              "    <tr style=\"text-align: right;\">\n",
              "      <th></th>\n",
              "      <th>department</th>\n",
              "      <th>region</th>\n",
              "      <th>education</th>\n",
              "      <th>gender</th>\n",
              "      <th>recruitment_channel</th>\n",
              "      <th>no_of_trainings</th>\n",
              "      <th>age</th>\n",
              "      <th>previous_year_rating</th>\n",
              "      <th>length_of_service</th>\n",
              "      <th>KPIs_met &gt;80%</th>\n",
              "      <th>awards_won?</th>\n",
              "      <th>avg_training_score</th>\n",
              "    </tr>\n",
              "    <tr>\n",
              "      <th>employee_id</th>\n",
              "      <th></th>\n",
              "      <th></th>\n",
              "      <th></th>\n",
              "      <th></th>\n",
              "      <th></th>\n",
              "      <th></th>\n",
              "      <th></th>\n",
              "      <th></th>\n",
              "      <th></th>\n",
              "      <th></th>\n",
              "      <th></th>\n",
              "      <th></th>\n",
              "    </tr>\n",
              "  </thead>\n",
              "  <tbody>\n",
              "    <tr>\n",
              "      <th>53924</th>\n",
              "      <td>Sales &amp; Marketing</td>\n",
              "      <td>region_6</td>\n",
              "      <td>Bachelor's</td>\n",
              "      <td>m</td>\n",
              "      <td>other</td>\n",
              "      <td>1</td>\n",
              "      <td>31</td>\n",
              "      <td>3.0</td>\n",
              "      <td>4</td>\n",
              "      <td>0</td>\n",
              "      <td>0</td>\n",
              "      <td>50</td>\n",
              "    </tr>\n",
              "    <tr>\n",
              "      <th>39112</th>\n",
              "      <td>Technology</td>\n",
              "      <td>region_7</td>\n",
              "      <td>Bachelor's</td>\n",
              "      <td>m</td>\n",
              "      <td>other</td>\n",
              "      <td>1</td>\n",
              "      <td>26</td>\n",
              "      <td>2.0</td>\n",
              "      <td>6</td>\n",
              "      <td>0</td>\n",
              "      <td>0</td>\n",
              "      <td>77</td>\n",
              "    </tr>\n",
              "    <tr>\n",
              "      <th>1741</th>\n",
              "      <td>Analytics</td>\n",
              "      <td>region_22</td>\n",
              "      <td>Bachelor's</td>\n",
              "      <td>m</td>\n",
              "      <td>sourcing</td>\n",
              "      <td>2</td>\n",
              "      <td>28</td>\n",
              "      <td>5.0</td>\n",
              "      <td>3</td>\n",
              "      <td>0</td>\n",
              "      <td>0</td>\n",
              "      <td>82</td>\n",
              "    </tr>\n",
              "    <tr>\n",
              "      <th>65100</th>\n",
              "      <td>Finance</td>\n",
              "      <td>region_28</td>\n",
              "      <td>Bachelor's</td>\n",
              "      <td>m</td>\n",
              "      <td>sourcing</td>\n",
              "      <td>2</td>\n",
              "      <td>29</td>\n",
              "      <td>2.0</td>\n",
              "      <td>5</td>\n",
              "      <td>0</td>\n",
              "      <td>0</td>\n",
              "      <td>58</td>\n",
              "    </tr>\n",
              "    <tr>\n",
              "      <th>72902</th>\n",
              "      <td>Technology</td>\n",
              "      <td>region_26</td>\n",
              "      <td>Bachelor's</td>\n",
              "      <td>m</td>\n",
              "      <td>sourcing</td>\n",
              "      <td>1</td>\n",
              "      <td>48</td>\n",
              "      <td>1.0</td>\n",
              "      <td>18</td>\n",
              "      <td>0</td>\n",
              "      <td>0</td>\n",
              "      <td>80</td>\n",
              "    </tr>\n",
              "  </tbody>\n",
              "</table>\n",
              "</div>"
            ],
            "text/plain": [
              "                    department     region   education gender  \\\n",
              "employee_id                                                    \n",
              "53924        Sales & Marketing   region_6  Bachelor's      m   \n",
              "39112               Technology   region_7  Bachelor's      m   \n",
              "1741                 Analytics  region_22  Bachelor's      m   \n",
              "65100                  Finance  region_28  Bachelor's      m   \n",
              "72902               Technology  region_26  Bachelor's      m   \n",
              "\n",
              "            recruitment_channel  no_of_trainings  age  previous_year_rating  \\\n",
              "employee_id                                                                   \n",
              "53924                     other                1   31                   3.0   \n",
              "39112                     other                1   26                   2.0   \n",
              "1741                   sourcing                2   28                   5.0   \n",
              "65100                  sourcing                2   29                   2.0   \n",
              "72902                  sourcing                1   48                   1.0   \n",
              "\n",
              "             length_of_service  KPIs_met >80%  awards_won?  avg_training_score  \n",
              "employee_id                                                                     \n",
              "53924                        4              0            0                  50  \n",
              "39112                        6              0            0                  77  \n",
              "1741                         3              0            0                  82  \n",
              "65100                        5              0            0                  58  \n",
              "72902                       18              0            0                  80  "
            ]
          },
          "metadata": {
            "tags": []
          },
          "execution_count": 34
        }
      ]
    },
    {
      "cell_type": "code",
      "metadata": {
        "id": "kfZo5icrIQdd",
        "outputId": "69641fb5-269f-4769-d6b1-8b489b9d4430"
      },
      "source": [
        "y_train.head()"
      ],
      "execution_count": null,
      "outputs": [
        {
          "output_type": "execute_result",
          "data": {
            "text/plain": [
              "employee_id\n",
              "53924    0\n",
              "39112    0\n",
              "1741     0\n",
              "65100    0\n",
              "72902    0\n",
              "Name: is_promoted, dtype: int64"
            ]
          },
          "metadata": {
            "tags": []
          },
          "execution_count": 35
        }
      ]
    },
    {
      "cell_type": "markdown",
      "metadata": {
        "id": "ZClepZO2IQde"
      },
      "source": [
        "`columns`"
      ]
    },
    {
      "cell_type": "code",
      "metadata": {
        "id": "bHFpFC8iIQde",
        "outputId": "e07be906-6d27-4099-bac5-a899570b8d90"
      },
      "source": [
        "X_train.columns"
      ],
      "execution_count": null,
      "outputs": [
        {
          "output_type": "execute_result",
          "data": {
            "text/plain": [
              "Index(['department', 'region', 'education', 'gender', 'recruitment_channel',\n",
              "       'no_of_trainings', 'age', 'previous_year_rating', 'length_of_service',\n",
              "       'KPIs_met >80%', 'awards_won?', 'avg_training_score'],\n",
              "      dtype='object')"
            ]
          },
          "metadata": {
            "tags": []
          },
          "execution_count": 36
        }
      ]
    },
    {
      "cell_type": "markdown",
      "metadata": {
        "id": "4FCodUB1IQde"
      },
      "source": [
        "`info`"
      ]
    },
    {
      "cell_type": "code",
      "metadata": {
        "id": "kTRqYIWQIQde",
        "outputId": "366c3218-1481-4498-f56f-f2c9782b3ccb"
      },
      "source": [
        "X_train.dtypes"
      ],
      "execution_count": null,
      "outputs": [
        {
          "output_type": "execute_result",
          "data": {
            "text/plain": [
              "department               object\n",
              "region                   object\n",
              "education                object\n",
              "gender                   object\n",
              "recruitment_channel      object\n",
              "no_of_trainings           int64\n",
              "age                       int64\n",
              "previous_year_rating    float64\n",
              "length_of_service         int64\n",
              "KPIs_met >80%             int64\n",
              "awards_won?               int64\n",
              "avg_training_score        int64\n",
              "dtype: object"
            ]
          },
          "metadata": {
            "tags": []
          },
          "execution_count": 37
        }
      ]
    },
    {
      "cell_type": "code",
      "metadata": {
        "id": "swlhu3LaIQdf",
        "outputId": "50d8b520-7053-4b13-b725-11d4d8c3da0f"
      },
      "source": [
        "X_train.info()"
      ],
      "execution_count": null,
      "outputs": [
        {
          "output_type": "stream",
          "text": [
            "<class 'pandas.core.frame.DataFrame'>\n",
            "Int64Index: 43846 entries, 53924 to 76770\n",
            "Data columns (total 12 columns):\n",
            " #   Column                Non-Null Count  Dtype  \n",
            "---  ------                --------------  -----  \n",
            " 0   department            43846 non-null  object \n",
            " 1   region                43846 non-null  object \n",
            " 2   education             41934 non-null  object \n",
            " 3   gender                43846 non-null  object \n",
            " 4   recruitment_channel   43846 non-null  object \n",
            " 5   no_of_trainings       43846 non-null  int64  \n",
            " 6   age                   43846 non-null  int64  \n",
            " 7   previous_year_rating  40572 non-null  float64\n",
            " 8   length_of_service     43846 non-null  int64  \n",
            " 9   KPIs_met >80%         43846 non-null  int64  \n",
            " 10  awards_won?           43846 non-null  int64  \n",
            " 11  avg_training_score    43846 non-null  int64  \n",
            "dtypes: float64(1), int64(6), object(5)\n",
            "memory usage: 4.3+ MB\n"
          ],
          "name": "stdout"
        }
      ]
    },
    {
      "cell_type": "markdown",
      "metadata": {
        "id": "OSYhDlLeIQdf"
      },
      "source": [
        "Podemos notar que existen valores nulos en 2 de nuestras variables 'education' y 'revious_year_rating'"
      ]
    },
    {
      "cell_type": "markdown",
      "metadata": {
        "id": "naobbS_WIQdf"
      },
      "source": [
        "`describe` `include`"
      ]
    },
    {
      "cell_type": "code",
      "metadata": {
        "id": "AQVt47loIQdf",
        "outputId": "29b669d3-2660-4a32-9965-90645431d29f"
      },
      "source": [
        "X_train.describe()"
      ],
      "execution_count": null,
      "outputs": [
        {
          "output_type": "execute_result",
          "data": {
            "text/html": [
              "<div>\n",
              "<style scoped>\n",
              "    .dataframe tbody tr th:only-of-type {\n",
              "        vertical-align: middle;\n",
              "    }\n",
              "\n",
              "    .dataframe tbody tr th {\n",
              "        vertical-align: top;\n",
              "    }\n",
              "\n",
              "    .dataframe thead th {\n",
              "        text-align: right;\n",
              "    }\n",
              "</style>\n",
              "<table border=\"1\" class=\"dataframe\">\n",
              "  <thead>\n",
              "    <tr style=\"text-align: right;\">\n",
              "      <th></th>\n",
              "      <th>no_of_trainings</th>\n",
              "      <th>age</th>\n",
              "      <th>previous_year_rating</th>\n",
              "      <th>length_of_service</th>\n",
              "      <th>KPIs_met &gt;80%</th>\n",
              "      <th>awards_won?</th>\n",
              "      <th>avg_training_score</th>\n",
              "    </tr>\n",
              "  </thead>\n",
              "  <tbody>\n",
              "    <tr>\n",
              "      <th>count</th>\n",
              "      <td>43846.000000</td>\n",
              "      <td>43846.000000</td>\n",
              "      <td>40572.000000</td>\n",
              "      <td>43846.000000</td>\n",
              "      <td>43846.000000</td>\n",
              "      <td>43846.000000</td>\n",
              "      <td>43846.000000</td>\n",
              "    </tr>\n",
              "    <tr>\n",
              "      <th>mean</th>\n",
              "      <td>1.251471</td>\n",
              "      <td>34.805934</td>\n",
              "      <td>3.333284</td>\n",
              "      <td>5.871482</td>\n",
              "      <td>0.352894</td>\n",
              "      <td>0.023286</td>\n",
              "      <td>63.387150</td>\n",
              "    </tr>\n",
              "    <tr>\n",
              "      <th>std</th>\n",
              "      <td>0.609187</td>\n",
              "      <td>7.652666</td>\n",
              "      <td>1.259597</td>\n",
              "      <td>4.259109</td>\n",
              "      <td>0.477876</td>\n",
              "      <td>0.150812</td>\n",
              "      <td>13.374862</td>\n",
              "    </tr>\n",
              "    <tr>\n",
              "      <th>min</th>\n",
              "      <td>1.000000</td>\n",
              "      <td>20.000000</td>\n",
              "      <td>1.000000</td>\n",
              "      <td>1.000000</td>\n",
              "      <td>0.000000</td>\n",
              "      <td>0.000000</td>\n",
              "      <td>39.000000</td>\n",
              "    </tr>\n",
              "    <tr>\n",
              "      <th>25%</th>\n",
              "      <td>1.000000</td>\n",
              "      <td>29.000000</td>\n",
              "      <td>3.000000</td>\n",
              "      <td>3.000000</td>\n",
              "      <td>0.000000</td>\n",
              "      <td>0.000000</td>\n",
              "      <td>51.000000</td>\n",
              "    </tr>\n",
              "    <tr>\n",
              "      <th>50%</th>\n",
              "      <td>1.000000</td>\n",
              "      <td>33.000000</td>\n",
              "      <td>3.000000</td>\n",
              "      <td>5.000000</td>\n",
              "      <td>0.000000</td>\n",
              "      <td>0.000000</td>\n",
              "      <td>60.000000</td>\n",
              "    </tr>\n",
              "    <tr>\n",
              "      <th>75%</th>\n",
              "      <td>1.000000</td>\n",
              "      <td>39.000000</td>\n",
              "      <td>4.000000</td>\n",
              "      <td>7.000000</td>\n",
              "      <td>1.000000</td>\n",
              "      <td>0.000000</td>\n",
              "      <td>76.000000</td>\n",
              "    </tr>\n",
              "    <tr>\n",
              "      <th>max</th>\n",
              "      <td>10.000000</td>\n",
              "      <td>60.000000</td>\n",
              "      <td>5.000000</td>\n",
              "      <td>37.000000</td>\n",
              "      <td>1.000000</td>\n",
              "      <td>1.000000</td>\n",
              "      <td>99.000000</td>\n",
              "    </tr>\n",
              "  </tbody>\n",
              "</table>\n",
              "</div>"
            ],
            "text/plain": [
              "       no_of_trainings           age  previous_year_rating  length_of_service  \\\n",
              "count     43846.000000  43846.000000          40572.000000       43846.000000   \n",
              "mean          1.251471     34.805934              3.333284           5.871482   \n",
              "std           0.609187      7.652666              1.259597           4.259109   \n",
              "min           1.000000     20.000000              1.000000           1.000000   \n",
              "25%           1.000000     29.000000              3.000000           3.000000   \n",
              "50%           1.000000     33.000000              3.000000           5.000000   \n",
              "75%           1.000000     39.000000              4.000000           7.000000   \n",
              "max          10.000000     60.000000              5.000000          37.000000   \n",
              "\n",
              "       KPIs_met >80%   awards_won?  avg_training_score  \n",
              "count   43846.000000  43846.000000        43846.000000  \n",
              "mean        0.352894      0.023286           63.387150  \n",
              "std         0.477876      0.150812           13.374862  \n",
              "min         0.000000      0.000000           39.000000  \n",
              "25%         0.000000      0.000000           51.000000  \n",
              "50%         0.000000      0.000000           60.000000  \n",
              "75%         1.000000      0.000000           76.000000  \n",
              "max         1.000000      1.000000           99.000000  "
            ]
          },
          "metadata": {
            "tags": []
          },
          "execution_count": 39
        }
      ]
    },
    {
      "cell_type": "code",
      "metadata": {
        "id": "VAKo1W9OIQdf",
        "outputId": "97773e96-d143-423a-f28d-b214c8fd82ea"
      },
      "source": [
        "X_train.describe(include = 'object')"
      ],
      "execution_count": null,
      "outputs": [
        {
          "output_type": "execute_result",
          "data": {
            "text/html": [
              "<div>\n",
              "<style scoped>\n",
              "    .dataframe tbody tr th:only-of-type {\n",
              "        vertical-align: middle;\n",
              "    }\n",
              "\n",
              "    .dataframe tbody tr th {\n",
              "        vertical-align: top;\n",
              "    }\n",
              "\n",
              "    .dataframe thead th {\n",
              "        text-align: right;\n",
              "    }\n",
              "</style>\n",
              "<table border=\"1\" class=\"dataframe\">\n",
              "  <thead>\n",
              "    <tr style=\"text-align: right;\">\n",
              "      <th></th>\n",
              "      <th>department</th>\n",
              "      <th>region</th>\n",
              "      <th>education</th>\n",
              "      <th>gender</th>\n",
              "      <th>recruitment_channel</th>\n",
              "    </tr>\n",
              "  </thead>\n",
              "  <tbody>\n",
              "    <tr>\n",
              "      <th>count</th>\n",
              "      <td>43846</td>\n",
              "      <td>43846</td>\n",
              "      <td>41934</td>\n",
              "      <td>43846</td>\n",
              "      <td>43846</td>\n",
              "    </tr>\n",
              "    <tr>\n",
              "      <th>unique</th>\n",
              "      <td>9</td>\n",
              "      <td>34</td>\n",
              "      <td>3</td>\n",
              "      <td>2</td>\n",
              "      <td>3</td>\n",
              "    </tr>\n",
              "    <tr>\n",
              "      <th>top</th>\n",
              "      <td>Sales &amp; Marketing</td>\n",
              "      <td>region_2</td>\n",
              "      <td>Bachelor's</td>\n",
              "      <td>m</td>\n",
              "      <td>other</td>\n",
              "    </tr>\n",
              "    <tr>\n",
              "      <th>freq</th>\n",
              "      <td>13496</td>\n",
              "      <td>9806</td>\n",
              "      <td>29332</td>\n",
              "      <td>30782</td>\n",
              "      <td>24341</td>\n",
              "    </tr>\n",
              "  </tbody>\n",
              "</table>\n",
              "</div>"
            ],
            "text/plain": [
              "               department    region   education gender recruitment_channel\n",
              "count               43846     43846       41934  43846               43846\n",
              "unique                  9        34           3      2                   3\n",
              "top     Sales & Marketing  region_2  Bachelor's      m               other\n",
              "freq                13496      9806       29332  30782               24341"
            ]
          },
          "metadata": {
            "tags": []
          },
          "execution_count": 40
        }
      ]
    },
    {
      "cell_type": "code",
      "metadata": {
        "id": "rpVswlQXIQdg",
        "outputId": "6d826c01-6341-45ce-d7b7-435410059c36"
      },
      "source": [
        "X_train['department'].value_counts(dropna = False), X_train['region'].value_counts(dropna = False), X_train['education'].value_counts(dropna = False)"
      ],
      "execution_count": null,
      "outputs": [
        {
          "output_type": "execute_result",
          "data": {
            "text/plain": [
              "(Sales & Marketing    13496\n",
              " Operations            9094\n",
              " Procurement           5705\n",
              " Technology            5680\n",
              " Analytics             4308\n",
              " Finance               2021\n",
              " HR                    1908\n",
              " Legal                  833\n",
              " R&D                    801\n",
              " Name: department, dtype: int64, region_2     9806\n",
              " region_22    5172\n",
              " region_7     3863\n",
              " region_15    2270\n",
              " region_13    2113\n",
              " region_26    1823\n",
              " region_31    1522\n",
              " region_4     1355\n",
              " region_27    1350\n",
              " region_16    1181\n",
              " region_11    1068\n",
              " region_28    1051\n",
              " region_23     947\n",
              " region_29     792\n",
              " region_32     749\n",
              " region_20     680\n",
              " region_14     669\n",
              " region_25     665\n",
              " region_19     663\n",
              " region_17     630\n",
              " region_5      599\n",
              " region_6      557\n",
              " region_8      528\n",
              " region_30     528\n",
              " region_10     518\n",
              " region_1      502\n",
              " region_24     412\n",
              " region_12     401\n",
              " region_9      341\n",
              " region_21     325\n",
              " region_3      285\n",
              " region_34     244\n",
              " region_33     212\n",
              " region_18      25\n",
              " Name: region, dtype: int64, Bachelor's          29332\n",
              " Master's & above    11974\n",
              " NaN                  1912\n",
              " Below Secondary       628\n",
              " Name: education, dtype: int64)"
            ]
          },
          "metadata": {
            "tags": []
          },
          "execution_count": 41
        }
      ]
    },
    {
      "cell_type": "code",
      "metadata": {
        "id": "0SKpFltpIQdg",
        "outputId": "c6251414-0f53-4afc-ac56-819a00a443b8"
      },
      "source": [
        "X_train['gender'].value_counts(dropna = False), X_train['recruitment_channel'].value_counts(dropna = False)"
      ],
      "execution_count": null,
      "outputs": [
        {
          "output_type": "execute_result",
          "data": {
            "text/plain": [
              "(m    30782\n",
              " f    13064\n",
              " Name: gender, dtype: int64, other       24341\n",
              " sourcing    18574\n",
              " referred      931\n",
              " Name: recruitment_channel, dtype: int64)"
            ]
          },
          "metadata": {
            "tags": []
          },
          "execution_count": 42
        }
      ]
    },
    {
      "cell_type": "markdown",
      "metadata": {
        "id": "LKmGcLiRIQdg"
      },
      "source": [
        "### Exploramos las distribuciones y percentiles de las variables"
      ]
    },
    {
      "cell_type": "code",
      "metadata": {
        "id": "p0cJf1jnIQdh",
        "outputId": "ae770b0d-e31b-40c0-94e9-6bbeb08c836b"
      },
      "source": [
        "sns.histplot(data = X_train, x = 'no_of_trainings')"
      ],
      "execution_count": null,
      "outputs": [
        {
          "output_type": "execute_result",
          "data": {
            "text/plain": [
              "<AxesSubplot:xlabel='no_of_trainings', ylabel='Count'>"
            ]
          },
          "metadata": {
            "tags": []
          },
          "execution_count": 43
        },
        {
          "output_type": "display_data",
          "data": {
            "image/png": "[encoded data removed]",
            "text/plain": [
              "<Figure size 432x288 with 1 Axes>"
            ]
          },
          "metadata": {
            "tags": [],
            "needs_background": "light"
          }
        }
      ]
    },
    {
      "cell_type": "code",
      "metadata": {
        "id": "YE-BO3qrIQdh",
        "outputId": "68562a0c-efe1-47e6-fd3b-2c6208f9632b"
      },
      "source": [
        "sns.histplot(data = X_train, x = 'age')"
      ],
      "execution_count": null,
      "outputs": [
        {
          "output_type": "execute_result",
          "data": {
            "text/plain": [
              "<AxesSubplot:xlabel='age', ylabel='Count'>"
            ]
          },
          "metadata": {
            "tags": []
          },
          "execution_count": 44
        },
        {
          "output_type": "display_data",
          "data": {
            "image/png": "[encoded data removed]",
            "text/plain": [
              "<Figure size 432x288 with 1 Axes>"
            ]
          },
          "metadata": {
            "tags": [],
            "needs_background": "light"
          }
        }
      ]
    },
    {
      "cell_type": "code",
      "metadata": {
        "id": "3jhisfmSIQdh",
        "outputId": "45d87255-a5c4-4ec5-af04-b00b941db4eb"
      },
      "source": [
        "sns.histplot(data = X_train, x = 'previous_year_rating')"
      ],
      "execution_count": null,
      "outputs": [
        {
          "output_type": "execute_result",
          "data": {
            "text/plain": [
              "<AxesSubplot:xlabel='previous_year_rating', ylabel='Count'>"
            ]
          },
          "metadata": {
            "tags": []
          },
          "execution_count": 45
        },
        {
          "output_type": "display_data",
          "data": {
            "image/png": "[encoded data removed]",
            "text/plain": [
              "<Figure size 432x288 with 1 Axes>"
            ]
          },
          "metadata": {
            "tags": [],
            "needs_background": "light"
          }
        }
      ]
    },
    {
      "cell_type": "code",
      "metadata": {
        "id": "Zad3Jw-hIQdh",
        "outputId": "f0e1e6b2-0f21-4c09-edfc-3ca5fce5a51a"
      },
      "source": [
        "sns.histplot(data = X_train, x = 'length_of_service')"
      ],
      "execution_count": null,
      "outputs": [
        {
          "output_type": "execute_result",
          "data": {
            "text/plain": [
              "<AxesSubplot:xlabel='length_of_service', ylabel='Count'>"
            ]
          },
          "metadata": {
            "tags": []
          },
          "execution_count": 46
        },
        {
          "output_type": "display_data",
          "data": {
            "image/png": "[encoded data removed]",
            "text/plain": [
              "<Figure size 432x288 with 1 Axes>"
            ]
          },
          "metadata": {
            "tags": [],
            "needs_background": "light"
          }
        }
      ]
    },
    {
      "cell_type": "code",
      "metadata": {
        "id": "GBDf25lJIQdi",
        "outputId": "303f3c2c-f27b-48f7-e67e-638ea9a685a7"
      },
      "source": [
        "sns.histplot(data = X_train, x = 'KPIs_met >80%')"
      ],
      "execution_count": null,
      "outputs": [
        {
          "output_type": "execute_result",
          "data": {
            "text/plain": [
              "<AxesSubplot:xlabel='KPIs_met >80%', ylabel='Count'>"
            ]
          },
          "metadata": {
            "tags": []
          },
          "execution_count": 47
        },
        {
          "output_type": "display_data",
          "data": {
            "image/png": "[encoded data removed]",
            "text/plain": [
              "<Figure size 432x288 with 1 Axes>"
            ]
          },
          "metadata": {
            "tags": [],
            "needs_background": "light"
          }
        }
      ]
    },
    {
      "cell_type": "code",
      "metadata": {
        "id": "QAlNfWsuIQdi",
        "outputId": "0e256cd1-2db1-447e-b688-56849c73b416"
      },
      "source": [
        "sns.histplot(data = X_train, x = 'awards_won?')"
      ],
      "execution_count": null,
      "outputs": [
        {
          "output_type": "execute_result",
          "data": {
            "text/plain": [
              "<AxesSubplot:xlabel='awards_won?', ylabel='Count'>"
            ]
          },
          "metadata": {
            "tags": []
          },
          "execution_count": 48
        },
        {
          "output_type": "display_data",
          "data": {
            "image/png": "[encoded data removed]",
            "text/plain": [
              "<Figure size 432x288 with 1 Axes>"
            ]
          },
          "metadata": {
            "tags": [],
            "needs_background": "light"
          }
        }
      ]
    },
    {
      "cell_type": "code",
      "metadata": {
        "id": "AsguR3sqIQdi",
        "outputId": "2fa88390-75d3-476b-92dc-6f2efe9e0475"
      },
      "source": [
        "sns.histplot(data = X_train, x = 'avg_training_score')"
      ],
      "execution_count": null,
      "outputs": [
        {
          "output_type": "execute_result",
          "data": {
            "text/plain": [
              "<AxesSubplot:xlabel='avg_training_score', ylabel='Count'>"
            ]
          },
          "metadata": {
            "tags": []
          },
          "execution_count": 49
        },
        {
          "output_type": "display_data",
          "data": {
            "image/png": "[encoded data removed]",
            "text/plain": [
              "<Figure size 432x288 with 1 Axes>"
            ]
          },
          "metadata": {
            "tags": [],
            "needs_background": "light"
          }
        }
      ]
    },
    {
      "cell_type": "code",
      "metadata": {
        "id": "Ot5l7Nq2IQdj",
        "outputId": "9ef47fdf-dc45-42cd-da6f-0d8259b730dd"
      },
      "source": [
        "sns.boxplot(data = data_RH, y = 'no_of_trainings', x = target)"
      ],
      "execution_count": null,
      "outputs": [
        {
          "output_type": "execute_result",
          "data": {
            "text/plain": [
              "<AxesSubplot:xlabel='is_promoted', ylabel='no_of_trainings'>"
            ]
          },
          "metadata": {
            "tags": []
          },
          "execution_count": 50
        },
        {
          "output_type": "display_data",
          "data": {
            "image/png": "[encoded data removed]",
            "text/plain": [
              "<Figure size 432x288 with 1 Axes>"
            ]
          },
          "metadata": {
            "tags": [],
            "needs_background": "light"
          }
        }
      ]
    },
    {
      "cell_type": "code",
      "metadata": {
        "id": "s3a4qCWGIQdj",
        "outputId": "6e4f5283-ae72-448f-821a-60462758f3fd"
      },
      "source": [
        "sns.countplot(data = X_train, x = 'gender')"
      ],
      "execution_count": null,
      "outputs": [
        {
          "output_type": "execute_result",
          "data": {
            "text/plain": [
              "<AxesSubplot:xlabel='gender', ylabel='count'>"
            ]
          },
          "metadata": {
            "tags": []
          },
          "execution_count": 51
        },
        {
          "output_type": "display_data",
          "data": {
            "image/png": "[encoded data removed]",
            "text/plain": [
              "<Figure size 432x288 with 1 Axes>"
            ]
          },
          "metadata": {
            "tags": [],
            "needs_background": "light"
          }
        }
      ]
    },
    {
      "cell_type": "code",
      "metadata": {
        "id": "ZP8Fcq7CIQdk",
        "outputId": "43f7bf7c-3dcf-4b9d-dc2f-d8f2291c909b"
      },
      "source": [
        "sns.countplot(data = X_train, x = 'education')"
      ],
      "execution_count": null,
      "outputs": [
        {
          "output_type": "execute_result",
          "data": {
            "text/plain": [
              "<AxesSubplot:xlabel='education', ylabel='count'>"
            ]
          },
          "metadata": {
            "tags": []
          },
          "execution_count": 52
        },
        {
          "output_type": "display_data",
          "data": {
            "image/png": "[encoded data removed]",
            "text/plain": [
              "<Figure size 432x288 with 1 Axes>"
            ]
          },
          "metadata": {
            "tags": [],
            "needs_background": "light"
          }
        }
      ]
    },
    {
      "cell_type": "code",
      "metadata": {
        "id": "f9BtTqHfIQdk",
        "outputId": "bfc6c7dc-cdd3-4900-dde4-9384182665b1"
      },
      "source": [
        "X_train['education'].value_counts(dropna = False)"
      ],
      "execution_count": null,
      "outputs": [
        {
          "output_type": "execute_result",
          "data": {
            "text/plain": [
              "Bachelor's          29332\n",
              "Master's & above    11974\n",
              "NaN                  1912\n",
              "Below Secondary       628\n",
              "Name: education, dtype: int64"
            ]
          },
          "metadata": {
            "tags": []
          },
          "execution_count": 53
        }
      ]
    },
    {
      "cell_type": "code",
      "metadata": {
        "id": "mNtm_IdOIQdl",
        "outputId": "d31ea478-4963-4823-f5fb-7b4cb0ed43cd"
      },
      "source": [
        "X_train.query(\"education == 'NaN'\").head(5)"
      ],
      "execution_count": null,
      "outputs": [
        {
          "output_type": "execute_result",
          "data": {
            "text/html": [
              "<div>\n",
              "<style scoped>\n",
              "    .dataframe tbody tr th:only-of-type {\n",
              "        vertical-align: middle;\n",
              "    }\n",
              "\n",
              "    .dataframe tbody tr th {\n",
              "        vertical-align: top;\n",
              "    }\n",
              "\n",
              "    .dataframe thead th {\n",
              "        text-align: right;\n",
              "    }\n",
              "</style>\n",
              "<table border=\"1\" class=\"dataframe\">\n",
              "  <thead>\n",
              "    <tr style=\"text-align: right;\">\n",
              "      <th></th>\n",
              "      <th>department</th>\n",
              "      <th>region</th>\n",
              "      <th>education</th>\n",
              "      <th>gender</th>\n",
              "      <th>recruitment_channel</th>\n",
              "      <th>no_of_trainings</th>\n",
              "      <th>age</th>\n",
              "      <th>previous_year_rating</th>\n",
              "      <th>length_of_service</th>\n",
              "      <th>KPIs_met &gt;80%</th>\n",
              "      <th>awards_won?</th>\n",
              "      <th>avg_training_score</th>\n",
              "    </tr>\n",
              "    <tr>\n",
              "      <th>employee_id</th>\n",
              "      <th></th>\n",
              "      <th></th>\n",
              "      <th></th>\n",
              "      <th></th>\n",
              "      <th></th>\n",
              "      <th></th>\n",
              "      <th></th>\n",
              "      <th></th>\n",
              "      <th></th>\n",
              "      <th></th>\n",
              "      <th></th>\n",
              "      <th></th>\n",
              "    </tr>\n",
              "  </thead>\n",
              "  <tbody>\n",
              "  </tbody>\n",
              "</table>\n",
              "</div>"
            ],
            "text/plain": [
              "Empty DataFrame\n",
              "Columns: [department, region, education, gender, recruitment_channel, no_of_trainings, age, previous_year_rating, length_of_service, KPIs_met >80%, awards_won?, avg_training_score]\n",
              "Index: []"
            ]
          },
          "metadata": {
            "tags": []
          },
          "execution_count": 54
        }
      ]
    },
    {
      "cell_type": "code",
      "metadata": {
        "id": "HzwM49ITIQdl"
      },
      "source": [
        "X_train[X_train['education']=='NaN']"
      ],
      "execution_count": null,
      "outputs": []
    },
    {
      "cell_type": "markdown",
      "metadata": {
        "id": "2-vulFULIQdl"
      },
      "source": [
        "# preprocesamiento"
      ]
    },
    {
      "cell_type": "markdown",
      "metadata": {
        "id": "EtGfwGSuIQdm"
      },
      "source": [
        "## Transformación de variables"
      ]
    },
    {
      "cell_type": "code",
      "metadata": {
        "id": "W6cfjxLBIQdm",
        "outputId": "e2f98693-e55f-47ec-be99-3b02bbf5ce40"
      },
      "source": [
        "X_train.head()"
      ],
      "execution_count": null,
      "outputs": [
        {
          "output_type": "execute_result",
          "data": {
            "text/html": [
              "<div>\n",
              "<style scoped>\n",
              "    .dataframe tbody tr th:only-of-type {\n",
              "        vertical-align: middle;\n",
              "    }\n",
              "\n",
              "    .dataframe tbody tr th {\n",
              "        vertical-align: top;\n",
              "    }\n",
              "\n",
              "    .dataframe thead th {\n",
              "        text-align: right;\n",
              "    }\n",
              "</style>\n",
              "<table border=\"1\" class=\"dataframe\">\n",
              "  <thead>\n",
              "    <tr style=\"text-align: right;\">\n",
              "      <th></th>\n",
              "      <th>department</th>\n",
              "      <th>region</th>\n",
              "      <th>education</th>\n",
              "      <th>gender</th>\n",
              "      <th>recruitment_channel</th>\n",
              "      <th>no_of_trainings</th>\n",
              "      <th>age</th>\n",
              "      <th>previous_year_rating</th>\n",
              "      <th>length_of_service</th>\n",
              "      <th>KPIs_met &gt;80%</th>\n",
              "      <th>awards_won?</th>\n",
              "      <th>avg_training_score</th>\n",
              "    </tr>\n",
              "    <tr>\n",
              "      <th>employee_id</th>\n",
              "      <th></th>\n",
              "      <th></th>\n",
              "      <th></th>\n",
              "      <th></th>\n",
              "      <th></th>\n",
              "      <th></th>\n",
              "      <th></th>\n",
              "      <th></th>\n",
              "      <th></th>\n",
              "      <th></th>\n",
              "      <th></th>\n",
              "      <th></th>\n",
              "    </tr>\n",
              "  </thead>\n",
              "  <tbody>\n",
              "    <tr>\n",
              "      <th>53924</th>\n",
              "      <td>Sales &amp; Marketing</td>\n",
              "      <td>region_6</td>\n",
              "      <td>Bachelor's</td>\n",
              "      <td>m</td>\n",
              "      <td>other</td>\n",
              "      <td>1</td>\n",
              "      <td>31</td>\n",
              "      <td>3.0</td>\n",
              "      <td>4</td>\n",
              "      <td>0</td>\n",
              "      <td>0</td>\n",
              "      <td>50</td>\n",
              "    </tr>\n",
              "    <tr>\n",
              "      <th>39112</th>\n",
              "      <td>Technology</td>\n",
              "      <td>region_7</td>\n",
              "      <td>Bachelor's</td>\n",
              "      <td>m</td>\n",
              "      <td>other</td>\n",
              "      <td>1</td>\n",
              "      <td>26</td>\n",
              "      <td>2.0</td>\n",
              "      <td>6</td>\n",
              "      <td>0</td>\n",
              "      <td>0</td>\n",
              "      <td>77</td>\n",
              "    </tr>\n",
              "    <tr>\n",
              "      <th>1741</th>\n",
              "      <td>Analytics</td>\n",
              "      <td>region_22</td>\n",
              "      <td>Bachelor's</td>\n",
              "      <td>m</td>\n",
              "      <td>sourcing</td>\n",
              "      <td>2</td>\n",
              "      <td>28</td>\n",
              "      <td>5.0</td>\n",
              "      <td>3</td>\n",
              "      <td>0</td>\n",
              "      <td>0</td>\n",
              "      <td>82</td>\n",
              "    </tr>\n",
              "    <tr>\n",
              "      <th>65100</th>\n",
              "      <td>Finance</td>\n",
              "      <td>region_28</td>\n",
              "      <td>Bachelor's</td>\n",
              "      <td>m</td>\n",
              "      <td>sourcing</td>\n",
              "      <td>2</td>\n",
              "      <td>29</td>\n",
              "      <td>2.0</td>\n",
              "      <td>5</td>\n",
              "      <td>0</td>\n",
              "      <td>0</td>\n",
              "      <td>58</td>\n",
              "    </tr>\n",
              "    <tr>\n",
              "      <th>72902</th>\n",
              "      <td>Technology</td>\n",
              "      <td>region_26</td>\n",
              "      <td>Bachelor's</td>\n",
              "      <td>m</td>\n",
              "      <td>sourcing</td>\n",
              "      <td>1</td>\n",
              "      <td>48</td>\n",
              "      <td>1.0</td>\n",
              "      <td>18</td>\n",
              "      <td>0</td>\n",
              "      <td>0</td>\n",
              "      <td>80</td>\n",
              "    </tr>\n",
              "  </tbody>\n",
              "</table>\n",
              "</div>"
            ],
            "text/plain": [
              "                    department     region   education gender  \\\n",
              "employee_id                                                    \n",
              "53924        Sales & Marketing   region_6  Bachelor's      m   \n",
              "39112               Technology   region_7  Bachelor's      m   \n",
              "1741                 Analytics  region_22  Bachelor's      m   \n",
              "65100                  Finance  region_28  Bachelor's      m   \n",
              "72902               Technology  region_26  Bachelor's      m   \n",
              "\n",
              "            recruitment_channel  no_of_trainings  age  previous_year_rating  \\\n",
              "employee_id                                                                   \n",
              "53924                     other                1   31                   3.0   \n",
              "39112                     other                1   26                   2.0   \n",
              "1741                   sourcing                2   28                   5.0   \n",
              "65100                  sourcing                2   29                   2.0   \n",
              "72902                  sourcing                1   48                   1.0   \n",
              "\n",
              "             length_of_service  KPIs_met >80%  awards_won?  avg_training_score  \n",
              "employee_id                                                                     \n",
              "53924                        4              0            0                  50  \n",
              "39112                        6              0            0                  77  \n",
              "1741                         3              0            0                  82  \n",
              "65100                        5              0            0                  58  \n",
              "72902                       18              0            0                  80  "
            ]
          },
          "metadata": {
            "tags": []
          },
          "execution_count": 58
        }
      ]
    },
    {
      "cell_type": "markdown",
      "metadata": {
        "id": "vwxINjhGIQdm"
      },
      "source": [
        "## Tratamiento de valores nulos"
      ]
    },
    {
      "cell_type": "markdown",
      "metadata": {
        "id": "sDdEu6v5IQdm"
      },
      "source": [
        "Cantidad de valores nulos por columna"
      ]
    },
    {
      "cell_type": "code",
      "metadata": {
        "id": "pGaUGOl7IQdn",
        "outputId": "740b28ab-825b-45f8-c877-6a5aebc04715"
      },
      "source": [
        "X_train.head(2)"
      ],
      "execution_count": null,
      "outputs": [
        {
          "output_type": "execute_result",
          "data": {
            "text/html": [
              "<div>\n",
              "<style scoped>\n",
              "    .dataframe tbody tr th:only-of-type {\n",
              "        vertical-align: middle;\n",
              "    }\n",
              "\n",
              "    .dataframe tbody tr th {\n",
              "        vertical-align: top;\n",
              "    }\n",
              "\n",
              "    .dataframe thead th {\n",
              "        text-align: right;\n",
              "    }\n",
              "</style>\n",
              "<table border=\"1\" class=\"dataframe\">\n",
              "  <thead>\n",
              "    <tr style=\"text-align: right;\">\n",
              "      <th></th>\n",
              "      <th>department</th>\n",
              "      <th>region</th>\n",
              "      <th>education</th>\n",
              "      <th>gender</th>\n",
              "      <th>recruitment_channel</th>\n",
              "      <th>no_of_trainings</th>\n",
              "      <th>age</th>\n",
              "      <th>previous_year_rating</th>\n",
              "      <th>length_of_service</th>\n",
              "      <th>KPIs_met &gt;80%</th>\n",
              "      <th>awards_won?</th>\n",
              "      <th>avg_training_score</th>\n",
              "    </tr>\n",
              "    <tr>\n",
              "      <th>employee_id</th>\n",
              "      <th></th>\n",
              "      <th></th>\n",
              "      <th></th>\n",
              "      <th></th>\n",
              "      <th></th>\n",
              "      <th></th>\n",
              "      <th></th>\n",
              "      <th></th>\n",
              "      <th></th>\n",
              "      <th></th>\n",
              "      <th></th>\n",
              "      <th></th>\n",
              "    </tr>\n",
              "  </thead>\n",
              "  <tbody>\n",
              "    <tr>\n",
              "      <th>53924</th>\n",
              "      <td>Sales &amp; Marketing</td>\n",
              "      <td>region_6</td>\n",
              "      <td>Bachelor's</td>\n",
              "      <td>m</td>\n",
              "      <td>other</td>\n",
              "      <td>1</td>\n",
              "      <td>31</td>\n",
              "      <td>3.0</td>\n",
              "      <td>4</td>\n",
              "      <td>0</td>\n",
              "      <td>0</td>\n",
              "      <td>50</td>\n",
              "    </tr>\n",
              "    <tr>\n",
              "      <th>39112</th>\n",
              "      <td>Technology</td>\n",
              "      <td>region_7</td>\n",
              "      <td>Bachelor's</td>\n",
              "      <td>m</td>\n",
              "      <td>other</td>\n",
              "      <td>1</td>\n",
              "      <td>26</td>\n",
              "      <td>2.0</td>\n",
              "      <td>6</td>\n",
              "      <td>0</td>\n",
              "      <td>0</td>\n",
              "      <td>77</td>\n",
              "    </tr>\n",
              "  </tbody>\n",
              "</table>\n",
              "</div>"
            ],
            "text/plain": [
              "                    department    region   education gender  \\\n",
              "employee_id                                                   \n",
              "53924        Sales & Marketing  region_6  Bachelor's      m   \n",
              "39112               Technology  region_7  Bachelor's      m   \n",
              "\n",
              "            recruitment_channel  no_of_trainings  age  previous_year_rating  \\\n",
              "employee_id                                                                   \n",
              "53924                     other                1   31                   3.0   \n",
              "39112                     other                1   26                   2.0   \n",
              "\n",
              "             length_of_service  KPIs_met >80%  awards_won?  avg_training_score  \n",
              "employee_id                                                                     \n",
              "53924                        4              0            0                  50  \n",
              "39112                        6              0            0                  77  "
            ]
          },
          "metadata": {
            "tags": []
          },
          "execution_count": 59
        }
      ]
    },
    {
      "cell_type": "code",
      "metadata": {
        "id": "OV7s359KIQdn"
      },
      "source": [
        "import missingno as msno"
      ],
      "execution_count": null,
      "outputs": []
    },
    {
      "cell_type": "code",
      "metadata": {
        "id": "85D8H8AgIQdn",
        "outputId": "6803f550-f3b8-4a16-b641-45df3339f912"
      },
      "source": [
        "#Corroboramos la existencia de variables nulos en 2 de nuestras variables\n",
        "msno.matrix(X_train)"
      ],
      "execution_count": null,
      "outputs": [
        {
          "output_type": "execute_result",
          "data": {
            "text/plain": [
              "<AxesSubplot:>"
            ]
          },
          "metadata": {
            "tags": []
          },
          "execution_count": 61
        },
        {
          "output_type": "display_data",
          "data": {
            "image/png": "[encoded data removed]",
            "text/plain": [
              "<Figure size 1800x720 with 2 Axes>"
            ]
          },
          "metadata": {
            "tags": [],
            "needs_background": "light"
          }
        }
      ]
    },
    {
      "cell_type": "code",
      "metadata": {
        "id": "29kpd46QIQdo",
        "outputId": "a7e324a7-2795-4a5a-9255-dbcdc0d53410"
      },
      "source": [
        "msno.heatmap(X_train)"
      ],
      "execution_count": null,
      "outputs": [
        {
          "output_type": "execute_result",
          "data": {
            "text/plain": [
              "<AxesSubplot:>"
            ]
          },
          "metadata": {
            "tags": []
          },
          "execution_count": 62
        },
        {
          "output_type": "display_data",
          "data": {
            "image/png": "[encoded data removed]",
            "text/plain": [
              "<Figure size 1440x864 with 2 Axes>"
            ]
          },
          "metadata": {
            "tags": [],
            "needs_background": "light"
          }
        }
      ]
    },
    {
      "cell_type": "code",
      "metadata": {
        "id": "Cl0L05BOIQdo",
        "outputId": "4829d6bf-4268-49ff-e81b-0c7302acdbbc"
      },
      "source": [
        "X_train.head(2)"
      ],
      "execution_count": null,
      "outputs": [
        {
          "output_type": "execute_result",
          "data": {
            "text/html": [
              "<div>\n",
              "<style scoped>\n",
              "    .dataframe tbody tr th:only-of-type {\n",
              "        vertical-align: middle;\n",
              "    }\n",
              "\n",
              "    .dataframe tbody tr th {\n",
              "        vertical-align: top;\n",
              "    }\n",
              "\n",
              "    .dataframe thead th {\n",
              "        text-align: right;\n",
              "    }\n",
              "</style>\n",
              "<table border=\"1\" class=\"dataframe\">\n",
              "  <thead>\n",
              "    <tr style=\"text-align: right;\">\n",
              "      <th></th>\n",
              "      <th>department</th>\n",
              "      <th>region</th>\n",
              "      <th>education</th>\n",
              "      <th>gender</th>\n",
              "      <th>recruitment_channel</th>\n",
              "      <th>no_of_trainings</th>\n",
              "      <th>age</th>\n",
              "      <th>previous_year_rating</th>\n",
              "      <th>length_of_service</th>\n",
              "      <th>KPIs_met &gt;80%</th>\n",
              "      <th>awards_won?</th>\n",
              "      <th>avg_training_score</th>\n",
              "    </tr>\n",
              "    <tr>\n",
              "      <th>employee_id</th>\n",
              "      <th></th>\n",
              "      <th></th>\n",
              "      <th></th>\n",
              "      <th></th>\n",
              "      <th></th>\n",
              "      <th></th>\n",
              "      <th></th>\n",
              "      <th></th>\n",
              "      <th></th>\n",
              "      <th></th>\n",
              "      <th></th>\n",
              "      <th></th>\n",
              "    </tr>\n",
              "  </thead>\n",
              "  <tbody>\n",
              "    <tr>\n",
              "      <th>53924</th>\n",
              "      <td>Sales &amp; Marketing</td>\n",
              "      <td>region_6</td>\n",
              "      <td>Bachelor's</td>\n",
              "      <td>m</td>\n",
              "      <td>other</td>\n",
              "      <td>1</td>\n",
              "      <td>31</td>\n",
              "      <td>3.0</td>\n",
              "      <td>4</td>\n",
              "      <td>0</td>\n",
              "      <td>0</td>\n",
              "      <td>50</td>\n",
              "    </tr>\n",
              "    <tr>\n",
              "      <th>39112</th>\n",
              "      <td>Technology</td>\n",
              "      <td>region_7</td>\n",
              "      <td>Bachelor's</td>\n",
              "      <td>m</td>\n",
              "      <td>other</td>\n",
              "      <td>1</td>\n",
              "      <td>26</td>\n",
              "      <td>2.0</td>\n",
              "      <td>6</td>\n",
              "      <td>0</td>\n",
              "      <td>0</td>\n",
              "      <td>77</td>\n",
              "    </tr>\n",
              "  </tbody>\n",
              "</table>\n",
              "</div>"
            ],
            "text/plain": [
              "                    department    region   education gender  \\\n",
              "employee_id                                                   \n",
              "53924        Sales & Marketing  region_6  Bachelor's      m   \n",
              "39112               Technology  region_7  Bachelor's      m   \n",
              "\n",
              "            recruitment_channel  no_of_trainings  age  previous_year_rating  \\\n",
              "employee_id                                                                   \n",
              "53924                     other                1   31                   3.0   \n",
              "39112                     other                1   26                   2.0   \n",
              "\n",
              "             length_of_service  KPIs_met >80%  awards_won?  avg_training_score  \n",
              "employee_id                                                                     \n",
              "53924                        4              0            0                  50  \n",
              "39112                        6              0            0                  77  "
            ]
          },
          "metadata": {
            "tags": []
          },
          "execution_count": 63
        }
      ]
    },
    {
      "cell_type": "code",
      "metadata": {
        "id": "uWLqBj9iIQdo",
        "outputId": "05d5bc7d-2fab-469f-c8ff-8d2beb88ffec"
      },
      "source": [
        "X_train.head(2).isnull()"
      ],
      "execution_count": null,
      "outputs": [
        {
          "output_type": "execute_result",
          "data": {
            "text/html": [
              "<div>\n",
              "<style scoped>\n",
              "    .dataframe tbody tr th:only-of-type {\n",
              "        vertical-align: middle;\n",
              "    }\n",
              "\n",
              "    .dataframe tbody tr th {\n",
              "        vertical-align: top;\n",
              "    }\n",
              "\n",
              "    .dataframe thead th {\n",
              "        text-align: right;\n",
              "    }\n",
              "</style>\n",
              "<table border=\"1\" class=\"dataframe\">\n",
              "  <thead>\n",
              "    <tr style=\"text-align: right;\">\n",
              "      <th></th>\n",
              "      <th>department</th>\n",
              "      <th>region</th>\n",
              "      <th>education</th>\n",
              "      <th>gender</th>\n",
              "      <th>recruitment_channel</th>\n",
              "      <th>no_of_trainings</th>\n",
              "      <th>age</th>\n",
              "      <th>previous_year_rating</th>\n",
              "      <th>length_of_service</th>\n",
              "      <th>KPIs_met &gt;80%</th>\n",
              "      <th>awards_won?</th>\n",
              "      <th>avg_training_score</th>\n",
              "    </tr>\n",
              "    <tr>\n",
              "      <th>employee_id</th>\n",
              "      <th></th>\n",
              "      <th></th>\n",
              "      <th></th>\n",
              "      <th></th>\n",
              "      <th></th>\n",
              "      <th></th>\n",
              "      <th></th>\n",
              "      <th></th>\n",
              "      <th></th>\n",
              "      <th></th>\n",
              "      <th></th>\n",
              "      <th></th>\n",
              "    </tr>\n",
              "  </thead>\n",
              "  <tbody>\n",
              "    <tr>\n",
              "      <th>53924</th>\n",
              "      <td>False</td>\n",
              "      <td>False</td>\n",
              "      <td>False</td>\n",
              "      <td>False</td>\n",
              "      <td>False</td>\n",
              "      <td>False</td>\n",
              "      <td>False</td>\n",
              "      <td>False</td>\n",
              "      <td>False</td>\n",
              "      <td>False</td>\n",
              "      <td>False</td>\n",
              "      <td>False</td>\n",
              "    </tr>\n",
              "    <tr>\n",
              "      <th>39112</th>\n",
              "      <td>False</td>\n",
              "      <td>False</td>\n",
              "      <td>False</td>\n",
              "      <td>False</td>\n",
              "      <td>False</td>\n",
              "      <td>False</td>\n",
              "      <td>False</td>\n",
              "      <td>False</td>\n",
              "      <td>False</td>\n",
              "      <td>False</td>\n",
              "      <td>False</td>\n",
              "      <td>False</td>\n",
              "    </tr>\n",
              "  </tbody>\n",
              "</table>\n",
              "</div>"
            ],
            "text/plain": [
              "             department  region  education  gender  recruitment_channel  \\\n",
              "employee_id                                                               \n",
              "53924             False   False      False   False                False   \n",
              "39112             False   False      False   False                False   \n",
              "\n",
              "             no_of_trainings    age  previous_year_rating  length_of_service  \\\n",
              "employee_id                                                                    \n",
              "53924                  False  False                 False              False   \n",
              "39112                  False  False                 False              False   \n",
              "\n",
              "             KPIs_met >80%  awards_won?  avg_training_score  \n",
              "employee_id                                                  \n",
              "53924                False        False               False  \n",
              "39112                False        False               False  "
            ]
          },
          "metadata": {
            "tags": []
          },
          "execution_count": 64
        }
      ]
    },
    {
      "cell_type": "code",
      "metadata": {
        "id": "WQ9IgrSvIQdo",
        "outputId": "20c9184c-ba04-4d00-c805-ac68325f3d1f"
      },
      "source": [
        "#Notamos la existencia de variables nulos en education(1912) y en previous_year_rating(3274)\n",
        "X_train.isnull().sum()"
      ],
      "execution_count": null,
      "outputs": [
        {
          "output_type": "execute_result",
          "data": {
            "text/plain": [
              "department                 0\n",
              "region                     0\n",
              "education               1912\n",
              "gender                     0\n",
              "recruitment_channel        0\n",
              "no_of_trainings            0\n",
              "age                        0\n",
              "previous_year_rating    3274\n",
              "length_of_service          0\n",
              "KPIs_met >80%              0\n",
              "awards_won?                0\n",
              "avg_training_score         0\n",
              "dtype: int64"
            ]
          },
          "metadata": {
            "tags": []
          },
          "execution_count": 65
        }
      ]
    },
    {
      "cell_type": "markdown",
      "metadata": {
        "id": "uQnwZoorIQdp"
      },
      "source": [
        "Separamos las variables categóricas de las numéricas"
      ]
    },
    {
      "cell_type": "code",
      "metadata": {
        "id": "X6FQz7l3IQdp",
        "outputId": "9577d590-02c7-451c-ce47-15835f307cc1"
      },
      "source": [
        "X_train.head(2)"
      ],
      "execution_count": null,
      "outputs": [
        {
          "output_type": "execute_result",
          "data": {
            "text/html": [
              "<div>\n",
              "<style scoped>\n",
              "    .dataframe tbody tr th:only-of-type {\n",
              "        vertical-align: middle;\n",
              "    }\n",
              "\n",
              "    .dataframe tbody tr th {\n",
              "        vertical-align: top;\n",
              "    }\n",
              "\n",
              "    .dataframe thead th {\n",
              "        text-align: right;\n",
              "    }\n",
              "</style>\n",
              "<table border=\"1\" class=\"dataframe\">\n",
              "  <thead>\n",
              "    <tr style=\"text-align: right;\">\n",
              "      <th></th>\n",
              "      <th>department</th>\n",
              "      <th>region</th>\n",
              "      <th>education</th>\n",
              "      <th>gender</th>\n",
              "      <th>recruitment_channel</th>\n",
              "      <th>no_of_trainings</th>\n",
              "      <th>age</th>\n",
              "      <th>previous_year_rating</th>\n",
              "      <th>length_of_service</th>\n",
              "      <th>KPIs_met &gt;80%</th>\n",
              "      <th>awards_won?</th>\n",
              "      <th>avg_training_score</th>\n",
              "    </tr>\n",
              "    <tr>\n",
              "      <th>employee_id</th>\n",
              "      <th></th>\n",
              "      <th></th>\n",
              "      <th></th>\n",
              "      <th></th>\n",
              "      <th></th>\n",
              "      <th></th>\n",
              "      <th></th>\n",
              "      <th></th>\n",
              "      <th></th>\n",
              "      <th></th>\n",
              "      <th></th>\n",
              "      <th></th>\n",
              "    </tr>\n",
              "  </thead>\n",
              "  <tbody>\n",
              "    <tr>\n",
              "      <th>53924</th>\n",
              "      <td>Sales &amp; Marketing</td>\n",
              "      <td>region_6</td>\n",
              "      <td>Bachelor's</td>\n",
              "      <td>m</td>\n",
              "      <td>other</td>\n",
              "      <td>1</td>\n",
              "      <td>31</td>\n",
              "      <td>3.0</td>\n",
              "      <td>4</td>\n",
              "      <td>0</td>\n",
              "      <td>0</td>\n",
              "      <td>50</td>\n",
              "    </tr>\n",
              "    <tr>\n",
              "      <th>39112</th>\n",
              "      <td>Technology</td>\n",
              "      <td>region_7</td>\n",
              "      <td>Bachelor's</td>\n",
              "      <td>m</td>\n",
              "      <td>other</td>\n",
              "      <td>1</td>\n",
              "      <td>26</td>\n",
              "      <td>2.0</td>\n",
              "      <td>6</td>\n",
              "      <td>0</td>\n",
              "      <td>0</td>\n",
              "      <td>77</td>\n",
              "    </tr>\n",
              "  </tbody>\n",
              "</table>\n",
              "</div>"
            ],
            "text/plain": [
              "                    department    region   education gender  \\\n",
              "employee_id                                                   \n",
              "53924        Sales & Marketing  region_6  Bachelor's      m   \n",
              "39112               Technology  region_7  Bachelor's      m   \n",
              "\n",
              "            recruitment_channel  no_of_trainings  age  previous_year_rating  \\\n",
              "employee_id                                                                   \n",
              "53924                     other                1   31                   3.0   \n",
              "39112                     other                1   26                   2.0   \n",
              "\n",
              "             length_of_service  KPIs_met >80%  awards_won?  avg_training_score  \n",
              "employee_id                                                                     \n",
              "53924                        4              0            0                  50  \n",
              "39112                        6              0            0                  77  "
            ]
          },
          "metadata": {
            "tags": []
          },
          "execution_count": 66
        }
      ]
    },
    {
      "cell_type": "code",
      "metadata": {
        "id": "CHkQ8PcbIQdp"
      },
      "source": [
        "X_train_cat = X_train.select_dtypes('object')\n",
        "X_train_num = X_train.select_dtypes('number')"
      ],
      "execution_count": null,
      "outputs": []
    },
    {
      "cell_type": "code",
      "metadata": {
        "id": "_xX9MDw2IQdp",
        "outputId": "3f305f72-e222-4782-c5b7-4e6b1ff83b68"
      },
      "source": [
        "X_train_cat.head(2)"
      ],
      "execution_count": null,
      "outputs": [
        {
          "output_type": "execute_result",
          "data": {
            "text/html": [
              "<div>\n",
              "<style scoped>\n",
              "    .dataframe tbody tr th:only-of-type {\n",
              "        vertical-align: middle;\n",
              "    }\n",
              "\n",
              "    .dataframe tbody tr th {\n",
              "        vertical-align: top;\n",
              "    }\n",
              "\n",
              "    .dataframe thead th {\n",
              "        text-align: right;\n",
              "    }\n",
              "</style>\n",
              "<table border=\"1\" class=\"dataframe\">\n",
              "  <thead>\n",
              "    <tr style=\"text-align: right;\">\n",
              "      <th></th>\n",
              "      <th>department</th>\n",
              "      <th>region</th>\n",
              "      <th>education</th>\n",
              "      <th>gender</th>\n",
              "      <th>recruitment_channel</th>\n",
              "    </tr>\n",
              "    <tr>\n",
              "      <th>employee_id</th>\n",
              "      <th></th>\n",
              "      <th></th>\n",
              "      <th></th>\n",
              "      <th></th>\n",
              "      <th></th>\n",
              "    </tr>\n",
              "  </thead>\n",
              "  <tbody>\n",
              "    <tr>\n",
              "      <th>53924</th>\n",
              "      <td>Sales &amp; Marketing</td>\n",
              "      <td>region_6</td>\n",
              "      <td>Bachelor's</td>\n",
              "      <td>m</td>\n",
              "      <td>other</td>\n",
              "    </tr>\n",
              "    <tr>\n",
              "      <th>39112</th>\n",
              "      <td>Technology</td>\n",
              "      <td>region_7</td>\n",
              "      <td>Bachelor's</td>\n",
              "      <td>m</td>\n",
              "      <td>other</td>\n",
              "    </tr>\n",
              "  </tbody>\n",
              "</table>\n",
              "</div>"
            ],
            "text/plain": [
              "                    department    region   education gender  \\\n",
              "employee_id                                                   \n",
              "53924        Sales & Marketing  region_6  Bachelor's      m   \n",
              "39112               Technology  region_7  Bachelor's      m   \n",
              "\n",
              "            recruitment_channel  \n",
              "employee_id                      \n",
              "53924                     other  \n",
              "39112                     other  "
            ]
          },
          "metadata": {
            "tags": []
          },
          "execution_count": 68
        }
      ]
    },
    {
      "cell_type": "code",
      "metadata": {
        "id": "BpSWgEUDIQdq",
        "outputId": "4cb6735c-ee09-4ff6-8994-66fd96bae682"
      },
      "source": [
        "X_train_num.head(2)"
      ],
      "execution_count": null,
      "outputs": [
        {
          "output_type": "execute_result",
          "data": {
            "text/html": [
              "<div>\n",
              "<style scoped>\n",
              "    .dataframe tbody tr th:only-of-type {\n",
              "        vertical-align: middle;\n",
              "    }\n",
              "\n",
              "    .dataframe tbody tr th {\n",
              "        vertical-align: top;\n",
              "    }\n",
              "\n",
              "    .dataframe thead th {\n",
              "        text-align: right;\n",
              "    }\n",
              "</style>\n",
              "<table border=\"1\" class=\"dataframe\">\n",
              "  <thead>\n",
              "    <tr style=\"text-align: right;\">\n",
              "      <th></th>\n",
              "      <th>no_of_trainings</th>\n",
              "      <th>age</th>\n",
              "      <th>previous_year_rating</th>\n",
              "      <th>length_of_service</th>\n",
              "      <th>KPIs_met &gt;80%</th>\n",
              "      <th>awards_won?</th>\n",
              "      <th>avg_training_score</th>\n",
              "    </tr>\n",
              "    <tr>\n",
              "      <th>employee_id</th>\n",
              "      <th></th>\n",
              "      <th></th>\n",
              "      <th></th>\n",
              "      <th></th>\n",
              "      <th></th>\n",
              "      <th></th>\n",
              "      <th></th>\n",
              "    </tr>\n",
              "  </thead>\n",
              "  <tbody>\n",
              "    <tr>\n",
              "      <th>53924</th>\n",
              "      <td>1</td>\n",
              "      <td>31</td>\n",
              "      <td>3.0</td>\n",
              "      <td>4</td>\n",
              "      <td>0</td>\n",
              "      <td>0</td>\n",
              "      <td>50</td>\n",
              "    </tr>\n",
              "    <tr>\n",
              "      <th>39112</th>\n",
              "      <td>1</td>\n",
              "      <td>26</td>\n",
              "      <td>2.0</td>\n",
              "      <td>6</td>\n",
              "      <td>0</td>\n",
              "      <td>0</td>\n",
              "      <td>77</td>\n",
              "    </tr>\n",
              "  </tbody>\n",
              "</table>\n",
              "</div>"
            ],
            "text/plain": [
              "             no_of_trainings  age  previous_year_rating  length_of_service  \\\n",
              "employee_id                                                                  \n",
              "53924                      1   31                   3.0                  4   \n",
              "39112                      1   26                   2.0                  6   \n",
              "\n",
              "             KPIs_met >80%  awards_won?  avg_training_score  \n",
              "employee_id                                                  \n",
              "53924                    0            0                  50  \n",
              "39112                    0            0                  77  "
            ]
          },
          "metadata": {
            "tags": []
          },
          "execution_count": 69
        }
      ]
    },
    {
      "cell_type": "markdown",
      "metadata": {
        "id": "nl9MVDhXIQdq"
      },
      "source": [
        "Imputación de numéricas"
      ]
    },
    {
      "cell_type": "markdown",
      "metadata": {
        "id": "Zn4YK3NBIQdq"
      },
      "source": [
        "`median` y `mean`"
      ]
    },
    {
      "cell_type": "code",
      "metadata": {
        "id": "jZ9cbb2LIQdq",
        "outputId": "f35a8d22-b532-4a72-cb81-0eb5319a444e"
      },
      "source": [
        "X_train['previous_year_rating'].mean()"
      ],
      "execution_count": null,
      "outputs": [
        {
          "output_type": "execute_result",
          "data": {
            "text/plain": [
              "3.3332840382529825"
            ]
          },
          "metadata": {
            "tags": []
          },
          "execution_count": 70
        }
      ]
    },
    {
      "cell_type": "code",
      "metadata": {
        "id": "16KEGWNpIQdq",
        "outputId": "e5ce7fb3-0c18-4667-bf5d-7750e7243001"
      },
      "source": [
        "X_train['previous_year_rating'].median()"
      ],
      "execution_count": null,
      "outputs": [
        {
          "output_type": "execute_result",
          "data": {
            "text/plain": [
              "3.0"
            ]
          },
          "metadata": {
            "tags": []
          },
          "execution_count": 71
        }
      ]
    },
    {
      "cell_type": "markdown",
      "metadata": {
        "id": "pR6bgG1-IQdr"
      },
      "source": [
        "Elegimos el valor de la mediana=3, ya que los valores de la variable 'previous_your_rating'\n",
        "son enteros"
      ]
    },
    {
      "cell_type": "code",
      "metadata": {
        "id": "Zy9qAUuwIQdr"
      },
      "source": [
        "### Importamos SimpleImputer ###\n",
        "###Para remplazar los valores nulos en las variables donde se encuentran los valores nulos ###\n",
        "from sklearn.impute import SimpleImputer"
      ],
      "execution_count": null,
      "outputs": []
    },
    {
      "cell_type": "code",
      "metadata": {
        "id": "ceb44ln7IQdr",
        "outputId": "1d1b8838-786f-4a0c-aa65-4f914011fb83"
      },
      "source": [
        "X_train_num.head(2)"
      ],
      "execution_count": null,
      "outputs": [
        {
          "output_type": "execute_result",
          "data": {
            "text/html": [
              "<div>\n",
              "<style scoped>\n",
              "    .dataframe tbody tr th:only-of-type {\n",
              "        vertical-align: middle;\n",
              "    }\n",
              "\n",
              "    .dataframe tbody tr th {\n",
              "        vertical-align: top;\n",
              "    }\n",
              "\n",
              "    .dataframe thead th {\n",
              "        text-align: right;\n",
              "    }\n",
              "</style>\n",
              "<table border=\"1\" class=\"dataframe\">\n",
              "  <thead>\n",
              "    <tr style=\"text-align: right;\">\n",
              "      <th></th>\n",
              "      <th>no_of_trainings</th>\n",
              "      <th>age</th>\n",
              "      <th>previous_year_rating</th>\n",
              "      <th>length_of_service</th>\n",
              "      <th>KPIs_met &gt;80%</th>\n",
              "      <th>awards_won?</th>\n",
              "      <th>avg_training_score</th>\n",
              "    </tr>\n",
              "    <tr>\n",
              "      <th>employee_id</th>\n",
              "      <th></th>\n",
              "      <th></th>\n",
              "      <th></th>\n",
              "      <th></th>\n",
              "      <th></th>\n",
              "      <th></th>\n",
              "      <th></th>\n",
              "    </tr>\n",
              "  </thead>\n",
              "  <tbody>\n",
              "    <tr>\n",
              "      <th>53924</th>\n",
              "      <td>1</td>\n",
              "      <td>31</td>\n",
              "      <td>3.0</td>\n",
              "      <td>4</td>\n",
              "      <td>0</td>\n",
              "      <td>0</td>\n",
              "      <td>50</td>\n",
              "    </tr>\n",
              "    <tr>\n",
              "      <th>39112</th>\n",
              "      <td>1</td>\n",
              "      <td>26</td>\n",
              "      <td>2.0</td>\n",
              "      <td>6</td>\n",
              "      <td>0</td>\n",
              "      <td>0</td>\n",
              "      <td>77</td>\n",
              "    </tr>\n",
              "  </tbody>\n",
              "</table>\n",
              "</div>"
            ],
            "text/plain": [
              "             no_of_trainings  age  previous_year_rating  length_of_service  \\\n",
              "employee_id                                                                  \n",
              "53924                      1   31                   3.0                  4   \n",
              "39112                      1   26                   2.0                  6   \n",
              "\n",
              "             KPIs_met >80%  awards_won?  avg_training_score  \n",
              "employee_id                                                  \n",
              "53924                    0            0                  50  \n",
              "39112                    0            0                  77  "
            ]
          },
          "metadata": {
            "tags": []
          },
          "execution_count": 73
        }
      ]
    },
    {
      "cell_type": "code",
      "metadata": {
        "id": "07CCvYW6IQdr"
      },
      "source": [
        "imputer_num = SimpleImputer(strategy = 'median')"
      ],
      "execution_count": null,
      "outputs": []
    },
    {
      "cell_type": "code",
      "metadata": {
        "id": "KPB7rEhrIQdr",
        "outputId": "5e5a03d5-2475-49f7-a82c-24b156e0a385"
      },
      "source": [
        "imputer_num.fit(X_train_num)"
      ],
      "execution_count": null,
      "outputs": [
        {
          "output_type": "execute_result",
          "data": {
            "text/plain": [
              "SimpleImputer(strategy='median')"
            ]
          },
          "metadata": {
            "tags": []
          },
          "execution_count": 75
        }
      ]
    },
    {
      "cell_type": "code",
      "metadata": {
        "id": "7atzL82IIQds",
        "outputId": "357e9b91-f0e0-4781-9028-662a37af1d65"
      },
      "source": [
        "imputer_num.statistics_"
      ],
      "execution_count": null,
      "outputs": [
        {
          "output_type": "execute_result",
          "data": {
            "text/plain": [
              "array([ 1., 33.,  3.,  5.,  0.,  0., 60.])"
            ]
          },
          "metadata": {
            "tags": []
          },
          "execution_count": 76
        }
      ]
    },
    {
      "cell_type": "code",
      "metadata": {
        "id": "lRfMKAE4IQds",
        "outputId": "97da2402-a5a5-4d25-88fa-497686e8c095"
      },
      "source": [
        "imputer_num.transform(X_train_num)"
      ],
      "execution_count": null,
      "outputs": [
        {
          "output_type": "execute_result",
          "data": {
            "text/plain": [
              "array([[ 1., 31.,  3., ...,  0.,  0., 50.],\n",
              "       [ 1., 26.,  2., ...,  0.,  0., 77.],\n",
              "       [ 2., 28.,  5., ...,  0.,  0., 82.],\n",
              "       ...,\n",
              "       [ 1., 28.,  1., ...,  1.,  0., 49.],\n",
              "       [ 1., 29.,  4., ...,  0.,  0., 68.],\n",
              "       [ 2., 32.,  3., ...,  1.,  1., 46.]])"
            ]
          },
          "metadata": {
            "tags": []
          },
          "execution_count": 77
        }
      ]
    },
    {
      "cell_type": "code",
      "metadata": {
        "id": "kFGYi_X3IQds"
      },
      "source": [
        "X_train_num_imputed = pd.DataFrame(data = imputer_num.transform(X_train_num), columns = X_train_num.columns)"
      ],
      "execution_count": null,
      "outputs": []
    },
    {
      "cell_type": "code",
      "metadata": {
        "id": "Irg_uWn5IQds",
        "outputId": "6c779b90-c448-44ea-89e7-37fab1fa5534"
      },
      "source": [
        "X_train_num.head(10)"
      ],
      "execution_count": null,
      "outputs": [
        {
          "output_type": "execute_result",
          "data": {
            "text/html": [
              "<div>\n",
              "<style scoped>\n",
              "    .dataframe tbody tr th:only-of-type {\n",
              "        vertical-align: middle;\n",
              "    }\n",
              "\n",
              "    .dataframe tbody tr th {\n",
              "        vertical-align: top;\n",
              "    }\n",
              "\n",
              "    .dataframe thead th {\n",
              "        text-align: right;\n",
              "    }\n",
              "</style>\n",
              "<table border=\"1\" class=\"dataframe\">\n",
              "  <thead>\n",
              "    <tr style=\"text-align: right;\">\n",
              "      <th></th>\n",
              "      <th>no_of_trainings</th>\n",
              "      <th>age</th>\n",
              "      <th>previous_year_rating</th>\n",
              "      <th>length_of_service</th>\n",
              "      <th>KPIs_met &gt;80%</th>\n",
              "      <th>awards_won?</th>\n",
              "      <th>avg_training_score</th>\n",
              "    </tr>\n",
              "    <tr>\n",
              "      <th>employee_id</th>\n",
              "      <th></th>\n",
              "      <th></th>\n",
              "      <th></th>\n",
              "      <th></th>\n",
              "      <th></th>\n",
              "      <th></th>\n",
              "      <th></th>\n",
              "    </tr>\n",
              "  </thead>\n",
              "  <tbody>\n",
              "    <tr>\n",
              "      <th>53924</th>\n",
              "      <td>1</td>\n",
              "      <td>31</td>\n",
              "      <td>3.0</td>\n",
              "      <td>4</td>\n",
              "      <td>0</td>\n",
              "      <td>0</td>\n",
              "      <td>50</td>\n",
              "    </tr>\n",
              "    <tr>\n",
              "      <th>39112</th>\n",
              "      <td>1</td>\n",
              "      <td>26</td>\n",
              "      <td>2.0</td>\n",
              "      <td>6</td>\n",
              "      <td>0</td>\n",
              "      <td>0</td>\n",
              "      <td>77</td>\n",
              "    </tr>\n",
              "    <tr>\n",
              "      <th>1741</th>\n",
              "      <td>2</td>\n",
              "      <td>28</td>\n",
              "      <td>5.0</td>\n",
              "      <td>3</td>\n",
              "      <td>0</td>\n",
              "      <td>0</td>\n",
              "      <td>82</td>\n",
              "    </tr>\n",
              "    <tr>\n",
              "      <th>65100</th>\n",
              "      <td>2</td>\n",
              "      <td>29</td>\n",
              "      <td>2.0</td>\n",
              "      <td>5</td>\n",
              "      <td>0</td>\n",
              "      <td>0</td>\n",
              "      <td>58</td>\n",
              "    </tr>\n",
              "    <tr>\n",
              "      <th>72902</th>\n",
              "      <td>1</td>\n",
              "      <td>48</td>\n",
              "      <td>1.0</td>\n",
              "      <td>18</td>\n",
              "      <td>0</td>\n",
              "      <td>0</td>\n",
              "      <td>80</td>\n",
              "    </tr>\n",
              "    <tr>\n",
              "      <th>31944</th>\n",
              "      <td>2</td>\n",
              "      <td>33</td>\n",
              "      <td>3.0</td>\n",
              "      <td>4</td>\n",
              "      <td>0</td>\n",
              "      <td>0</td>\n",
              "      <td>45</td>\n",
              "    </tr>\n",
              "    <tr>\n",
              "      <th>32885</th>\n",
              "      <td>1</td>\n",
              "      <td>35</td>\n",
              "      <td>4.0</td>\n",
              "      <td>2</td>\n",
              "      <td>1</td>\n",
              "      <td>0</td>\n",
              "      <td>53</td>\n",
              "    </tr>\n",
              "    <tr>\n",
              "      <th>33893</th>\n",
              "      <td>1</td>\n",
              "      <td>31</td>\n",
              "      <td>4.0</td>\n",
              "      <td>4</td>\n",
              "      <td>0</td>\n",
              "      <td>0</td>\n",
              "      <td>45</td>\n",
              "    </tr>\n",
              "    <tr>\n",
              "      <th>41774</th>\n",
              "      <td>1</td>\n",
              "      <td>31</td>\n",
              "      <td>5.0</td>\n",
              "      <td>3</td>\n",
              "      <td>1</td>\n",
              "      <td>0</td>\n",
              "      <td>63</td>\n",
              "    </tr>\n",
              "    <tr>\n",
              "      <th>10799</th>\n",
              "      <td>1</td>\n",
              "      <td>30</td>\n",
              "      <td>3.0</td>\n",
              "      <td>6</td>\n",
              "      <td>1</td>\n",
              "      <td>0</td>\n",
              "      <td>71</td>\n",
              "    </tr>\n",
              "  </tbody>\n",
              "</table>\n",
              "</div>"
            ],
            "text/plain": [
              "             no_of_trainings  age  previous_year_rating  length_of_service  \\\n",
              "employee_id                                                                  \n",
              "53924                      1   31                   3.0                  4   \n",
              "39112                      1   26                   2.0                  6   \n",
              "1741                       2   28                   5.0                  3   \n",
              "65100                      2   29                   2.0                  5   \n",
              "72902                      1   48                   1.0                 18   \n",
              "31944                      2   33                   3.0                  4   \n",
              "32885                      1   35                   4.0                  2   \n",
              "33893                      1   31                   4.0                  4   \n",
              "41774                      1   31                   5.0                  3   \n",
              "10799                      1   30                   3.0                  6   \n",
              "\n",
              "             KPIs_met >80%  awards_won?  avg_training_score  \n",
              "employee_id                                                  \n",
              "53924                    0            0                  50  \n",
              "39112                    0            0                  77  \n",
              "1741                     0            0                  82  \n",
              "65100                    0            0                  58  \n",
              "72902                    0            0                  80  \n",
              "31944                    0            0                  45  \n",
              "32885                    1            0                  53  \n",
              "33893                    0            0                  45  \n",
              "41774                    1            0                  63  \n",
              "10799                    1            0                  71  "
            ]
          },
          "metadata": {
            "tags": []
          },
          "execution_count": 79
        }
      ]
    },
    {
      "cell_type": "code",
      "metadata": {
        "id": "xpUSi4TuIQdt",
        "outputId": "48893469-19d4-4a60-dd9f-338c31f2db8c"
      },
      "source": [
        "X_train_num_imputed.head(2)"
      ],
      "execution_count": null,
      "outputs": [
        {
          "output_type": "execute_result",
          "data": {
            "text/html": [
              "<div>\n",
              "<style scoped>\n",
              "    .dataframe tbody tr th:only-of-type {\n",
              "        vertical-align: middle;\n",
              "    }\n",
              "\n",
              "    .dataframe tbody tr th {\n",
              "        vertical-align: top;\n",
              "    }\n",
              "\n",
              "    .dataframe thead th {\n",
              "        text-align: right;\n",
              "    }\n",
              "</style>\n",
              "<table border=\"1\" class=\"dataframe\">\n",
              "  <thead>\n",
              "    <tr style=\"text-align: right;\">\n",
              "      <th></th>\n",
              "      <th>no_of_trainings</th>\n",
              "      <th>age</th>\n",
              "      <th>previous_year_rating</th>\n",
              "      <th>length_of_service</th>\n",
              "      <th>KPIs_met &gt;80%</th>\n",
              "      <th>awards_won?</th>\n",
              "      <th>avg_training_score</th>\n",
              "    </tr>\n",
              "  </thead>\n",
              "  <tbody>\n",
              "    <tr>\n",
              "      <th>0</th>\n",
              "      <td>1.0</td>\n",
              "      <td>31.0</td>\n",
              "      <td>3.0</td>\n",
              "      <td>4.0</td>\n",
              "      <td>0.0</td>\n",
              "      <td>0.0</td>\n",
              "      <td>50.0</td>\n",
              "    </tr>\n",
              "    <tr>\n",
              "      <th>1</th>\n",
              "      <td>1.0</td>\n",
              "      <td>26.0</td>\n",
              "      <td>2.0</td>\n",
              "      <td>6.0</td>\n",
              "      <td>0.0</td>\n",
              "      <td>0.0</td>\n",
              "      <td>77.0</td>\n",
              "    </tr>\n",
              "  </tbody>\n",
              "</table>\n",
              "</div>"
            ],
            "text/plain": [
              "   no_of_trainings   age  previous_year_rating  length_of_service  \\\n",
              "0              1.0  31.0                   3.0                4.0   \n",
              "1              1.0  26.0                   2.0                6.0   \n",
              "\n",
              "   KPIs_met >80%  awards_won?  avg_training_score  \n",
              "0            0.0          0.0                50.0  \n",
              "1            0.0          0.0                77.0  "
            ]
          },
          "metadata": {
            "tags": []
          },
          "execution_count": 80
        }
      ]
    },
    {
      "cell_type": "code",
      "metadata": {
        "id": "jGGISyVUIQdt",
        "outputId": "4781b401-f2d7-432d-a46d-5804c7812525"
      },
      "source": [
        "X_train_num.isnull().sum()"
      ],
      "execution_count": null,
      "outputs": [
        {
          "output_type": "execute_result",
          "data": {
            "text/plain": [
              "no_of_trainings            0\n",
              "age                        0\n",
              "previous_year_rating    3274\n",
              "length_of_service          0\n",
              "KPIs_met >80%              0\n",
              "awards_won?                0\n",
              "avg_training_score         0\n",
              "dtype: int64"
            ]
          },
          "metadata": {
            "tags": []
          },
          "execution_count": 81
        }
      ]
    },
    {
      "cell_type": "code",
      "metadata": {
        "id": "WC26Rm0QIQdt",
        "outputId": "3cb80da6-7b62-4db4-d1f2-636af3d746a8"
      },
      "source": [
        "X_train_num_imputed.isnull().sum()"
      ],
      "execution_count": null,
      "outputs": [
        {
          "output_type": "execute_result",
          "data": {
            "text/plain": [
              "no_of_trainings         0\n",
              "age                     0\n",
              "previous_year_rating    0\n",
              "length_of_service       0\n",
              "KPIs_met >80%           0\n",
              "awards_won?             0\n",
              "avg_training_score      0\n",
              "dtype: int64"
            ]
          },
          "metadata": {
            "tags": []
          },
          "execution_count": 82
        }
      ]
    },
    {
      "cell_type": "markdown",
      "metadata": {
        "id": "o9dhzBQ_IQdt"
      },
      "source": [
        "Imputación de  variables categóricas"
      ]
    },
    {
      "cell_type": "code",
      "metadata": {
        "id": "MdMMWDjNIQdu",
        "outputId": "a50ff79f-20de-4263-ee0f-7a36e8a33cce"
      },
      "source": [
        "### Remplazamos con valores mas frecuentes a los valores nulos ###\n",
        "imputer_cat = SimpleImputer(strategy='most_frequent')\n",
        "imputer_cat.fit(X_train_cat)\n",
        "X_train_cat_imputed = pd.DataFrame(imputer_cat.transform(X_train_cat), columns = X_train_cat.columns)\n",
        "\n",
        "X_train_cat_imputed.head()"
      ],
      "execution_count": null,
      "outputs": [
        {
          "output_type": "execute_result",
          "data": {
            "text/html": [
              "<div>\n",
              "<style scoped>\n",
              "    .dataframe tbody tr th:only-of-type {\n",
              "        vertical-align: middle;\n",
              "    }\n",
              "\n",
              "    .dataframe tbody tr th {\n",
              "        vertical-align: top;\n",
              "    }\n",
              "\n",
              "    .dataframe thead th {\n",
              "        text-align: right;\n",
              "    }\n",
              "</style>\n",
              "<table border=\"1\" class=\"dataframe\">\n",
              "  <thead>\n",
              "    <tr style=\"text-align: right;\">\n",
              "      <th></th>\n",
              "      <th>department</th>\n",
              "      <th>region</th>\n",
              "      <th>education</th>\n",
              "      <th>gender</th>\n",
              "      <th>recruitment_channel</th>\n",
              "    </tr>\n",
              "  </thead>\n",
              "  <tbody>\n",
              "    <tr>\n",
              "      <th>0</th>\n",
              "      <td>Sales &amp; Marketing</td>\n",
              "      <td>region_6</td>\n",
              "      <td>Bachelor's</td>\n",
              "      <td>m</td>\n",
              "      <td>other</td>\n",
              "    </tr>\n",
              "    <tr>\n",
              "      <th>1</th>\n",
              "      <td>Technology</td>\n",
              "      <td>region_7</td>\n",
              "      <td>Bachelor's</td>\n",
              "      <td>m</td>\n",
              "      <td>other</td>\n",
              "    </tr>\n",
              "    <tr>\n",
              "      <th>2</th>\n",
              "      <td>Analytics</td>\n",
              "      <td>region_22</td>\n",
              "      <td>Bachelor's</td>\n",
              "      <td>m</td>\n",
              "      <td>sourcing</td>\n",
              "    </tr>\n",
              "    <tr>\n",
              "      <th>3</th>\n",
              "      <td>Finance</td>\n",
              "      <td>region_28</td>\n",
              "      <td>Bachelor's</td>\n",
              "      <td>m</td>\n",
              "      <td>sourcing</td>\n",
              "    </tr>\n",
              "    <tr>\n",
              "      <th>4</th>\n",
              "      <td>Technology</td>\n",
              "      <td>region_26</td>\n",
              "      <td>Bachelor's</td>\n",
              "      <td>m</td>\n",
              "      <td>sourcing</td>\n",
              "    </tr>\n",
              "  </tbody>\n",
              "</table>\n",
              "</div>"
            ],
            "text/plain": [
              "          department     region   education gender recruitment_channel\n",
              "0  Sales & Marketing   region_6  Bachelor's      m               other\n",
              "1         Technology   region_7  Bachelor's      m               other\n",
              "2          Analytics  region_22  Bachelor's      m            sourcing\n",
              "3            Finance  region_28  Bachelor's      m            sourcing\n",
              "4         Technology  region_26  Bachelor's      m            sourcing"
            ]
          },
          "metadata": {
            "tags": []
          },
          "execution_count": 83
        }
      ]
    },
    {
      "cell_type": "code",
      "metadata": {
        "id": "4LLGIktZIQdu",
        "outputId": "2bad265a-e4ec-4b57-ad62-3a2ccb9694b3"
      },
      "source": [
        "X_train_cat.isnull().sum()"
      ],
      "execution_count": null,
      "outputs": [
        {
          "output_type": "execute_result",
          "data": {
            "text/plain": [
              "department                0\n",
              "region                    0\n",
              "education              1912\n",
              "gender                    0\n",
              "recruitment_channel       0\n",
              "dtype: int64"
            ]
          },
          "metadata": {
            "tags": []
          },
          "execution_count": 84
        }
      ]
    },
    {
      "cell_type": "code",
      "metadata": {
        "id": "lbZ1OaVvIQdu",
        "outputId": "8aa18ccd-750b-40c8-de7c-a987db8cb55e"
      },
      "source": [
        "X_train_cat_imputed.isnull().sum()"
      ],
      "execution_count": null,
      "outputs": [
        {
          "output_type": "execute_result",
          "data": {
            "text/plain": [
              "department             0\n",
              "region                 0\n",
              "education              0\n",
              "gender                 0\n",
              "recruitment_channel    0\n",
              "dtype: int64"
            ]
          },
          "metadata": {
            "tags": []
          },
          "execution_count": 85
        }
      ]
    },
    {
      "cell_type": "markdown",
      "metadata": {
        "id": "eXwSE2scIQdu"
      },
      "source": [
        "Ya no tenemos valores nulos!"
      ]
    },
    {
      "cell_type": "markdown",
      "metadata": {
        "id": "gkwBgbkgIQdv"
      },
      "source": [
        "## Encoding de variables categóricas"
      ]
    },
    {
      "cell_type": "code",
      "metadata": {
        "id": "JpM5twJdIQdv",
        "outputId": "c1ded86b-3ca1-439d-d2d7-b6d21f285b82"
      },
      "source": [
        "X_train_cat_imputed.describe()"
      ],
      "execution_count": null,
      "outputs": [
        {
          "output_type": "execute_result",
          "data": {
            "text/html": [
              "<div>\n",
              "<style scoped>\n",
              "    .dataframe tbody tr th:only-of-type {\n",
              "        vertical-align: middle;\n",
              "    }\n",
              "\n",
              "    .dataframe tbody tr th {\n",
              "        vertical-align: top;\n",
              "    }\n",
              "\n",
              "    .dataframe thead th {\n",
              "        text-align: right;\n",
              "    }\n",
              "</style>\n",
              "<table border=\"1\" class=\"dataframe\">\n",
              "  <thead>\n",
              "    <tr style=\"text-align: right;\">\n",
              "      <th></th>\n",
              "      <th>department</th>\n",
              "      <th>region</th>\n",
              "      <th>education</th>\n",
              "      <th>gender</th>\n",
              "      <th>recruitment_channel</th>\n",
              "    </tr>\n",
              "  </thead>\n",
              "  <tbody>\n",
              "    <tr>\n",
              "      <th>count</th>\n",
              "      <td>43846</td>\n",
              "      <td>43846</td>\n",
              "      <td>43846</td>\n",
              "      <td>43846</td>\n",
              "      <td>43846</td>\n",
              "    </tr>\n",
              "    <tr>\n",
              "      <th>unique</th>\n",
              "      <td>9</td>\n",
              "      <td>34</td>\n",
              "      <td>3</td>\n",
              "      <td>2</td>\n",
              "      <td>3</td>\n",
              "    </tr>\n",
              "    <tr>\n",
              "      <th>top</th>\n",
              "      <td>Sales &amp; Marketing</td>\n",
              "      <td>region_2</td>\n",
              "      <td>Bachelor's</td>\n",
              "      <td>m</td>\n",
              "      <td>other</td>\n",
              "    </tr>\n",
              "    <tr>\n",
              "      <th>freq</th>\n",
              "      <td>13496</td>\n",
              "      <td>9806</td>\n",
              "      <td>31244</td>\n",
              "      <td>30782</td>\n",
              "      <td>24341</td>\n",
              "    </tr>\n",
              "  </tbody>\n",
              "</table>\n",
              "</div>"
            ],
            "text/plain": [
              "               department    region   education gender recruitment_channel\n",
              "count               43846     43846       43846  43846               43846\n",
              "unique                  9        34           3      2                   3\n",
              "top     Sales & Marketing  region_2  Bachelor's      m               other\n",
              "freq                13496      9806       31244  30782               24341"
            ]
          },
          "metadata": {
            "tags": []
          },
          "execution_count": 86
        }
      ]
    },
    {
      "cell_type": "code",
      "metadata": {
        "id": "0_0XnmARIQdv",
        "outputId": "70aa5e5f-7b2e-44ac-b82d-934dea556fd1"
      },
      "source": [
        "X_train_cat_imputed.head(10)"
      ],
      "execution_count": null,
      "outputs": [
        {
          "output_type": "execute_result",
          "data": {
            "text/html": [
              "<div>\n",
              "<style scoped>\n",
              "    .dataframe tbody tr th:only-of-type {\n",
              "        vertical-align: middle;\n",
              "    }\n",
              "\n",
              "    .dataframe tbody tr th {\n",
              "        vertical-align: top;\n",
              "    }\n",
              "\n",
              "    .dataframe thead th {\n",
              "        text-align: right;\n",
              "    }\n",
              "</style>\n",
              "<table border=\"1\" class=\"dataframe\">\n",
              "  <thead>\n",
              "    <tr style=\"text-align: right;\">\n",
              "      <th></th>\n",
              "      <th>department</th>\n",
              "      <th>region</th>\n",
              "      <th>education</th>\n",
              "      <th>gender</th>\n",
              "      <th>recruitment_channel</th>\n",
              "    </tr>\n",
              "  </thead>\n",
              "  <tbody>\n",
              "    <tr>\n",
              "      <th>0</th>\n",
              "      <td>Sales &amp; Marketing</td>\n",
              "      <td>region_6</td>\n",
              "      <td>Bachelor's</td>\n",
              "      <td>m</td>\n",
              "      <td>other</td>\n",
              "    </tr>\n",
              "    <tr>\n",
              "      <th>1</th>\n",
              "      <td>Technology</td>\n",
              "      <td>region_7</td>\n",
              "      <td>Bachelor's</td>\n",
              "      <td>m</td>\n",
              "      <td>other</td>\n",
              "    </tr>\n",
              "    <tr>\n",
              "      <th>2</th>\n",
              "      <td>Analytics</td>\n",
              "      <td>region_22</td>\n",
              "      <td>Bachelor's</td>\n",
              "      <td>m</td>\n",
              "      <td>sourcing</td>\n",
              "    </tr>\n",
              "    <tr>\n",
              "      <th>3</th>\n",
              "      <td>Finance</td>\n",
              "      <td>region_28</td>\n",
              "      <td>Bachelor's</td>\n",
              "      <td>m</td>\n",
              "      <td>sourcing</td>\n",
              "    </tr>\n",
              "    <tr>\n",
              "      <th>4</th>\n",
              "      <td>Technology</td>\n",
              "      <td>region_26</td>\n",
              "      <td>Bachelor's</td>\n",
              "      <td>m</td>\n",
              "      <td>sourcing</td>\n",
              "    </tr>\n",
              "    <tr>\n",
              "      <th>5</th>\n",
              "      <td>HR</td>\n",
              "      <td>region_23</td>\n",
              "      <td>Bachelor's</td>\n",
              "      <td>m</td>\n",
              "      <td>other</td>\n",
              "    </tr>\n",
              "    <tr>\n",
              "      <th>6</th>\n",
              "      <td>HR</td>\n",
              "      <td>region_14</td>\n",
              "      <td>Bachelor's</td>\n",
              "      <td>m</td>\n",
              "      <td>other</td>\n",
              "    </tr>\n",
              "    <tr>\n",
              "      <th>7</th>\n",
              "      <td>Sales &amp; Marketing</td>\n",
              "      <td>region_31</td>\n",
              "      <td>Bachelor's</td>\n",
              "      <td>m</td>\n",
              "      <td>sourcing</td>\n",
              "    </tr>\n",
              "    <tr>\n",
              "      <th>8</th>\n",
              "      <td>Finance</td>\n",
              "      <td>region_32</td>\n",
              "      <td>Bachelor's</td>\n",
              "      <td>m</td>\n",
              "      <td>other</td>\n",
              "    </tr>\n",
              "    <tr>\n",
              "      <th>9</th>\n",
              "      <td>Procurement</td>\n",
              "      <td>region_2</td>\n",
              "      <td>Bachelor's</td>\n",
              "      <td>m</td>\n",
              "      <td>other</td>\n",
              "    </tr>\n",
              "  </tbody>\n",
              "</table>\n",
              "</div>"
            ],
            "text/plain": [
              "          department     region   education gender recruitment_channel\n",
              "0  Sales & Marketing   region_6  Bachelor's      m               other\n",
              "1         Technology   region_7  Bachelor's      m               other\n",
              "2          Analytics  region_22  Bachelor's      m            sourcing\n",
              "3            Finance  region_28  Bachelor's      m            sourcing\n",
              "4         Technology  region_26  Bachelor's      m            sourcing\n",
              "5                 HR  region_23  Bachelor's      m               other\n",
              "6                 HR  region_14  Bachelor's      m               other\n",
              "7  Sales & Marketing  region_31  Bachelor's      m            sourcing\n",
              "8            Finance  region_32  Bachelor's      m               other\n",
              "9        Procurement   region_2  Bachelor's      m               other"
            ]
          },
          "metadata": {
            "tags": []
          },
          "execution_count": 87
        }
      ]
    },
    {
      "cell_type": "code",
      "metadata": {
        "id": "iumvRsHcIQdv",
        "outputId": "8c1b08b7-eb62-479e-a60b-127a32642c7c"
      },
      "source": [
        "X_train_cat_imputed[['department']].head(10)"
      ],
      "execution_count": null,
      "outputs": [
        {
          "output_type": "execute_result",
          "data": {
            "text/html": [
              "<div>\n",
              "<style scoped>\n",
              "    .dataframe tbody tr th:only-of-type {\n",
              "        vertical-align: middle;\n",
              "    }\n",
              "\n",
              "    .dataframe tbody tr th {\n",
              "        vertical-align: top;\n",
              "    }\n",
              "\n",
              "    .dataframe thead th {\n",
              "        text-align: right;\n",
              "    }\n",
              "</style>\n",
              "<table border=\"1\" class=\"dataframe\">\n",
              "  <thead>\n",
              "    <tr style=\"text-align: right;\">\n",
              "      <th></th>\n",
              "      <th>department</th>\n",
              "    </tr>\n",
              "  </thead>\n",
              "  <tbody>\n",
              "    <tr>\n",
              "      <th>0</th>\n",
              "      <td>Sales &amp; Marketing</td>\n",
              "    </tr>\n",
              "    <tr>\n",
              "      <th>1</th>\n",
              "      <td>Technology</td>\n",
              "    </tr>\n",
              "    <tr>\n",
              "      <th>2</th>\n",
              "      <td>Analytics</td>\n",
              "    </tr>\n",
              "    <tr>\n",
              "      <th>3</th>\n",
              "      <td>Finance</td>\n",
              "    </tr>\n",
              "    <tr>\n",
              "      <th>4</th>\n",
              "      <td>Technology</td>\n",
              "    </tr>\n",
              "    <tr>\n",
              "      <th>5</th>\n",
              "      <td>HR</td>\n",
              "    </tr>\n",
              "    <tr>\n",
              "      <th>6</th>\n",
              "      <td>HR</td>\n",
              "    </tr>\n",
              "    <tr>\n",
              "      <th>7</th>\n",
              "      <td>Sales &amp; Marketing</td>\n",
              "    </tr>\n",
              "    <tr>\n",
              "      <th>8</th>\n",
              "      <td>Finance</td>\n",
              "    </tr>\n",
              "    <tr>\n",
              "      <th>9</th>\n",
              "      <td>Procurement</td>\n",
              "    </tr>\n",
              "  </tbody>\n",
              "</table>\n",
              "</div>"
            ],
            "text/plain": [
              "          department\n",
              "0  Sales & Marketing\n",
              "1         Technology\n",
              "2          Analytics\n",
              "3            Finance\n",
              "4         Technology\n",
              "5                 HR\n",
              "6                 HR\n",
              "7  Sales & Marketing\n",
              "8            Finance\n",
              "9        Procurement"
            ]
          },
          "metadata": {
            "tags": []
          },
          "execution_count": 88
        }
      ]
    },
    {
      "cell_type": "markdown",
      "metadata": {
        "id": "pWIR7rfYIQdv"
      },
      "source": [
        "`get_dummies` Obtenemos valores dummies"
      ]
    },
    {
      "cell_type": "code",
      "metadata": {
        "id": "5yL2rB5dIQdw",
        "outputId": "f15bf8e9-3b2f-49fa-c9b8-9949c33eac01"
      },
      "source": [
        "pd.get_dummies(X_train_cat_imputed[['department']].head(10), drop_first = True)"
      ],
      "execution_count": null,
      "outputs": [
        {
          "output_type": "execute_result",
          "data": {
            "text/html": [
              "<div>\n",
              "<style scoped>\n",
              "    .dataframe tbody tr th:only-of-type {\n",
              "        vertical-align: middle;\n",
              "    }\n",
              "\n",
              "    .dataframe tbody tr th {\n",
              "        vertical-align: top;\n",
              "    }\n",
              "\n",
              "    .dataframe thead th {\n",
              "        text-align: right;\n",
              "    }\n",
              "</style>\n",
              "<table border=\"1\" class=\"dataframe\">\n",
              "  <thead>\n",
              "    <tr style=\"text-align: right;\">\n",
              "      <th></th>\n",
              "      <th>department_Finance</th>\n",
              "      <th>department_HR</th>\n",
              "      <th>department_Procurement</th>\n",
              "      <th>department_Sales &amp; Marketing</th>\n",
              "      <th>department_Technology</th>\n",
              "    </tr>\n",
              "  </thead>\n",
              "  <tbody>\n",
              "    <tr>\n",
              "      <th>0</th>\n",
              "      <td>0</td>\n",
              "      <td>0</td>\n",
              "      <td>0</td>\n",
              "      <td>1</td>\n",
              "      <td>0</td>\n",
              "    </tr>\n",
              "    <tr>\n",
              "      <th>1</th>\n",
              "      <td>0</td>\n",
              "      <td>0</td>\n",
              "      <td>0</td>\n",
              "      <td>0</td>\n",
              "      <td>1</td>\n",
              "    </tr>\n",
              "    <tr>\n",
              "      <th>2</th>\n",
              "      <td>0</td>\n",
              "      <td>0</td>\n",
              "      <td>0</td>\n",
              "      <td>0</td>\n",
              "      <td>0</td>\n",
              "    </tr>\n",
              "    <tr>\n",
              "      <th>3</th>\n",
              "      <td>1</td>\n",
              "      <td>0</td>\n",
              "      <td>0</td>\n",
              "      <td>0</td>\n",
              "      <td>0</td>\n",
              "    </tr>\n",
              "    <tr>\n",
              "      <th>4</th>\n",
              "      <td>0</td>\n",
              "      <td>0</td>\n",
              "      <td>0</td>\n",
              "      <td>0</td>\n",
              "      <td>1</td>\n",
              "    </tr>\n",
              "    <tr>\n",
              "      <th>5</th>\n",
              "      <td>0</td>\n",
              "      <td>1</td>\n",
              "      <td>0</td>\n",
              "      <td>0</td>\n",
              "      <td>0</td>\n",
              "    </tr>\n",
              "    <tr>\n",
              "      <th>6</th>\n",
              "      <td>0</td>\n",
              "      <td>1</td>\n",
              "      <td>0</td>\n",
              "      <td>0</td>\n",
              "      <td>0</td>\n",
              "    </tr>\n",
              "    <tr>\n",
              "      <th>7</th>\n",
              "      <td>0</td>\n",
              "      <td>0</td>\n",
              "      <td>0</td>\n",
              "      <td>1</td>\n",
              "      <td>0</td>\n",
              "    </tr>\n",
              "    <tr>\n",
              "      <th>8</th>\n",
              "      <td>1</td>\n",
              "      <td>0</td>\n",
              "      <td>0</td>\n",
              "      <td>0</td>\n",
              "      <td>0</td>\n",
              "    </tr>\n",
              "    <tr>\n",
              "      <th>9</th>\n",
              "      <td>0</td>\n",
              "      <td>0</td>\n",
              "      <td>1</td>\n",
              "      <td>0</td>\n",
              "      <td>0</td>\n",
              "    </tr>\n",
              "  </tbody>\n",
              "</table>\n",
              "</div>"
            ],
            "text/plain": [
              "   department_Finance  department_HR  department_Procurement  \\\n",
              "0                   0              0                       0   \n",
              "1                   0              0                       0   \n",
              "2                   0              0                       0   \n",
              "3                   1              0                       0   \n",
              "4                   0              0                       0   \n",
              "5                   0              1                       0   \n",
              "6                   0              1                       0   \n",
              "7                   0              0                       0   \n",
              "8                   1              0                       0   \n",
              "9                   0              0                       1   \n",
              "\n",
              "   department_Sales & Marketing  department_Technology  \n",
              "0                             1                      0  \n",
              "1                             0                      1  \n",
              "2                             0                      0  \n",
              "3                             0                      0  \n",
              "4                             0                      1  \n",
              "5                             0                      0  \n",
              "6                             0                      0  \n",
              "7                             1                      0  \n",
              "8                             0                      0  \n",
              "9                             0                      0  "
            ]
          },
          "metadata": {
            "tags": []
          },
          "execution_count": 89
        }
      ]
    },
    {
      "cell_type": "code",
      "metadata": {
        "id": "2UwpOU5VIQdw"
      },
      "source": [
        "X_train_cat_dummies = pd.get_dummies(X_train_cat_imputed, drop_first=True)"
      ],
      "execution_count": null,
      "outputs": []
    },
    {
      "cell_type": "code",
      "metadata": {
        "id": "Kb7PJxDrIQdw",
        "outputId": "74f523f8-2985-4d2e-ede4-ad42ebe58ac1"
      },
      "source": [
        "X_train_cat_imputed.head(2)"
      ],
      "execution_count": null,
      "outputs": [
        {
          "output_type": "execute_result",
          "data": {
            "text/html": [
              "<div>\n",
              "<style scoped>\n",
              "    .dataframe tbody tr th:only-of-type {\n",
              "        vertical-align: middle;\n",
              "    }\n",
              "\n",
              "    .dataframe tbody tr th {\n",
              "        vertical-align: top;\n",
              "    }\n",
              "\n",
              "    .dataframe thead th {\n",
              "        text-align: right;\n",
              "    }\n",
              "</style>\n",
              "<table border=\"1\" class=\"dataframe\">\n",
              "  <thead>\n",
              "    <tr style=\"text-align: right;\">\n",
              "      <th></th>\n",
              "      <th>department</th>\n",
              "      <th>region</th>\n",
              "      <th>education</th>\n",
              "      <th>gender</th>\n",
              "      <th>recruitment_channel</th>\n",
              "    </tr>\n",
              "  </thead>\n",
              "  <tbody>\n",
              "    <tr>\n",
              "      <th>0</th>\n",
              "      <td>Sales &amp; Marketing</td>\n",
              "      <td>region_6</td>\n",
              "      <td>Bachelor's</td>\n",
              "      <td>m</td>\n",
              "      <td>other</td>\n",
              "    </tr>\n",
              "    <tr>\n",
              "      <th>1</th>\n",
              "      <td>Technology</td>\n",
              "      <td>region_7</td>\n",
              "      <td>Bachelor's</td>\n",
              "      <td>m</td>\n",
              "      <td>other</td>\n",
              "    </tr>\n",
              "  </tbody>\n",
              "</table>\n",
              "</div>"
            ],
            "text/plain": [
              "          department    region   education gender recruitment_channel\n",
              "0  Sales & Marketing  region_6  Bachelor's      m               other\n",
              "1         Technology  region_7  Bachelor's      m               other"
            ]
          },
          "metadata": {
            "tags": []
          },
          "execution_count": 92
        }
      ]
    },
    {
      "cell_type": "code",
      "metadata": {
        "id": "Paxn4MS8IQdx",
        "outputId": "61625d19-65fc-4595-bf5a-7dc838d27d1a"
      },
      "source": [
        "X_train_cat_dummies.head(2)"
      ],
      "execution_count": null,
      "outputs": [
        {
          "output_type": "execute_result",
          "data": {
            "text/html": [
              "<div>\n",
              "<style scoped>\n",
              "    .dataframe tbody tr th:only-of-type {\n",
              "        vertical-align: middle;\n",
              "    }\n",
              "\n",
              "    .dataframe tbody tr th {\n",
              "        vertical-align: top;\n",
              "    }\n",
              "\n",
              "    .dataframe thead th {\n",
              "        text-align: right;\n",
              "    }\n",
              "</style>\n",
              "<table border=\"1\" class=\"dataframe\">\n",
              "  <thead>\n",
              "    <tr style=\"text-align: right;\">\n",
              "      <th></th>\n",
              "      <th>department_Finance</th>\n",
              "      <th>department_HR</th>\n",
              "      <th>department_Legal</th>\n",
              "      <th>department_Operations</th>\n",
              "      <th>department_Procurement</th>\n",
              "      <th>department_R&amp;D</th>\n",
              "      <th>department_Sales &amp; Marketing</th>\n",
              "      <th>department_Technology</th>\n",
              "      <th>region_region_10</th>\n",
              "      <th>region_region_11</th>\n",
              "      <th>...</th>\n",
              "      <th>region_region_5</th>\n",
              "      <th>region_region_6</th>\n",
              "      <th>region_region_7</th>\n",
              "      <th>region_region_8</th>\n",
              "      <th>region_region_9</th>\n",
              "      <th>education_Below Secondary</th>\n",
              "      <th>education_Master's &amp; above</th>\n",
              "      <th>gender_m</th>\n",
              "      <th>recruitment_channel_referred</th>\n",
              "      <th>recruitment_channel_sourcing</th>\n",
              "    </tr>\n",
              "  </thead>\n",
              "  <tbody>\n",
              "    <tr>\n",
              "      <th>0</th>\n",
              "      <td>0</td>\n",
              "      <td>0</td>\n",
              "      <td>0</td>\n",
              "      <td>0</td>\n",
              "      <td>0</td>\n",
              "      <td>0</td>\n",
              "      <td>1</td>\n",
              "      <td>0</td>\n",
              "      <td>0</td>\n",
              "      <td>0</td>\n",
              "      <td>...</td>\n",
              "      <td>0</td>\n",
              "      <td>1</td>\n",
              "      <td>0</td>\n",
              "      <td>0</td>\n",
              "      <td>0</td>\n",
              "      <td>0</td>\n",
              "      <td>0</td>\n",
              "      <td>1</td>\n",
              "      <td>0</td>\n",
              "      <td>0</td>\n",
              "    </tr>\n",
              "    <tr>\n",
              "      <th>1</th>\n",
              "      <td>0</td>\n",
              "      <td>0</td>\n",
              "      <td>0</td>\n",
              "      <td>0</td>\n",
              "      <td>0</td>\n",
              "      <td>0</td>\n",
              "      <td>0</td>\n",
              "      <td>1</td>\n",
              "      <td>0</td>\n",
              "      <td>0</td>\n",
              "      <td>...</td>\n",
              "      <td>0</td>\n",
              "      <td>0</td>\n",
              "      <td>1</td>\n",
              "      <td>0</td>\n",
              "      <td>0</td>\n",
              "      <td>0</td>\n",
              "      <td>0</td>\n",
              "      <td>1</td>\n",
              "      <td>0</td>\n",
              "      <td>0</td>\n",
              "    </tr>\n",
              "  </tbody>\n",
              "</table>\n",
              "<p>2 rows × 46 columns</p>\n",
              "</div>"
            ],
            "text/plain": [
              "   department_Finance  department_HR  department_Legal  department_Operations  \\\n",
              "0                   0              0                 0                      0   \n",
              "1                   0              0                 0                      0   \n",
              "\n",
              "   department_Procurement  department_R&D  department_Sales & Marketing  \\\n",
              "0                       0               0                             1   \n",
              "1                       0               0                             0   \n",
              "\n",
              "   department_Technology  region_region_10  region_region_11  ...  \\\n",
              "0                      0                 0                 0  ...   \n",
              "1                      1                 0                 0  ...   \n",
              "\n",
              "   region_region_5  region_region_6  region_region_7  region_region_8  \\\n",
              "0                0                1                0                0   \n",
              "1                0                0                1                0   \n",
              "\n",
              "   region_region_9  education_Below Secondary  education_Master's & above  \\\n",
              "0                0                          0                           0   \n",
              "1                0                          0                           0   \n",
              "\n",
              "   gender_m  recruitment_channel_referred  recruitment_channel_sourcing  \n",
              "0         1                             0                             0  \n",
              "1         1                             0                             0  \n",
              "\n",
              "[2 rows x 46 columns]"
            ]
          },
          "metadata": {
            "tags": []
          },
          "execution_count": 93
        }
      ]
    },
    {
      "cell_type": "markdown",
      "metadata": {
        "id": "4Xyt--kUIQdx"
      },
      "source": [
        "## Tratamiento de valores extremos"
      ]
    },
    {
      "cell_type": "code",
      "metadata": {
        "id": "obHzX-KtIQdx",
        "outputId": "7937d026-06bf-4f4f-81ff-84c8f497f59c"
      },
      "source": [
        "X_train_num_imputed.head(2)"
      ],
      "execution_count": null,
      "outputs": [
        {
          "output_type": "execute_result",
          "data": {
            "text/html": [
              "<div>\n",
              "<style scoped>\n",
              "    .dataframe tbody tr th:only-of-type {\n",
              "        vertical-align: middle;\n",
              "    }\n",
              "\n",
              "    .dataframe tbody tr th {\n",
              "        vertical-align: top;\n",
              "    }\n",
              "\n",
              "    .dataframe thead th {\n",
              "        text-align: right;\n",
              "    }\n",
              "</style>\n",
              "<table border=\"1\" class=\"dataframe\">\n",
              "  <thead>\n",
              "    <tr style=\"text-align: right;\">\n",
              "      <th></th>\n",
              "      <th>no_of_trainings</th>\n",
              "      <th>age</th>\n",
              "      <th>previous_year_rating</th>\n",
              "      <th>length_of_service</th>\n",
              "      <th>KPIs_met &gt;80%</th>\n",
              "      <th>awards_won?</th>\n",
              "      <th>avg_training_score</th>\n",
              "    </tr>\n",
              "  </thead>\n",
              "  <tbody>\n",
              "    <tr>\n",
              "      <th>0</th>\n",
              "      <td>1.0</td>\n",
              "      <td>31.0</td>\n",
              "      <td>3.0</td>\n",
              "      <td>4.0</td>\n",
              "      <td>0.0</td>\n",
              "      <td>0.0</td>\n",
              "      <td>50.0</td>\n",
              "    </tr>\n",
              "    <tr>\n",
              "      <th>1</th>\n",
              "      <td>1.0</td>\n",
              "      <td>26.0</td>\n",
              "      <td>2.0</td>\n",
              "      <td>6.0</td>\n",
              "      <td>0.0</td>\n",
              "      <td>0.0</td>\n",
              "      <td>77.0</td>\n",
              "    </tr>\n",
              "  </tbody>\n",
              "</table>\n",
              "</div>"
            ],
            "text/plain": [
              "   no_of_trainings   age  previous_year_rating  length_of_service  \\\n",
              "0              1.0  31.0                   3.0                4.0   \n",
              "1              1.0  26.0                   2.0                6.0   \n",
              "\n",
              "   KPIs_met >80%  awards_won?  avg_training_score  \n",
              "0            0.0          0.0                50.0  \n",
              "1            0.0          0.0                77.0  "
            ]
          },
          "metadata": {
            "tags": []
          },
          "execution_count": 94
        }
      ]
    },
    {
      "cell_type": "code",
      "metadata": {
        "id": "UA13cYD4IQdy"
      },
      "source": [
        ""
      ],
      "execution_count": null,
      "outputs": []
    },
    {
      "cell_type": "code",
      "metadata": {
        "id": "P5J4I3eUIQdy",
        "outputId": "63b3b3aa-0493-4aef-e2f1-17c7f44d1776"
      },
      "source": [
        "### Ojo tiene valores extremos en sus mayores valores \n",
        "sns.histplot(data = X_train_num_imputed, x = 'no_of_trainings')"
      ],
      "execution_count": null,
      "outputs": [
        {
          "output_type": "execute_result",
          "data": {
            "text/plain": [
              "<AxesSubplot:xlabel='no_of_trainings', ylabel='Count'>"
            ]
          },
          "metadata": {
            "tags": []
          },
          "execution_count": 95
        },
        {
          "output_type": "display_data",
          "data": {
            "image/png": "[encoded data removed]",
            "text/plain": [
              "<Figure size 432x288 with 1 Axes>"
            ]
          },
          "metadata": {
            "tags": [],
            "needs_background": "light"
          }
        }
      ]
    },
    {
      "cell_type": "code",
      "metadata": {
        "id": "nRIms4yAIQdy",
        "outputId": "3a0ecd01-11d3-4c2e-c1aa-d1367309bd99"
      },
      "source": [
        "print('Cantidad valores mayores a p99:')\n",
        "print(X_train_num_imputed['no_of_trainings'][X_train_num_imputed['no_of_trainings']>4].count())\n",
        "print('Cantidad  de todos los valores:')\n",
        "print(X_train_num_imputed['no_of_trainings'].count())"
      ],
      "execution_count": null,
      "outputs": [
        {
          "output_type": "stream",
          "text": [
            "Cantidad valores mayores a p99:\n",
            "163\n",
            "Cantidad  de todos los valores:\n",
            "43846\n"
          ],
          "name": "stdout"
        }
      ]
    },
    {
      "cell_type": "code",
      "metadata": {
        "id": "gjM2sZ7JIQdy",
        "outputId": "a12c624c-e094-4f2e-b2cc-2ab209f48f5e"
      },
      "source": [
        "sns.histplot(data = X_train_num_imputed, x = 'length_of_service')"
      ],
      "execution_count": null,
      "outputs": [
        {
          "output_type": "execute_result",
          "data": {
            "text/plain": [
              "<AxesSubplot:xlabel='length_of_service', ylabel='Count'>"
            ]
          },
          "metadata": {
            "tags": []
          },
          "execution_count": 107
        },
        {
          "output_type": "display_data",
          "data": {
            "image/png": "[encoded data removed]",
            "text/plain": [
              "<Figure size 432x288 with 1 Axes>"
            ]
          },
          "metadata": {
            "tags": [],
            "needs_background": "light"
          }
        }
      ]
    },
    {
      "cell_type": "code",
      "metadata": {
        "id": "ATAvhSlWIQdz",
        "outputId": "c960a68c-252d-4622-8911-5ee7915aec69"
      },
      "source": [
        "print('Cantidad valores mayores a p99:')\n",
        "print(X_train_num_imputed['length_of_service'][X_train_num_imputed['length_of_service']>20].count())\n",
        "print('Cantidad  de todos los valores:')\n",
        "print(X_train_num_imputed['length_of_service'].count())"
      ],
      "execution_count": null,
      "outputs": [
        {
          "output_type": "stream",
          "text": [
            "Cantidad valores mayores a p99:\n",
            "414\n",
            "Cantidad  de todos los valores:\n",
            "43846\n"
          ],
          "name": "stdout"
        }
      ]
    },
    {
      "cell_type": "code",
      "metadata": {
        "id": "aE_ECorOIQdz",
        "outputId": "2e0928dc-8831-4b12-e801-d6d38a6c07db"
      },
      "source": [
        "print('Cantidad valores mayores a p99:')\n",
        "print(X_train_num_imputed['length_of_service'][X_train_num_imputed['length_of_service']>29].count())\n",
        "print('Cantidad  de todos los valores:')\n",
        "print(X_train_num_imputed['length_of_service'].count())"
      ],
      "execution_count": null,
      "outputs": [
        {
          "output_type": "stream",
          "text": [
            "Cantidad valores mayores a p99:\n",
            "43\n",
            "Cantidad  de todos los valores:\n",
            "43846\n"
          ],
          "name": "stdout"
        }
      ]
    },
    {
      "cell_type": "code",
      "metadata": {
        "id": "_aKZi0kgIQdz",
        "outputId": "ca996c07-4a22-4dc4-d9ec-14a5c2e6c367"
      },
      "source": [
        "X_train_num_imputed.describe(percentiles = [0.01, 0.025, 0.05, 0.1, 0.5, 0.75])"
      ],
      "execution_count": null,
      "outputs": [
        {
          "output_type": "execute_result",
          "data": {
            "text/html": [
              "<div>\n",
              "<style scoped>\n",
              "    .dataframe tbody tr th:only-of-type {\n",
              "        vertical-align: middle;\n",
              "    }\n",
              "\n",
              "    .dataframe tbody tr th {\n",
              "        vertical-align: top;\n",
              "    }\n",
              "\n",
              "    .dataframe thead th {\n",
              "        text-align: right;\n",
              "    }\n",
              "</style>\n",
              "<table border=\"1\" class=\"dataframe\">\n",
              "  <thead>\n",
              "    <tr style=\"text-align: right;\">\n",
              "      <th></th>\n",
              "      <th>no_of_trainings</th>\n",
              "      <th>age</th>\n",
              "      <th>previous_year_rating</th>\n",
              "      <th>length_of_service</th>\n",
              "      <th>KPIs_met &gt;80%</th>\n",
              "      <th>awards_won?</th>\n",
              "      <th>avg_training_score</th>\n",
              "    </tr>\n",
              "  </thead>\n",
              "  <tbody>\n",
              "    <tr>\n",
              "      <th>count</th>\n",
              "      <td>43846.000000</td>\n",
              "      <td>43846.000000</td>\n",
              "      <td>43846.000000</td>\n",
              "      <td>43846.000000</td>\n",
              "      <td>43846.000000</td>\n",
              "      <td>43846.000000</td>\n",
              "      <td>43846.000000</td>\n",
              "    </tr>\n",
              "    <tr>\n",
              "      <th>mean</th>\n",
              "      <td>1.251471</td>\n",
              "      <td>34.805934</td>\n",
              "      <td>3.308398</td>\n",
              "      <td>5.871482</td>\n",
              "      <td>0.352894</td>\n",
              "      <td>0.023286</td>\n",
              "      <td>63.387150</td>\n",
              "    </tr>\n",
              "    <tr>\n",
              "      <th>std</th>\n",
              "      <td>0.609187</td>\n",
              "      <td>7.652666</td>\n",
              "      <td>1.214819</td>\n",
              "      <td>4.259109</td>\n",
              "      <td>0.477876</td>\n",
              "      <td>0.150812</td>\n",
              "      <td>13.374862</td>\n",
              "    </tr>\n",
              "    <tr>\n",
              "      <th>min</th>\n",
              "      <td>1.000000</td>\n",
              "      <td>20.000000</td>\n",
              "      <td>1.000000</td>\n",
              "      <td>1.000000</td>\n",
              "      <td>0.000000</td>\n",
              "      <td>0.000000</td>\n",
              "      <td>39.000000</td>\n",
              "    </tr>\n",
              "    <tr>\n",
              "      <th>1%</th>\n",
              "      <td>1.000000</td>\n",
              "      <td>23.000000</td>\n",
              "      <td>1.000000</td>\n",
              "      <td>1.000000</td>\n",
              "      <td>0.000000</td>\n",
              "      <td>0.000000</td>\n",
              "      <td>44.000000</td>\n",
              "    </tr>\n",
              "    <tr>\n",
              "      <th>2.5%</th>\n",
              "      <td>1.000000</td>\n",
              "      <td>24.000000</td>\n",
              "      <td>1.000000</td>\n",
              "      <td>1.000000</td>\n",
              "      <td>0.000000</td>\n",
              "      <td>0.000000</td>\n",
              "      <td>46.000000</td>\n",
              "    </tr>\n",
              "    <tr>\n",
              "      <th>5%</th>\n",
              "      <td>1.000000</td>\n",
              "      <td>25.000000</td>\n",
              "      <td>1.000000</td>\n",
              "      <td>1.000000</td>\n",
              "      <td>0.000000</td>\n",
              "      <td>0.000000</td>\n",
              "      <td>47.000000</td>\n",
              "    </tr>\n",
              "    <tr>\n",
              "      <th>10%</th>\n",
              "      <td>1.000000</td>\n",
              "      <td>27.000000</td>\n",
              "      <td>1.000000</td>\n",
              "      <td>2.000000</td>\n",
              "      <td>0.000000</td>\n",
              "      <td>0.000000</td>\n",
              "      <td>48.000000</td>\n",
              "    </tr>\n",
              "    <tr>\n",
              "      <th>50%</th>\n",
              "      <td>1.000000</td>\n",
              "      <td>33.000000</td>\n",
              "      <td>3.000000</td>\n",
              "      <td>5.000000</td>\n",
              "      <td>0.000000</td>\n",
              "      <td>0.000000</td>\n",
              "      <td>60.000000</td>\n",
              "    </tr>\n",
              "    <tr>\n",
              "      <th>75%</th>\n",
              "      <td>1.000000</td>\n",
              "      <td>39.000000</td>\n",
              "      <td>4.000000</td>\n",
              "      <td>7.000000</td>\n",
              "      <td>1.000000</td>\n",
              "      <td>0.000000</td>\n",
              "      <td>76.000000</td>\n",
              "    </tr>\n",
              "    <tr>\n",
              "      <th>max</th>\n",
              "      <td>10.000000</td>\n",
              "      <td>60.000000</td>\n",
              "      <td>5.000000</td>\n",
              "      <td>37.000000</td>\n",
              "      <td>1.000000</td>\n",
              "      <td>1.000000</td>\n",
              "      <td>99.000000</td>\n",
              "    </tr>\n",
              "  </tbody>\n",
              "</table>\n",
              "</div>"
            ],
            "text/plain": [
              "       no_of_trainings           age  previous_year_rating  length_of_service  \\\n",
              "count     43846.000000  43846.000000          43846.000000       43846.000000   \n",
              "mean          1.251471     34.805934              3.308398           5.871482   \n",
              "std           0.609187      7.652666              1.214819           4.259109   \n",
              "min           1.000000     20.000000              1.000000           1.000000   \n",
              "1%            1.000000     23.000000              1.000000           1.000000   \n",
              "2.5%          1.000000     24.000000              1.000000           1.000000   \n",
              "5%            1.000000     25.000000              1.000000           1.000000   \n",
              "10%           1.000000     27.000000              1.000000           2.000000   \n",
              "50%           1.000000     33.000000              3.000000           5.000000   \n",
              "75%           1.000000     39.000000              4.000000           7.000000   \n",
              "max          10.000000     60.000000              5.000000          37.000000   \n",
              "\n",
              "       KPIs_met >80%   awards_won?  avg_training_score  \n",
              "count   43846.000000  43846.000000        43846.000000  \n",
              "mean        0.352894      0.023286           63.387150  \n",
              "std         0.477876      0.150812           13.374862  \n",
              "min         0.000000      0.000000           39.000000  \n",
              "1%          0.000000      0.000000           44.000000  \n",
              "2.5%        0.000000      0.000000           46.000000  \n",
              "5%          0.000000      0.000000           47.000000  \n",
              "10%         0.000000      0.000000           48.000000  \n",
              "50%         0.000000      0.000000           60.000000  \n",
              "75%         1.000000      0.000000           76.000000  \n",
              "max         1.000000      1.000000           99.000000  "
            ]
          },
          "metadata": {
            "tags": []
          },
          "execution_count": 108
        }
      ]
    },
    {
      "cell_type": "code",
      "metadata": {
        "id": "-zMFV5MJIQdz",
        "outputId": "a64bacc5-d0fb-49f5-c6f5-9b3061440bfd"
      },
      "source": [
        "### Ojo con las variables 'no_of_trainings', 'length_of_service' ###\n",
        "X_train_num_imputed.describe(percentiles = [0.5, 0.75, 0.9, 0.95, 0.975, 0.99, 0.999])"
      ],
      "execution_count": null,
      "outputs": [
        {
          "output_type": "execute_result",
          "data": {
            "text/html": [
              "<div>\n",
              "<style scoped>\n",
              "    .dataframe tbody tr th:only-of-type {\n",
              "        vertical-align: middle;\n",
              "    }\n",
              "\n",
              "    .dataframe tbody tr th {\n",
              "        vertical-align: top;\n",
              "    }\n",
              "\n",
              "    .dataframe thead th {\n",
              "        text-align: right;\n",
              "    }\n",
              "</style>\n",
              "<table border=\"1\" class=\"dataframe\">\n",
              "  <thead>\n",
              "    <tr style=\"text-align: right;\">\n",
              "      <th></th>\n",
              "      <th>no_of_trainings</th>\n",
              "      <th>age</th>\n",
              "      <th>previous_year_rating</th>\n",
              "      <th>length_of_service</th>\n",
              "      <th>KPIs_met &gt;80%</th>\n",
              "      <th>awards_won?</th>\n",
              "      <th>avg_training_score</th>\n",
              "    </tr>\n",
              "  </thead>\n",
              "  <tbody>\n",
              "    <tr>\n",
              "      <th>count</th>\n",
              "      <td>43846.000000</td>\n",
              "      <td>43846.000000</td>\n",
              "      <td>43846.000000</td>\n",
              "      <td>43846.000000</td>\n",
              "      <td>43846.000000</td>\n",
              "      <td>43846.000000</td>\n",
              "      <td>43846.000000</td>\n",
              "    </tr>\n",
              "    <tr>\n",
              "      <th>mean</th>\n",
              "      <td>1.251471</td>\n",
              "      <td>34.805934</td>\n",
              "      <td>3.308398</td>\n",
              "      <td>5.871482</td>\n",
              "      <td>0.352894</td>\n",
              "      <td>0.023286</td>\n",
              "      <td>63.387150</td>\n",
              "    </tr>\n",
              "    <tr>\n",
              "      <th>std</th>\n",
              "      <td>0.609187</td>\n",
              "      <td>7.652666</td>\n",
              "      <td>1.214819</td>\n",
              "      <td>4.259109</td>\n",
              "      <td>0.477876</td>\n",
              "      <td>0.150812</td>\n",
              "      <td>13.374862</td>\n",
              "    </tr>\n",
              "    <tr>\n",
              "      <th>min</th>\n",
              "      <td>1.000000</td>\n",
              "      <td>20.000000</td>\n",
              "      <td>1.000000</td>\n",
              "      <td>1.000000</td>\n",
              "      <td>0.000000</td>\n",
              "      <td>0.000000</td>\n",
              "      <td>39.000000</td>\n",
              "    </tr>\n",
              "    <tr>\n",
              "      <th>50%</th>\n",
              "      <td>1.000000</td>\n",
              "      <td>33.000000</td>\n",
              "      <td>3.000000</td>\n",
              "      <td>5.000000</td>\n",
              "      <td>0.000000</td>\n",
              "      <td>0.000000</td>\n",
              "      <td>60.000000</td>\n",
              "    </tr>\n",
              "    <tr>\n",
              "      <th>75%</th>\n",
              "      <td>1.000000</td>\n",
              "      <td>39.000000</td>\n",
              "      <td>4.000000</td>\n",
              "      <td>7.000000</td>\n",
              "      <td>1.000000</td>\n",
              "      <td>0.000000</td>\n",
              "      <td>76.000000</td>\n",
              "    </tr>\n",
              "    <tr>\n",
              "      <th>90%</th>\n",
              "      <td>2.000000</td>\n",
              "      <td>46.000000</td>\n",
              "      <td>5.000000</td>\n",
              "      <td>11.000000</td>\n",
              "      <td>1.000000</td>\n",
              "      <td>0.000000</td>\n",
              "      <td>83.000000</td>\n",
              "    </tr>\n",
              "    <tr>\n",
              "      <th>95%</th>\n",
              "      <td>2.000000</td>\n",
              "      <td>51.000000</td>\n",
              "      <td>5.000000</td>\n",
              "      <td>15.000000</td>\n",
              "      <td>1.000000</td>\n",
              "      <td>0.000000</td>\n",
              "      <td>86.000000</td>\n",
              "    </tr>\n",
              "    <tr>\n",
              "      <th>97.5%</th>\n",
              "      <td>3.000000</td>\n",
              "      <td>55.000000</td>\n",
              "      <td>5.000000</td>\n",
              "      <td>18.000000</td>\n",
              "      <td>1.000000</td>\n",
              "      <td>0.000000</td>\n",
              "      <td>88.000000</td>\n",
              "    </tr>\n",
              "    <tr>\n",
              "      <th>99%</th>\n",
              "      <td>4.000000</td>\n",
              "      <td>58.000000</td>\n",
              "      <td>5.000000</td>\n",
              "      <td>20.000000</td>\n",
              "      <td>1.000000</td>\n",
              "      <td>1.000000</td>\n",
              "      <td>91.000000</td>\n",
              "    </tr>\n",
              "    <tr>\n",
              "      <th>99.9%</th>\n",
              "      <td>6.000000</td>\n",
              "      <td>60.000000</td>\n",
              "      <td>5.000000</td>\n",
              "      <td>29.000000</td>\n",
              "      <td>1.000000</td>\n",
              "      <td>1.000000</td>\n",
              "      <td>98.000000</td>\n",
              "    </tr>\n",
              "    <tr>\n",
              "      <th>max</th>\n",
              "      <td>10.000000</td>\n",
              "      <td>60.000000</td>\n",
              "      <td>5.000000</td>\n",
              "      <td>37.000000</td>\n",
              "      <td>1.000000</td>\n",
              "      <td>1.000000</td>\n",
              "      <td>99.000000</td>\n",
              "    </tr>\n",
              "  </tbody>\n",
              "</table>\n",
              "</div>"
            ],
            "text/plain": [
              "       no_of_trainings           age  previous_year_rating  length_of_service  \\\n",
              "count     43846.000000  43846.000000          43846.000000       43846.000000   \n",
              "mean          1.251471     34.805934              3.308398           5.871482   \n",
              "std           0.609187      7.652666              1.214819           4.259109   \n",
              "min           1.000000     20.000000              1.000000           1.000000   \n",
              "50%           1.000000     33.000000              3.000000           5.000000   \n",
              "75%           1.000000     39.000000              4.000000           7.000000   \n",
              "90%           2.000000     46.000000              5.000000          11.000000   \n",
              "95%           2.000000     51.000000              5.000000          15.000000   \n",
              "97.5%         3.000000     55.000000              5.000000          18.000000   \n",
              "99%           4.000000     58.000000              5.000000          20.000000   \n",
              "99.9%         6.000000     60.000000              5.000000          29.000000   \n",
              "max          10.000000     60.000000              5.000000          37.000000   \n",
              "\n",
              "       KPIs_met >80%   awards_won?  avg_training_score  \n",
              "count   43846.000000  43846.000000        43846.000000  \n",
              "mean        0.352894      0.023286           63.387150  \n",
              "std         0.477876      0.150812           13.374862  \n",
              "min         0.000000      0.000000           39.000000  \n",
              "50%         0.000000      0.000000           60.000000  \n",
              "75%         1.000000      0.000000           76.000000  \n",
              "90%         1.000000      0.000000           83.000000  \n",
              "95%         1.000000      0.000000           86.000000  \n",
              "97.5%       1.000000      0.000000           88.000000  \n",
              "99%         1.000000      1.000000           91.000000  \n",
              "99.9%       1.000000      1.000000           98.000000  \n",
              "max         1.000000      1.000000           99.000000  "
            ]
          },
          "metadata": {
            "tags": []
          },
          "execution_count": 116
        }
      ]
    },
    {
      "cell_type": "code",
      "metadata": {
        "id": "j_CPIk5lIQd0",
        "outputId": "f97d30e7-47b8-4346-9113-f583a5bd277d"
      },
      "source": [
        "sns.histplot(np.log(X_train_num_imputed['no_of_trainings']))"
      ],
      "execution_count": null,
      "outputs": [
        {
          "output_type": "execute_result",
          "data": {
            "text/plain": [
              "<AxesSubplot:xlabel='no_of_trainings', ylabel='Count'>"
            ]
          },
          "metadata": {
            "tags": []
          },
          "execution_count": 118
        },
        {
          "output_type": "display_data",
          "data": {
            "image/png": "[encoded data removed]",
            "text/plain": [
              "<Figure size 432x288 with 1 Axes>"
            ]
          },
          "metadata": {
            "tags": [],
            "needs_background": "light"
          }
        }
      ]
    },
    {
      "cell_type": "code",
      "metadata": {
        "id": "Cuo-3MWOIQd0",
        "outputId": "3fef9c2d-642f-4ac0-88fa-11abd2405df6"
      },
      "source": [
        "sns.histplot(np.log(X_train_num_imputed['length_of_service']))"
      ],
      "execution_count": null,
      "outputs": [
        {
          "output_type": "execute_result",
          "data": {
            "text/plain": [
              "<AxesSubplot:xlabel='length_of_service', ylabel='Count'>"
            ]
          },
          "metadata": {
            "tags": []
          },
          "execution_count": 119
        },
        {
          "output_type": "display_data",
          "data": {
            "image/png": "[encoded data removed]",
            "text/plain": [
              "<Figure size 432x288 with 1 Axes>"
            ]
          },
          "metadata": {
            "tags": [],
            "needs_background": "light"
          }
        }
      ]
    },
    {
      "cell_type": "code",
      "metadata": {
        "id": "Q1wX-YTIIQd0"
      },
      "source": [
        "\n",
        "p99 = np.percentile(X_train_num_imputed['no_of_trainings'], 99)\n",
        "p999 = np.percentile(X_train_num_imputed['length_of_service'], 99.9)"
      ],
      "execution_count": null,
      "outputs": []
    },
    {
      "cell_type": "code",
      "metadata": {
        "id": "Q0Q42HUzIQd0",
        "outputId": "6f44a18d-fcac-4a29-8c34-f76b6f0feee9"
      },
      "source": [
        "print(p99)\n",
        "print(p999)"
      ],
      "execution_count": null,
      "outputs": [
        {
          "output_type": "stream",
          "text": [
            "4.0\n",
            "29.0\n"
          ],
          "name": "stdout"
        }
      ]
    },
    {
      "cell_type": "code",
      "metadata": {
        "id": "Zvz2usrKIQd1",
        "outputId": "72bd09af-8d3a-47ab-8150-db4c6cfda79c"
      },
      "source": [
        "sns.histplot(data = X_train_num_imputed, x = 'no_of_trainings')"
      ],
      "execution_count": null,
      "outputs": [
        {
          "output_type": "execute_result",
          "data": {
            "text/plain": [
              "<AxesSubplot:xlabel='no_of_trainings', ylabel='Count'>"
            ]
          },
          "metadata": {
            "tags": []
          },
          "execution_count": 124
        },
        {
          "output_type": "display_data",
          "data": {
            "image/png": "[encoded data removed]",
            "text/plain": [
              "<Figure size 432x288 with 1 Axes>"
            ]
          },
          "metadata": {
            "tags": [],
            "needs_background": "light"
          }
        }
      ]
    },
    {
      "cell_type": "markdown",
      "metadata": {
        "id": "-mBIfw09IQd1"
      },
      "source": [
        "`np.clip`"
      ]
    },
    {
      "cell_type": "code",
      "metadata": {
        "id": "y0GYMeqZIQd1"
      },
      "source": [
        "X_train_num_imputed['no_of_trainings'] = np.clip(X_train_num_imputed['no_of_trainings'], None, p99)\n",
        "X_train_num_imputed['length_of_service'] = np.clip(X_train_num_imputed['length_of_service'], None, p999)"
      ],
      "execution_count": null,
      "outputs": []
    },
    {
      "cell_type": "markdown",
      "metadata": {
        "id": "wBSX8A0oIQd1"
      },
      "source": [
        "Cambios en la distribución"
      ]
    },
    {
      "cell_type": "code",
      "metadata": {
        "id": "ZEgUJpQHIQd1",
        "outputId": "178e093e-8bb3-4625-9749-0e05c5205866"
      },
      "source": [
        "sns.histplot(data = X_train_num_imputed, x = 'no_of_trainings')"
      ],
      "execution_count": null,
      "outputs": [
        {
          "output_type": "execute_result",
          "data": {
            "text/plain": [
              "<AxesSubplot:xlabel='no_of_trainings', ylabel='Count'>"
            ]
          },
          "metadata": {
            "tags": []
          },
          "execution_count": 126
        },
        {
          "output_type": "display_data",
          "data": {
            "image/png": "[encoded data removed]",
            "text/plain": [
              "<Figure size 432x288 with 1 Axes>"
            ]
          },
          "metadata": {
            "tags": [],
            "needs_background": "light"
          }
        }
      ]
    },
    {
      "cell_type": "code",
      "metadata": {
        "id": "U7x6DONhIQd2",
        "outputId": "1ea93573-789c-4c16-ee70-30c6800a2bd6"
      },
      "source": [
        "sns.histplot(data = X_train_num_imputed, x = 'length_of_service')"
      ],
      "execution_count": null,
      "outputs": [
        {
          "output_type": "execute_result",
          "data": {
            "text/plain": [
              "<AxesSubplot:xlabel='length_of_service', ylabel='Count'>"
            ]
          },
          "metadata": {
            "tags": []
          },
          "execution_count": 127
        },
        {
          "output_type": "display_data",
          "data": {
            "image/png": "[encoded data removed]",
            "text/plain": [
              "<Figure size 432x288 with 1 Axes>"
            ]
          },
          "metadata": {
            "tags": [],
            "needs_background": "light"
          }
        }
      ]
    },
    {
      "cell_type": "code",
      "metadata": {
        "id": "SrXDqRXcIQd2"
      },
      "source": [
        "X_train_num_imputed['length_of_service'] = np.log(X_train_num_imputed['length_of_service'])"
      ],
      "execution_count": null,
      "outputs": []
    },
    {
      "cell_type": "code",
      "metadata": {
        "id": "oEMltVpKIQd2",
        "outputId": "8396eda8-b1f3-4657-b60d-3357acc1b51b"
      },
      "source": [
        "X_train_num_imputed.describe(percentiles = [0.5, 0.75, 0.9, 0.95, 0.975, 0.99])"
      ],
      "execution_count": null,
      "outputs": [
        {
          "output_type": "execute_result",
          "data": {
            "text/html": [
              "<div>\n",
              "<style scoped>\n",
              "    .dataframe tbody tr th:only-of-type {\n",
              "        vertical-align: middle;\n",
              "    }\n",
              "\n",
              "    .dataframe tbody tr th {\n",
              "        vertical-align: top;\n",
              "    }\n",
              "\n",
              "    .dataframe thead th {\n",
              "        text-align: right;\n",
              "    }\n",
              "</style>\n",
              "<table border=\"1\" class=\"dataframe\">\n",
              "  <thead>\n",
              "    <tr style=\"text-align: right;\">\n",
              "      <th></th>\n",
              "      <th>no_of_trainings</th>\n",
              "      <th>age</th>\n",
              "      <th>previous_year_rating</th>\n",
              "      <th>length_of_service</th>\n",
              "      <th>KPIs_met &gt;80%</th>\n",
              "      <th>awards_won?</th>\n",
              "      <th>avg_training_score</th>\n",
              "    </tr>\n",
              "  </thead>\n",
              "  <tbody>\n",
              "    <tr>\n",
              "      <th>count</th>\n",
              "      <td>43846.000000</td>\n",
              "      <td>43846.000000</td>\n",
              "      <td>43846.000000</td>\n",
              "      <td>43846.000000</td>\n",
              "      <td>43846.000000</td>\n",
              "      <td>43846.000000</td>\n",
              "      <td>43846.000000</td>\n",
              "    </tr>\n",
              "    <tr>\n",
              "      <th>mean</th>\n",
              "      <td>1.245382</td>\n",
              "      <td>34.805934</td>\n",
              "      <td>3.308398</td>\n",
              "      <td>1.519802</td>\n",
              "      <td>0.352894</td>\n",
              "      <td>0.023286</td>\n",
              "      <td>63.387150</td>\n",
              "    </tr>\n",
              "    <tr>\n",
              "      <th>std</th>\n",
              "      <td>0.567709</td>\n",
              "      <td>7.652666</td>\n",
              "      <td>1.214819</td>\n",
              "      <td>0.736318</td>\n",
              "      <td>0.477876</td>\n",
              "      <td>0.150812</td>\n",
              "      <td>13.374862</td>\n",
              "    </tr>\n",
              "    <tr>\n",
              "      <th>min</th>\n",
              "      <td>1.000000</td>\n",
              "      <td>20.000000</td>\n",
              "      <td>1.000000</td>\n",
              "      <td>0.000000</td>\n",
              "      <td>0.000000</td>\n",
              "      <td>0.000000</td>\n",
              "      <td>39.000000</td>\n",
              "    </tr>\n",
              "    <tr>\n",
              "      <th>50%</th>\n",
              "      <td>1.000000</td>\n",
              "      <td>33.000000</td>\n",
              "      <td>3.000000</td>\n",
              "      <td>1.609438</td>\n",
              "      <td>0.000000</td>\n",
              "      <td>0.000000</td>\n",
              "      <td>60.000000</td>\n",
              "    </tr>\n",
              "    <tr>\n",
              "      <th>75%</th>\n",
              "      <td>1.000000</td>\n",
              "      <td>39.000000</td>\n",
              "      <td>4.000000</td>\n",
              "      <td>1.945910</td>\n",
              "      <td>1.000000</td>\n",
              "      <td>0.000000</td>\n",
              "      <td>76.000000</td>\n",
              "    </tr>\n",
              "    <tr>\n",
              "      <th>90%</th>\n",
              "      <td>2.000000</td>\n",
              "      <td>46.000000</td>\n",
              "      <td>5.000000</td>\n",
              "      <td>2.397895</td>\n",
              "      <td>1.000000</td>\n",
              "      <td>0.000000</td>\n",
              "      <td>83.000000</td>\n",
              "    </tr>\n",
              "    <tr>\n",
              "      <th>95%</th>\n",
              "      <td>2.000000</td>\n",
              "      <td>51.000000</td>\n",
              "      <td>5.000000</td>\n",
              "      <td>2.708050</td>\n",
              "      <td>1.000000</td>\n",
              "      <td>0.000000</td>\n",
              "      <td>86.000000</td>\n",
              "    </tr>\n",
              "    <tr>\n",
              "      <th>97.5%</th>\n",
              "      <td>3.000000</td>\n",
              "      <td>55.000000</td>\n",
              "      <td>5.000000</td>\n",
              "      <td>2.890372</td>\n",
              "      <td>1.000000</td>\n",
              "      <td>0.000000</td>\n",
              "      <td>88.000000</td>\n",
              "    </tr>\n",
              "    <tr>\n",
              "      <th>99%</th>\n",
              "      <td>4.000000</td>\n",
              "      <td>58.000000</td>\n",
              "      <td>5.000000</td>\n",
              "      <td>2.995732</td>\n",
              "      <td>1.000000</td>\n",
              "      <td>1.000000</td>\n",
              "      <td>91.000000</td>\n",
              "    </tr>\n",
              "    <tr>\n",
              "      <th>max</th>\n",
              "      <td>4.000000</td>\n",
              "      <td>60.000000</td>\n",
              "      <td>5.000000</td>\n",
              "      <td>3.367296</td>\n",
              "      <td>1.000000</td>\n",
              "      <td>1.000000</td>\n",
              "      <td>99.000000</td>\n",
              "    </tr>\n",
              "  </tbody>\n",
              "</table>\n",
              "</div>"
            ],
            "text/plain": [
              "       no_of_trainings           age  previous_year_rating  length_of_service  \\\n",
              "count     43846.000000  43846.000000          43846.000000       43846.000000   \n",
              "mean          1.245382     34.805934              3.308398           1.519802   \n",
              "std           0.567709      7.652666              1.214819           0.736318   \n",
              "min           1.000000     20.000000              1.000000           0.000000   \n",
              "50%           1.000000     33.000000              3.000000           1.609438   \n",
              "75%           1.000000     39.000000              4.000000           1.945910   \n",
              "90%           2.000000     46.000000              5.000000           2.397895   \n",
              "95%           2.000000     51.000000              5.000000           2.708050   \n",
              "97.5%         3.000000     55.000000              5.000000           2.890372   \n",
              "99%           4.000000     58.000000              5.000000           2.995732   \n",
              "max           4.000000     60.000000              5.000000           3.367296   \n",
              "\n",
              "       KPIs_met >80%   awards_won?  avg_training_score  \n",
              "count   43846.000000  43846.000000        43846.000000  \n",
              "mean        0.352894      0.023286           63.387150  \n",
              "std         0.477876      0.150812           13.374862  \n",
              "min         0.000000      0.000000           39.000000  \n",
              "50%         0.000000      0.000000           60.000000  \n",
              "75%         1.000000      0.000000           76.000000  \n",
              "90%         1.000000      0.000000           83.000000  \n",
              "95%         1.000000      0.000000           86.000000  \n",
              "97.5%       1.000000      0.000000           88.000000  \n",
              "99%         1.000000      1.000000           91.000000  \n",
              "max         1.000000      1.000000           99.000000  "
            ]
          },
          "metadata": {
            "tags": []
          },
          "execution_count": 129
        }
      ]
    },
    {
      "cell_type": "markdown",
      "metadata": {
        "id": "ejG-7wWrIQd3"
      },
      "source": [
        "## Consolidación"
      ]
    },
    {
      "cell_type": "code",
      "metadata": {
        "id": "FYrnJEBGIQd3",
        "outputId": "33a868af-b77a-46ee-fd52-6d4235866064"
      },
      "source": [
        "X_train_cat_dummies.head(2)"
      ],
      "execution_count": null,
      "outputs": [
        {
          "output_type": "execute_result",
          "data": {
            "text/html": [
              "<div>\n",
              "<style scoped>\n",
              "    .dataframe tbody tr th:only-of-type {\n",
              "        vertical-align: middle;\n",
              "    }\n",
              "\n",
              "    .dataframe tbody tr th {\n",
              "        vertical-align: top;\n",
              "    }\n",
              "\n",
              "    .dataframe thead th {\n",
              "        text-align: right;\n",
              "    }\n",
              "</style>\n",
              "<table border=\"1\" class=\"dataframe\">\n",
              "  <thead>\n",
              "    <tr style=\"text-align: right;\">\n",
              "      <th></th>\n",
              "      <th>department_Finance</th>\n",
              "      <th>department_HR</th>\n",
              "      <th>department_Legal</th>\n",
              "      <th>department_Operations</th>\n",
              "      <th>department_Procurement</th>\n",
              "      <th>department_R&amp;D</th>\n",
              "      <th>department_Sales &amp; Marketing</th>\n",
              "      <th>department_Technology</th>\n",
              "      <th>region_region_10</th>\n",
              "      <th>region_region_11</th>\n",
              "      <th>...</th>\n",
              "      <th>region_region_5</th>\n",
              "      <th>region_region_6</th>\n",
              "      <th>region_region_7</th>\n",
              "      <th>region_region_8</th>\n",
              "      <th>region_region_9</th>\n",
              "      <th>education_Below Secondary</th>\n",
              "      <th>education_Master's &amp; above</th>\n",
              "      <th>gender_m</th>\n",
              "      <th>recruitment_channel_referred</th>\n",
              "      <th>recruitment_channel_sourcing</th>\n",
              "    </tr>\n",
              "  </thead>\n",
              "  <tbody>\n",
              "    <tr>\n",
              "      <th>0</th>\n",
              "      <td>0</td>\n",
              "      <td>0</td>\n",
              "      <td>0</td>\n",
              "      <td>0</td>\n",
              "      <td>0</td>\n",
              "      <td>0</td>\n",
              "      <td>1</td>\n",
              "      <td>0</td>\n",
              "      <td>0</td>\n",
              "      <td>0</td>\n",
              "      <td>...</td>\n",
              "      <td>0</td>\n",
              "      <td>1</td>\n",
              "      <td>0</td>\n",
              "      <td>0</td>\n",
              "      <td>0</td>\n",
              "      <td>0</td>\n",
              "      <td>0</td>\n",
              "      <td>1</td>\n",
              "      <td>0</td>\n",
              "      <td>0</td>\n",
              "    </tr>\n",
              "    <tr>\n",
              "      <th>1</th>\n",
              "      <td>0</td>\n",
              "      <td>0</td>\n",
              "      <td>0</td>\n",
              "      <td>0</td>\n",
              "      <td>0</td>\n",
              "      <td>0</td>\n",
              "      <td>0</td>\n",
              "      <td>1</td>\n",
              "      <td>0</td>\n",
              "      <td>0</td>\n",
              "      <td>...</td>\n",
              "      <td>0</td>\n",
              "      <td>0</td>\n",
              "      <td>1</td>\n",
              "      <td>0</td>\n",
              "      <td>0</td>\n",
              "      <td>0</td>\n",
              "      <td>0</td>\n",
              "      <td>1</td>\n",
              "      <td>0</td>\n",
              "      <td>0</td>\n",
              "    </tr>\n",
              "  </tbody>\n",
              "</table>\n",
              "<p>2 rows × 46 columns</p>\n",
              "</div>"
            ],
            "text/plain": [
              "   department_Finance  department_HR  department_Legal  department_Operations  \\\n",
              "0                   0              0                 0                      0   \n",
              "1                   0              0                 0                      0   \n",
              "\n",
              "   department_Procurement  department_R&D  department_Sales & Marketing  \\\n",
              "0                       0               0                             1   \n",
              "1                       0               0                             0   \n",
              "\n",
              "   department_Technology  region_region_10  region_region_11  ...  \\\n",
              "0                      0                 0                 0  ...   \n",
              "1                      1                 0                 0  ...   \n",
              "\n",
              "   region_region_5  region_region_6  region_region_7  region_region_8  \\\n",
              "0                0                1                0                0   \n",
              "1                0                0                1                0   \n",
              "\n",
              "   region_region_9  education_Below Secondary  education_Master's & above  \\\n",
              "0                0                          0                           0   \n",
              "1                0                          0                           0   \n",
              "\n",
              "   gender_m  recruitment_channel_referred  recruitment_channel_sourcing  \n",
              "0         1                             0                             0  \n",
              "1         1                             0                             0  \n",
              "\n",
              "[2 rows x 46 columns]"
            ]
          },
          "metadata": {
            "tags": []
          },
          "execution_count": 130
        }
      ]
    },
    {
      "cell_type": "code",
      "metadata": {
        "id": "2rAD5lP4IQd3",
        "outputId": "857d44eb-b258-46fe-d80b-5d604a649023"
      },
      "source": [
        "X_train_num_imputed.head()"
      ],
      "execution_count": null,
      "outputs": [
        {
          "output_type": "execute_result",
          "data": {
            "text/html": [
              "<div>\n",
              "<style scoped>\n",
              "    .dataframe tbody tr th:only-of-type {\n",
              "        vertical-align: middle;\n",
              "    }\n",
              "\n",
              "    .dataframe tbody tr th {\n",
              "        vertical-align: top;\n",
              "    }\n",
              "\n",
              "    .dataframe thead th {\n",
              "        text-align: right;\n",
              "    }\n",
              "</style>\n",
              "<table border=\"1\" class=\"dataframe\">\n",
              "  <thead>\n",
              "    <tr style=\"text-align: right;\">\n",
              "      <th></th>\n",
              "      <th>no_of_trainings</th>\n",
              "      <th>age</th>\n",
              "      <th>previous_year_rating</th>\n",
              "      <th>length_of_service</th>\n",
              "      <th>KPIs_met &gt;80%</th>\n",
              "      <th>awards_won?</th>\n",
              "      <th>avg_training_score</th>\n",
              "    </tr>\n",
              "  </thead>\n",
              "  <tbody>\n",
              "    <tr>\n",
              "      <th>0</th>\n",
              "      <td>1.0</td>\n",
              "      <td>31.0</td>\n",
              "      <td>3.0</td>\n",
              "      <td>1.386294</td>\n",
              "      <td>0.0</td>\n",
              "      <td>0.0</td>\n",
              "      <td>50.0</td>\n",
              "    </tr>\n",
              "    <tr>\n",
              "      <th>1</th>\n",
              "      <td>1.0</td>\n",
              "      <td>26.0</td>\n",
              "      <td>2.0</td>\n",
              "      <td>1.791759</td>\n",
              "      <td>0.0</td>\n",
              "      <td>0.0</td>\n",
              "      <td>77.0</td>\n",
              "    </tr>\n",
              "    <tr>\n",
              "      <th>2</th>\n",
              "      <td>2.0</td>\n",
              "      <td>28.0</td>\n",
              "      <td>5.0</td>\n",
              "      <td>1.098612</td>\n",
              "      <td>0.0</td>\n",
              "      <td>0.0</td>\n",
              "      <td>82.0</td>\n",
              "    </tr>\n",
              "    <tr>\n",
              "      <th>3</th>\n",
              "      <td>2.0</td>\n",
              "      <td>29.0</td>\n",
              "      <td>2.0</td>\n",
              "      <td>1.609438</td>\n",
              "      <td>0.0</td>\n",
              "      <td>0.0</td>\n",
              "      <td>58.0</td>\n",
              "    </tr>\n",
              "    <tr>\n",
              "      <th>4</th>\n",
              "      <td>1.0</td>\n",
              "      <td>48.0</td>\n",
              "      <td>1.0</td>\n",
              "      <td>2.890372</td>\n",
              "      <td>0.0</td>\n",
              "      <td>0.0</td>\n",
              "      <td>80.0</td>\n",
              "    </tr>\n",
              "  </tbody>\n",
              "</table>\n",
              "</div>"
            ],
            "text/plain": [
              "   no_of_trainings   age  previous_year_rating  length_of_service  \\\n",
              "0              1.0  31.0                   3.0           1.386294   \n",
              "1              1.0  26.0                   2.0           1.791759   \n",
              "2              2.0  28.0                   5.0           1.098612   \n",
              "3              2.0  29.0                   2.0           1.609438   \n",
              "4              1.0  48.0                   1.0           2.890372   \n",
              "\n",
              "   KPIs_met >80%  awards_won?  avg_training_score  \n",
              "0            0.0          0.0                50.0  \n",
              "1            0.0          0.0                77.0  \n",
              "2            0.0          0.0                82.0  \n",
              "3            0.0          0.0                58.0  \n",
              "4            0.0          0.0                80.0  "
            ]
          },
          "metadata": {
            "tags": []
          },
          "execution_count": 131
        }
      ]
    },
    {
      "cell_type": "code",
      "metadata": {
        "id": "8kxnXiKwIQd3",
        "outputId": "b83149bb-059d-42c7-a847-7e602580bfa7"
      },
      "source": [
        "X_train_cat_dummies.shape"
      ],
      "execution_count": null,
      "outputs": [
        {
          "output_type": "execute_result",
          "data": {
            "text/plain": [
              "(43846, 46)"
            ]
          },
          "metadata": {
            "tags": []
          },
          "execution_count": 132
        }
      ]
    },
    {
      "cell_type": "code",
      "metadata": {
        "id": "-Dj9QjVAIQd4",
        "outputId": "b8306960-e069-45ed-ed1b-f616e0002f94"
      },
      "source": [
        "X_train_num_imputed.shape"
      ],
      "execution_count": null,
      "outputs": [
        {
          "output_type": "execute_result",
          "data": {
            "text/plain": [
              "(43846, 7)"
            ]
          },
          "metadata": {
            "tags": []
          },
          "execution_count": 133
        }
      ]
    },
    {
      "cell_type": "markdown",
      "metadata": {
        "id": "CYq38Eg7IQd4"
      },
      "source": [
        "`pd.concat`"
      ]
    },
    {
      "cell_type": "code",
      "metadata": {
        "id": "JQrCf5Y6IQd4",
        "outputId": "297d1966-8c65-4342-cb9d-3d1ef1520c48"
      },
      "source": [
        "X_train_total = pd.concat([X_train_num_imputed, X_train_cat_dummies], axis = 1)\n",
        "X_train_total.head(2)"
      ],
      "execution_count": null,
      "outputs": [
        {
          "output_type": "execute_result",
          "data": {
            "text/html": [
              "<div>\n",
              "<style scoped>\n",
              "    .dataframe tbody tr th:only-of-type {\n",
              "        vertical-align: middle;\n",
              "    }\n",
              "\n",
              "    .dataframe tbody tr th {\n",
              "        vertical-align: top;\n",
              "    }\n",
              "\n",
              "    .dataframe thead th {\n",
              "        text-align: right;\n",
              "    }\n",
              "</style>\n",
              "<table border=\"1\" class=\"dataframe\">\n",
              "  <thead>\n",
              "    <tr style=\"text-align: right;\">\n",
              "      <th></th>\n",
              "      <th>no_of_trainings</th>\n",
              "      <th>age</th>\n",
              "      <th>previous_year_rating</th>\n",
              "      <th>length_of_service</th>\n",
              "      <th>KPIs_met &gt;80%</th>\n",
              "      <th>awards_won?</th>\n",
              "      <th>avg_training_score</th>\n",
              "      <th>department_Finance</th>\n",
              "      <th>department_HR</th>\n",
              "      <th>department_Legal</th>\n",
              "      <th>...</th>\n",
              "      <th>region_region_5</th>\n",
              "      <th>region_region_6</th>\n",
              "      <th>region_region_7</th>\n",
              "      <th>region_region_8</th>\n",
              "      <th>region_region_9</th>\n",
              "      <th>education_Below Secondary</th>\n",
              "      <th>education_Master's &amp; above</th>\n",
              "      <th>gender_m</th>\n",
              "      <th>recruitment_channel_referred</th>\n",
              "      <th>recruitment_channel_sourcing</th>\n",
              "    </tr>\n",
              "  </thead>\n",
              "  <tbody>\n",
              "    <tr>\n",
              "      <th>0</th>\n",
              "      <td>1.0</td>\n",
              "      <td>31.0</td>\n",
              "      <td>3.0</td>\n",
              "      <td>1.386294</td>\n",
              "      <td>0.0</td>\n",
              "      <td>0.0</td>\n",
              "      <td>50.0</td>\n",
              "      <td>0</td>\n",
              "      <td>0</td>\n",
              "      <td>0</td>\n",
              "      <td>...</td>\n",
              "      <td>0</td>\n",
              "      <td>1</td>\n",
              "      <td>0</td>\n",
              "      <td>0</td>\n",
              "      <td>0</td>\n",
              "      <td>0</td>\n",
              "      <td>0</td>\n",
              "      <td>1</td>\n",
              "      <td>0</td>\n",
              "      <td>0</td>\n",
              "    </tr>\n",
              "    <tr>\n",
              "      <th>1</th>\n",
              "      <td>1.0</td>\n",
              "      <td>26.0</td>\n",
              "      <td>2.0</td>\n",
              "      <td>1.791759</td>\n",
              "      <td>0.0</td>\n",
              "      <td>0.0</td>\n",
              "      <td>77.0</td>\n",
              "      <td>0</td>\n",
              "      <td>0</td>\n",
              "      <td>0</td>\n",
              "      <td>...</td>\n",
              "      <td>0</td>\n",
              "      <td>0</td>\n",
              "      <td>1</td>\n",
              "      <td>0</td>\n",
              "      <td>0</td>\n",
              "      <td>0</td>\n",
              "      <td>0</td>\n",
              "      <td>1</td>\n",
              "      <td>0</td>\n",
              "      <td>0</td>\n",
              "    </tr>\n",
              "  </tbody>\n",
              "</table>\n",
              "<p>2 rows × 53 columns</p>\n",
              "</div>"
            ],
            "text/plain": [
              "   no_of_trainings   age  previous_year_rating  length_of_service  \\\n",
              "0              1.0  31.0                   3.0           1.386294   \n",
              "1              1.0  26.0                   2.0           1.791759   \n",
              "\n",
              "   KPIs_met >80%  awards_won?  avg_training_score  department_Finance  \\\n",
              "0            0.0          0.0                50.0                   0   \n",
              "1            0.0          0.0                77.0                   0   \n",
              "\n",
              "   department_HR  department_Legal  ...  region_region_5  region_region_6  \\\n",
              "0              0                 0  ...                0                1   \n",
              "1              0                 0  ...                0                0   \n",
              "\n",
              "   region_region_7  region_region_8  region_region_9  \\\n",
              "0                0                0                0   \n",
              "1                1                0                0   \n",
              "\n",
              "   education_Below Secondary  education_Master's & above  gender_m  \\\n",
              "0                          0                           0         1   \n",
              "1                          0                           0         1   \n",
              "\n",
              "   recruitment_channel_referred  recruitment_channel_sourcing  \n",
              "0                             0                             0  \n",
              "1                             0                             0  \n",
              "\n",
              "[2 rows x 53 columns]"
            ]
          },
          "metadata": {
            "tags": []
          },
          "execution_count": 134
        }
      ]
    },
    {
      "cell_type": "markdown",
      "metadata": {
        "id": "gCBGRLq1IQd5"
      },
      "source": [
        "Verificación nulos"
      ]
    },
    {
      "cell_type": "code",
      "metadata": {
        "id": "0X-qmbVyIQd5",
        "outputId": "cf64ab24-bb59-4a98-c6e9-cc4899903030"
      },
      "source": [
        "X_train_total.isnull().sum()"
      ],
      "execution_count": null,
      "outputs": [
        {
          "output_type": "execute_result",
          "data": {
            "text/plain": [
              "no_of_trainings                 0\n",
              "age                             0\n",
              "previous_year_rating            0\n",
              "length_of_service               0\n",
              "KPIs_met >80%                   0\n",
              "awards_won?                     0\n",
              "avg_training_score              0\n",
              "department_Finance              0\n",
              "department_HR                   0\n",
              "department_Legal                0\n",
              "department_Operations           0\n",
              "department_Procurement          0\n",
              "department_R&D                  0\n",
              "department_Sales & Marketing    0\n",
              "department_Technology           0\n",
              "region_region_10                0\n",
              "region_region_11                0\n",
              "region_region_12                0\n",
              "region_region_13                0\n",
              "region_region_14                0\n",
              "region_region_15                0\n",
              "region_region_16                0\n",
              "region_region_17                0\n",
              "region_region_18                0\n",
              "region_region_19                0\n",
              "region_region_2                 0\n",
              "region_region_20                0\n",
              "region_region_21                0\n",
              "region_region_22                0\n",
              "region_region_23                0\n",
              "region_region_24                0\n",
              "region_region_25                0\n",
              "region_region_26                0\n",
              "region_region_27                0\n",
              "region_region_28                0\n",
              "region_region_29                0\n",
              "region_region_3                 0\n",
              "region_region_30                0\n",
              "region_region_31                0\n",
              "region_region_32                0\n",
              "region_region_33                0\n",
              "region_region_34                0\n",
              "region_region_4                 0\n",
              "region_region_5                 0\n",
              "region_region_6                 0\n",
              "region_region_7                 0\n",
              "region_region_8                 0\n",
              "region_region_9                 0\n",
              "education_Below Secondary       0\n",
              "education_Master's & above      0\n",
              "gender_m                        0\n",
              "recruitment_channel_referred    0\n",
              "recruitment_channel_sourcing    0\n",
              "dtype: int64"
            ]
          },
          "metadata": {
            "tags": []
          },
          "execution_count": 135
        }
      ]
    },
    {
      "cell_type": "code",
      "metadata": {
        "id": "HGpJpgEtIQd5"
      },
      "source": [
        ""
      ],
      "execution_count": null,
      "outputs": []
    },
    {
      "cell_type": "markdown",
      "metadata": {
        "id": "doe7xIoSIQd5"
      },
      "source": [
        "##  Creación de nuevas variables"
      ]
    },
    {
      "cell_type": "code",
      "metadata": {
        "id": "eI7Cj_lfIQd6",
        "outputId": "c00296bc-7f2a-483b-d82a-2c4f44aff39b"
      },
      "source": [
        "X_train_total.head(2)"
      ],
      "execution_count": null,
      "outputs": [
        {
          "output_type": "execute_result",
          "data": {
            "text/html": [
              "<div>\n",
              "<style scoped>\n",
              "    .dataframe tbody tr th:only-of-type {\n",
              "        vertical-align: middle;\n",
              "    }\n",
              "\n",
              "    .dataframe tbody tr th {\n",
              "        vertical-align: top;\n",
              "    }\n",
              "\n",
              "    .dataframe thead th {\n",
              "        text-align: right;\n",
              "    }\n",
              "</style>\n",
              "<table border=\"1\" class=\"dataframe\">\n",
              "  <thead>\n",
              "    <tr style=\"text-align: right;\">\n",
              "      <th></th>\n",
              "      <th>no_of_trainings</th>\n",
              "      <th>age</th>\n",
              "      <th>previous_year_rating</th>\n",
              "      <th>length_of_service</th>\n",
              "      <th>KPIs_met &gt;80%</th>\n",
              "      <th>awards_won?</th>\n",
              "      <th>avg_training_score</th>\n",
              "      <th>department_Finance</th>\n",
              "      <th>department_HR</th>\n",
              "      <th>department_Legal</th>\n",
              "      <th>...</th>\n",
              "      <th>region_region_5</th>\n",
              "      <th>region_region_6</th>\n",
              "      <th>region_region_7</th>\n",
              "      <th>region_region_8</th>\n",
              "      <th>region_region_9</th>\n",
              "      <th>education_Below Secondary</th>\n",
              "      <th>education_Master's &amp; above</th>\n",
              "      <th>gender_m</th>\n",
              "      <th>recruitment_channel_referred</th>\n",
              "      <th>recruitment_channel_sourcing</th>\n",
              "    </tr>\n",
              "  </thead>\n",
              "  <tbody>\n",
              "    <tr>\n",
              "      <th>0</th>\n",
              "      <td>1.0</td>\n",
              "      <td>31.0</td>\n",
              "      <td>3.0</td>\n",
              "      <td>1.386294</td>\n",
              "      <td>0.0</td>\n",
              "      <td>0.0</td>\n",
              "      <td>50.0</td>\n",
              "      <td>0</td>\n",
              "      <td>0</td>\n",
              "      <td>0</td>\n",
              "      <td>...</td>\n",
              "      <td>0</td>\n",
              "      <td>1</td>\n",
              "      <td>0</td>\n",
              "      <td>0</td>\n",
              "      <td>0</td>\n",
              "      <td>0</td>\n",
              "      <td>0</td>\n",
              "      <td>1</td>\n",
              "      <td>0</td>\n",
              "      <td>0</td>\n",
              "    </tr>\n",
              "    <tr>\n",
              "      <th>1</th>\n",
              "      <td>1.0</td>\n",
              "      <td>26.0</td>\n",
              "      <td>2.0</td>\n",
              "      <td>1.791759</td>\n",
              "      <td>0.0</td>\n",
              "      <td>0.0</td>\n",
              "      <td>77.0</td>\n",
              "      <td>0</td>\n",
              "      <td>0</td>\n",
              "      <td>0</td>\n",
              "      <td>...</td>\n",
              "      <td>0</td>\n",
              "      <td>0</td>\n",
              "      <td>1</td>\n",
              "      <td>0</td>\n",
              "      <td>0</td>\n",
              "      <td>0</td>\n",
              "      <td>0</td>\n",
              "      <td>1</td>\n",
              "      <td>0</td>\n",
              "      <td>0</td>\n",
              "    </tr>\n",
              "  </tbody>\n",
              "</table>\n",
              "<p>2 rows × 53 columns</p>\n",
              "</div>"
            ],
            "text/plain": [
              "   no_of_trainings   age  previous_year_rating  length_of_service  \\\n",
              "0              1.0  31.0                   3.0           1.386294   \n",
              "1              1.0  26.0                   2.0           1.791759   \n",
              "\n",
              "   KPIs_met >80%  awards_won?  avg_training_score  department_Finance  \\\n",
              "0            0.0          0.0                50.0                   0   \n",
              "1            0.0          0.0                77.0                   0   \n",
              "\n",
              "   department_HR  department_Legal  ...  region_region_5  region_region_6  \\\n",
              "0              0                 0  ...                0                1   \n",
              "1              0                 0  ...                0                0   \n",
              "\n",
              "   region_region_7  region_region_8  region_region_9  \\\n",
              "0                0                0                0   \n",
              "1                1                0                0   \n",
              "\n",
              "   education_Below Secondary  education_Master's & above  gender_m  \\\n",
              "0                          0                           0         1   \n",
              "1                          0                           0         1   \n",
              "\n",
              "   recruitment_channel_referred  recruitment_channel_sourcing  \n",
              "0                             0                             0  \n",
              "1                             0                             0  \n",
              "\n",
              "[2 rows x 53 columns]"
            ]
          },
          "metadata": {
            "tags": []
          },
          "execution_count": 137
        }
      ]
    },
    {
      "cell_type": "code",
      "metadata": {
        "id": "gM4ImFvzIQd6"
      },
      "source": [
        "X_train_total['Indice_capa_añoTrabajo'] = X_train_total['no_of_trainings'] / (X_train_total['length_of_service']+1)"
      ],
      "execution_count": null,
      "outputs": []
    },
    {
      "cell_type": "code",
      "metadata": {
        "id": "Ql1VeAqUIQd6",
        "outputId": "c6bc4457-fffa-449a-88c1-aaeaebe3a96e"
      },
      "source": [
        "X_train_total.head(2)"
      ],
      "execution_count": null,
      "outputs": [
        {
          "output_type": "execute_result",
          "data": {
            "text/html": [
              "<div>\n",
              "<style scoped>\n",
              "    .dataframe tbody tr th:only-of-type {\n",
              "        vertical-align: middle;\n",
              "    }\n",
              "\n",
              "    .dataframe tbody tr th {\n",
              "        vertical-align: top;\n",
              "    }\n",
              "\n",
              "    .dataframe thead th {\n",
              "        text-align: right;\n",
              "    }\n",
              "</style>\n",
              "<table border=\"1\" class=\"dataframe\">\n",
              "  <thead>\n",
              "    <tr style=\"text-align: right;\">\n",
              "      <th></th>\n",
              "      <th>no_of_trainings</th>\n",
              "      <th>age</th>\n",
              "      <th>previous_year_rating</th>\n",
              "      <th>length_of_service</th>\n",
              "      <th>KPIs_met &gt;80%</th>\n",
              "      <th>awards_won?</th>\n",
              "      <th>avg_training_score</th>\n",
              "      <th>department_Finance</th>\n",
              "      <th>department_HR</th>\n",
              "      <th>department_Legal</th>\n",
              "      <th>...</th>\n",
              "      <th>region_region_6</th>\n",
              "      <th>region_region_7</th>\n",
              "      <th>region_region_8</th>\n",
              "      <th>region_region_9</th>\n",
              "      <th>education_Below Secondary</th>\n",
              "      <th>education_Master's &amp; above</th>\n",
              "      <th>gender_m</th>\n",
              "      <th>recruitment_channel_referred</th>\n",
              "      <th>recruitment_channel_sourcing</th>\n",
              "      <th>Indice_capa_añoTrabajo</th>\n",
              "    </tr>\n",
              "  </thead>\n",
              "  <tbody>\n",
              "    <tr>\n",
              "      <th>0</th>\n",
              "      <td>1.0</td>\n",
              "      <td>31.0</td>\n",
              "      <td>3.0</td>\n",
              "      <td>1.386294</td>\n",
              "      <td>0.0</td>\n",
              "      <td>0.0</td>\n",
              "      <td>50.0</td>\n",
              "      <td>0</td>\n",
              "      <td>0</td>\n",
              "      <td>0</td>\n",
              "      <td>...</td>\n",
              "      <td>1</td>\n",
              "      <td>0</td>\n",
              "      <td>0</td>\n",
              "      <td>0</td>\n",
              "      <td>0</td>\n",
              "      <td>0</td>\n",
              "      <td>1</td>\n",
              "      <td>0</td>\n",
              "      <td>0</td>\n",
              "      <td>0.419060</td>\n",
              "    </tr>\n",
              "    <tr>\n",
              "      <th>1</th>\n",
              "      <td>1.0</td>\n",
              "      <td>26.0</td>\n",
              "      <td>2.0</td>\n",
              "      <td>1.791759</td>\n",
              "      <td>0.0</td>\n",
              "      <td>0.0</td>\n",
              "      <td>77.0</td>\n",
              "      <td>0</td>\n",
              "      <td>0</td>\n",
              "      <td>0</td>\n",
              "      <td>...</td>\n",
              "      <td>0</td>\n",
              "      <td>1</td>\n",
              "      <td>0</td>\n",
              "      <td>0</td>\n",
              "      <td>0</td>\n",
              "      <td>0</td>\n",
              "      <td>1</td>\n",
              "      <td>0</td>\n",
              "      <td>0</td>\n",
              "      <td>0.358197</td>\n",
              "    </tr>\n",
              "  </tbody>\n",
              "</table>\n",
              "<p>2 rows × 54 columns</p>\n",
              "</div>"
            ],
            "text/plain": [
              "   no_of_trainings   age  previous_year_rating  length_of_service  \\\n",
              "0              1.0  31.0                   3.0           1.386294   \n",
              "1              1.0  26.0                   2.0           1.791759   \n",
              "\n",
              "   KPIs_met >80%  awards_won?  avg_training_score  department_Finance  \\\n",
              "0            0.0          0.0                50.0                   0   \n",
              "1            0.0          0.0                77.0                   0   \n",
              "\n",
              "   department_HR  department_Legal  ...  region_region_6  region_region_7  \\\n",
              "0              0                 0  ...                1                0   \n",
              "1              0                 0  ...                0                1   \n",
              "\n",
              "   region_region_8  region_region_9  education_Below Secondary  \\\n",
              "0                0                0                          0   \n",
              "1                0                0                          0   \n",
              "\n",
              "   education_Master's & above  gender_m  recruitment_channel_referred  \\\n",
              "0                           0         1                             0   \n",
              "1                           0         1                             0   \n",
              "\n",
              "   recruitment_channel_sourcing  Indice_capa_añoTrabajo  \n",
              "0                             0                0.419060  \n",
              "1                             0                0.358197  \n",
              "\n",
              "[2 rows x 54 columns]"
            ]
          },
          "metadata": {
            "tags": []
          },
          "execution_count": 139
        }
      ]
    },
    {
      "cell_type": "markdown",
      "metadata": {
        "id": "vCbQNeXAIQd6"
      },
      "source": [
        "## Estandarización"
      ]
    },
    {
      "cell_type": "code",
      "metadata": {
        "id": "z6M-EuYFIQd6"
      },
      "source": [
        "from sklearn.preprocessing import MinMaxScaler, StandardScaler"
      ],
      "execution_count": null,
      "outputs": []
    },
    {
      "cell_type": "code",
      "metadata": {
        "id": "kGrxFtLRIQd7"
      },
      "source": [
        "scaler = MinMaxScaler()"
      ],
      "execution_count": null,
      "outputs": []
    },
    {
      "cell_type": "code",
      "metadata": {
        "id": "YjgNlmJ1IQd7"
      },
      "source": [
        "X_train_scaled = pd.DataFrame(scaler.fit_transform(X_train_total), columns = X_train_total.columns)"
      ],
      "execution_count": null,
      "outputs": []
    },
    {
      "cell_type": "markdown",
      "metadata": {
        "id": "POmhC_bqIQd7"
      },
      "source": [
        "Comparación de distribuciones"
      ]
    },
    {
      "cell_type": "code",
      "metadata": {
        "id": "WWk_S6McIQd7",
        "outputId": "ca0e010c-886e-4e11-bb9d-41bd1b3e191b"
      },
      "source": [
        "sns.histplot(X_train_total['no_of_trainings'])"
      ],
      "execution_count": null,
      "outputs": [
        {
          "output_type": "execute_result",
          "data": {
            "text/plain": [
              "<AxesSubplot:xlabel='no_of_trainings', ylabel='Count'>"
            ]
          },
          "metadata": {
            "tags": []
          },
          "execution_count": 145
        },
        {
          "output_type": "display_data",
          "data": {
            "image/png": "[encoded data removed]",
            "text/plain": [
              "<Figure size 432x288 with 1 Axes>"
            ]
          },
          "metadata": {
            "tags": [],
            "needs_background": "light"
          }
        }
      ]
    },
    {
      "cell_type": "code",
      "metadata": {
        "id": "k9M5Q5y-IQd7",
        "outputId": "0e42d274-8f00-4ba5-c2ba-fa9b96c10b1d"
      },
      "source": [
        "sns.histplot(X_train_scaled['no_of_trainings'])"
      ],
      "execution_count": null,
      "outputs": [
        {
          "output_type": "execute_result",
          "data": {
            "text/plain": [
              "<AxesSubplot:xlabel='no_of_trainings', ylabel='Count'>"
            ]
          },
          "metadata": {
            "tags": []
          },
          "execution_count": 146
        },
        {
          "output_type": "display_data",
          "data": {
            "image/png": "[encoded data removed]",
            "text/plain": [
              "<Figure size 432x288 with 1 Axes>"
            ]
          },
          "metadata": {
            "tags": [],
            "needs_background": "light"
          }
        }
      ]
    },
    {
      "cell_type": "markdown",
      "metadata": {
        "id": "hEumDiD7IQd8"
      },
      "source": [
        "`describe`"
      ]
    },
    {
      "cell_type": "code",
      "metadata": {
        "id": "V8LIaxdbIQd8",
        "outputId": "e21d05d5-4b3a-4be6-e188-3e85e0e879e4"
      },
      "source": [
        "X_train_scaled.describe()"
      ],
      "execution_count": null,
      "outputs": [
        {
          "output_type": "execute_result",
          "data": {
            "text/html": [
              "<div>\n",
              "<style scoped>\n",
              "    .dataframe tbody tr th:only-of-type {\n",
              "        vertical-align: middle;\n",
              "    }\n",
              "\n",
              "    .dataframe tbody tr th {\n",
              "        vertical-align: top;\n",
              "    }\n",
              "\n",
              "    .dataframe thead th {\n",
              "        text-align: right;\n",
              "    }\n",
              "</style>\n",
              "<table border=\"1\" class=\"dataframe\">\n",
              "  <thead>\n",
              "    <tr style=\"text-align: right;\">\n",
              "      <th></th>\n",
              "      <th>no_of_trainings</th>\n",
              "      <th>age</th>\n",
              "      <th>previous_year_rating</th>\n",
              "      <th>length_of_service</th>\n",
              "      <th>KPIs_met &gt;80%</th>\n",
              "      <th>awards_won?</th>\n",
              "      <th>avg_training_score</th>\n",
              "      <th>department_Finance</th>\n",
              "      <th>department_HR</th>\n",
              "      <th>department_Legal</th>\n",
              "      <th>...</th>\n",
              "      <th>region_region_6</th>\n",
              "      <th>region_region_7</th>\n",
              "      <th>region_region_8</th>\n",
              "      <th>region_region_9</th>\n",
              "      <th>education_Below Secondary</th>\n",
              "      <th>education_Master's &amp; above</th>\n",
              "      <th>gender_m</th>\n",
              "      <th>recruitment_channel_referred</th>\n",
              "      <th>recruitment_channel_sourcing</th>\n",
              "      <th>Indice_capa_añoTrabajo</th>\n",
              "    </tr>\n",
              "  </thead>\n",
              "  <tbody>\n",
              "    <tr>\n",
              "      <th>count</th>\n",
              "      <td>43846.000000</td>\n",
              "      <td>43846.000000</td>\n",
              "      <td>43846.000000</td>\n",
              "      <td>43846.000000</td>\n",
              "      <td>43846.000000</td>\n",
              "      <td>43846.000000</td>\n",
              "      <td>43846.000000</td>\n",
              "      <td>43846.000000</td>\n",
              "      <td>43846.000000</td>\n",
              "      <td>43846.000000</td>\n",
              "      <td>...</td>\n",
              "      <td>43846.000000</td>\n",
              "      <td>43846.000000</td>\n",
              "      <td>43846.000000</td>\n",
              "      <td>43846.000000</td>\n",
              "      <td>43846.000000</td>\n",
              "      <td>43846.000000</td>\n",
              "      <td>43846.000000</td>\n",
              "      <td>43846.000000</td>\n",
              "      <td>43846.000000</td>\n",
              "      <td>43846.000000</td>\n",
              "    </tr>\n",
              "    <tr>\n",
              "      <th>mean</th>\n",
              "      <td>0.081794</td>\n",
              "      <td>0.370148</td>\n",
              "      <td>0.577099</td>\n",
              "      <td>0.451342</td>\n",
              "      <td>0.352894</td>\n",
              "      <td>0.023286</td>\n",
              "      <td>0.406453</td>\n",
              "      <td>0.046093</td>\n",
              "      <td>0.043516</td>\n",
              "      <td>0.018998</td>\n",
              "      <td>...</td>\n",
              "      <td>0.012704</td>\n",
              "      <td>0.088104</td>\n",
              "      <td>0.012042</td>\n",
              "      <td>0.007777</td>\n",
              "      <td>0.014323</td>\n",
              "      <td>0.273092</td>\n",
              "      <td>0.702048</td>\n",
              "      <td>0.021233</td>\n",
              "      <td>0.423619</td>\n",
              "      <td>0.088362</td>\n",
              "    </tr>\n",
              "    <tr>\n",
              "      <th>std</th>\n",
              "      <td>0.189236</td>\n",
              "      <td>0.191317</td>\n",
              "      <td>0.303705</td>\n",
              "      <td>0.218667</td>\n",
              "      <td>0.477876</td>\n",
              "      <td>0.150812</td>\n",
              "      <td>0.222914</td>\n",
              "      <td>0.209689</td>\n",
              "      <td>0.204018</td>\n",
              "      <td>0.136520</td>\n",
              "      <td>...</td>\n",
              "      <td>0.111993</td>\n",
              "      <td>0.283449</td>\n",
              "      <td>0.109075</td>\n",
              "      <td>0.087846</td>\n",
              "      <td>0.118819</td>\n",
              "      <td>0.445553</td>\n",
              "      <td>0.457363</td>\n",
              "      <td>0.144163</td>\n",
              "      <td>0.494137</td>\n",
              "      <td>0.102115</td>\n",
              "    </tr>\n",
              "    <tr>\n",
              "      <th>min</th>\n",
              "      <td>0.000000</td>\n",
              "      <td>0.000000</td>\n",
              "      <td>0.000000</td>\n",
              "      <td>0.000000</td>\n",
              "      <td>0.000000</td>\n",
              "      <td>0.000000</td>\n",
              "      <td>0.000000</td>\n",
              "      <td>0.000000</td>\n",
              "      <td>0.000000</td>\n",
              "      <td>0.000000</td>\n",
              "      <td>...</td>\n",
              "      <td>0.000000</td>\n",
              "      <td>0.000000</td>\n",
              "      <td>0.000000</td>\n",
              "      <td>0.000000</td>\n",
              "      <td>0.000000</td>\n",
              "      <td>0.000000</td>\n",
              "      <td>0.000000</td>\n",
              "      <td>0.000000</td>\n",
              "      <td>0.000000</td>\n",
              "      <td>0.000000</td>\n",
              "    </tr>\n",
              "    <tr>\n",
              "      <th>25%</th>\n",
              "      <td>0.000000</td>\n",
              "      <td>0.225000</td>\n",
              "      <td>0.500000</td>\n",
              "      <td>0.326260</td>\n",
              "      <td>0.000000</td>\n",
              "      <td>0.000000</td>\n",
              "      <td>0.200000</td>\n",
              "      <td>0.000000</td>\n",
              "      <td>0.000000</td>\n",
              "      <td>0.000000</td>\n",
              "      <td>...</td>\n",
              "      <td>0.000000</td>\n",
              "      <td>0.000000</td>\n",
              "      <td>0.000000</td>\n",
              "      <td>0.000000</td>\n",
              "      <td>0.000000</td>\n",
              "      <td>0.000000</td>\n",
              "      <td>0.000000</td>\n",
              "      <td>0.000000</td>\n",
              "      <td>0.000000</td>\n",
              "      <td>0.029297</td>\n",
              "    </tr>\n",
              "    <tr>\n",
              "      <th>50%</th>\n",
              "      <td>0.000000</td>\n",
              "      <td>0.325000</td>\n",
              "      <td>0.500000</td>\n",
              "      <td>0.477962</td>\n",
              "      <td>0.000000</td>\n",
              "      <td>0.000000</td>\n",
              "      <td>0.350000</td>\n",
              "      <td>0.000000</td>\n",
              "      <td>0.000000</td>\n",
              "      <td>0.000000</td>\n",
              "      <td>...</td>\n",
              "      <td>0.000000</td>\n",
              "      <td>0.000000</td>\n",
              "      <td>0.000000</td>\n",
              "      <td>0.000000</td>\n",
              "      <td>0.000000</td>\n",
              "      <td>0.000000</td>\n",
              "      <td>1.000000</td>\n",
              "      <td>0.000000</td>\n",
              "      <td>0.000000</td>\n",
              "      <td>0.050407</td>\n",
              "    </tr>\n",
              "    <tr>\n",
              "      <th>75%</th>\n",
              "      <td>0.000000</td>\n",
              "      <td>0.475000</td>\n",
              "      <td>0.750000</td>\n",
              "      <td>0.577885</td>\n",
              "      <td>1.000000</td>\n",
              "      <td>0.000000</td>\n",
              "      <td>0.616667</td>\n",
              "      <td>0.000000</td>\n",
              "      <td>0.000000</td>\n",
              "      <td>0.000000</td>\n",
              "      <td>...</td>\n",
              "      <td>0.000000</td>\n",
              "      <td>0.000000</td>\n",
              "      <td>0.000000</td>\n",
              "      <td>0.000000</td>\n",
              "      <td>0.000000</td>\n",
              "      <td>1.000000</td>\n",
              "      <td>1.000000</td>\n",
              "      <td>0.000000</td>\n",
              "      <td>1.000000</td>\n",
              "      <td>0.095900</td>\n",
              "    </tr>\n",
              "    <tr>\n",
              "      <th>max</th>\n",
              "      <td>1.000000</td>\n",
              "      <td>1.000000</td>\n",
              "      <td>1.000000</td>\n",
              "      <td>1.000000</td>\n",
              "      <td>1.000000</td>\n",
              "      <td>1.000000</td>\n",
              "      <td>1.000000</td>\n",
              "      <td>1.000000</td>\n",
              "      <td>1.000000</td>\n",
              "      <td>1.000000</td>\n",
              "      <td>...</td>\n",
              "      <td>1.000000</td>\n",
              "      <td>1.000000</td>\n",
              "      <td>1.000000</td>\n",
              "      <td>1.000000</td>\n",
              "      <td>1.000000</td>\n",
              "      <td>1.000000</td>\n",
              "      <td>1.000000</td>\n",
              "      <td>1.000000</td>\n",
              "      <td>1.000000</td>\n",
              "      <td>1.000000</td>\n",
              "    </tr>\n",
              "  </tbody>\n",
              "</table>\n",
              "<p>8 rows × 54 columns</p>\n",
              "</div>"
            ],
            "text/plain": [
              "       no_of_trainings           age  previous_year_rating  length_of_service  \\\n",
              "count     43846.000000  43846.000000          43846.000000       43846.000000   \n",
              "mean          0.081794      0.370148              0.577099           0.451342   \n",
              "std           0.189236      0.191317              0.303705           0.218667   \n",
              "min           0.000000      0.000000              0.000000           0.000000   \n",
              "25%           0.000000      0.225000              0.500000           0.326260   \n",
              "50%           0.000000      0.325000              0.500000           0.477962   \n",
              "75%           0.000000      0.475000              0.750000           0.577885   \n",
              "max           1.000000      1.000000              1.000000           1.000000   \n",
              "\n",
              "       KPIs_met >80%   awards_won?  avg_training_score  department_Finance  \\\n",
              "count   43846.000000  43846.000000        43846.000000        43846.000000   \n",
              "mean        0.352894      0.023286            0.406453            0.046093   \n",
              "std         0.477876      0.150812            0.222914            0.209689   \n",
              "min         0.000000      0.000000            0.000000            0.000000   \n",
              "25%         0.000000      0.000000            0.200000            0.000000   \n",
              "50%         0.000000      0.000000            0.350000            0.000000   \n",
              "75%         1.000000      0.000000            0.616667            0.000000   \n",
              "max         1.000000      1.000000            1.000000            1.000000   \n",
              "\n",
              "       department_HR  department_Legal  ...  region_region_6  region_region_7  \\\n",
              "count   43846.000000      43846.000000  ...     43846.000000     43846.000000   \n",
              "mean        0.043516          0.018998  ...         0.012704         0.088104   \n",
              "std         0.204018          0.136520  ...         0.111993         0.283449   \n",
              "min         0.000000          0.000000  ...         0.000000         0.000000   \n",
              "25%         0.000000          0.000000  ...         0.000000         0.000000   \n",
              "50%         0.000000          0.000000  ...         0.000000         0.000000   \n",
              "75%         0.000000          0.000000  ...         0.000000         0.000000   \n",
              "max         1.000000          1.000000  ...         1.000000         1.000000   \n",
              "\n",
              "       region_region_8  region_region_9  education_Below Secondary  \\\n",
              "count     43846.000000     43846.000000               43846.000000   \n",
              "mean          0.012042         0.007777                   0.014323   \n",
              "std           0.109075         0.087846                   0.118819   \n",
              "min           0.000000         0.000000                   0.000000   \n",
              "25%           0.000000         0.000000                   0.000000   \n",
              "50%           0.000000         0.000000                   0.000000   \n",
              "75%           0.000000         0.000000                   0.000000   \n",
              "max           1.000000         1.000000                   1.000000   \n",
              "\n",
              "       education_Master's & above      gender_m  recruitment_channel_referred  \\\n",
              "count                43846.000000  43846.000000                  43846.000000   \n",
              "mean                     0.273092      0.702048                      0.021233   \n",
              "std                      0.445553      0.457363                      0.144163   \n",
              "min                      0.000000      0.000000                      0.000000   \n",
              "25%                      0.000000      0.000000                      0.000000   \n",
              "50%                      0.000000      1.000000                      0.000000   \n",
              "75%                      1.000000      1.000000                      0.000000   \n",
              "max                      1.000000      1.000000                      1.000000   \n",
              "\n",
              "       recruitment_channel_sourcing  Indice_capa_añoTrabajo  \n",
              "count                  43846.000000            43846.000000  \n",
              "mean                       0.423619                0.088362  \n",
              "std                        0.494137                0.102115  \n",
              "min                        0.000000                0.000000  \n",
              "25%                        0.000000                0.029297  \n",
              "50%                        0.000000                0.050407  \n",
              "75%                        1.000000                0.095900  \n",
              "max                        1.000000                1.000000  \n",
              "\n",
              "[8 rows x 54 columns]"
            ]
          },
          "metadata": {
            "tags": []
          },
          "execution_count": 148
        }
      ]
    },
    {
      "cell_type": "code",
      "metadata": {
        "id": "utuwePcUIQd8",
        "outputId": "71bb8d5c-2e86-4826-bc6e-7ac1c56e8318"
      },
      "source": [
        "X_train_total.head()"
      ],
      "execution_count": null,
      "outputs": [
        {
          "output_type": "execute_result",
          "data": {
            "text/html": [
              "<div>\n",
              "<style scoped>\n",
              "    .dataframe tbody tr th:only-of-type {\n",
              "        vertical-align: middle;\n",
              "    }\n",
              "\n",
              "    .dataframe tbody tr th {\n",
              "        vertical-align: top;\n",
              "    }\n",
              "\n",
              "    .dataframe thead th {\n",
              "        text-align: right;\n",
              "    }\n",
              "</style>\n",
              "<table border=\"1\" class=\"dataframe\">\n",
              "  <thead>\n",
              "    <tr style=\"text-align: right;\">\n",
              "      <th></th>\n",
              "      <th>no_of_trainings</th>\n",
              "      <th>age</th>\n",
              "      <th>previous_year_rating</th>\n",
              "      <th>length_of_service</th>\n",
              "      <th>KPIs_met &gt;80%</th>\n",
              "      <th>awards_won?</th>\n",
              "      <th>avg_training_score</th>\n",
              "      <th>department_Finance</th>\n",
              "      <th>department_HR</th>\n",
              "      <th>department_Legal</th>\n",
              "      <th>...</th>\n",
              "      <th>region_region_6</th>\n",
              "      <th>region_region_7</th>\n",
              "      <th>region_region_8</th>\n",
              "      <th>region_region_9</th>\n",
              "      <th>education_Below Secondary</th>\n",
              "      <th>education_Master's &amp; above</th>\n",
              "      <th>gender_m</th>\n",
              "      <th>recruitment_channel_referred</th>\n",
              "      <th>recruitment_channel_sourcing</th>\n",
              "      <th>Indice_capa_añoTrabajo</th>\n",
              "    </tr>\n",
              "  </thead>\n",
              "  <tbody>\n",
              "    <tr>\n",
              "      <th>0</th>\n",
              "      <td>1.0</td>\n",
              "      <td>31.0</td>\n",
              "      <td>3.0</td>\n",
              "      <td>1.386294</td>\n",
              "      <td>0.0</td>\n",
              "      <td>0.0</td>\n",
              "      <td>50.0</td>\n",
              "      <td>0</td>\n",
              "      <td>0</td>\n",
              "      <td>0</td>\n",
              "      <td>...</td>\n",
              "      <td>1</td>\n",
              "      <td>0</td>\n",
              "      <td>0</td>\n",
              "      <td>0</td>\n",
              "      <td>0</td>\n",
              "      <td>0</td>\n",
              "      <td>1</td>\n",
              "      <td>0</td>\n",
              "      <td>0</td>\n",
              "      <td>0.419060</td>\n",
              "    </tr>\n",
              "    <tr>\n",
              "      <th>1</th>\n",
              "      <td>1.0</td>\n",
              "      <td>26.0</td>\n",
              "      <td>2.0</td>\n",
              "      <td>1.791759</td>\n",
              "      <td>0.0</td>\n",
              "      <td>0.0</td>\n",
              "      <td>77.0</td>\n",
              "      <td>0</td>\n",
              "      <td>0</td>\n",
              "      <td>0</td>\n",
              "      <td>...</td>\n",
              "      <td>0</td>\n",
              "      <td>1</td>\n",
              "      <td>0</td>\n",
              "      <td>0</td>\n",
              "      <td>0</td>\n",
              "      <td>0</td>\n",
              "      <td>1</td>\n",
              "      <td>0</td>\n",
              "      <td>0</td>\n",
              "      <td>0.358197</td>\n",
              "    </tr>\n",
              "    <tr>\n",
              "      <th>2</th>\n",
              "      <td>2.0</td>\n",
              "      <td>28.0</td>\n",
              "      <td>5.0</td>\n",
              "      <td>1.098612</td>\n",
              "      <td>0.0</td>\n",
              "      <td>0.0</td>\n",
              "      <td>82.0</td>\n",
              "      <td>0</td>\n",
              "      <td>0</td>\n",
              "      <td>0</td>\n",
              "      <td>...</td>\n",
              "      <td>0</td>\n",
              "      <td>0</td>\n",
              "      <td>0</td>\n",
              "      <td>0</td>\n",
              "      <td>0</td>\n",
              "      <td>0</td>\n",
              "      <td>1</td>\n",
              "      <td>0</td>\n",
              "      <td>1</td>\n",
              "      <td>0.953011</td>\n",
              "    </tr>\n",
              "    <tr>\n",
              "      <th>3</th>\n",
              "      <td>2.0</td>\n",
              "      <td>29.0</td>\n",
              "      <td>2.0</td>\n",
              "      <td>1.609438</td>\n",
              "      <td>0.0</td>\n",
              "      <td>0.0</td>\n",
              "      <td>58.0</td>\n",
              "      <td>1</td>\n",
              "      <td>0</td>\n",
              "      <td>0</td>\n",
              "      <td>...</td>\n",
              "      <td>0</td>\n",
              "      <td>0</td>\n",
              "      <td>0</td>\n",
              "      <td>0</td>\n",
              "      <td>0</td>\n",
              "      <td>0</td>\n",
              "      <td>1</td>\n",
              "      <td>0</td>\n",
              "      <td>1</td>\n",
              "      <td>0.766449</td>\n",
              "    </tr>\n",
              "    <tr>\n",
              "      <th>4</th>\n",
              "      <td>1.0</td>\n",
              "      <td>48.0</td>\n",
              "      <td>1.0</td>\n",
              "      <td>2.890372</td>\n",
              "      <td>0.0</td>\n",
              "      <td>0.0</td>\n",
              "      <td>80.0</td>\n",
              "      <td>0</td>\n",
              "      <td>0</td>\n",
              "      <td>0</td>\n",
              "      <td>...</td>\n",
              "      <td>0</td>\n",
              "      <td>0</td>\n",
              "      <td>0</td>\n",
              "      <td>0</td>\n",
              "      <td>0</td>\n",
              "      <td>0</td>\n",
              "      <td>1</td>\n",
              "      <td>0</td>\n",
              "      <td>1</td>\n",
              "      <td>0.257045</td>\n",
              "    </tr>\n",
              "  </tbody>\n",
              "</table>\n",
              "<p>5 rows × 54 columns</p>\n",
              "</div>"
            ],
            "text/plain": [
              "   no_of_trainings   age  previous_year_rating  length_of_service  \\\n",
              "0              1.0  31.0                   3.0           1.386294   \n",
              "1              1.0  26.0                   2.0           1.791759   \n",
              "2              2.0  28.0                   5.0           1.098612   \n",
              "3              2.0  29.0                   2.0           1.609438   \n",
              "4              1.0  48.0                   1.0           2.890372   \n",
              "\n",
              "   KPIs_met >80%  awards_won?  avg_training_score  department_Finance  \\\n",
              "0            0.0          0.0                50.0                   0   \n",
              "1            0.0          0.0                77.0                   0   \n",
              "2            0.0          0.0                82.0                   0   \n",
              "3            0.0          0.0                58.0                   1   \n",
              "4            0.0          0.0                80.0                   0   \n",
              "\n",
              "   department_HR  department_Legal  ...  region_region_6  region_region_7  \\\n",
              "0              0                 0  ...                1                0   \n",
              "1              0                 0  ...                0                1   \n",
              "2              0                 0  ...                0                0   \n",
              "3              0                 0  ...                0                0   \n",
              "4              0                 0  ...                0                0   \n",
              "\n",
              "   region_region_8  region_region_9  education_Below Secondary  \\\n",
              "0                0                0                          0   \n",
              "1                0                0                          0   \n",
              "2                0                0                          0   \n",
              "3                0                0                          0   \n",
              "4                0                0                          0   \n",
              "\n",
              "   education_Master's & above  gender_m  recruitment_channel_referred  \\\n",
              "0                           0         1                             0   \n",
              "1                           0         1                             0   \n",
              "2                           0         1                             0   \n",
              "3                           0         1                             0   \n",
              "4                           0         1                             0   \n",
              "\n",
              "   recruitment_channel_sourcing  Indice_capa_añoTrabajo  \n",
              "0                             0                0.419060  \n",
              "1                             0                0.358197  \n",
              "2                             1                0.953011  \n",
              "3                             1                0.766449  \n",
              "4                             1                0.257045  \n",
              "\n",
              "[5 rows x 54 columns]"
            ]
          },
          "metadata": {
            "tags": []
          },
          "execution_count": 149
        }
      ]
    },
    {
      "cell_type": "code",
      "metadata": {
        "id": "6bssgJPXIQd8",
        "outputId": "39355686-dbab-4b84-953a-072a5d94a709"
      },
      "source": [
        "X_train_scaled.head()"
      ],
      "execution_count": null,
      "outputs": [
        {
          "output_type": "execute_result",
          "data": {
            "text/html": [
              "<div>\n",
              "<style scoped>\n",
              "    .dataframe tbody tr th:only-of-type {\n",
              "        vertical-align: middle;\n",
              "    }\n",
              "\n",
              "    .dataframe tbody tr th {\n",
              "        vertical-align: top;\n",
              "    }\n",
              "\n",
              "    .dataframe thead th {\n",
              "        text-align: right;\n",
              "    }\n",
              "</style>\n",
              "<table border=\"1\" class=\"dataframe\">\n",
              "  <thead>\n",
              "    <tr style=\"text-align: right;\">\n",
              "      <th></th>\n",
              "      <th>no_of_trainings</th>\n",
              "      <th>age</th>\n",
              "      <th>previous_year_rating</th>\n",
              "      <th>length_of_service</th>\n",
              "      <th>KPIs_met &gt;80%</th>\n",
              "      <th>awards_won?</th>\n",
              "      <th>avg_training_score</th>\n",
              "      <th>department_Finance</th>\n",
              "      <th>department_HR</th>\n",
              "      <th>department_Legal</th>\n",
              "      <th>...</th>\n",
              "      <th>region_region_6</th>\n",
              "      <th>region_region_7</th>\n",
              "      <th>region_region_8</th>\n",
              "      <th>region_region_9</th>\n",
              "      <th>education_Below Secondary</th>\n",
              "      <th>education_Master's &amp; above</th>\n",
              "      <th>gender_m</th>\n",
              "      <th>recruitment_channel_referred</th>\n",
              "      <th>recruitment_channel_sourcing</th>\n",
              "      <th>Indice_capa_añoTrabajo</th>\n",
              "    </tr>\n",
              "  </thead>\n",
              "  <tbody>\n",
              "    <tr>\n",
              "      <th>0</th>\n",
              "      <td>0.000000</td>\n",
              "      <td>0.275</td>\n",
              "      <td>0.50</td>\n",
              "      <td>0.411694</td>\n",
              "      <td>0.0</td>\n",
              "      <td>0.0</td>\n",
              "      <td>0.183333</td>\n",
              "      <td>0.0</td>\n",
              "      <td>0.0</td>\n",
              "      <td>0.0</td>\n",
              "      <td>...</td>\n",
              "      <td>1.0</td>\n",
              "      <td>0.0</td>\n",
              "      <td>0.0</td>\n",
              "      <td>0.0</td>\n",
              "      <td>0.0</td>\n",
              "      <td>0.0</td>\n",
              "      <td>1.0</td>\n",
              "      <td>0.0</td>\n",
              "      <td>0.0</td>\n",
              "      <td>0.050407</td>\n",
              "    </tr>\n",
              "    <tr>\n",
              "      <th>1</th>\n",
              "      <td>0.000000</td>\n",
              "      <td>0.150</td>\n",
              "      <td>0.25</td>\n",
              "      <td>0.532106</td>\n",
              "      <td>0.0</td>\n",
              "      <td>0.0</td>\n",
              "      <td>0.633333</td>\n",
              "      <td>0.0</td>\n",
              "      <td>0.0</td>\n",
              "      <td>0.0</td>\n",
              "      <td>...</td>\n",
              "      <td>0.0</td>\n",
              "      <td>1.0</td>\n",
              "      <td>0.0</td>\n",
              "      <td>0.0</td>\n",
              "      <td>0.0</td>\n",
              "      <td>0.0</td>\n",
              "      <td>1.0</td>\n",
              "      <td>0.0</td>\n",
              "      <td>0.0</td>\n",
              "      <td>0.034267</td>\n",
              "    </tr>\n",
              "    <tr>\n",
              "      <th>2</th>\n",
              "      <td>0.333333</td>\n",
              "      <td>0.200</td>\n",
              "      <td>1.00</td>\n",
              "      <td>0.326260</td>\n",
              "      <td>0.0</td>\n",
              "      <td>0.0</td>\n",
              "      <td>0.716667</td>\n",
              "      <td>0.0</td>\n",
              "      <td>0.0</td>\n",
              "      <td>0.0</td>\n",
              "      <td>...</td>\n",
              "      <td>0.0</td>\n",
              "      <td>0.0</td>\n",
              "      <td>0.0</td>\n",
              "      <td>0.0</td>\n",
              "      <td>0.0</td>\n",
              "      <td>0.0</td>\n",
              "      <td>1.0</td>\n",
              "      <td>0.0</td>\n",
              "      <td>1.0</td>\n",
              "      <td>0.192000</td>\n",
              "    </tr>\n",
              "    <tr>\n",
              "      <th>3</th>\n",
              "      <td>0.333333</td>\n",
              "      <td>0.225</td>\n",
              "      <td>0.25</td>\n",
              "      <td>0.477962</td>\n",
              "      <td>0.0</td>\n",
              "      <td>0.0</td>\n",
              "      <td>0.316667</td>\n",
              "      <td>1.0</td>\n",
              "      <td>0.0</td>\n",
              "      <td>0.0</td>\n",
              "      <td>...</td>\n",
              "      <td>0.0</td>\n",
              "      <td>0.0</td>\n",
              "      <td>0.0</td>\n",
              "      <td>0.0</td>\n",
              "      <td>0.0</td>\n",
              "      <td>0.0</td>\n",
              "      <td>1.0</td>\n",
              "      <td>0.0</td>\n",
              "      <td>1.0</td>\n",
              "      <td>0.142527</td>\n",
              "    </tr>\n",
              "    <tr>\n",
              "      <th>4</th>\n",
              "      <td>0.000000</td>\n",
              "      <td>0.700</td>\n",
              "      <td>0.00</td>\n",
              "      <td>0.858366</td>\n",
              "      <td>0.0</td>\n",
              "      <td>0.0</td>\n",
              "      <td>0.683333</td>\n",
              "      <td>0.0</td>\n",
              "      <td>0.0</td>\n",
              "      <td>0.0</td>\n",
              "      <td>...</td>\n",
              "      <td>0.0</td>\n",
              "      <td>0.0</td>\n",
              "      <td>0.0</td>\n",
              "      <td>0.0</td>\n",
              "      <td>0.0</td>\n",
              "      <td>0.0</td>\n",
              "      <td>1.0</td>\n",
              "      <td>0.0</td>\n",
              "      <td>1.0</td>\n",
              "      <td>0.007444</td>\n",
              "    </tr>\n",
              "  </tbody>\n",
              "</table>\n",
              "<p>5 rows × 54 columns</p>\n",
              "</div>"
            ],
            "text/plain": [
              "   no_of_trainings    age  previous_year_rating  length_of_service  \\\n",
              "0         0.000000  0.275                  0.50           0.411694   \n",
              "1         0.000000  0.150                  0.25           0.532106   \n",
              "2         0.333333  0.200                  1.00           0.326260   \n",
              "3         0.333333  0.225                  0.25           0.477962   \n",
              "4         0.000000  0.700                  0.00           0.858366   \n",
              "\n",
              "   KPIs_met >80%  awards_won?  avg_training_score  department_Finance  \\\n",
              "0            0.0          0.0            0.183333                 0.0   \n",
              "1            0.0          0.0            0.633333                 0.0   \n",
              "2            0.0          0.0            0.716667                 0.0   \n",
              "3            0.0          0.0            0.316667                 1.0   \n",
              "4            0.0          0.0            0.683333                 0.0   \n",
              "\n",
              "   department_HR  department_Legal  ...  region_region_6  region_region_7  \\\n",
              "0            0.0               0.0  ...              1.0              0.0   \n",
              "1            0.0               0.0  ...              0.0              1.0   \n",
              "2            0.0               0.0  ...              0.0              0.0   \n",
              "3            0.0               0.0  ...              0.0              0.0   \n",
              "4            0.0               0.0  ...              0.0              0.0   \n",
              "\n",
              "   region_region_8  region_region_9  education_Below Secondary  \\\n",
              "0              0.0              0.0                        0.0   \n",
              "1              0.0              0.0                        0.0   \n",
              "2              0.0              0.0                        0.0   \n",
              "3              0.0              0.0                        0.0   \n",
              "4              0.0              0.0                        0.0   \n",
              "\n",
              "   education_Master's & above  gender_m  recruitment_channel_referred  \\\n",
              "0                         0.0       1.0                           0.0   \n",
              "1                         0.0       1.0                           0.0   \n",
              "2                         0.0       1.0                           0.0   \n",
              "3                         0.0       1.0                           0.0   \n",
              "4                         0.0       1.0                           0.0   \n",
              "\n",
              "   recruitment_channel_sourcing  Indice_capa_añoTrabajo  \n",
              "0                           0.0                0.050407  \n",
              "1                           0.0                0.034267  \n",
              "2                           1.0                0.192000  \n",
              "3                           1.0                0.142527  \n",
              "4                           1.0                0.007444  \n",
              "\n",
              "[5 rows x 54 columns]"
            ]
          },
          "metadata": {
            "tags": []
          },
          "execution_count": 150
        }
      ]
    },
    {
      "cell_type": "markdown",
      "metadata": {
        "id": "tW01o5aVIQd9"
      },
      "source": [
        "## Repetir todo el preprocesamiento para el conjunto de validación"
      ]
    },
    {
      "cell_type": "code",
      "metadata": {
        "id": "CC6yXNp5IQd9",
        "outputId": "c382bb61-cb44-4c0a-8f6e-9d833405f2cb"
      },
      "source": [
        "X_test.head()"
      ],
      "execution_count": null,
      "outputs": [
        {
          "output_type": "execute_result",
          "data": {
            "text/html": [
              "<div>\n",
              "<style scoped>\n",
              "    .dataframe tbody tr th:only-of-type {\n",
              "        vertical-align: middle;\n",
              "    }\n",
              "\n",
              "    .dataframe tbody tr th {\n",
              "        vertical-align: top;\n",
              "    }\n",
              "\n",
              "    .dataframe thead th {\n",
              "        text-align: right;\n",
              "    }\n",
              "</style>\n",
              "<table border=\"1\" class=\"dataframe\">\n",
              "  <thead>\n",
              "    <tr style=\"text-align: right;\">\n",
              "      <th></th>\n",
              "      <th>department</th>\n",
              "      <th>region</th>\n",
              "      <th>education</th>\n",
              "      <th>gender</th>\n",
              "      <th>recruitment_channel</th>\n",
              "      <th>no_of_trainings</th>\n",
              "      <th>age</th>\n",
              "      <th>previous_year_rating</th>\n",
              "      <th>length_of_service</th>\n",
              "      <th>KPIs_met &gt;80%</th>\n",
              "      <th>awards_won?</th>\n",
              "      <th>avg_training_score</th>\n",
              "    </tr>\n",
              "    <tr>\n",
              "      <th>employee_id</th>\n",
              "      <th></th>\n",
              "      <th></th>\n",
              "      <th></th>\n",
              "      <th></th>\n",
              "      <th></th>\n",
              "      <th></th>\n",
              "      <th></th>\n",
              "      <th></th>\n",
              "      <th></th>\n",
              "      <th></th>\n",
              "      <th></th>\n",
              "      <th></th>\n",
              "    </tr>\n",
              "  </thead>\n",
              "  <tbody>\n",
              "    <tr>\n",
              "      <th>30828</th>\n",
              "      <td>Finance</td>\n",
              "      <td>region_28</td>\n",
              "      <td>Bachelor's</td>\n",
              "      <td>m</td>\n",
              "      <td>sourcing</td>\n",
              "      <td>1</td>\n",
              "      <td>31</td>\n",
              "      <td>5.0</td>\n",
              "      <td>5</td>\n",
              "      <td>1</td>\n",
              "      <td>0</td>\n",
              "      <td>55</td>\n",
              "    </tr>\n",
              "    <tr>\n",
              "      <th>51784</th>\n",
              "      <td>Operations</td>\n",
              "      <td>region_19</td>\n",
              "      <td>Bachelor's</td>\n",
              "      <td>m</td>\n",
              "      <td>sourcing</td>\n",
              "      <td>1</td>\n",
              "      <td>45</td>\n",
              "      <td>4.0</td>\n",
              "      <td>19</td>\n",
              "      <td>0</td>\n",
              "      <td>0</td>\n",
              "      <td>57</td>\n",
              "    </tr>\n",
              "    <tr>\n",
              "      <th>39658</th>\n",
              "      <td>Operations</td>\n",
              "      <td>region_2</td>\n",
              "      <td>Bachelor's</td>\n",
              "      <td>f</td>\n",
              "      <td>sourcing</td>\n",
              "      <td>1</td>\n",
              "      <td>30</td>\n",
              "      <td>4.0</td>\n",
              "      <td>9</td>\n",
              "      <td>0</td>\n",
              "      <td>0</td>\n",
              "      <td>55</td>\n",
              "    </tr>\n",
              "    <tr>\n",
              "      <th>74692</th>\n",
              "      <td>Technology</td>\n",
              "      <td>region_16</td>\n",
              "      <td>Bachelor's</td>\n",
              "      <td>m</td>\n",
              "      <td>sourcing</td>\n",
              "      <td>1</td>\n",
              "      <td>30</td>\n",
              "      <td>2.0</td>\n",
              "      <td>4</td>\n",
              "      <td>0</td>\n",
              "      <td>0</td>\n",
              "      <td>86</td>\n",
              "    </tr>\n",
              "    <tr>\n",
              "      <th>35025</th>\n",
              "      <td>Sales &amp; Marketing</td>\n",
              "      <td>region_7</td>\n",
              "      <td>NaN</td>\n",
              "      <td>m</td>\n",
              "      <td>other</td>\n",
              "      <td>1</td>\n",
              "      <td>27</td>\n",
              "      <td>5.0</td>\n",
              "      <td>4</td>\n",
              "      <td>0</td>\n",
              "      <td>0</td>\n",
              "      <td>53</td>\n",
              "    </tr>\n",
              "  </tbody>\n",
              "</table>\n",
              "</div>"
            ],
            "text/plain": [
              "                    department     region   education gender  \\\n",
              "employee_id                                                    \n",
              "30828                  Finance  region_28  Bachelor's      m   \n",
              "51784               Operations  region_19  Bachelor's      m   \n",
              "39658               Operations   region_2  Bachelor's      f   \n",
              "74692               Technology  region_16  Bachelor's      m   \n",
              "35025        Sales & Marketing   region_7         NaN      m   \n",
              "\n",
              "            recruitment_channel  no_of_trainings  age  previous_year_rating  \\\n",
              "employee_id                                                                   \n",
              "30828                  sourcing                1   31                   5.0   \n",
              "51784                  sourcing                1   45                   4.0   \n",
              "39658                  sourcing                1   30                   4.0   \n",
              "74692                  sourcing                1   30                   2.0   \n",
              "35025                     other                1   27                   5.0   \n",
              "\n",
              "             length_of_service  KPIs_met >80%  awards_won?  avg_training_score  \n",
              "employee_id                                                                     \n",
              "30828                        5              1            0                  55  \n",
              "51784                       19              0            0                  57  \n",
              "39658                        9              0            0                  55  \n",
              "74692                        4              0            0                  86  \n",
              "35025                        4              0            0                  53  "
            ]
          },
          "metadata": {
            "tags": []
          },
          "execution_count": 151
        }
      ]
    },
    {
      "cell_type": "code",
      "metadata": {
        "id": "thHLEtdtIQd9",
        "outputId": "1a1e53fa-c875-4460-bdd0-de0fa9c917a4"
      },
      "source": [
        "X_test.info()"
      ],
      "execution_count": null,
      "outputs": [
        {
          "output_type": "stream",
          "text": [
            "<class 'pandas.core.frame.DataFrame'>\n",
            "Int64Index: 10962 entries, 30828 to 12179\n",
            "Data columns (total 12 columns):\n",
            " #   Column                Non-Null Count  Dtype  \n",
            "---  ------                --------------  -----  \n",
            " 0   department            10962 non-null  object \n",
            " 1   region                10962 non-null  object \n",
            " 2   education             10465 non-null  object \n",
            " 3   gender                10962 non-null  object \n",
            " 4   recruitment_channel   10962 non-null  object \n",
            " 5   no_of_trainings       10962 non-null  int64  \n",
            " 6   age                   10962 non-null  int64  \n",
            " 7   previous_year_rating  10112 non-null  float64\n",
            " 8   length_of_service     10962 non-null  int64  \n",
            " 9   KPIs_met >80%         10962 non-null  int64  \n",
            " 10  awards_won?           10962 non-null  int64  \n",
            " 11  avg_training_score    10962 non-null  int64  \n",
            "dtypes: float64(1), int64(6), object(5)\n",
            "memory usage: 1.1+ MB\n"
          ],
          "name": "stdout"
        }
      ]
    },
    {
      "cell_type": "markdown",
      "metadata": {
        "id": "stlE1gwHIQd-"
      },
      "source": [
        "Imputación de nulos"
      ]
    },
    {
      "cell_type": "code",
      "metadata": {
        "id": "4H2_seg3IQd-"
      },
      "source": [
        "X_test_cat = X_test.select_dtypes('object')\n",
        "X_test_num = X_test.select_dtypes('number')"
      ],
      "execution_count": null,
      "outputs": []
    },
    {
      "cell_type": "markdown",
      "metadata": {
        "id": "KrzvTvWAIQd-"
      },
      "source": [
        "Numéricas"
      ]
    },
    {
      "cell_type": "code",
      "metadata": {
        "id": "WDclJq4oIQd-",
        "outputId": "1c02aa64-fe2d-4d8c-e6b9-f5ee80f7b47c"
      },
      "source": [
        "X_test_num_imputed = pd.DataFrame(imputer_num.transform(X_test_num), columns = X_test_num.columns)\n",
        "X_test_num_imputed.head(2)"
      ],
      "execution_count": null,
      "outputs": [
        {
          "output_type": "execute_result",
          "data": {
            "text/html": [
              "<div>\n",
              "<style scoped>\n",
              "    .dataframe tbody tr th:only-of-type {\n",
              "        vertical-align: middle;\n",
              "    }\n",
              "\n",
              "    .dataframe tbody tr th {\n",
              "        vertical-align: top;\n",
              "    }\n",
              "\n",
              "    .dataframe thead th {\n",
              "        text-align: right;\n",
              "    }\n",
              "</style>\n",
              "<table border=\"1\" class=\"dataframe\">\n",
              "  <thead>\n",
              "    <tr style=\"text-align: right;\">\n",
              "      <th></th>\n",
              "      <th>no_of_trainings</th>\n",
              "      <th>age</th>\n",
              "      <th>previous_year_rating</th>\n",
              "      <th>length_of_service</th>\n",
              "      <th>KPIs_met &gt;80%</th>\n",
              "      <th>awards_won?</th>\n",
              "      <th>avg_training_score</th>\n",
              "    </tr>\n",
              "  </thead>\n",
              "  <tbody>\n",
              "    <tr>\n",
              "      <th>0</th>\n",
              "      <td>1.0</td>\n",
              "      <td>31.0</td>\n",
              "      <td>5.0</td>\n",
              "      <td>5.0</td>\n",
              "      <td>1.0</td>\n",
              "      <td>0.0</td>\n",
              "      <td>55.0</td>\n",
              "    </tr>\n",
              "    <tr>\n",
              "      <th>1</th>\n",
              "      <td>1.0</td>\n",
              "      <td>45.0</td>\n",
              "      <td>4.0</td>\n",
              "      <td>19.0</td>\n",
              "      <td>0.0</td>\n",
              "      <td>0.0</td>\n",
              "      <td>57.0</td>\n",
              "    </tr>\n",
              "  </tbody>\n",
              "</table>\n",
              "</div>"
            ],
            "text/plain": [
              "   no_of_trainings   age  previous_year_rating  length_of_service  \\\n",
              "0              1.0  31.0                   5.0                5.0   \n",
              "1              1.0  45.0                   4.0               19.0   \n",
              "\n",
              "   KPIs_met >80%  awards_won?  avg_training_score  \n",
              "0            1.0          0.0                55.0  \n",
              "1            0.0          0.0                57.0  "
            ]
          },
          "metadata": {
            "tags": []
          },
          "execution_count": 155
        }
      ]
    },
    {
      "cell_type": "markdown",
      "metadata": {
        "id": "CEKm9eThIQd_"
      },
      "source": [
        "Categóricas"
      ]
    },
    {
      "cell_type": "code",
      "metadata": {
        "id": "22ttqoE4IQd_",
        "outputId": "fc1e842f-5744-4d4e-e057-fdf59820c342"
      },
      "source": [
        "X_test_cat_imputed = pd.DataFrame(imputer_cat.transform(X_test_cat), columns = X_test_cat.columns)\n",
        "X_test_cat_imputed.head(2)"
      ],
      "execution_count": null,
      "outputs": [
        {
          "output_type": "execute_result",
          "data": {
            "text/html": [
              "<div>\n",
              "<style scoped>\n",
              "    .dataframe tbody tr th:only-of-type {\n",
              "        vertical-align: middle;\n",
              "    }\n",
              "\n",
              "    .dataframe tbody tr th {\n",
              "        vertical-align: top;\n",
              "    }\n",
              "\n",
              "    .dataframe thead th {\n",
              "        text-align: right;\n",
              "    }\n",
              "</style>\n",
              "<table border=\"1\" class=\"dataframe\">\n",
              "  <thead>\n",
              "    <tr style=\"text-align: right;\">\n",
              "      <th></th>\n",
              "      <th>department</th>\n",
              "      <th>region</th>\n",
              "      <th>education</th>\n",
              "      <th>gender</th>\n",
              "      <th>recruitment_channel</th>\n",
              "    </tr>\n",
              "  </thead>\n",
              "  <tbody>\n",
              "    <tr>\n",
              "      <th>0</th>\n",
              "      <td>Finance</td>\n",
              "      <td>region_28</td>\n",
              "      <td>Bachelor's</td>\n",
              "      <td>m</td>\n",
              "      <td>sourcing</td>\n",
              "    </tr>\n",
              "    <tr>\n",
              "      <th>1</th>\n",
              "      <td>Operations</td>\n",
              "      <td>region_19</td>\n",
              "      <td>Bachelor's</td>\n",
              "      <td>m</td>\n",
              "      <td>sourcing</td>\n",
              "    </tr>\n",
              "  </tbody>\n",
              "</table>\n",
              "</div>"
            ],
            "text/plain": [
              "   department     region   education gender recruitment_channel\n",
              "0     Finance  region_28  Bachelor's      m            sourcing\n",
              "1  Operations  region_19  Bachelor's      m            sourcing"
            ]
          },
          "metadata": {
            "tags": []
          },
          "execution_count": 156
        }
      ]
    },
    {
      "cell_type": "markdown",
      "metadata": {
        "id": "WgUKcByJIQd_"
      },
      "source": [
        "Encoding"
      ]
    },
    {
      "cell_type": "code",
      "metadata": {
        "id": "h08GT2s9IQd_"
      },
      "source": [
        "X_test_cat_dummies = pd.get_dummies(X_test_cat_imputed, drop_first=True)"
      ],
      "execution_count": null,
      "outputs": []
    },
    {
      "cell_type": "markdown",
      "metadata": {
        "id": "nObTXbrBIQeA"
      },
      "source": [
        "Capeo de valores atípicos (con los obtenidos del train)"
      ]
    },
    {
      "cell_type": "code",
      "metadata": {
        "id": "SOW1mLCIIQeA"
      },
      "source": [
        "X_test_num_imputed['no_of_trainings'] = np.clip(X_test_num_imputed['no_of_trainings'], None, p99)\n",
        "X_test_num_imputed['length_of_service'] = np.clip(X_test_num_imputed['length_of_service'], None, p999)\n"
      ],
      "execution_count": null,
      "outputs": []
    },
    {
      "cell_type": "code",
      "metadata": {
        "id": "Q4ZcrXjIIQeA",
        "outputId": "25356f7f-562f-4c23-8793-31c063daccdf"
      },
      "source": [
        "X_test_num_imputed.describe()"
      ],
      "execution_count": null,
      "outputs": [
        {
          "output_type": "execute_result",
          "data": {
            "text/html": [
              "<div>\n",
              "<style scoped>\n",
              "    .dataframe tbody tr th:only-of-type {\n",
              "        vertical-align: middle;\n",
              "    }\n",
              "\n",
              "    .dataframe tbody tr th {\n",
              "        vertical-align: top;\n",
              "    }\n",
              "\n",
              "    .dataframe thead th {\n",
              "        text-align: right;\n",
              "    }\n",
              "</style>\n",
              "<table border=\"1\" class=\"dataframe\">\n",
              "  <thead>\n",
              "    <tr style=\"text-align: right;\">\n",
              "      <th></th>\n",
              "      <th>no_of_trainings</th>\n",
              "      <th>age</th>\n",
              "      <th>previous_year_rating</th>\n",
              "      <th>length_of_service</th>\n",
              "      <th>KPIs_met &gt;80%</th>\n",
              "      <th>awards_won?</th>\n",
              "      <th>avg_training_score</th>\n",
              "    </tr>\n",
              "  </thead>\n",
              "  <tbody>\n",
              "    <tr>\n",
              "      <th>count</th>\n",
              "      <td>10962.000000</td>\n",
              "      <td>10962.000000</td>\n",
              "      <td>10962.000000</td>\n",
              "      <td>10962.000000</td>\n",
              "      <td>10962.000000</td>\n",
              "      <td>10962.000000</td>\n",
              "      <td>10962.000000</td>\n",
              "    </tr>\n",
              "    <tr>\n",
              "      <th>mean</th>\n",
              "      <td>1.253695</td>\n",
              "      <td>34.795840</td>\n",
              "      <td>3.288816</td>\n",
              "      <td>5.838533</td>\n",
              "      <td>0.348294</td>\n",
              "      <td>0.022715</td>\n",
              "      <td>63.385149</td>\n",
              "    </tr>\n",
              "    <tr>\n",
              "      <th>std</th>\n",
              "      <td>0.574484</td>\n",
              "      <td>7.690453</td>\n",
              "      <td>1.214501</td>\n",
              "      <td>4.271062</td>\n",
              "      <td>0.476451</td>\n",
              "      <td>0.149000</td>\n",
              "      <td>13.358953</td>\n",
              "    </tr>\n",
              "    <tr>\n",
              "      <th>min</th>\n",
              "      <td>1.000000</td>\n",
              "      <td>20.000000</td>\n",
              "      <td>1.000000</td>\n",
              "      <td>1.000000</td>\n",
              "      <td>0.000000</td>\n",
              "      <td>0.000000</td>\n",
              "      <td>40.000000</td>\n",
              "    </tr>\n",
              "    <tr>\n",
              "      <th>25%</th>\n",
              "      <td>1.000000</td>\n",
              "      <td>29.000000</td>\n",
              "      <td>3.000000</td>\n",
              "      <td>3.000000</td>\n",
              "      <td>0.000000</td>\n",
              "      <td>0.000000</td>\n",
              "      <td>51.000000</td>\n",
              "    </tr>\n",
              "    <tr>\n",
              "      <th>50%</th>\n",
              "      <td>1.000000</td>\n",
              "      <td>33.000000</td>\n",
              "      <td>3.000000</td>\n",
              "      <td>5.000000</td>\n",
              "      <td>0.000000</td>\n",
              "      <td>0.000000</td>\n",
              "      <td>60.000000</td>\n",
              "    </tr>\n",
              "    <tr>\n",
              "      <th>75%</th>\n",
              "      <td>1.000000</td>\n",
              "      <td>39.000000</td>\n",
              "      <td>4.000000</td>\n",
              "      <td>7.000000</td>\n",
              "      <td>1.000000</td>\n",
              "      <td>0.000000</td>\n",
              "      <td>76.000000</td>\n",
              "    </tr>\n",
              "    <tr>\n",
              "      <th>max</th>\n",
              "      <td>4.000000</td>\n",
              "      <td>60.000000</td>\n",
              "      <td>5.000000</td>\n",
              "      <td>29.000000</td>\n",
              "      <td>1.000000</td>\n",
              "      <td>1.000000</td>\n",
              "      <td>99.000000</td>\n",
              "    </tr>\n",
              "  </tbody>\n",
              "</table>\n",
              "</div>"
            ],
            "text/plain": [
              "       no_of_trainings           age  previous_year_rating  length_of_service  \\\n",
              "count     10962.000000  10962.000000          10962.000000       10962.000000   \n",
              "mean          1.253695     34.795840              3.288816           5.838533   \n",
              "std           0.574484      7.690453              1.214501           4.271062   \n",
              "min           1.000000     20.000000              1.000000           1.000000   \n",
              "25%           1.000000     29.000000              3.000000           3.000000   \n",
              "50%           1.000000     33.000000              3.000000           5.000000   \n",
              "75%           1.000000     39.000000              4.000000           7.000000   \n",
              "max           4.000000     60.000000              5.000000          29.000000   \n",
              "\n",
              "       KPIs_met >80%   awards_won?  avg_training_score  \n",
              "count   10962.000000  10962.000000        10962.000000  \n",
              "mean        0.348294      0.022715           63.385149  \n",
              "std         0.476451      0.149000           13.358953  \n",
              "min         0.000000      0.000000           40.000000  \n",
              "25%         0.000000      0.000000           51.000000  \n",
              "50%         0.000000      0.000000           60.000000  \n",
              "75%         1.000000      0.000000           76.000000  \n",
              "max         1.000000      1.000000           99.000000  "
            ]
          },
          "metadata": {
            "tags": []
          },
          "execution_count": 159
        }
      ]
    },
    {
      "cell_type": "code",
      "metadata": {
        "id": "BwEOMX_rIQeA"
      },
      "source": [
        "X_test_num_imputed['length_of_service'] = np.log(X_test_num_imputed['length_of_service'])"
      ],
      "execution_count": null,
      "outputs": []
    },
    {
      "cell_type": "markdown",
      "metadata": {
        "id": "n8-kLUz3IQeA"
      },
      "source": [
        "Consolidación"
      ]
    },
    {
      "cell_type": "code",
      "metadata": {
        "id": "p7cIj9V2IQeB"
      },
      "source": [
        "X_test_total = pd.concat([X_test_num_imputed, X_test_cat_dummies], axis = 1)"
      ],
      "execution_count": null,
      "outputs": []
    },
    {
      "cell_type": "code",
      "metadata": {
        "id": "gacOaP0eIQeB"
      },
      "source": [
        "X_test_total['Indice_capa_añoTrabajo'] = X_test_total['no_of_trainings'] / (X_test_total['length_of_service']+1)"
      ],
      "execution_count": null,
      "outputs": []
    },
    {
      "cell_type": "code",
      "metadata": {
        "id": "sVMtfALXIQeB"
      },
      "source": [
        "X_test_scaled = pd.DataFrame(scaler.transform(X_test_total), columns = X_test_total.columns)"
      ],
      "execution_count": null,
      "outputs": []
    },
    {
      "cell_type": "markdown",
      "metadata": {
        "id": "Pm3PXwqwIQeB"
      },
      "source": [
        "Verificamos que ambas tengan la misma cantidad de columnas"
      ]
    },
    {
      "cell_type": "code",
      "metadata": {
        "id": "Gpn2Pf6tIQeB",
        "outputId": "e2cc4046-914a-46d7-a012-649bdb22bc6e"
      },
      "source": [
        "X_train_scaled.shape"
      ],
      "execution_count": null,
      "outputs": [
        {
          "output_type": "execute_result",
          "data": {
            "text/plain": [
              "(43846, 54)"
            ]
          },
          "metadata": {
            "tags": []
          },
          "execution_count": 164
        }
      ]
    },
    {
      "cell_type": "markdown",
      "metadata": {
        "id": "JV2nhNyKIQeC"
      },
      "source": [
        "# X_test_scaled.shape"
      ]
    },
    {
      "cell_type": "markdown",
      "metadata": {
        "id": "S_axQCsBIQeC"
      },
      "source": [
        "Utilizaremos X_train_scaled, y_train\n",
        "             X_test_scaled, y_test"
      ]
    },
    {
      "cell_type": "markdown",
      "metadata": {
        "id": "PIzvQCmKIQeC"
      },
      "source": [
        "## Balanceo de clases"
      ]
    },
    {
      "cell_type": "markdown",
      "metadata": {
        "id": "WICKkiQvIQeC"
      },
      "source": [
        "Smote + Tomek"
      ]
    },
    {
      "cell_type": "code",
      "metadata": {
        "id": "33CrUu9rIQeC"
      },
      "source": [
        "\n",
        "from imblearn.combine import SMOTETomek\n",
        "smt = SMOTETomek(sampling_strategy='all', random_state=seed)\n",
        "X_smt, y_smt = smt.fit_resample(X_train_scaled, y_train)"
      ],
      "execution_count": null,
      "outputs": []
    },
    {
      "cell_type": "code",
      "metadata": {
        "id": "pdf6FCy4IQeD",
        "outputId": "41098484-8ec5-4401-ac17-742ec925b298"
      },
      "source": [
        "from collections import Counter\n",
        "print (\"Distribution antes resampling {}\".format(Counter(y_train)))\n",
        "print (\"Distribution después resampling {}\".format(Counter(y_smt)))"
      ],
      "execution_count": null,
      "outputs": [
        {
          "output_type": "stream",
          "text": [
            "Distribution antes resampling Counter({0: 40112, 1: 3734})\n",
            "Distribution después resampling Counter({0: 39745, 1: 39745})\n"
          ],
          "name": "stdout"
        }
      ]
    },
    {
      "cell_type": "markdown",
      "metadata": {
        "id": "KAxaNXE1IQeD"
      },
      "source": [
        "# MODELAMIENTO"
      ]
    },
    {
      "cell_type": "markdown",
      "metadata": {
        "id": "762ONO6cIQeD"
      },
      "source": [
        "### MODELO CATBOOST"
      ]
    },
    {
      "cell_type": "code",
      "metadata": {
        "id": "ZBTexOK2IQeD"
      },
      "source": [
        "from catboost import CatBoostClassifier"
      ],
      "execution_count": null,
      "outputs": []
    },
    {
      "cell_type": "code",
      "metadata": {
        "id": "lbjfrfhpIQeD",
        "outputId": "f86190bb-b91d-42fc-e49d-15e8cdbef8ff"
      },
      "source": [
        "model_catboost = CatBoostClassifier()\n",
        "\n",
        "model_catboost.fit(X_smt, y_smt)\n",
        " \n",
        "score = model_catboost.score(X_smt,y_smt)\n",
        " \n",
        "print(\"Metrica del modelo\", score)"
      ],
      "execution_count": null,
      "outputs": [
        {
          "output_type": "stream",
          "text": [
            "Learning rate set to 0.066737\n",
            "0:\tlearn: 0.6325160\ttotal: 29.2ms\tremaining: 29.2s\n",
            "1:\tlearn: 0.5796369\ttotal: 56.5ms\tremaining: 28.2s\n",
            "2:\tlearn: 0.5446922\ttotal: 81ms\tremaining: 26.9s\n",
            "3:\tlearn: 0.5095242\ttotal: 106ms\tremaining: 26.4s\n",
            "4:\tlearn: 0.4861703\ttotal: 130ms\tremaining: 25.8s\n",
            "5:\tlearn: 0.4634357\ttotal: 160ms\tremaining: 26.5s\n",
            "6:\tlearn: 0.4456613\ttotal: 185ms\tremaining: 26.3s\n",
            "7:\tlearn: 0.4275380\ttotal: 212ms\tremaining: 26.3s\n",
            "8:\tlearn: 0.4097442\ttotal: 237ms\tremaining: 26.1s\n",
            "9:\tlearn: 0.3995258\ttotal: 277ms\tremaining: 27.4s\n",
            "10:\tlearn: 0.3862123\ttotal: 307ms\tremaining: 27.6s\n",
            "11:\tlearn: 0.3724642\ttotal: 336ms\tremaining: 27.7s\n",
            "12:\tlearn: 0.3661128\ttotal: 360ms\tremaining: 27.3s\n",
            "13:\tlearn: 0.3582524\ttotal: 388ms\tremaining: 27.3s\n",
            "14:\tlearn: 0.3534231\ttotal: 413ms\tremaining: 27.1s\n",
            "15:\tlearn: 0.3438146\ttotal: 438ms\tremaining: 26.9s\n",
            "16:\tlearn: 0.3394572\ttotal: 462ms\tremaining: 26.7s\n",
            "17:\tlearn: 0.3350930\ttotal: 499ms\tremaining: 27.2s\n",
            "18:\tlearn: 0.3291992\ttotal: 536ms\tremaining: 27.7s\n",
            "19:\tlearn: 0.3144464\ttotal: 561ms\tremaining: 27.5s\n",
            "20:\tlearn: 0.3034996\ttotal: 588ms\tremaining: 27.4s\n",
            "21:\tlearn: 0.2983747\ttotal: 613ms\tremaining: 27.2s\n",
            "22:\tlearn: 0.2924498\ttotal: 651ms\tremaining: 27.6s\n",
            "23:\tlearn: 0.2869401\ttotal: 682ms\tremaining: 27.7s\n",
            "24:\tlearn: 0.2754741\ttotal: 711ms\tremaining: 27.7s\n",
            "25:\tlearn: 0.2671787\ttotal: 743ms\tremaining: 27.8s\n",
            "26:\tlearn: 0.2615342\ttotal: 791ms\tremaining: 28.5s\n",
            "27:\tlearn: 0.2589627\ttotal: 822ms\tremaining: 28.6s\n",
            "28:\tlearn: 0.2540658\ttotal: 852ms\tremaining: 28.5s\n",
            "29:\tlearn: 0.2523523\ttotal: 880ms\tremaining: 28.5s\n",
            "30:\tlearn: 0.2500688\ttotal: 911ms\tremaining: 28.5s\n",
            "31:\tlearn: 0.2484079\ttotal: 970ms\tremaining: 29.3s\n",
            "32:\tlearn: 0.2467632\ttotal: 1.01s\tremaining: 29.6s\n",
            "33:\tlearn: 0.2450403\ttotal: 1.04s\tremaining: 29.7s\n",
            "34:\tlearn: 0.2434339\ttotal: 1.07s\tremaining: 29.5s\n",
            "35:\tlearn: 0.2414313\ttotal: 1.1s\tremaining: 29.4s\n",
            "36:\tlearn: 0.2393336\ttotal: 1.13s\tremaining: 29.4s\n",
            "37:\tlearn: 0.2363972\ttotal: 1.16s\tremaining: 29.4s\n",
            "38:\tlearn: 0.2354875\ttotal: 1.21s\tremaining: 29.8s\n",
            "39:\tlearn: 0.2305612\ttotal: 1.24s\tremaining: 29.7s\n",
            "40:\tlearn: 0.2271771\ttotal: 1.27s\tremaining: 29.6s\n",
            "41:\tlearn: 0.2228752\ttotal: 1.29s\tremaining: 29.6s\n",
            "42:\tlearn: 0.2199624\ttotal: 1.32s\tremaining: 29.4s\n",
            "43:\tlearn: 0.2180126\ttotal: 1.35s\tremaining: 29.4s\n",
            "44:\tlearn: 0.2146896\ttotal: 1.38s\tremaining: 29.3s\n",
            "45:\tlearn: 0.2117382\ttotal: 1.42s\tremaining: 29.5s\n",
            "46:\tlearn: 0.2096722\ttotal: 1.46s\tremaining: 29.6s\n",
            "47:\tlearn: 0.2066581\ttotal: 1.49s\tremaining: 29.5s\n",
            "48:\tlearn: 0.2050832\ttotal: 1.52s\tremaining: 29.4s\n",
            "49:\tlearn: 0.2037095\ttotal: 1.54s\tremaining: 29.3s\n",
            "50:\tlearn: 0.1999437\ttotal: 1.57s\tremaining: 29.2s\n",
            "51:\tlearn: 0.1984444\ttotal: 1.6s\tremaining: 29.2s\n",
            "52:\tlearn: 0.1978474\ttotal: 1.63s\tremaining: 29.2s\n",
            "53:\tlearn: 0.1954110\ttotal: 1.67s\tremaining: 29.3s\n",
            "54:\tlearn: 0.1938172\ttotal: 1.71s\tremaining: 29.3s\n",
            "55:\tlearn: 0.1923393\ttotal: 1.77s\tremaining: 29.8s\n",
            "56:\tlearn: 0.1895294\ttotal: 1.81s\tremaining: 30s\n",
            "57:\tlearn: 0.1883948\ttotal: 1.87s\tremaining: 30.4s\n",
            "58:\tlearn: 0.1880459\ttotal: 1.92s\tremaining: 30.6s\n",
            "59:\tlearn: 0.1872047\ttotal: 1.97s\tremaining: 30.8s\n",
            "60:\tlearn: 0.1868020\ttotal: 2.02s\tremaining: 31.1s\n",
            "61:\tlearn: 0.1849025\ttotal: 2.07s\tremaining: 31.3s\n",
            "62:\tlearn: 0.1845035\ttotal: 2.12s\tremaining: 31.5s\n",
            "63:\tlearn: 0.1827598\ttotal: 2.17s\tremaining: 31.7s\n",
            "64:\tlearn: 0.1819281\ttotal: 2.21s\tremaining: 31.8s\n",
            "65:\tlearn: 0.1806082\ttotal: 2.26s\tremaining: 31.9s\n",
            "66:\tlearn: 0.1790470\ttotal: 2.31s\tremaining: 32.1s\n",
            "67:\tlearn: 0.1783950\ttotal: 2.36s\tremaining: 32.3s\n",
            "68:\tlearn: 0.1780289\ttotal: 2.4s\tremaining: 32.5s\n",
            "69:\tlearn: 0.1773750\ttotal: 2.46s\tremaining: 32.6s\n",
            "70:\tlearn: 0.1766165\ttotal: 2.5s\tremaining: 32.8s\n",
            "71:\tlearn: 0.1752891\ttotal: 2.56s\tremaining: 32.9s\n",
            "72:\tlearn: 0.1746093\ttotal: 2.6s\tremaining: 33s\n",
            "73:\tlearn: 0.1741052\ttotal: 2.64s\tremaining: 33.1s\n",
            "74:\tlearn: 0.1734977\ttotal: 2.7s\tremaining: 33.3s\n",
            "75:\tlearn: 0.1728461\ttotal: 2.75s\tremaining: 33.4s\n",
            "76:\tlearn: 0.1717284\ttotal: 2.8s\tremaining: 33.6s\n",
            "77:\tlearn: 0.1712012\ttotal: 2.84s\tremaining: 33.6s\n",
            "78:\tlearn: 0.1700433\ttotal: 2.9s\tremaining: 33.8s\n",
            "79:\tlearn: 0.1698274\ttotal: 2.95s\tremaining: 33.9s\n",
            "80:\tlearn: 0.1691562\ttotal: 3s\tremaining: 34.1s\n",
            "81:\tlearn: 0.1688290\ttotal: 3.05s\tremaining: 34.1s\n",
            "82:\tlearn: 0.1683688\ttotal: 3.1s\tremaining: 34.2s\n",
            "83:\tlearn: 0.1675938\ttotal: 3.13s\tremaining: 34.2s\n",
            "84:\tlearn: 0.1670930\ttotal: 3.19s\tremaining: 34.4s\n",
            "85:\tlearn: 0.1662659\ttotal: 3.25s\tremaining: 34.5s\n",
            "86:\tlearn: 0.1650741\ttotal: 3.3s\tremaining: 34.6s\n",
            "87:\tlearn: 0.1640780\ttotal: 3.36s\tremaining: 34.8s\n",
            "88:\tlearn: 0.1637544\ttotal: 3.42s\tremaining: 35.1s\n",
            "89:\tlearn: 0.1635965\ttotal: 3.47s\tremaining: 35.1s\n",
            "90:\tlearn: 0.1629477\ttotal: 3.52s\tremaining: 35.1s\n",
            "91:\tlearn: 0.1619238\ttotal: 3.56s\tremaining: 35.2s\n",
            "92:\tlearn: 0.1613682\ttotal: 3.61s\tremaining: 35.2s\n",
            "93:\tlearn: 0.1603472\ttotal: 3.65s\tremaining: 35.2s\n",
            "94:\tlearn: 0.1596379\ttotal: 3.7s\tremaining: 35.3s\n",
            "95:\tlearn: 0.1589684\ttotal: 3.75s\tremaining: 35.3s\n",
            "96:\tlearn: 0.1587934\ttotal: 3.8s\tremaining: 35.4s\n",
            "97:\tlearn: 0.1583864\ttotal: 3.86s\tremaining: 35.5s\n",
            "98:\tlearn: 0.1581230\ttotal: 3.91s\tremaining: 35.6s\n",
            "99:\tlearn: 0.1575023\ttotal: 3.96s\tremaining: 35.7s\n",
            "100:\tlearn: 0.1568303\ttotal: 4.01s\tremaining: 35.7s\n",
            "101:\tlearn: 0.1554188\ttotal: 4.07s\tremaining: 35.8s\n",
            "102:\tlearn: 0.1551316\ttotal: 4.12s\tremaining: 35.8s\n",
            "103:\tlearn: 0.1542398\ttotal: 4.17s\tremaining: 36s\n",
            "104:\tlearn: 0.1536638\ttotal: 4.23s\tremaining: 36s\n",
            "105:\tlearn: 0.1529448\ttotal: 4.29s\tremaining: 36.2s\n",
            "106:\tlearn: 0.1518960\ttotal: 4.33s\tremaining: 36.2s\n",
            "107:\tlearn: 0.1513677\ttotal: 4.39s\tremaining: 36.2s\n",
            "108:\tlearn: 0.1510610\ttotal: 4.42s\tremaining: 36.2s\n",
            "109:\tlearn: 0.1504450\ttotal: 4.48s\tremaining: 36.3s\n",
            "110:\tlearn: 0.1495595\ttotal: 4.54s\tremaining: 36.4s\n",
            "111:\tlearn: 0.1491388\ttotal: 4.58s\tremaining: 36.3s\n",
            "112:\tlearn: 0.1488944\ttotal: 4.63s\tremaining: 36.3s\n",
            "113:\tlearn: 0.1485185\ttotal: 4.68s\tremaining: 36.3s\n",
            "114:\tlearn: 0.1481779\ttotal: 4.73s\tremaining: 36.4s\n",
            "115:\tlearn: 0.1479304\ttotal: 4.79s\tremaining: 36.5s\n",
            "116:\tlearn: 0.1474230\ttotal: 4.84s\tremaining: 36.5s\n",
            "117:\tlearn: 0.1468210\ttotal: 4.9s\tremaining: 36.6s\n",
            "118:\tlearn: 0.1463836\ttotal: 4.95s\tremaining: 36.6s\n",
            "119:\tlearn: 0.1462354\ttotal: 4.98s\tremaining: 36.5s\n",
            "120:\tlearn: 0.1455148\ttotal: 5.01s\tremaining: 36.4s\n",
            "121:\tlearn: 0.1452746\ttotal: 5.05s\tremaining: 36.3s\n",
            "122:\tlearn: 0.1444068\ttotal: 5.08s\tremaining: 36.3s\n",
            "123:\tlearn: 0.1436133\ttotal: 5.12s\tremaining: 36.2s\n",
            "124:\tlearn: 0.1434945\ttotal: 5.18s\tremaining: 36.2s\n",
            "125:\tlearn: 0.1432806\ttotal: 5.23s\tremaining: 36.3s\n",
            "126:\tlearn: 0.1428554\ttotal: 5.29s\tremaining: 36.3s\n",
            "127:\tlearn: 0.1427060\ttotal: 5.34s\tremaining: 36.4s\n",
            "128:\tlearn: 0.1423988\ttotal: 5.39s\tremaining: 36.4s\n",
            "129:\tlearn: 0.1420672\ttotal: 5.44s\tremaining: 36.4s\n",
            "130:\tlearn: 0.1418997\ttotal: 5.5s\tremaining: 36.5s\n",
            "131:\tlearn: 0.1416403\ttotal: 5.56s\tremaining: 36.6s\n",
            "132:\tlearn: 0.1414511\ttotal: 5.61s\tremaining: 36.6s\n",
            "133:\tlearn: 0.1410472\ttotal: 5.66s\tremaining: 36.6s\n",
            "134:\tlearn: 0.1409486\ttotal: 5.7s\tremaining: 36.5s\n",
            "135:\tlearn: 0.1407900\ttotal: 5.77s\tremaining: 36.6s\n",
            "136:\tlearn: 0.1404350\ttotal: 5.82s\tremaining: 36.6s\n",
            "137:\tlearn: 0.1399742\ttotal: 5.86s\tremaining: 36.6s\n",
            "138:\tlearn: 0.1397763\ttotal: 5.92s\tremaining: 36.7s\n",
            "139:\tlearn: 0.1395129\ttotal: 5.97s\tremaining: 36.7s\n",
            "140:\tlearn: 0.1393407\ttotal: 6.03s\tremaining: 36.7s\n",
            "141:\tlearn: 0.1390293\ttotal: 6.07s\tremaining: 36.6s\n",
            "142:\tlearn: 0.1384687\ttotal: 6.11s\tremaining: 36.6s\n",
            "143:\tlearn: 0.1377621\ttotal: 6.14s\tremaining: 36.5s\n",
            "144:\tlearn: 0.1376713\ttotal: 6.16s\tremaining: 36.3s\n",
            "145:\tlearn: 0.1375470\ttotal: 6.19s\tremaining: 36.2s\n",
            "146:\tlearn: 0.1367579\ttotal: 6.22s\tremaining: 36.1s\n",
            "147:\tlearn: 0.1357417\ttotal: 6.26s\tremaining: 36s\n",
            "148:\tlearn: 0.1353087\ttotal: 6.29s\tremaining: 35.9s\n",
            "149:\tlearn: 0.1343631\ttotal: 6.32s\tremaining: 35.8s\n",
            "150:\tlearn: 0.1341406\ttotal: 6.34s\tremaining: 35.6s\n",
            "151:\tlearn: 0.1337665\ttotal: 6.37s\tremaining: 35.6s\n",
            "152:\tlearn: 0.1333186\ttotal: 6.39s\tremaining: 35.4s\n",
            "153:\tlearn: 0.1332271\ttotal: 6.42s\tremaining: 35.3s\n",
            "154:\tlearn: 0.1329147\ttotal: 6.44s\tremaining: 35.1s\n",
            "155:\tlearn: 0.1324107\ttotal: 6.46s\tremaining: 35s\n",
            "156:\tlearn: 0.1320173\ttotal: 6.49s\tremaining: 34.8s\n",
            "157:\tlearn: 0.1314656\ttotal: 6.51s\tremaining: 34.7s\n",
            "158:\tlearn: 0.1312955\ttotal: 6.54s\tremaining: 34.6s\n",
            "159:\tlearn: 0.1309456\ttotal: 6.58s\tremaining: 34.5s\n",
            "160:\tlearn: 0.1306479\ttotal: 6.61s\tremaining: 34.5s\n",
            "161:\tlearn: 0.1305254\ttotal: 6.64s\tremaining: 34.4s\n",
            "162:\tlearn: 0.1300315\ttotal: 6.67s\tremaining: 34.3s\n",
            "163:\tlearn: 0.1298809\ttotal: 6.7s\tremaining: 34.1s\n",
            "164:\tlearn: 0.1293292\ttotal: 6.73s\tremaining: 34.1s\n",
            "165:\tlearn: 0.1291610\ttotal: 6.77s\tremaining: 34s\n",
            "166:\tlearn: 0.1289525\ttotal: 6.8s\tremaining: 33.9s\n",
            "167:\tlearn: 0.1287685\ttotal: 6.82s\tremaining: 33.8s\n",
            "168:\tlearn: 0.1286337\ttotal: 6.85s\tremaining: 33.7s\n",
            "169:\tlearn: 0.1285531\ttotal: 6.89s\tremaining: 33.6s\n",
            "170:\tlearn: 0.1283187\ttotal: 6.91s\tremaining: 33.5s\n",
            "171:\tlearn: 0.1278465\ttotal: 6.95s\tremaining: 33.5s\n",
            "172:\tlearn: 0.1277037\ttotal: 6.98s\tremaining: 33.4s\n",
            "173:\tlearn: 0.1275065\ttotal: 7.01s\tremaining: 33.3s\n",
            "174:\tlearn: 0.1269815\ttotal: 7.04s\tremaining: 33.2s\n",
            "175:\tlearn: 0.1264207\ttotal: 7.07s\tremaining: 33.1s\n",
            "176:\tlearn: 0.1263123\ttotal: 7.1s\tremaining: 33s\n",
            "177:\tlearn: 0.1258823\ttotal: 7.13s\tremaining: 32.9s\n",
            "178:\tlearn: 0.1249661\ttotal: 7.17s\tremaining: 32.9s\n",
            "179:\tlearn: 0.1247246\ttotal: 7.2s\tremaining: 32.8s\n",
            "180:\tlearn: 0.1242545\ttotal: 7.26s\tremaining: 32.8s\n",
            "181:\tlearn: 0.1238376\ttotal: 7.31s\tremaining: 32.9s\n",
            "182:\tlearn: 0.1237057\ttotal: 7.37s\tremaining: 32.9s\n",
            "183:\tlearn: 0.1233412\ttotal: 7.42s\tremaining: 32.9s\n",
            "184:\tlearn: 0.1232207\ttotal: 7.48s\tremaining: 33s\n",
            "185:\tlearn: 0.1230631\ttotal: 7.54s\tremaining: 33s\n",
            "186:\tlearn: 0.1225617\ttotal: 7.6s\tremaining: 33s\n",
            "187:\tlearn: 0.1221689\ttotal: 7.64s\tremaining: 33s\n",
            "188:\tlearn: 0.1220155\ttotal: 7.68s\tremaining: 33s\n",
            "189:\tlearn: 0.1219157\ttotal: 7.74s\tremaining: 33s\n",
            "190:\tlearn: 0.1218065\ttotal: 7.79s\tremaining: 33s\n",
            "191:\tlearn: 0.1212996\ttotal: 7.83s\tremaining: 32.9s\n",
            "192:\tlearn: 0.1211294\ttotal: 7.87s\tremaining: 32.9s\n",
            "193:\tlearn: 0.1208409\ttotal: 7.9s\tremaining: 32.8s\n",
            "194:\tlearn: 0.1206895\ttotal: 7.92s\tremaining: 32.7s\n",
            "195:\tlearn: 0.1205735\ttotal: 7.96s\tremaining: 32.6s\n",
            "196:\tlearn: 0.1204821\ttotal: 7.99s\tremaining: 32.6s\n",
            "197:\tlearn: 0.1200918\ttotal: 8.02s\tremaining: 32.5s\n",
            "198:\tlearn: 0.1197288\ttotal: 8.06s\tremaining: 32.5s\n",
            "199:\tlearn: 0.1195757\ttotal: 8.09s\tremaining: 32.4s\n",
            "200:\tlearn: 0.1191819\ttotal: 8.12s\tremaining: 32.3s\n",
            "201:\tlearn: 0.1190057\ttotal: 8.15s\tremaining: 32.2s\n",
            "202:\tlearn: 0.1186363\ttotal: 8.2s\tremaining: 32.2s\n",
            "203:\tlearn: 0.1184311\ttotal: 8.24s\tremaining: 32.2s\n",
            "204:\tlearn: 0.1183205\ttotal: 8.28s\tremaining: 32.1s\n",
            "205:\tlearn: 0.1181992\ttotal: 8.33s\tremaining: 32.1s\n",
            "206:\tlearn: 0.1181263\ttotal: 8.38s\tremaining: 32.1s\n",
            "207:\tlearn: 0.1176001\ttotal: 8.42s\tremaining: 32.1s\n",
            "208:\tlearn: 0.1174148\ttotal: 8.47s\tremaining: 32.1s\n",
            "209:\tlearn: 0.1173586\ttotal: 8.52s\tremaining: 32s\n",
            "210:\tlearn: 0.1167518\ttotal: 8.56s\tremaining: 32s\n",
            "211:\tlearn: 0.1166007\ttotal: 8.61s\tremaining: 32s\n",
            "212:\tlearn: 0.1162312\ttotal: 8.65s\tremaining: 32s\n",
            "213:\tlearn: 0.1158240\ttotal: 8.7s\tremaining: 31.9s\n",
            "214:\tlearn: 0.1156707\ttotal: 8.75s\tremaining: 32s\n",
            "215:\tlearn: 0.1155732\ttotal: 8.8s\tremaining: 31.9s\n",
            "216:\tlearn: 0.1154256\ttotal: 8.86s\tremaining: 32s\n",
            "217:\tlearn: 0.1152931\ttotal: 8.92s\tremaining: 32s\n",
            "218:\tlearn: 0.1152210\ttotal: 8.97s\tremaining: 32s\n",
            "219:\tlearn: 0.1149719\ttotal: 9.01s\tremaining: 32s\n",
            "220:\tlearn: 0.1145023\ttotal: 9.06s\tremaining: 31.9s\n",
            "221:\tlearn: 0.1143499\ttotal: 9.12s\tremaining: 32s\n",
            "222:\tlearn: 0.1141775\ttotal: 9.17s\tremaining: 31.9s\n",
            "223:\tlearn: 0.1139585\ttotal: 9.23s\tremaining: 32s\n",
            "224:\tlearn: 0.1137150\ttotal: 9.28s\tremaining: 32s\n",
            "225:\tlearn: 0.1136159\ttotal: 9.32s\tremaining: 31.9s\n",
            "226:\tlearn: 0.1132714\ttotal: 9.37s\tremaining: 31.9s\n",
            "227:\tlearn: 0.1129613\ttotal: 9.42s\tremaining: 31.9s\n",
            "228:\tlearn: 0.1128021\ttotal: 9.47s\tremaining: 31.9s\n",
            "229:\tlearn: 0.1126247\ttotal: 9.5s\tremaining: 31.8s\n",
            "230:\tlearn: 0.1124249\ttotal: 9.54s\tremaining: 31.8s\n",
            "231:\tlearn: 0.1121512\ttotal: 9.57s\tremaining: 31.7s\n",
            "232:\tlearn: 0.1120869\ttotal: 9.61s\tremaining: 31.6s\n",
            "233:\tlearn: 0.1119274\ttotal: 9.64s\tremaining: 31.6s\n",
            "234:\tlearn: 0.1117270\ttotal: 9.67s\tremaining: 31.5s\n",
            "235:\tlearn: 0.1116149\ttotal: 9.7s\tremaining: 31.4s\n",
            "236:\tlearn: 0.1114572\ttotal: 9.74s\tremaining: 31.4s\n",
            "237:\tlearn: 0.1113918\ttotal: 9.78s\tremaining: 31.3s\n",
            "238:\tlearn: 0.1113006\ttotal: 9.82s\tremaining: 31.3s\n",
            "239:\tlearn: 0.1112403\ttotal: 9.87s\tremaining: 31.3s\n",
            "240:\tlearn: 0.1110768\ttotal: 9.93s\tremaining: 31.3s\n",
            "241:\tlearn: 0.1108031\ttotal: 9.97s\tremaining: 31.2s\n",
            "242:\tlearn: 0.1106583\ttotal: 10s\tremaining: 31.2s\n",
            "243:\tlearn: 0.1103559\ttotal: 10.1s\tremaining: 31.1s\n",
            "244:\tlearn: 0.1101685\ttotal: 10.1s\tremaining: 31.1s\n",
            "245:\tlearn: 0.1100300\ttotal: 10.1s\tremaining: 31.1s\n",
            "246:\tlearn: 0.1099673\ttotal: 10.2s\tremaining: 31s\n",
            "247:\tlearn: 0.1098138\ttotal: 10.2s\tremaining: 31s\n",
            "248:\tlearn: 0.1096081\ttotal: 10.3s\tremaining: 31s\n",
            "249:\tlearn: 0.1093286\ttotal: 10.3s\tremaining: 31s\n",
            "250:\tlearn: 0.1091601\ttotal: 10.4s\tremaining: 31s\n",
            "251:\tlearn: 0.1090430\ttotal: 10.4s\tremaining: 30.9s\n",
            "252:\tlearn: 0.1088454\ttotal: 10.5s\tremaining: 30.9s\n",
            "253:\tlearn: 0.1087625\ttotal: 10.5s\tremaining: 30.9s\n",
            "254:\tlearn: 0.1082560\ttotal: 10.6s\tremaining: 30.9s\n",
            "255:\tlearn: 0.1081913\ttotal: 10.6s\tremaining: 30.9s\n",
            "256:\tlearn: 0.1080391\ttotal: 10.7s\tremaining: 30.8s\n",
            "257:\tlearn: 0.1079326\ttotal: 10.7s\tremaining: 30.8s\n",
            "258:\tlearn: 0.1078075\ttotal: 10.8s\tremaining: 30.8s\n",
            "259:\tlearn: 0.1077583\ttotal: 10.8s\tremaining: 30.7s\n",
            "260:\tlearn: 0.1076457\ttotal: 10.8s\tremaining: 30.7s\n",
            "261:\tlearn: 0.1075709\ttotal: 10.9s\tremaining: 30.7s\n",
            "262:\tlearn: 0.1073172\ttotal: 10.9s\tremaining: 30.6s\n",
            "263:\tlearn: 0.1072508\ttotal: 11s\tremaining: 30.6s\n",
            "264:\tlearn: 0.1071845\ttotal: 11s\tremaining: 30.6s\n",
            "265:\tlearn: 0.1071151\ttotal: 11.1s\tremaining: 30.6s\n",
            "266:\tlearn: 0.1070196\ttotal: 11.1s\tremaining: 30.5s\n",
            "267:\tlearn: 0.1069358\ttotal: 11.2s\tremaining: 30.6s\n",
            "268:\tlearn: 0.1066514\ttotal: 11.2s\tremaining: 30.5s\n",
            "269:\tlearn: 0.1065744\ttotal: 11.3s\tremaining: 30.6s\n",
            "270:\tlearn: 0.1063920\ttotal: 11.4s\tremaining: 30.5s\n",
            "271:\tlearn: 0.1062854\ttotal: 11.4s\tremaining: 30.5s\n",
            "272:\tlearn: 0.1062209\ttotal: 11.5s\tremaining: 30.5s\n",
            "273:\tlearn: 0.1061560\ttotal: 11.5s\tremaining: 30.5s\n",
            "274:\tlearn: 0.1061152\ttotal: 11.6s\tremaining: 30.5s\n",
            "275:\tlearn: 0.1060554\ttotal: 11.6s\tremaining: 30.5s\n",
            "276:\tlearn: 0.1060112\ttotal: 11.6s\tremaining: 30.4s\n",
            "277:\tlearn: 0.1059638\ttotal: 11.7s\tremaining: 30.4s\n",
            "278:\tlearn: 0.1056745\ttotal: 11.7s\tremaining: 30.3s\n",
            "279:\tlearn: 0.1056128\ttotal: 11.8s\tremaining: 30.3s\n",
            "280:\tlearn: 0.1054588\ttotal: 11.8s\tremaining: 30.3s\n",
            "281:\tlearn: 0.1052324\ttotal: 11.9s\tremaining: 30.2s\n",
            "282:\tlearn: 0.1051636\ttotal: 11.9s\tremaining: 30.2s\n",
            "283:\tlearn: 0.1048032\ttotal: 12s\tremaining: 30.2s\n",
            "284:\tlearn: 0.1047454\ttotal: 12s\tremaining: 30.1s\n",
            "285:\tlearn: 0.1046866\ttotal: 12.1s\tremaining: 30.1s\n",
            "286:\tlearn: 0.1045762\ttotal: 12.1s\tremaining: 30s\n",
            "287:\tlearn: 0.1044819\ttotal: 12.1s\tremaining: 30s\n",
            "288:\tlearn: 0.1044042\ttotal: 12.2s\tremaining: 30s\n",
            "289:\tlearn: 0.1043449\ttotal: 12.3s\tremaining: 30s\n",
            "290:\tlearn: 0.1042291\ttotal: 12.3s\tremaining: 30s\n",
            "291:\tlearn: 0.1041887\ttotal: 12.4s\tremaining: 29.9s\n",
            "292:\tlearn: 0.1041483\ttotal: 12.4s\tremaining: 29.9s\n",
            "293:\tlearn: 0.1040969\ttotal: 12.4s\tremaining: 29.9s\n",
            "294:\tlearn: 0.1040378\ttotal: 12.5s\tremaining: 29.8s\n",
            "295:\tlearn: 0.1039279\ttotal: 12.5s\tremaining: 29.8s\n",
            "296:\tlearn: 0.1038016\ttotal: 12.6s\tremaining: 29.8s\n",
            "297:\tlearn: 0.1033664\ttotal: 12.7s\tremaining: 29.8s\n",
            "298:\tlearn: 0.1033152\ttotal: 12.7s\tremaining: 29.7s\n",
            "299:\tlearn: 0.1032574\ttotal: 12.7s\tremaining: 29.7s\n",
            "300:\tlearn: 0.1031956\ttotal: 12.8s\tremaining: 29.6s\n",
            "301:\tlearn: 0.1028717\ttotal: 12.8s\tremaining: 29.6s\n",
            "302:\tlearn: 0.1027667\ttotal: 12.8s\tremaining: 29.5s\n",
            "303:\tlearn: 0.1027200\ttotal: 12.9s\tremaining: 29.5s\n",
            "304:\tlearn: 0.1026281\ttotal: 12.9s\tremaining: 29.5s\n",
            "305:\tlearn: 0.1025465\ttotal: 13s\tremaining: 29.4s\n",
            "306:\tlearn: 0.1024580\ttotal: 13s\tremaining: 29.4s\n",
            "307:\tlearn: 0.1024062\ttotal: 13.1s\tremaining: 29.4s\n",
            "308:\tlearn: 0.1023615\ttotal: 13.1s\tremaining: 29.4s\n",
            "309:\tlearn: 0.1021833\ttotal: 13.2s\tremaining: 29.3s\n",
            "310:\tlearn: 0.1021337\ttotal: 13.2s\tremaining: 29.3s\n",
            "311:\tlearn: 0.1018126\ttotal: 13.3s\tremaining: 29.3s\n",
            "312:\tlearn: 0.1017475\ttotal: 13.3s\tremaining: 29.3s\n",
            "313:\tlearn: 0.1015501\ttotal: 13.4s\tremaining: 29.2s\n",
            "314:\tlearn: 0.1014976\ttotal: 13.4s\tremaining: 29.2s\n",
            "315:\tlearn: 0.1014718\ttotal: 13.5s\tremaining: 29.2s\n",
            "316:\tlearn: 0.1013410\ttotal: 13.5s\tremaining: 29.1s\n",
            "317:\tlearn: 0.1012538\ttotal: 13.6s\tremaining: 29.1s\n",
            "318:\tlearn: 0.1010424\ttotal: 13.6s\tremaining: 29.1s\n",
            "319:\tlearn: 0.1009214\ttotal: 13.7s\tremaining: 29s\n",
            "320:\tlearn: 0.1008811\ttotal: 13.7s\tremaining: 29s\n",
            "321:\tlearn: 0.1008054\ttotal: 13.7s\tremaining: 28.9s\n",
            "322:\tlearn: 0.1007734\ttotal: 13.8s\tremaining: 28.9s\n",
            "323:\tlearn: 0.1007386\ttotal: 13.8s\tremaining: 28.9s\n",
            "324:\tlearn: 0.1005656\ttotal: 13.9s\tremaining: 28.9s\n",
            "325:\tlearn: 0.1003459\ttotal: 13.9s\tremaining: 28.8s\n",
            "326:\tlearn: 0.1002949\ttotal: 14s\tremaining: 28.8s\n",
            "327:\tlearn: 0.1001449\ttotal: 14s\tremaining: 28.8s\n",
            "328:\tlearn: 0.1000973\ttotal: 14.1s\tremaining: 28.7s\n",
            "329:\tlearn: 0.0999457\ttotal: 14.1s\tremaining: 28.7s\n",
            "330:\tlearn: 0.0998304\ttotal: 14.2s\tremaining: 28.7s\n",
            "331:\tlearn: 0.0997126\ttotal: 14.2s\tremaining: 28.6s\n",
            "332:\tlearn: 0.0996094\ttotal: 14.2s\tremaining: 28.5s\n",
            "333:\tlearn: 0.0995401\ttotal: 14.3s\tremaining: 28.4s\n",
            "334:\tlearn: 0.0994306\ttotal: 14.3s\tremaining: 28.3s\n",
            "335:\tlearn: 0.0993659\ttotal: 14.3s\tremaining: 28.3s\n",
            "336:\tlearn: 0.0992705\ttotal: 14.3s\tremaining: 28.2s\n",
            "337:\tlearn: 0.0992335\ttotal: 14.4s\tremaining: 28.1s\n",
            "338:\tlearn: 0.0990126\ttotal: 14.4s\tremaining: 28.1s\n",
            "339:\tlearn: 0.0989789\ttotal: 14.4s\tremaining: 28s\n",
            "340:\tlearn: 0.0988581\ttotal: 14.4s\tremaining: 27.9s\n",
            "341:\tlearn: 0.0987288\ttotal: 14.5s\tremaining: 27.9s\n",
            "342:\tlearn: 0.0986554\ttotal: 14.5s\tremaining: 27.8s\n",
            "343:\tlearn: 0.0986128\ttotal: 14.5s\tremaining: 27.7s\n",
            "344:\tlearn: 0.0984635\ttotal: 14.6s\tremaining: 27.7s\n",
            "345:\tlearn: 0.0983918\ttotal: 14.6s\tremaining: 27.6s\n",
            "346:\tlearn: 0.0983607\ttotal: 14.6s\tremaining: 27.5s\n",
            "347:\tlearn: 0.0982349\ttotal: 14.7s\tremaining: 27.5s\n",
            "348:\tlearn: 0.0982016\ttotal: 14.7s\tremaining: 27.4s\n",
            "349:\tlearn: 0.0981446\ttotal: 14.7s\tremaining: 27.3s\n",
            "350:\tlearn: 0.0980695\ttotal: 14.7s\tremaining: 27.3s\n",
            "351:\tlearn: 0.0980003\ttotal: 14.8s\tremaining: 27.2s\n",
            "352:\tlearn: 0.0979399\ttotal: 14.8s\tremaining: 27.1s\n",
            "353:\tlearn: 0.0978892\ttotal: 14.8s\tremaining: 27.1s\n",
            "354:\tlearn: 0.0977889\ttotal: 14.9s\tremaining: 27s\n",
            "355:\tlearn: 0.0977369\ttotal: 14.9s\tremaining: 26.9s\n",
            "356:\tlearn: 0.0977055\ttotal: 14.9s\tremaining: 26.9s\n",
            "357:\tlearn: 0.0976589\ttotal: 15s\tremaining: 26.8s\n",
            "358:\tlearn: 0.0976347\ttotal: 15s\tremaining: 26.7s\n",
            "359:\tlearn: 0.0975715\ttotal: 15s\tremaining: 26.7s\n",
            "360:\tlearn: 0.0975006\ttotal: 15s\tremaining: 26.6s\n",
            "361:\tlearn: 0.0974651\ttotal: 15.1s\tremaining: 26.5s\n",
            "362:\tlearn: 0.0974030\ttotal: 15.1s\tremaining: 26.5s\n",
            "363:\tlearn: 0.0973412\ttotal: 15.1s\tremaining: 26.4s\n",
            "364:\tlearn: 0.0972719\ttotal: 15.1s\tremaining: 26.3s\n",
            "365:\tlearn: 0.0972430\ttotal: 15.2s\tremaining: 26.3s\n",
            "366:\tlearn: 0.0972061\ttotal: 15.2s\tremaining: 26.2s\n",
            "367:\tlearn: 0.0971754\ttotal: 15.2s\tremaining: 26.2s\n",
            "368:\tlearn: 0.0971374\ttotal: 15.3s\tremaining: 26.1s\n",
            "369:\tlearn: 0.0970232\ttotal: 15.3s\tremaining: 26s\n",
            "370:\tlearn: 0.0969796\ttotal: 15.3s\tremaining: 26s\n",
            "371:\tlearn: 0.0969329\ttotal: 15.4s\tremaining: 25.9s\n",
            "372:\tlearn: 0.0969046\ttotal: 15.4s\tremaining: 25.9s\n",
            "373:\tlearn: 0.0967973\ttotal: 15.4s\tremaining: 25.8s\n",
            "374:\tlearn: 0.0967406\ttotal: 15.4s\tremaining: 25.7s\n",
            "375:\tlearn: 0.0967216\ttotal: 15.5s\tremaining: 25.7s\n",
            "376:\tlearn: 0.0965701\ttotal: 15.5s\tremaining: 25.6s\n",
            "377:\tlearn: 0.0965153\ttotal: 15.5s\tremaining: 25.6s\n",
            "378:\tlearn: 0.0964827\ttotal: 15.6s\tremaining: 25.5s\n",
            "379:\tlearn: 0.0963622\ttotal: 15.6s\tremaining: 25.4s\n",
            "380:\tlearn: 0.0962334\ttotal: 15.6s\tremaining: 25.4s\n",
            "381:\tlearn: 0.0961187\ttotal: 15.6s\tremaining: 25.3s\n",
            "382:\tlearn: 0.0960759\ttotal: 15.7s\tremaining: 25.2s\n",
            "383:\tlearn: 0.0960150\ttotal: 15.7s\tremaining: 25.2s\n",
            "384:\tlearn: 0.0959833\ttotal: 15.7s\tremaining: 25.1s\n",
            "385:\tlearn: 0.0958544\ttotal: 15.8s\tremaining: 25.1s\n",
            "386:\tlearn: 0.0958196\ttotal: 15.8s\tremaining: 25s\n",
            "387:\tlearn: 0.0957961\ttotal: 15.8s\tremaining: 24.9s\n",
            "388:\tlearn: 0.0957386\ttotal: 15.8s\tremaining: 24.9s\n",
            "389:\tlearn: 0.0957080\ttotal: 15.9s\tremaining: 24.8s\n",
            "390:\tlearn: 0.0956589\ttotal: 15.9s\tremaining: 24.8s\n",
            "391:\tlearn: 0.0955922\ttotal: 15.9s\tremaining: 24.7s\n",
            "392:\tlearn: 0.0955072\ttotal: 16s\tremaining: 24.7s\n",
            "393:\tlearn: 0.0954883\ttotal: 16s\tremaining: 24.6s\n",
            "394:\tlearn: 0.0954633\ttotal: 16s\tremaining: 24.5s\n",
            "395:\tlearn: 0.0954268\ttotal: 16s\tremaining: 24.5s\n",
            "396:\tlearn: 0.0953713\ttotal: 16.1s\tremaining: 24.4s\n",
            "397:\tlearn: 0.0952900\ttotal: 16.1s\tremaining: 24.3s\n",
            "398:\tlearn: 0.0952719\ttotal: 16.1s\tremaining: 24.3s\n",
            "399:\tlearn: 0.0952478\ttotal: 16.1s\tremaining: 24.2s\n",
            "400:\tlearn: 0.0952026\ttotal: 16.2s\tremaining: 24.1s\n",
            "401:\tlearn: 0.0950551\ttotal: 16.2s\tremaining: 24.1s\n",
            "402:\tlearn: 0.0950145\ttotal: 16.2s\tremaining: 24s\n",
            "403:\tlearn: 0.0949712\ttotal: 16.3s\tremaining: 24s\n",
            "404:\tlearn: 0.0948737\ttotal: 16.3s\tremaining: 24s\n",
            "405:\tlearn: 0.0948461\ttotal: 16.4s\tremaining: 23.9s\n",
            "406:\tlearn: 0.0947941\ttotal: 16.4s\tremaining: 23.9s\n",
            "407:\tlearn: 0.0947620\ttotal: 16.5s\tremaining: 23.9s\n",
            "408:\tlearn: 0.0947137\ttotal: 16.5s\tremaining: 23.9s\n",
            "409:\tlearn: 0.0944984\ttotal: 16.6s\tremaining: 23.8s\n",
            "410:\tlearn: 0.0944603\ttotal: 16.6s\tremaining: 23.8s\n",
            "411:\tlearn: 0.0944337\ttotal: 16.7s\tremaining: 23.8s\n",
            "412:\tlearn: 0.0944044\ttotal: 16.7s\tremaining: 23.8s\n",
            "413:\tlearn: 0.0943645\ttotal: 16.8s\tremaining: 23.7s\n",
            "414:\tlearn: 0.0943021\ttotal: 16.8s\tremaining: 23.7s\n",
            "415:\tlearn: 0.0942495\ttotal: 16.9s\tremaining: 23.7s\n",
            "416:\tlearn: 0.0942164\ttotal: 16.9s\tremaining: 23.6s\n",
            "417:\tlearn: 0.0941903\ttotal: 17s\tremaining: 23.6s\n",
            "418:\tlearn: 0.0939785\ttotal: 17s\tremaining: 23.6s\n",
            "419:\tlearn: 0.0939243\ttotal: 17.1s\tremaining: 23.6s\n",
            "420:\tlearn: 0.0936980\ttotal: 17.1s\tremaining: 23.6s\n",
            "421:\tlearn: 0.0936677\ttotal: 17.2s\tremaining: 23.5s\n",
            "422:\tlearn: 0.0935967\ttotal: 17.2s\tremaining: 23.5s\n",
            "423:\tlearn: 0.0935141\ttotal: 17.3s\tremaining: 23.5s\n",
            "424:\tlearn: 0.0934189\ttotal: 17.3s\tremaining: 23.5s\n",
            "425:\tlearn: 0.0933826\ttotal: 17.4s\tremaining: 23.4s\n",
            "426:\tlearn: 0.0933361\ttotal: 17.4s\tremaining: 23.4s\n",
            "427:\tlearn: 0.0933194\ttotal: 17.5s\tremaining: 23.3s\n",
            "428:\tlearn: 0.0932837\ttotal: 17.5s\tremaining: 23.3s\n",
            "429:\tlearn: 0.0932464\ttotal: 17.5s\tremaining: 23.3s\n",
            "430:\tlearn: 0.0931015\ttotal: 17.6s\tremaining: 23.2s\n",
            "431:\tlearn: 0.0929903\ttotal: 17.6s\tremaining: 23.2s\n",
            "432:\tlearn: 0.0929433\ttotal: 17.7s\tremaining: 23.1s\n",
            "433:\tlearn: 0.0927804\ttotal: 17.7s\tremaining: 23.1s\n",
            "434:\tlearn: 0.0927397\ttotal: 17.8s\tremaining: 23.1s\n",
            "435:\tlearn: 0.0927125\ttotal: 17.8s\tremaining: 23.1s\n",
            "436:\tlearn: 0.0926619\ttotal: 17.9s\tremaining: 23s\n",
            "437:\tlearn: 0.0926331\ttotal: 17.9s\tremaining: 23s\n",
            "438:\tlearn: 0.0925898\ttotal: 18s\tremaining: 23s\n",
            "439:\tlearn: 0.0925656\ttotal: 18s\tremaining: 22.9s\n",
            "440:\tlearn: 0.0925507\ttotal: 18.1s\tremaining: 22.9s\n",
            "441:\tlearn: 0.0924419\ttotal: 18.1s\tremaining: 22.9s\n",
            "442:\tlearn: 0.0924096\ttotal: 18.2s\tremaining: 22.8s\n",
            "443:\tlearn: 0.0923626\ttotal: 18.2s\tremaining: 22.8s\n",
            "444:\tlearn: 0.0923183\ttotal: 18.3s\tremaining: 22.8s\n",
            "445:\tlearn: 0.0922877\ttotal: 18.3s\tremaining: 22.7s\n",
            "446:\tlearn: 0.0922500\ttotal: 18.4s\tremaining: 22.7s\n",
            "447:\tlearn: 0.0922020\ttotal: 18.4s\tremaining: 22.7s\n",
            "448:\tlearn: 0.0921563\ttotal: 18.4s\tremaining: 22.6s\n",
            "449:\tlearn: 0.0920902\ttotal: 18.5s\tremaining: 22.6s\n",
            "450:\tlearn: 0.0920614\ttotal: 18.5s\tremaining: 22.5s\n",
            "451:\tlearn: 0.0920378\ttotal: 18.6s\tremaining: 22.5s\n",
            "452:\tlearn: 0.0920237\ttotal: 18.6s\tremaining: 22.5s\n",
            "453:\tlearn: 0.0919710\ttotal: 18.7s\tremaining: 22.4s\n",
            "454:\tlearn: 0.0918736\ttotal: 18.7s\tremaining: 22.4s\n",
            "455:\tlearn: 0.0918349\ttotal: 18.8s\tremaining: 22.4s\n",
            "456:\tlearn: 0.0917699\ttotal: 18.8s\tremaining: 22.4s\n",
            "457:\tlearn: 0.0917224\ttotal: 18.9s\tremaining: 22.3s\n",
            "458:\tlearn: 0.0916624\ttotal: 18.9s\tremaining: 22.3s\n",
            "459:\tlearn: 0.0915929\ttotal: 19s\tremaining: 22.3s\n",
            "460:\tlearn: 0.0915476\ttotal: 19s\tremaining: 22.2s\n",
            "461:\tlearn: 0.0915233\ttotal: 19.1s\tremaining: 22.2s\n",
            "462:\tlearn: 0.0914807\ttotal: 19.1s\tremaining: 22.2s\n",
            "463:\tlearn: 0.0914528\ttotal: 19.2s\tremaining: 22.1s\n",
            "464:\tlearn: 0.0914062\ttotal: 19.2s\tremaining: 22.1s\n",
            "465:\tlearn: 0.0913082\ttotal: 19.3s\tremaining: 22.1s\n",
            "466:\tlearn: 0.0912695\ttotal: 19.3s\tremaining: 22s\n",
            "467:\tlearn: 0.0911810\ttotal: 19.4s\tremaining: 22s\n",
            "468:\tlearn: 0.0911519\ttotal: 19.4s\tremaining: 22s\n",
            "469:\tlearn: 0.0911121\ttotal: 19.5s\tremaining: 22s\n",
            "470:\tlearn: 0.0910552\ttotal: 19.5s\tremaining: 21.9s\n",
            "471:\tlearn: 0.0910403\ttotal: 19.6s\tremaining: 21.9s\n",
            "472:\tlearn: 0.0909850\ttotal: 19.6s\tremaining: 21.9s\n",
            "473:\tlearn: 0.0909532\ttotal: 19.7s\tremaining: 21.8s\n",
            "474:\tlearn: 0.0909135\ttotal: 19.7s\tremaining: 21.8s\n",
            "475:\tlearn: 0.0908770\ttotal: 19.8s\tremaining: 21.8s\n",
            "476:\tlearn: 0.0908606\ttotal: 19.8s\tremaining: 21.7s\n",
            "477:\tlearn: 0.0908283\ttotal: 19.8s\tremaining: 21.7s\n",
            "478:\tlearn: 0.0907705\ttotal: 19.9s\tremaining: 21.6s\n",
            "479:\tlearn: 0.0907228\ttotal: 19.9s\tremaining: 21.5s\n",
            "480:\tlearn: 0.0906746\ttotal: 19.9s\tremaining: 21.5s\n",
            "481:\tlearn: 0.0906365\ttotal: 20s\tremaining: 21.5s\n",
            "482:\tlearn: 0.0905934\ttotal: 20s\tremaining: 21.4s\n",
            "483:\tlearn: 0.0905421\ttotal: 20s\tremaining: 21.3s\n",
            "484:\tlearn: 0.0905189\ttotal: 20.1s\tremaining: 21.3s\n",
            "485:\tlearn: 0.0904848\ttotal: 20.1s\tremaining: 21.2s\n",
            "486:\tlearn: 0.0903779\ttotal: 20.1s\tremaining: 21.2s\n",
            "487:\tlearn: 0.0903431\ttotal: 20.1s\tremaining: 21.1s\n",
            "488:\tlearn: 0.0903127\ttotal: 20.2s\tremaining: 21.1s\n",
            "489:\tlearn: 0.0902294\ttotal: 20.2s\tremaining: 21s\n",
            "490:\tlearn: 0.0901597\ttotal: 20.2s\tremaining: 21s\n",
            "491:\tlearn: 0.0900872\ttotal: 20.3s\tremaining: 20.9s\n",
            "492:\tlearn: 0.0900635\ttotal: 20.3s\tremaining: 20.9s\n",
            "493:\tlearn: 0.0900354\ttotal: 20.3s\tremaining: 20.8s\n",
            "494:\tlearn: 0.0899495\ttotal: 20.3s\tremaining: 20.7s\n",
            "495:\tlearn: 0.0899145\ttotal: 20.4s\tremaining: 20.7s\n",
            "496:\tlearn: 0.0898836\ttotal: 20.4s\tremaining: 20.6s\n",
            "497:\tlearn: 0.0898625\ttotal: 20.4s\tremaining: 20.6s\n",
            "498:\tlearn: 0.0898432\ttotal: 20.5s\tremaining: 20.5s\n",
            "499:\tlearn: 0.0898161\ttotal: 20.5s\tremaining: 20.5s\n",
            "500:\tlearn: 0.0897512\ttotal: 20.5s\tremaining: 20.4s\n",
            "501:\tlearn: 0.0897236\ttotal: 20.5s\tremaining: 20.4s\n",
            "502:\tlearn: 0.0896191\ttotal: 20.6s\tremaining: 20.3s\n",
            "503:\tlearn: 0.0894995\ttotal: 20.6s\tremaining: 20.3s\n",
            "504:\tlearn: 0.0894574\ttotal: 20.6s\tremaining: 20.2s\n",
            "505:\tlearn: 0.0893336\ttotal: 20.7s\tremaining: 20.2s\n",
            "506:\tlearn: 0.0892890\ttotal: 20.7s\tremaining: 20.1s\n",
            "507:\tlearn: 0.0892475\ttotal: 20.7s\tremaining: 20.1s\n",
            "508:\tlearn: 0.0892118\ttotal: 20.8s\tremaining: 20s\n",
            "509:\tlearn: 0.0891789\ttotal: 20.8s\tremaining: 20s\n",
            "510:\tlearn: 0.0891380\ttotal: 20.8s\tremaining: 19.9s\n",
            "511:\tlearn: 0.0890620\ttotal: 20.9s\tremaining: 19.9s\n",
            "512:\tlearn: 0.0890199\ttotal: 20.9s\tremaining: 19.8s\n",
            "513:\tlearn: 0.0889937\ttotal: 20.9s\tremaining: 19.8s\n",
            "514:\tlearn: 0.0889707\ttotal: 20.9s\tremaining: 19.7s\n",
            "515:\tlearn: 0.0889549\ttotal: 21s\tremaining: 19.7s\n",
            "516:\tlearn: 0.0889024\ttotal: 21s\tremaining: 19.6s\n",
            "517:\tlearn: 0.0888549\ttotal: 21s\tremaining: 19.6s\n",
            "518:\tlearn: 0.0888327\ttotal: 21.1s\tremaining: 19.5s\n",
            "519:\tlearn: 0.0887763\ttotal: 21.1s\tremaining: 19.5s\n",
            "520:\tlearn: 0.0887305\ttotal: 21.1s\tremaining: 19.4s\n",
            "521:\tlearn: 0.0887059\ttotal: 21.1s\tremaining: 19.4s\n",
            "522:\tlearn: 0.0886764\ttotal: 21.2s\tremaining: 19.3s\n",
            "523:\tlearn: 0.0886319\ttotal: 21.2s\tremaining: 19.3s\n",
            "524:\tlearn: 0.0885965\ttotal: 21.2s\tremaining: 19.2s\n",
            "525:\tlearn: 0.0885698\ttotal: 21.3s\tremaining: 19.2s\n",
            "526:\tlearn: 0.0885289\ttotal: 21.3s\tremaining: 19.1s\n",
            "527:\tlearn: 0.0884904\ttotal: 21.3s\tremaining: 19.1s\n",
            "528:\tlearn: 0.0884657\ttotal: 21.4s\tremaining: 19s\n",
            "529:\tlearn: 0.0883088\ttotal: 21.4s\tremaining: 19s\n",
            "530:\tlearn: 0.0881956\ttotal: 21.4s\tremaining: 18.9s\n",
            "531:\tlearn: 0.0881554\ttotal: 21.5s\tremaining: 18.9s\n",
            "532:\tlearn: 0.0881105\ttotal: 21.5s\tremaining: 18.8s\n",
            "533:\tlearn: 0.0880626\ttotal: 21.5s\tremaining: 18.8s\n",
            "534:\tlearn: 0.0880095\ttotal: 21.5s\tremaining: 18.7s\n",
            "535:\tlearn: 0.0879973\ttotal: 21.6s\tremaining: 18.7s\n",
            "536:\tlearn: 0.0879634\ttotal: 21.6s\tremaining: 18.6s\n",
            "537:\tlearn: 0.0879390\ttotal: 21.6s\tremaining: 18.6s\n",
            "538:\tlearn: 0.0878914\ttotal: 21.7s\tremaining: 18.5s\n",
            "539:\tlearn: 0.0878652\ttotal: 21.7s\tremaining: 18.5s\n",
            "540:\tlearn: 0.0878161\ttotal: 21.7s\tremaining: 18.4s\n",
            "541:\tlearn: 0.0877786\ttotal: 21.7s\tremaining: 18.4s\n",
            "542:\tlearn: 0.0877566\ttotal: 21.8s\tremaining: 18.3s\n",
            "543:\tlearn: 0.0877199\ttotal: 21.8s\tremaining: 18.3s\n",
            "544:\tlearn: 0.0876936\ttotal: 21.8s\tremaining: 18.2s\n",
            "545:\tlearn: 0.0876655\ttotal: 21.9s\tremaining: 18.2s\n",
            "546:\tlearn: 0.0876478\ttotal: 21.9s\tremaining: 18.1s\n",
            "547:\tlearn: 0.0876221\ttotal: 21.9s\tremaining: 18.1s\n",
            "548:\tlearn: 0.0875898\ttotal: 21.9s\tremaining: 18s\n",
            "549:\tlearn: 0.0875653\ttotal: 22s\tremaining: 18s\n",
            "550:\tlearn: 0.0875361\ttotal: 22s\tremaining: 17.9s\n",
            "551:\tlearn: 0.0875267\ttotal: 22s\tremaining: 17.9s\n",
            "552:\tlearn: 0.0874188\ttotal: 22s\tremaining: 17.8s\n",
            "553:\tlearn: 0.0873248\ttotal: 22.1s\tremaining: 17.8s\n",
            "554:\tlearn: 0.0872881\ttotal: 22.1s\tremaining: 17.7s\n",
            "555:\tlearn: 0.0872356\ttotal: 22.1s\tremaining: 17.7s\n",
            "556:\tlearn: 0.0872080\ttotal: 22.2s\tremaining: 17.6s\n",
            "557:\tlearn: 0.0871514\ttotal: 22.2s\tremaining: 17.6s\n",
            "558:\tlearn: 0.0870684\ttotal: 22.2s\tremaining: 17.5s\n",
            "559:\tlearn: 0.0869952\ttotal: 22.2s\tremaining: 17.5s\n",
            "560:\tlearn: 0.0869717\ttotal: 22.3s\tremaining: 17.4s\n",
            "561:\tlearn: 0.0868937\ttotal: 22.3s\tremaining: 17.4s\n",
            "562:\tlearn: 0.0868581\ttotal: 22.4s\tremaining: 17.4s\n",
            "563:\tlearn: 0.0868373\ttotal: 22.4s\tremaining: 17.4s\n",
            "564:\tlearn: 0.0868069\ttotal: 22.5s\tremaining: 17.3s\n",
            "565:\tlearn: 0.0867895\ttotal: 22.5s\tremaining: 17.3s\n",
            "566:\tlearn: 0.0867606\ttotal: 22.6s\tremaining: 17.3s\n",
            "567:\tlearn: 0.0867290\ttotal: 22.7s\tremaining: 17.2s\n",
            "568:\tlearn: 0.0867018\ttotal: 22.7s\tremaining: 17.2s\n",
            "569:\tlearn: 0.0866670\ttotal: 22.8s\tremaining: 17.2s\n",
            "570:\tlearn: 0.0866333\ttotal: 22.8s\tremaining: 17.1s\n",
            "571:\tlearn: 0.0866195\ttotal: 22.8s\tremaining: 17.1s\n",
            "572:\tlearn: 0.0866032\ttotal: 22.9s\tremaining: 17.1s\n",
            "573:\tlearn: 0.0865732\ttotal: 23s\tremaining: 17.1s\n",
            "574:\tlearn: 0.0865506\ttotal: 23.1s\tremaining: 17s\n",
            "575:\tlearn: 0.0865252\ttotal: 23.1s\tremaining: 17s\n",
            "576:\tlearn: 0.0865042\ttotal: 23.1s\tremaining: 17s\n",
            "577:\tlearn: 0.0864814\ttotal: 23.2s\tremaining: 16.9s\n",
            "578:\tlearn: 0.0864503\ttotal: 23.2s\tremaining: 16.9s\n",
            "579:\tlearn: 0.0864299\ttotal: 23.3s\tremaining: 16.8s\n",
            "580:\tlearn: 0.0864013\ttotal: 23.3s\tremaining: 16.8s\n",
            "581:\tlearn: 0.0863753\ttotal: 23.3s\tremaining: 16.8s\n",
            "582:\tlearn: 0.0863589\ttotal: 23.4s\tremaining: 16.7s\n",
            "583:\tlearn: 0.0863408\ttotal: 23.4s\tremaining: 16.7s\n",
            "584:\tlearn: 0.0863211\ttotal: 23.4s\tremaining: 16.6s\n",
            "585:\tlearn: 0.0862462\ttotal: 23.5s\tremaining: 16.6s\n",
            "586:\tlearn: 0.0862179\ttotal: 23.5s\tremaining: 16.5s\n",
            "587:\tlearn: 0.0861884\ttotal: 23.6s\tremaining: 16.5s\n",
            "588:\tlearn: 0.0861719\ttotal: 23.6s\tremaining: 16.5s\n",
            "589:\tlearn: 0.0861395\ttotal: 23.7s\tremaining: 16.4s\n",
            "590:\tlearn: 0.0860087\ttotal: 23.7s\tremaining: 16.4s\n",
            "591:\tlearn: 0.0859745\ttotal: 23.7s\tremaining: 16.4s\n",
            "592:\tlearn: 0.0859164\ttotal: 23.8s\tremaining: 16.3s\n",
            "593:\tlearn: 0.0858981\ttotal: 23.8s\tremaining: 16.3s\n",
            "594:\tlearn: 0.0858693\ttotal: 23.8s\tremaining: 16.2s\n",
            "595:\tlearn: 0.0858341\ttotal: 23.9s\tremaining: 16.2s\n",
            "596:\tlearn: 0.0858040\ttotal: 23.9s\tremaining: 16.1s\n",
            "597:\tlearn: 0.0857164\ttotal: 23.9s\tremaining: 16.1s\n",
            "598:\tlearn: 0.0856775\ttotal: 24s\tremaining: 16s\n",
            "599:\tlearn: 0.0856439\ttotal: 24s\tremaining: 16s\n",
            "600:\tlearn: 0.0855465\ttotal: 24s\tremaining: 15.9s\n",
            "601:\tlearn: 0.0855262\ttotal: 24s\tremaining: 15.9s\n",
            "602:\tlearn: 0.0855029\ttotal: 24.1s\tremaining: 15.8s\n",
            "603:\tlearn: 0.0854779\ttotal: 24.1s\tremaining: 15.8s\n",
            "604:\tlearn: 0.0854469\ttotal: 24.1s\tremaining: 15.8s\n",
            "605:\tlearn: 0.0854074\ttotal: 24.2s\tremaining: 15.7s\n",
            "606:\tlearn: 0.0853842\ttotal: 24.2s\tremaining: 15.7s\n",
            "607:\tlearn: 0.0853672\ttotal: 24.2s\tremaining: 15.6s\n",
            "608:\tlearn: 0.0853450\ttotal: 24.3s\tremaining: 15.6s\n",
            "609:\tlearn: 0.0853124\ttotal: 24.3s\tremaining: 15.5s\n",
            "610:\tlearn: 0.0852881\ttotal: 24.3s\tremaining: 15.5s\n",
            "611:\tlearn: 0.0852245\ttotal: 24.4s\tremaining: 15.4s\n",
            "612:\tlearn: 0.0852087\ttotal: 24.4s\tremaining: 15.4s\n",
            "613:\tlearn: 0.0851764\ttotal: 24.4s\tremaining: 15.4s\n",
            "614:\tlearn: 0.0851251\ttotal: 24.5s\tremaining: 15.3s\n",
            "615:\tlearn: 0.0850212\ttotal: 24.5s\tremaining: 15.3s\n",
            "616:\tlearn: 0.0850127\ttotal: 24.5s\tremaining: 15.2s\n",
            "617:\tlearn: 0.0849942\ttotal: 24.6s\tremaining: 15.2s\n",
            "618:\tlearn: 0.0849758\ttotal: 24.6s\tremaining: 15.1s\n",
            "619:\tlearn: 0.0849449\ttotal: 24.6s\tremaining: 15.1s\n",
            "620:\tlearn: 0.0849119\ttotal: 24.7s\tremaining: 15s\n",
            "621:\tlearn: 0.0848842\ttotal: 24.7s\tremaining: 15s\n",
            "622:\tlearn: 0.0847617\ttotal: 24.7s\tremaining: 15s\n",
            "623:\tlearn: 0.0847538\ttotal: 24.8s\tremaining: 14.9s\n",
            "624:\tlearn: 0.0847053\ttotal: 24.8s\tremaining: 14.9s\n",
            "625:\tlearn: 0.0846760\ttotal: 24.9s\tremaining: 14.9s\n",
            "626:\tlearn: 0.0846006\ttotal: 24.9s\tremaining: 14.8s\n",
            "627:\tlearn: 0.0845553\ttotal: 24.9s\tremaining: 14.8s\n",
            "628:\tlearn: 0.0845065\ttotal: 24.9s\tremaining: 14.7s\n",
            "629:\tlearn: 0.0844752\ttotal: 25s\tremaining: 14.7s\n",
            "630:\tlearn: 0.0844578\ttotal: 25s\tremaining: 14.6s\n",
            "631:\tlearn: 0.0844093\ttotal: 25s\tremaining: 14.6s\n",
            "632:\tlearn: 0.0843972\ttotal: 25.1s\tremaining: 14.5s\n",
            "633:\tlearn: 0.0843033\ttotal: 25.1s\tremaining: 14.5s\n",
            "634:\tlearn: 0.0843009\ttotal: 25.1s\tremaining: 14.4s\n",
            "635:\tlearn: 0.0842242\ttotal: 25.1s\tremaining: 14.4s\n",
            "636:\tlearn: 0.0841905\ttotal: 25.2s\tremaining: 14.3s\n",
            "637:\tlearn: 0.0841787\ttotal: 25.2s\tremaining: 14.3s\n",
            "638:\tlearn: 0.0841024\ttotal: 25.2s\tremaining: 14.3s\n",
            "639:\tlearn: 0.0840566\ttotal: 25.3s\tremaining: 14.2s\n",
            "640:\tlearn: 0.0840349\ttotal: 25.3s\tremaining: 14.2s\n",
            "641:\tlearn: 0.0839660\ttotal: 25.3s\tremaining: 14.1s\n",
            "642:\tlearn: 0.0839314\ttotal: 25.4s\tremaining: 14.1s\n",
            "643:\tlearn: 0.0839116\ttotal: 25.4s\tremaining: 14s\n",
            "644:\tlearn: 0.0838793\ttotal: 25.4s\tremaining: 14s\n",
            "645:\tlearn: 0.0838342\ttotal: 25.4s\tremaining: 13.9s\n",
            "646:\tlearn: 0.0838158\ttotal: 25.5s\tremaining: 13.9s\n",
            "647:\tlearn: 0.0837883\ttotal: 25.5s\tremaining: 13.9s\n",
            "648:\tlearn: 0.0837620\ttotal: 25.5s\tremaining: 13.8s\n",
            "649:\tlearn: 0.0837306\ttotal: 25.6s\tremaining: 13.8s\n",
            "650:\tlearn: 0.0837083\ttotal: 25.6s\tremaining: 13.7s\n",
            "651:\tlearn: 0.0836948\ttotal: 25.6s\tremaining: 13.7s\n",
            "652:\tlearn: 0.0836619\ttotal: 25.7s\tremaining: 13.6s\n",
            "653:\tlearn: 0.0836250\ttotal: 25.7s\tremaining: 13.6s\n",
            "654:\tlearn: 0.0836032\ttotal: 25.7s\tremaining: 13.6s\n",
            "655:\tlearn: 0.0835513\ttotal: 25.8s\tremaining: 13.5s\n",
            "656:\tlearn: 0.0835244\ttotal: 25.8s\tremaining: 13.5s\n",
            "657:\tlearn: 0.0834967\ttotal: 25.9s\tremaining: 13.4s\n",
            "658:\tlearn: 0.0834665\ttotal: 25.9s\tremaining: 13.4s\n",
            "659:\tlearn: 0.0834449\ttotal: 26s\tremaining: 13.4s\n",
            "660:\tlearn: 0.0834224\ttotal: 26s\tremaining: 13.3s\n",
            "661:\tlearn: 0.0833748\ttotal: 26s\tremaining: 13.3s\n",
            "662:\tlearn: 0.0833425\ttotal: 26.1s\tremaining: 13.3s\n",
            "663:\tlearn: 0.0833188\ttotal: 26.1s\tremaining: 13.2s\n",
            "664:\tlearn: 0.0832924\ttotal: 26.1s\tremaining: 13.2s\n",
            "665:\tlearn: 0.0832513\ttotal: 26.2s\tremaining: 13.1s\n",
            "666:\tlearn: 0.0832165\ttotal: 26.2s\tremaining: 13.1s\n",
            "667:\tlearn: 0.0831962\ttotal: 26.2s\tremaining: 13s\n",
            "668:\tlearn: 0.0831757\ttotal: 26.3s\tremaining: 13s\n",
            "669:\tlearn: 0.0831362\ttotal: 26.3s\tremaining: 12.9s\n",
            "670:\tlearn: 0.0831221\ttotal: 26.3s\tremaining: 12.9s\n",
            "671:\tlearn: 0.0830968\ttotal: 26.4s\tremaining: 12.9s\n",
            "672:\tlearn: 0.0830593\ttotal: 26.4s\tremaining: 12.8s\n",
            "673:\tlearn: 0.0830322\ttotal: 26.4s\tremaining: 12.8s\n",
            "674:\tlearn: 0.0829975\ttotal: 26.4s\tremaining: 12.7s\n",
            "675:\tlearn: 0.0829780\ttotal: 26.5s\tremaining: 12.7s\n",
            "676:\tlearn: 0.0829357\ttotal: 26.5s\tremaining: 12.6s\n",
            "677:\tlearn: 0.0829223\ttotal: 26.6s\tremaining: 12.6s\n",
            "678:\tlearn: 0.0828951\ttotal: 26.6s\tremaining: 12.6s\n",
            "679:\tlearn: 0.0828760\ttotal: 26.6s\tremaining: 12.5s\n",
            "680:\tlearn: 0.0828086\ttotal: 26.6s\tremaining: 12.5s\n",
            "681:\tlearn: 0.0827728\ttotal: 26.7s\tremaining: 12.4s\n",
            "682:\tlearn: 0.0827541\ttotal: 26.7s\tremaining: 12.4s\n",
            "683:\tlearn: 0.0827272\ttotal: 26.7s\tremaining: 12.3s\n",
            "684:\tlearn: 0.0826840\ttotal: 26.8s\tremaining: 12.3s\n",
            "685:\tlearn: 0.0826310\ttotal: 26.8s\tremaining: 12.3s\n",
            "686:\tlearn: 0.0825915\ttotal: 26.9s\tremaining: 12.2s\n",
            "687:\tlearn: 0.0825681\ttotal: 26.9s\tremaining: 12.2s\n",
            "688:\tlearn: 0.0825595\ttotal: 27s\tremaining: 12.2s\n",
            "689:\tlearn: 0.0825057\ttotal: 27.1s\tremaining: 12.2s\n",
            "690:\tlearn: 0.0824835\ttotal: 27.1s\tremaining: 12.1s\n",
            "691:\tlearn: 0.0824566\ttotal: 27.2s\tremaining: 12.1s\n",
            "692:\tlearn: 0.0824414\ttotal: 27.2s\tremaining: 12.1s\n",
            "693:\tlearn: 0.0824136\ttotal: 27.3s\tremaining: 12s\n",
            "694:\tlearn: 0.0823855\ttotal: 27.3s\tremaining: 12s\n",
            "695:\tlearn: 0.0823403\ttotal: 27.4s\tremaining: 11.9s\n",
            "696:\tlearn: 0.0823001\ttotal: 27.4s\tremaining: 11.9s\n",
            "697:\tlearn: 0.0822599\ttotal: 27.4s\tremaining: 11.9s\n",
            "698:\tlearn: 0.0821982\ttotal: 27.5s\tremaining: 11.8s\n",
            "699:\tlearn: 0.0821577\ttotal: 27.5s\tremaining: 11.8s\n",
            "700:\tlearn: 0.0821465\ttotal: 27.6s\tremaining: 11.8s\n",
            "701:\tlearn: 0.0821205\ttotal: 27.6s\tremaining: 11.7s\n",
            "702:\tlearn: 0.0820992\ttotal: 27.7s\tremaining: 11.7s\n",
            "703:\tlearn: 0.0820583\ttotal: 27.7s\tremaining: 11.7s\n",
            "704:\tlearn: 0.0820295\ttotal: 27.8s\tremaining: 11.6s\n",
            "705:\tlearn: 0.0820061\ttotal: 27.8s\tremaining: 11.6s\n",
            "706:\tlearn: 0.0819879\ttotal: 27.9s\tremaining: 11.5s\n",
            "707:\tlearn: 0.0819564\ttotal: 27.9s\tremaining: 11.5s\n",
            "708:\tlearn: 0.0819151\ttotal: 28s\tremaining: 11.5s\n",
            "709:\tlearn: 0.0818640\ttotal: 28s\tremaining: 11.4s\n",
            "710:\tlearn: 0.0818270\ttotal: 28s\tremaining: 11.4s\n",
            "711:\tlearn: 0.0818156\ttotal: 28.1s\tremaining: 11.3s\n",
            "712:\tlearn: 0.0817935\ttotal: 28.1s\tremaining: 11.3s\n",
            "713:\tlearn: 0.0817676\ttotal: 28.1s\tremaining: 11.3s\n",
            "714:\tlearn: 0.0817345\ttotal: 28.2s\tremaining: 11.2s\n",
            "715:\tlearn: 0.0817237\ttotal: 28.2s\tremaining: 11.2s\n",
            "716:\tlearn: 0.0816868\ttotal: 28.2s\tremaining: 11.1s\n",
            "717:\tlearn: 0.0816627\ttotal: 28.2s\tremaining: 11.1s\n",
            "718:\tlearn: 0.0816490\ttotal: 28.3s\tremaining: 11.1s\n",
            "719:\tlearn: 0.0816467\ttotal: 28.3s\tremaining: 11s\n",
            "720:\tlearn: 0.0815962\ttotal: 28.4s\tremaining: 11s\n",
            "721:\tlearn: 0.0815481\ttotal: 28.4s\tremaining: 10.9s\n",
            "722:\tlearn: 0.0815265\ttotal: 28.4s\tremaining: 10.9s\n",
            "723:\tlearn: 0.0814531\ttotal: 28.4s\tremaining: 10.8s\n",
            "724:\tlearn: 0.0814222\ttotal: 28.5s\tremaining: 10.8s\n",
            "725:\tlearn: 0.0813936\ttotal: 28.5s\tremaining: 10.8s\n",
            "726:\tlearn: 0.0813690\ttotal: 28.5s\tremaining: 10.7s\n",
            "727:\tlearn: 0.0813475\ttotal: 28.6s\tremaining: 10.7s\n",
            "728:\tlearn: 0.0813196\ttotal: 28.6s\tremaining: 10.6s\n",
            "729:\tlearn: 0.0812891\ttotal: 28.6s\tremaining: 10.6s\n",
            "730:\tlearn: 0.0812671\ttotal: 28.7s\tremaining: 10.5s\n",
            "731:\tlearn: 0.0812498\ttotal: 28.7s\tremaining: 10.5s\n",
            "732:\tlearn: 0.0812339\ttotal: 28.7s\tremaining: 10.5s\n",
            "733:\tlearn: 0.0812209\ttotal: 28.8s\tremaining: 10.4s\n",
            "734:\tlearn: 0.0812001\ttotal: 28.8s\tremaining: 10.4s\n",
            "735:\tlearn: 0.0811876\ttotal: 28.8s\tremaining: 10.3s\n",
            "736:\tlearn: 0.0811573\ttotal: 28.8s\tremaining: 10.3s\n",
            "737:\tlearn: 0.0811344\ttotal: 28.9s\tremaining: 10.2s\n",
            "738:\tlearn: 0.0811010\ttotal: 28.9s\tremaining: 10.2s\n",
            "739:\tlearn: 0.0810602\ttotal: 28.9s\tremaining: 10.2s\n",
            "740:\tlearn: 0.0810332\ttotal: 29s\tremaining: 10.1s\n",
            "741:\tlearn: 0.0809982\ttotal: 29s\tremaining: 10.1s\n",
            "742:\tlearn: 0.0809792\ttotal: 29s\tremaining: 10s\n",
            "743:\tlearn: 0.0809488\ttotal: 29.1s\tremaining: 10s\n",
            "744:\tlearn: 0.0809123\ttotal: 29.1s\tremaining: 9.95s\n",
            "745:\tlearn: 0.0808836\ttotal: 29.1s\tremaining: 9.91s\n",
            "746:\tlearn: 0.0807798\ttotal: 29.1s\tremaining: 9.87s\n",
            "747:\tlearn: 0.0807631\ttotal: 29.2s\tremaining: 9.83s\n",
            "748:\tlearn: 0.0807107\ttotal: 29.2s\tremaining: 9.79s\n",
            "749:\tlearn: 0.0806931\ttotal: 29.2s\tremaining: 9.74s\n",
            "750:\tlearn: 0.0806453\ttotal: 29.3s\tremaining: 9.7s\n",
            "751:\tlearn: 0.0806136\ttotal: 29.3s\tremaining: 9.66s\n",
            "752:\tlearn: 0.0805888\ttotal: 29.3s\tremaining: 9.62s\n",
            "753:\tlearn: 0.0805578\ttotal: 29.4s\tremaining: 9.58s\n",
            "754:\tlearn: 0.0805360\ttotal: 29.4s\tremaining: 9.54s\n",
            "755:\tlearn: 0.0805107\ttotal: 29.4s\tremaining: 9.49s\n",
            "756:\tlearn: 0.0804582\ttotal: 29.4s\tremaining: 9.45s\n",
            "757:\tlearn: 0.0804308\ttotal: 29.5s\tremaining: 9.41s\n",
            "758:\tlearn: 0.0804165\ttotal: 29.5s\tremaining: 9.37s\n",
            "759:\tlearn: 0.0803997\ttotal: 29.5s\tremaining: 9.33s\n",
            "760:\tlearn: 0.0803734\ttotal: 29.6s\tremaining: 9.29s\n",
            "761:\tlearn: 0.0803608\ttotal: 29.6s\tremaining: 9.24s\n",
            "762:\tlearn: 0.0803246\ttotal: 29.6s\tremaining: 9.2s\n",
            "763:\tlearn: 0.0802798\ttotal: 29.7s\tremaining: 9.16s\n",
            "764:\tlearn: 0.0802657\ttotal: 29.7s\tremaining: 9.12s\n",
            "765:\tlearn: 0.0802515\ttotal: 29.7s\tremaining: 9.08s\n",
            "766:\tlearn: 0.0802320\ttotal: 29.8s\tremaining: 9.04s\n",
            "767:\tlearn: 0.0802099\ttotal: 29.8s\tremaining: 8.99s\n",
            "768:\tlearn: 0.0801929\ttotal: 29.8s\tremaining: 8.95s\n",
            "769:\tlearn: 0.0801736\ttotal: 29.8s\tremaining: 8.91s\n",
            "770:\tlearn: 0.0801605\ttotal: 29.9s\tremaining: 8.87s\n",
            "771:\tlearn: 0.0801327\ttotal: 29.9s\tremaining: 8.82s\n",
            "772:\tlearn: 0.0801110\ttotal: 29.9s\tremaining: 8.78s\n",
            "773:\tlearn: 0.0800967\ttotal: 29.9s\tremaining: 8.74s\n",
            "774:\tlearn: 0.0800816\ttotal: 30s\tremaining: 8.7s\n",
            "775:\tlearn: 0.0800589\ttotal: 30s\tremaining: 8.65s\n",
            "776:\tlearn: 0.0800422\ttotal: 30s\tremaining: 8.61s\n",
            "777:\tlearn: 0.0800195\ttotal: 30s\tremaining: 8.57s\n",
            "778:\tlearn: 0.0800054\ttotal: 30.1s\tremaining: 8.53s\n",
            "779:\tlearn: 0.0799942\ttotal: 30.1s\tremaining: 8.49s\n",
            "780:\tlearn: 0.0799747\ttotal: 30.2s\tremaining: 8.46s\n",
            "781:\tlearn: 0.0799668\ttotal: 30.2s\tremaining: 8.42s\n",
            "782:\tlearn: 0.0799527\ttotal: 30.3s\tremaining: 8.39s\n",
            "783:\tlearn: 0.0799059\ttotal: 30.3s\tremaining: 8.35s\n",
            "784:\tlearn: 0.0798910\ttotal: 30.4s\tremaining: 8.32s\n",
            "785:\tlearn: 0.0798712\ttotal: 30.4s\tremaining: 8.28s\n",
            "786:\tlearn: 0.0798536\ttotal: 30.5s\tremaining: 8.24s\n",
            "787:\tlearn: 0.0798310\ttotal: 30.5s\tremaining: 8.21s\n",
            "788:\tlearn: 0.0798181\ttotal: 30.6s\tremaining: 8.17s\n",
            "789:\tlearn: 0.0797886\ttotal: 30.6s\tremaining: 8.14s\n",
            "790:\tlearn: 0.0797496\ttotal: 30.7s\tremaining: 8.1s\n",
            "791:\tlearn: 0.0797193\ttotal: 30.7s\tremaining: 8.06s\n",
            "792:\tlearn: 0.0796975\ttotal: 30.8s\tremaining: 8.03s\n",
            "793:\tlearn: 0.0796923\ttotal: 30.8s\tremaining: 7.99s\n",
            "794:\tlearn: 0.0796542\ttotal: 30.8s\tremaining: 7.95s\n",
            "795:\tlearn: 0.0796110\ttotal: 30.9s\tremaining: 7.92s\n",
            "796:\tlearn: 0.0795827\ttotal: 30.9s\tremaining: 7.88s\n",
            "797:\tlearn: 0.0795698\ttotal: 31s\tremaining: 7.84s\n",
            "798:\tlearn: 0.0795357\ttotal: 31s\tremaining: 7.81s\n",
            "799:\tlearn: 0.0795227\ttotal: 31.1s\tremaining: 7.77s\n",
            "800:\tlearn: 0.0795013\ttotal: 31.1s\tremaining: 7.73s\n",
            "801:\tlearn: 0.0794723\ttotal: 31.2s\tremaining: 7.7s\n",
            "802:\tlearn: 0.0794425\ttotal: 31.2s\tremaining: 7.66s\n",
            "803:\tlearn: 0.0794166\ttotal: 31.3s\tremaining: 7.62s\n",
            "804:\tlearn: 0.0794034\ttotal: 31.3s\tremaining: 7.58s\n",
            "805:\tlearn: 0.0793735\ttotal: 31.4s\tremaining: 7.55s\n",
            "806:\tlearn: 0.0793524\ttotal: 31.4s\tremaining: 7.51s\n",
            "807:\tlearn: 0.0793386\ttotal: 31.5s\tremaining: 7.47s\n",
            "808:\tlearn: 0.0793267\ttotal: 31.5s\tremaining: 7.44s\n",
            "809:\tlearn: 0.0793040\ttotal: 31.5s\tremaining: 7.4s\n",
            "810:\tlearn: 0.0792836\ttotal: 31.6s\tremaining: 7.36s\n",
            "811:\tlearn: 0.0792465\ttotal: 31.6s\tremaining: 7.32s\n",
            "812:\tlearn: 0.0792146\ttotal: 31.7s\tremaining: 7.28s\n",
            "813:\tlearn: 0.0791788\ttotal: 31.7s\tremaining: 7.25s\n",
            "814:\tlearn: 0.0791385\ttotal: 31.8s\tremaining: 7.21s\n",
            "815:\tlearn: 0.0791177\ttotal: 31.8s\tremaining: 7.17s\n",
            "816:\tlearn: 0.0791020\ttotal: 31.8s\tremaining: 7.13s\n",
            "817:\tlearn: 0.0790595\ttotal: 31.8s\tremaining: 7.08s\n",
            "818:\tlearn: 0.0790415\ttotal: 31.9s\tremaining: 7.04s\n",
            "819:\tlearn: 0.0790215\ttotal: 31.9s\tremaining: 7s\n",
            "820:\tlearn: 0.0790092\ttotal: 31.9s\tremaining: 6.96s\n",
            "821:\tlearn: 0.0789743\ttotal: 32s\tremaining: 6.92s\n",
            "822:\tlearn: 0.0789467\ttotal: 32s\tremaining: 6.88s\n",
            "823:\tlearn: 0.0789260\ttotal: 32s\tremaining: 6.84s\n",
            "824:\tlearn: 0.0789094\ttotal: 32.1s\tremaining: 6.8s\n",
            "825:\tlearn: 0.0788928\ttotal: 32.1s\tremaining: 6.76s\n",
            "826:\tlearn: 0.0788792\ttotal: 32.1s\tremaining: 6.72s\n",
            "827:\tlearn: 0.0788630\ttotal: 32.2s\tremaining: 6.68s\n",
            "828:\tlearn: 0.0788297\ttotal: 32.2s\tremaining: 6.65s\n",
            "829:\tlearn: 0.0787931\ttotal: 32.3s\tremaining: 6.61s\n",
            "830:\tlearn: 0.0787666\ttotal: 32.3s\tremaining: 6.57s\n",
            "831:\tlearn: 0.0787527\ttotal: 32.4s\tremaining: 6.53s\n",
            "832:\tlearn: 0.0787080\ttotal: 32.4s\tremaining: 6.5s\n",
            "833:\tlearn: 0.0786690\ttotal: 32.4s\tremaining: 6.46s\n",
            "834:\tlearn: 0.0786480\ttotal: 32.5s\tremaining: 6.42s\n",
            "835:\tlearn: 0.0786278\ttotal: 32.5s\tremaining: 6.38s\n",
            "836:\tlearn: 0.0786042\ttotal: 32.6s\tremaining: 6.34s\n",
            "837:\tlearn: 0.0785842\ttotal: 32.6s\tremaining: 6.31s\n",
            "838:\tlearn: 0.0785787\ttotal: 32.7s\tremaining: 6.27s\n",
            "839:\tlearn: 0.0785624\ttotal: 32.7s\tremaining: 6.23s\n",
            "840:\tlearn: 0.0785335\ttotal: 32.7s\tremaining: 6.19s\n",
            "841:\tlearn: 0.0784988\ttotal: 32.8s\tremaining: 6.15s\n",
            "842:\tlearn: 0.0784871\ttotal: 32.8s\tremaining: 6.11s\n",
            "843:\tlearn: 0.0784670\ttotal: 32.8s\tremaining: 6.07s\n",
            "844:\tlearn: 0.0784395\ttotal: 32.9s\tremaining: 6.03s\n",
            "845:\tlearn: 0.0784103\ttotal: 32.9s\tremaining: 5.99s\n",
            "846:\tlearn: 0.0783799\ttotal: 32.9s\tremaining: 5.95s\n",
            "847:\tlearn: 0.0783684\ttotal: 33s\tremaining: 5.91s\n",
            "848:\tlearn: 0.0783155\ttotal: 33s\tremaining: 5.87s\n",
            "849:\tlearn: 0.0782924\ttotal: 33s\tremaining: 5.83s\n",
            "850:\tlearn: 0.0782772\ttotal: 33.1s\tremaining: 5.79s\n",
            "851:\tlearn: 0.0782519\ttotal: 33.1s\tremaining: 5.75s\n",
            "852:\tlearn: 0.0782333\ttotal: 33.1s\tremaining: 5.71s\n",
            "853:\tlearn: 0.0782189\ttotal: 33.2s\tremaining: 5.67s\n",
            "854:\tlearn: 0.0781790\ttotal: 33.2s\tremaining: 5.63s\n",
            "855:\tlearn: 0.0781512\ttotal: 33.2s\tremaining: 5.59s\n",
            "856:\tlearn: 0.0781194\ttotal: 33.3s\tremaining: 5.55s\n",
            "857:\tlearn: 0.0780848\ttotal: 33.3s\tremaining: 5.51s\n",
            "858:\tlearn: 0.0780673\ttotal: 33.3s\tremaining: 5.47s\n",
            "859:\tlearn: 0.0780545\ttotal: 33.3s\tremaining: 5.43s\n",
            "860:\tlearn: 0.0780341\ttotal: 33.4s\tremaining: 5.39s\n",
            "861:\tlearn: 0.0780202\ttotal: 33.5s\tremaining: 5.36s\n",
            "862:\tlearn: 0.0779976\ttotal: 33.5s\tremaining: 5.32s\n",
            "863:\tlearn: 0.0779720\ttotal: 33.5s\tremaining: 5.28s\n",
            "864:\tlearn: 0.0779559\ttotal: 33.6s\tremaining: 5.24s\n",
            "865:\tlearn: 0.0779276\ttotal: 33.6s\tremaining: 5.2s\n",
            "866:\tlearn: 0.0779110\ttotal: 33.7s\tremaining: 5.17s\n",
            "867:\tlearn: 0.0778919\ttotal: 33.7s\tremaining: 5.13s\n",
            "868:\tlearn: 0.0778689\ttotal: 33.8s\tremaining: 5.09s\n",
            "869:\tlearn: 0.0778427\ttotal: 33.8s\tremaining: 5.05s\n",
            "870:\tlearn: 0.0778199\ttotal: 33.9s\tremaining: 5.01s\n",
            "871:\tlearn: 0.0777918\ttotal: 33.9s\tremaining: 4.98s\n",
            "872:\tlearn: 0.0777648\ttotal: 34s\tremaining: 4.94s\n",
            "873:\tlearn: 0.0777312\ttotal: 34s\tremaining: 4.9s\n",
            "874:\tlearn: 0.0777202\ttotal: 34s\tremaining: 4.86s\n",
            "875:\tlearn: 0.0776883\ttotal: 34.1s\tremaining: 4.82s\n",
            "876:\tlearn: 0.0776606\ttotal: 34.1s\tremaining: 4.79s\n",
            "877:\tlearn: 0.0776258\ttotal: 34.2s\tremaining: 4.75s\n",
            "878:\tlearn: 0.0776066\ttotal: 34.2s\tremaining: 4.71s\n",
            "879:\tlearn: 0.0775822\ttotal: 34.3s\tremaining: 4.67s\n",
            "880:\tlearn: 0.0775703\ttotal: 34.3s\tremaining: 4.63s\n",
            "881:\tlearn: 0.0775443\ttotal: 34.3s\tremaining: 4.59s\n",
            "882:\tlearn: 0.0775250\ttotal: 34.4s\tremaining: 4.55s\n",
            "883:\tlearn: 0.0775130\ttotal: 34.4s\tremaining: 4.51s\n",
            "884:\tlearn: 0.0775045\ttotal: 34.4s\tremaining: 4.47s\n",
            "885:\tlearn: 0.0774845\ttotal: 34.5s\tremaining: 4.43s\n",
            "886:\tlearn: 0.0774754\ttotal: 34.5s\tremaining: 4.39s\n",
            "887:\tlearn: 0.0774609\ttotal: 34.5s\tremaining: 4.35s\n",
            "888:\tlearn: 0.0774439\ttotal: 34.6s\tremaining: 4.31s\n",
            "889:\tlearn: 0.0774087\ttotal: 34.6s\tremaining: 4.27s\n",
            "890:\tlearn: 0.0773938\ttotal: 34.6s\tremaining: 4.23s\n",
            "891:\tlearn: 0.0773581\ttotal: 34.6s\tremaining: 4.2s\n",
            "892:\tlearn: 0.0773086\ttotal: 34.7s\tremaining: 4.16s\n",
            "893:\tlearn: 0.0772521\ttotal: 34.7s\tremaining: 4.12s\n",
            "894:\tlearn: 0.0772217\ttotal: 34.8s\tremaining: 4.08s\n",
            "895:\tlearn: 0.0772110\ttotal: 34.8s\tremaining: 4.04s\n",
            "896:\tlearn: 0.0771840\ttotal: 34.9s\tremaining: 4.01s\n",
            "897:\tlearn: 0.0771527\ttotal: 34.9s\tremaining: 3.97s\n",
            "898:\tlearn: 0.0771301\ttotal: 35s\tremaining: 3.93s\n",
            "899:\tlearn: 0.0771159\ttotal: 35s\tremaining: 3.89s\n",
            "900:\tlearn: 0.0770618\ttotal: 35.1s\tremaining: 3.85s\n",
            "901:\tlearn: 0.0770447\ttotal: 35.1s\tremaining: 3.81s\n",
            "902:\tlearn: 0.0770397\ttotal: 35.1s\tremaining: 3.77s\n",
            "903:\tlearn: 0.0770188\ttotal: 35.2s\tremaining: 3.74s\n",
            "904:\tlearn: 0.0769970\ttotal: 35.2s\tremaining: 3.7s\n",
            "905:\tlearn: 0.0769686\ttotal: 35.3s\tremaining: 3.66s\n",
            "906:\tlearn: 0.0769656\ttotal: 35.3s\tremaining: 3.62s\n",
            "907:\tlearn: 0.0769458\ttotal: 35.4s\tremaining: 3.58s\n",
            "908:\tlearn: 0.0769155\ttotal: 35.4s\tremaining: 3.54s\n",
            "909:\tlearn: 0.0768874\ttotal: 35.4s\tremaining: 3.5s\n",
            "910:\tlearn: 0.0768651\ttotal: 35.5s\tremaining: 3.46s\n",
            "911:\tlearn: 0.0768388\ttotal: 35.5s\tremaining: 3.42s\n",
            "912:\tlearn: 0.0768110\ttotal: 35.6s\tremaining: 3.39s\n",
            "913:\tlearn: 0.0767927\ttotal: 35.6s\tremaining: 3.35s\n",
            "914:\tlearn: 0.0767826\ttotal: 35.6s\tremaining: 3.31s\n",
            "915:\tlearn: 0.0767562\ttotal: 35.7s\tremaining: 3.27s\n",
            "916:\tlearn: 0.0767473\ttotal: 35.7s\tremaining: 3.23s\n",
            "917:\tlearn: 0.0767257\ttotal: 35.8s\tremaining: 3.19s\n",
            "918:\tlearn: 0.0767067\ttotal: 35.8s\tremaining: 3.16s\n",
            "919:\tlearn: 0.0766810\ttotal: 35.9s\tremaining: 3.12s\n",
            "920:\tlearn: 0.0766515\ttotal: 35.9s\tremaining: 3.08s\n",
            "921:\tlearn: 0.0766221\ttotal: 36s\tremaining: 3.04s\n",
            "922:\tlearn: 0.0765959\ttotal: 36s\tremaining: 3s\n",
            "923:\tlearn: 0.0765796\ttotal: 36.1s\tremaining: 2.97s\n",
            "924:\tlearn: 0.0765445\ttotal: 36.1s\tremaining: 2.93s\n",
            "925:\tlearn: 0.0765370\ttotal: 36.2s\tremaining: 2.89s\n",
            "926:\tlearn: 0.0765242\ttotal: 36.2s\tremaining: 2.85s\n",
            "927:\tlearn: 0.0764968\ttotal: 36.2s\tremaining: 2.81s\n",
            "928:\tlearn: 0.0764894\ttotal: 36.2s\tremaining: 2.77s\n",
            "929:\tlearn: 0.0764723\ttotal: 36.3s\tremaining: 2.73s\n",
            "930:\tlearn: 0.0764444\ttotal: 36.3s\tremaining: 2.69s\n",
            "931:\tlearn: 0.0764297\ttotal: 36.3s\tremaining: 2.65s\n",
            "932:\tlearn: 0.0764051\ttotal: 36.4s\tremaining: 2.61s\n",
            "933:\tlearn: 0.0763413\ttotal: 36.4s\tremaining: 2.57s\n",
            "934:\tlearn: 0.0763318\ttotal: 36.5s\tremaining: 2.54s\n",
            "935:\tlearn: 0.0763270\ttotal: 36.5s\tremaining: 2.5s\n",
            "936:\tlearn: 0.0763098\ttotal: 36.5s\tremaining: 2.46s\n",
            "937:\tlearn: 0.0762842\ttotal: 36.6s\tremaining: 2.42s\n",
            "938:\tlearn: 0.0762659\ttotal: 36.6s\tremaining: 2.38s\n",
            "939:\tlearn: 0.0762475\ttotal: 36.7s\tremaining: 2.34s\n",
            "940:\tlearn: 0.0762364\ttotal: 36.7s\tremaining: 2.3s\n",
            "941:\tlearn: 0.0762082\ttotal: 36.8s\tremaining: 2.26s\n",
            "942:\tlearn: 0.0761909\ttotal: 36.8s\tremaining: 2.23s\n",
            "943:\tlearn: 0.0761371\ttotal: 36.9s\tremaining: 2.19s\n",
            "944:\tlearn: 0.0761101\ttotal: 36.9s\tremaining: 2.15s\n",
            "945:\tlearn: 0.0760912\ttotal: 37s\tremaining: 2.11s\n",
            "946:\tlearn: 0.0760665\ttotal: 37s\tremaining: 2.07s\n",
            "947:\tlearn: 0.0760513\ttotal: 37.1s\tremaining: 2.04s\n",
            "948:\tlearn: 0.0760341\ttotal: 37.1s\tremaining: 2s\n",
            "949:\tlearn: 0.0760082\ttotal: 37.2s\tremaining: 1.96s\n",
            "950:\tlearn: 0.0759886\ttotal: 37.2s\tremaining: 1.92s\n",
            "951:\tlearn: 0.0759582\ttotal: 37.3s\tremaining: 1.88s\n",
            "952:\tlearn: 0.0759230\ttotal: 37.3s\tremaining: 1.84s\n",
            "953:\tlearn: 0.0759025\ttotal: 37.4s\tremaining: 1.8s\n",
            "954:\tlearn: 0.0758681\ttotal: 37.4s\tremaining: 1.76s\n",
            "955:\tlearn: 0.0758390\ttotal: 37.5s\tremaining: 1.73s\n",
            "956:\tlearn: 0.0758284\ttotal: 37.5s\tremaining: 1.69s\n",
            "957:\tlearn: 0.0757956\ttotal: 37.6s\tremaining: 1.65s\n",
            "958:\tlearn: 0.0757803\ttotal: 37.6s\tremaining: 1.61s\n",
            "959:\tlearn: 0.0757562\ttotal: 37.7s\tremaining: 1.57s\n",
            "960:\tlearn: 0.0757489\ttotal: 37.7s\tremaining: 1.53s\n",
            "961:\tlearn: 0.0757372\ttotal: 37.8s\tremaining: 1.49s\n",
            "962:\tlearn: 0.0757156\ttotal: 37.8s\tremaining: 1.45s\n",
            "963:\tlearn: 0.0756829\ttotal: 37.9s\tremaining: 1.41s\n",
            "964:\tlearn: 0.0756365\ttotal: 37.9s\tremaining: 1.38s\n",
            "965:\tlearn: 0.0756287\ttotal: 38s\tremaining: 1.34s\n",
            "966:\tlearn: 0.0756023\ttotal: 38s\tremaining: 1.3s\n",
            "967:\tlearn: 0.0755657\ttotal: 38.1s\tremaining: 1.26s\n",
            "968:\tlearn: 0.0755455\ttotal: 38.1s\tremaining: 1.22s\n",
            "969:\tlearn: 0.0755230\ttotal: 38.1s\tremaining: 1.18s\n",
            "970:\tlearn: 0.0754990\ttotal: 38.2s\tremaining: 1.14s\n",
            "971:\tlearn: 0.0754755\ttotal: 38.3s\tremaining: 1.1s\n",
            "972:\tlearn: 0.0754608\ttotal: 38.3s\tremaining: 1.06s\n",
            "973:\tlearn: 0.0754409\ttotal: 38.4s\tremaining: 1.02s\n",
            "974:\tlearn: 0.0754241\ttotal: 38.4s\tremaining: 985ms\n",
            "975:\tlearn: 0.0753987\ttotal: 38.5s\tremaining: 946ms\n",
            "976:\tlearn: 0.0753744\ttotal: 38.5s\tremaining: 907ms\n",
            "977:\tlearn: 0.0753025\ttotal: 38.6s\tremaining: 868ms\n",
            "978:\tlearn: 0.0752527\ttotal: 38.6s\tremaining: 829ms\n",
            "979:\tlearn: 0.0752098\ttotal: 38.7s\tremaining: 789ms\n",
            "980:\tlearn: 0.0751910\ttotal: 38.7s\tremaining: 750ms\n",
            "981:\tlearn: 0.0751708\ttotal: 38.8s\tremaining: 711ms\n",
            "982:\tlearn: 0.0751548\ttotal: 38.8s\tremaining: 672ms\n",
            "983:\tlearn: 0.0751214\ttotal: 38.9s\tremaining: 632ms\n",
            "984:\tlearn: 0.0751045\ttotal: 38.9s\tremaining: 593ms\n",
            "985:\tlearn: 0.0750948\ttotal: 39s\tremaining: 553ms\n",
            "986:\tlearn: 0.0750836\ttotal: 39s\tremaining: 514ms\n",
            "987:\tlearn: 0.0750651\ttotal: 39.1s\tremaining: 475ms\n",
            "988:\tlearn: 0.0750550\ttotal: 39.1s\tremaining: 435ms\n",
            "989:\tlearn: 0.0750440\ttotal: 39.2s\tremaining: 396ms\n",
            "990:\tlearn: 0.0750289\ttotal: 39.2s\tremaining: 356ms\n",
            "991:\tlearn: 0.0750131\ttotal: 39.2s\tremaining: 316ms\n",
            "992:\tlearn: 0.0749972\ttotal: 39.3s\tremaining: 277ms\n",
            "993:\tlearn: 0.0749660\ttotal: 39.3s\tremaining: 237ms\n",
            "994:\tlearn: 0.0749502\ttotal: 39.3s\tremaining: 198ms\n",
            "995:\tlearn: 0.0749345\ttotal: 39.4s\tremaining: 158ms\n",
            "996:\tlearn: 0.0749171\ttotal: 39.4s\tremaining: 119ms\n",
            "997:\tlearn: 0.0748982\ttotal: 39.5s\tremaining: 79.1ms\n",
            "998:\tlearn: 0.0748847\ttotal: 39.5s\tremaining: 39.6ms\n",
            "999:\tlearn: 0.0748617\ttotal: 39.6s\tremaining: 0us\n",
            "Metrica del modelo 0.9727009686753051\n"
          ],
          "name": "stdout"
        }
      ]
    },
    {
      "cell_type": "code",
      "metadata": {
        "id": "RSF7JRPsIQeE"
      },
      "source": [
        "#print(model_catboost.get_all_params())"
      ],
      "execution_count": null,
      "outputs": []
    },
    {
      "cell_type": "markdown",
      "metadata": {
        "id": "6z5UuvzWIQeE"
      },
      "source": [
        "### MODELO CATBOOST USANDO GRIDSEARCH"
      ]
    },
    {
      "cell_type": "code",
      "metadata": {
        "id": "7rdYl_R0IQeE"
      },
      "source": [
        "#### OJO SE INTENTÓ CORRER EL MODELO CON GRIDSEARCH(OPTIMIZAR PARÁMETROS), PERO POR LA DEMORA EN EL TIEMPO DE ENTRENAMIENTO(MAS DE 2 HORAS APROX), \n",
        "### SOLO SE OPTO POR ANALIZAR MODELOS SIN USAR EL GRIDSEARCH, DEJO COMENTADO ELCODIGO A CORRER CON GRID SEARCH ######\n",
        "\n",
        "#from sklearn.metrics import f1_score, make_scorer\n",
        "#from sklearn.model_selection import GridSearchCV\n",
        "\n",
        "\n",
        "#grid_list = {\"learning_rate\": [0.06, 0.1, 0.8],\n",
        "#             \"depth\": [4, 6, 10],\n",
        "#             \"l2_leaf_reg\": [1,3,7],\n",
        "#             \"model_size_reg\":[0.3,0.5,0.8],\n",
        "#             \"iterations\":[500, 1000, 1500]}\n",
        "\n",
        "\n",
        "#grid_search = GridSearchCV(model_catboost, param_grid = grid_list, n_jobs = 4, cv = 5, scoring = 'roc_auc') #TAMBIEN EL SCORING QUE PUEDO QUE PUEDO ANALIZAR ES ('f1_micro')\n",
        "#grid_search.fit(X_smt, y_smt) \n",
        "#print(\"grid search :{} \".format(grid_search.cv_results_))"
      ],
      "execution_count": null,
      "outputs": []
    },
    {
      "cell_type": "code",
      "metadata": {
        "id": "3lkZ0s1yIQeF",
        "outputId": "9a7ad1ea-6686-4ce7-f60f-a16627f6a602"
      },
      "source": [
        "from sklearn import metrics\n",
        "preds = model_catboost.predict(X_test_scaled)\n",
        "preds_proba = model_catboost.predict_proba(X_test_scaled)[:,1]\n",
        "score_pred = metrics.f1_score(y_test, preds)\n",
        "score_auc_pred = metrics.roc_auc_score(y_test, preds)\n",
        "print(\"Metrica f1_score en Test\", score_pred)\n",
        "print(\"Metrica roc_auc en Test\", score_auc_pred)"
      ],
      "execution_count": null,
      "outputs": [
        {
          "output_type": "stream",
          "text": [
            "Metrica f1_score en Test 0.517557251908397\n",
            "Metrica roc_auc en Test 0.6796326815964551\n"
          ],
          "name": "stdout"
        }
      ]
    },
    {
      "cell_type": "code",
      "metadata": {
        "id": "qEsZmib9IQeF",
        "outputId": "f5371452-22bf-4087-a55d-26b3c63c0fa2"
      },
      "source": [
        "print(preds.shape)\n",
        "print(y_test.shape)"
      ],
      "execution_count": null,
      "outputs": [
        {
          "output_type": "stream",
          "text": [
            "(10962,)\n",
            "(10962,)\n"
          ],
          "name": "stdout"
        }
      ]
    },
    {
      "cell_type": "code",
      "metadata": {
        "id": "mUGH5SRXIQeF"
      },
      "source": [
        "import seaborn as sns\n",
        "from sklearn.metrics import confusion_matrix\n",
        "from sklearn.metrics import classification_report\n",
        "\n",
        "\n",
        "def mostrar_resultados(y_test, xgboost_predictions):\n",
        "    Matriz_Confusion = confusion_matrix(y_test, xgboost_predictions)\n",
        "    plt.figure(figsize=(8, 8))\n",
        "    sns.heatmap(Matriz_Confusion, xticklabels=LABELS, yticklabels=LABELS, annot=True, fmt=\"d\", cmap='BrBG',linewidths = 0.5);\n",
        "    plt.title(\"Matriz de confusión\")\n",
        "    plt.ylabel('Actual')\n",
        "    plt.xlabel('Predicha')\n",
        "    plt.show()\n",
        "    print (classification_report(y_test, xgboost_predictions))"
      ],
      "execution_count": null,
      "outputs": []
    },
    {
      "cell_type": "code",
      "metadata": {
        "id": "X9Wh89vxIQeF",
        "outputId": "8c90bf50-d485-4829-ea18-b1a9a97c9231"
      },
      "source": [
        "mostrar_resultados(y_test,preds)"
      ],
      "execution_count": null,
      "outputs": [
        {
          "output_type": "display_data",
          "data": {
            "image/png": "[encoded data removed]",
            "text/plain": [
              "<Figure size 576x576 with 2 Axes>"
            ]
          },
          "metadata": {
            "tags": [],
            "needs_background": "light"
          }
        },
        {
          "output_type": "stream",
          "text": [
            "              precision    recall  f1-score   support\n",
            "\n",
            "           0       0.94      1.00      0.97     10028\n",
            "           1       0.90      0.36      0.52       934\n",
            "\n",
            "    accuracy                           0.94     10962\n",
            "   macro avg       0.92      0.68      0.74     10962\n",
            "weighted avg       0.94      0.94      0.93     10962\n",
            "\n"
          ],
          "name": "stdout"
        }
      ]
    },
    {
      "cell_type": "code",
      "metadata": {
        "id": "zY-UGAPNIQeG"
      },
      "source": [
        "def plot_roc_curve(y_test, preds):  \n",
        "    plt.plot(y_test, preds, color='orange', label='ROC')\n",
        "    plt.plot([0, 1], [0, 1], color='darkblue', linestyle='--')\n",
        "    plt.xlabel('False Positive Rate')\n",
        "    plt.ylabel('True Positive Rate')\n",
        "    plt.title('Receiver Operating Characteristic (ROC) Curve')\n",
        "    plt.legend()\n",
        "    plt.show()"
      ],
      "execution_count": null,
      "outputs": []
    },
    {
      "cell_type": "code",
      "metadata": {
        "id": "FyG4B-5-IQeG",
        "outputId": "345cb83f-9558-4a78-f3aa-867ec4e5b5c7"
      },
      "source": [
        "from sklearn.metrics import roc_curve  \n",
        "fpr, tpr, thresholds = roc_curve(y_test, preds_proba)\n",
        " \n",
        "plot_roc_curve(fpr, tpr) "
      ],
      "execution_count": null,
      "outputs": [
        {
          "output_type": "display_data",
          "data": {
            "image/png": "[encoded data removed]",
            "text/plain": [
              "<Figure size 432x288 with 1 Axes>"
            ]
          },
          "metadata": {
            "tags": [],
            "needs_background": "light"
          }
        }
      ]
    },
    {
      "cell_type": "code",
      "metadata": {
        "id": "sfWrDu00IQeG"
      },
      "source": [
        "#Feature Importances Plot\n",
        "def feature_importances_plot(regr, X_train_scaled):\n",
        "    features = X_train_scaled.columns\n",
        "    importances = regr.feature_importances_\n",
        "    indices = np.argsort(importances)\n",
        "    plt.title('Feature Importances')\n",
        "    plt.barh(range(len(indices)), importances[indices], color='b', align='center')\n",
        "    plt.yticks(range(len(indices)), [features[i] for i in indices])\n",
        "    plt.xlabel('Relative Importance')\n",
        "    plt.show()"
      ],
      "execution_count": null,
      "outputs": []
    },
    {
      "cell_type": "code",
      "metadata": {
        "id": "P4VEecU_IQeH",
        "outputId": "fd3095e5-0299-46dc-9318-68fa3269bfed"
      },
      "source": [
        "catboost_feature =model_catboost.get_feature_importance()\n",
        "catboost_feature"
      ],
      "execution_count": null,
      "outputs": [
        {
          "output_type": "execute_result",
          "data": {
            "text/plain": [
              "array([5.58811872e+00, 1.26021702e+01, 1.72437882e+01, 2.26964508e+01,\n",
              "       7.53237863e+00, 9.68775981e-01, 1.28314138e+01, 5.62311667e-01,\n",
              "       2.73476303e-01, 1.10224300e-01, 2.49891596e+00, 2.28265887e+00,\n",
              "       1.24193493e-01, 3.13598421e+00, 7.06534818e-01, 2.88832982e-02,\n",
              "       6.20048257e-02, 2.17013728e-02, 2.49627898e-02, 2.12584598e-02,\n",
              "       5.05083535e-02, 4.73296364e-02, 5.49305879e-02, 1.36252573e-03,\n",
              "       2.76327513e-02, 2.90528967e-01, 1.11734683e-01, 1.90718706e-02,\n",
              "       2.84863688e-01, 4.44130889e-02, 2.80618810e-02, 4.40951819e-02,\n",
              "       1.20278114e-01, 4.03665453e-02, 5.41640164e-02, 7.90139387e-02,\n",
              "       1.59441688e-02, 3.79283109e-02, 5.55160287e-02, 3.70473139e-02,\n",
              "       1.56262814e-02, 1.79828435e-02, 7.95618393e-02, 5.34214643e-02,\n",
              "       4.15971816e-02, 2.48432372e-01, 3.10034871e-02, 3.70536391e-02,\n",
              "       4.13784751e-02, 1.43197632e+00, 1.76196628e+00, 2.20277723e-01,\n",
              "       1.56496172e+00, 3.69376208e+00])"
            ]
          },
          "metadata": {
            "tags": []
          },
          "execution_count": 207
        }
      ]
    },
    {
      "cell_type": "code",
      "metadata": {
        "id": "AxQrKuHvIQeH",
        "outputId": "f3ba8565-d514-4bb4-8c7b-5773fc10fbb0"
      },
      "source": [
        "feature_importances_plot(model_catboost,X_smt)"
      ],
      "execution_count": null,
      "outputs": [
        {
          "output_type": "display_data",
          "data": {
            "image/png": "[encoded data removed]",
            "text/plain": [
              "<Figure size 432x288 with 1 Axes>"
            ]
          },
          "metadata": {
            "tags": [],
            "needs_background": "light"
          }
        }
      ]
    },
    {
      "cell_type": "code",
      "metadata": {
        "id": "XPV2zH4rIQeH",
        "outputId": "8b57074d-6d37-4113-ec61-96529fd50bc5"
      },
      "source": [
        "importances = pd.DataFrame({'columna': X_smt.columns, 'importance_cat': catboost_feature})\n",
        "importances.sort_values(by = 'importance_cat', ascending = False)"
      ],
      "execution_count": null,
      "outputs": [
        {
          "output_type": "execute_result",
          "data": {
            "text/html": [
              "<div>\n",
              "<style scoped>\n",
              "    .dataframe tbody tr th:only-of-type {\n",
              "        vertical-align: middle;\n",
              "    }\n",
              "\n",
              "    .dataframe tbody tr th {\n",
              "        vertical-align: top;\n",
              "    }\n",
              "\n",
              "    .dataframe thead th {\n",
              "        text-align: right;\n",
              "    }\n",
              "</style>\n",
              "<table border=\"1\" class=\"dataframe\">\n",
              "  <thead>\n",
              "    <tr style=\"text-align: right;\">\n",
              "      <th></th>\n",
              "      <th>columna</th>\n",
              "      <th>importance_cat</th>\n",
              "    </tr>\n",
              "  </thead>\n",
              "  <tbody>\n",
              "    <tr>\n",
              "      <th>3</th>\n",
              "      <td>length_of_service</td>\n",
              "      <td>22.696451</td>\n",
              "    </tr>\n",
              "    <tr>\n",
              "      <th>2</th>\n",
              "      <td>previous_year_rating</td>\n",
              "      <td>17.243788</td>\n",
              "    </tr>\n",
              "    <tr>\n",
              "      <th>6</th>\n",
              "      <td>avg_training_score</td>\n",
              "      <td>12.831414</td>\n",
              "    </tr>\n",
              "    <tr>\n",
              "      <th>1</th>\n",
              "      <td>age</td>\n",
              "      <td>12.602170</td>\n",
              "    </tr>\n",
              "    <tr>\n",
              "      <th>4</th>\n",
              "      <td>KPIs_met &gt;80%</td>\n",
              "      <td>7.532379</td>\n",
              "    </tr>\n",
              "    <tr>\n",
              "      <th>0</th>\n",
              "      <td>no_of_trainings</td>\n",
              "      <td>5.588119</td>\n",
              "    </tr>\n",
              "    <tr>\n",
              "      <th>53</th>\n",
              "      <td>Indice_capa_añoTrabajo</td>\n",
              "      <td>3.693762</td>\n",
              "    </tr>\n",
              "    <tr>\n",
              "      <th>13</th>\n",
              "      <td>department_Sales &amp; Marketing</td>\n",
              "      <td>3.135984</td>\n",
              "    </tr>\n",
              "    <tr>\n",
              "      <th>10</th>\n",
              "      <td>department_Operations</td>\n",
              "      <td>2.498916</td>\n",
              "    </tr>\n",
              "    <tr>\n",
              "      <th>11</th>\n",
              "      <td>department_Procurement</td>\n",
              "      <td>2.282659</td>\n",
              "    </tr>\n",
              "    <tr>\n",
              "      <th>50</th>\n",
              "      <td>gender_m</td>\n",
              "      <td>1.761966</td>\n",
              "    </tr>\n",
              "    <tr>\n",
              "      <th>52</th>\n",
              "      <td>recruitment_channel_sourcing</td>\n",
              "      <td>1.564962</td>\n",
              "    </tr>\n",
              "    <tr>\n",
              "      <th>49</th>\n",
              "      <td>education_Master's &amp; above</td>\n",
              "      <td>1.431976</td>\n",
              "    </tr>\n",
              "    <tr>\n",
              "      <th>5</th>\n",
              "      <td>awards_won?</td>\n",
              "      <td>0.968776</td>\n",
              "    </tr>\n",
              "    <tr>\n",
              "      <th>14</th>\n",
              "      <td>department_Technology</td>\n",
              "      <td>0.706535</td>\n",
              "    </tr>\n",
              "    <tr>\n",
              "      <th>7</th>\n",
              "      <td>department_Finance</td>\n",
              "      <td>0.562312</td>\n",
              "    </tr>\n",
              "    <tr>\n",
              "      <th>25</th>\n",
              "      <td>region_region_2</td>\n",
              "      <td>0.290529</td>\n",
              "    </tr>\n",
              "    <tr>\n",
              "      <th>28</th>\n",
              "      <td>region_region_22</td>\n",
              "      <td>0.284864</td>\n",
              "    </tr>\n",
              "    <tr>\n",
              "      <th>8</th>\n",
              "      <td>department_HR</td>\n",
              "      <td>0.273476</td>\n",
              "    </tr>\n",
              "    <tr>\n",
              "      <th>45</th>\n",
              "      <td>region_region_7</td>\n",
              "      <td>0.248432</td>\n",
              "    </tr>\n",
              "    <tr>\n",
              "      <th>51</th>\n",
              "      <td>recruitment_channel_referred</td>\n",
              "      <td>0.220278</td>\n",
              "    </tr>\n",
              "    <tr>\n",
              "      <th>12</th>\n",
              "      <td>department_R&amp;D</td>\n",
              "      <td>0.124193</td>\n",
              "    </tr>\n",
              "    <tr>\n",
              "      <th>32</th>\n",
              "      <td>region_region_26</td>\n",
              "      <td>0.120278</td>\n",
              "    </tr>\n",
              "    <tr>\n",
              "      <th>26</th>\n",
              "      <td>region_region_20</td>\n",
              "      <td>0.111735</td>\n",
              "    </tr>\n",
              "    <tr>\n",
              "      <th>9</th>\n",
              "      <td>department_Legal</td>\n",
              "      <td>0.110224</td>\n",
              "    </tr>\n",
              "    <tr>\n",
              "      <th>42</th>\n",
              "      <td>region_region_4</td>\n",
              "      <td>0.079562</td>\n",
              "    </tr>\n",
              "    <tr>\n",
              "      <th>35</th>\n",
              "      <td>region_region_29</td>\n",
              "      <td>0.079014</td>\n",
              "    </tr>\n",
              "    <tr>\n",
              "      <th>16</th>\n",
              "      <td>region_region_11</td>\n",
              "      <td>0.062005</td>\n",
              "    </tr>\n",
              "    <tr>\n",
              "      <th>38</th>\n",
              "      <td>region_region_31</td>\n",
              "      <td>0.055516</td>\n",
              "    </tr>\n",
              "    <tr>\n",
              "      <th>22</th>\n",
              "      <td>region_region_17</td>\n",
              "      <td>0.054931</td>\n",
              "    </tr>\n",
              "    <tr>\n",
              "      <th>34</th>\n",
              "      <td>region_region_28</td>\n",
              "      <td>0.054164</td>\n",
              "    </tr>\n",
              "    <tr>\n",
              "      <th>43</th>\n",
              "      <td>region_region_5</td>\n",
              "      <td>0.053421</td>\n",
              "    </tr>\n",
              "    <tr>\n",
              "      <th>20</th>\n",
              "      <td>region_region_15</td>\n",
              "      <td>0.050508</td>\n",
              "    </tr>\n",
              "    <tr>\n",
              "      <th>21</th>\n",
              "      <td>region_region_16</td>\n",
              "      <td>0.047330</td>\n",
              "    </tr>\n",
              "    <tr>\n",
              "      <th>29</th>\n",
              "      <td>region_region_23</td>\n",
              "      <td>0.044413</td>\n",
              "    </tr>\n",
              "    <tr>\n",
              "      <th>31</th>\n",
              "      <td>region_region_25</td>\n",
              "      <td>0.044095</td>\n",
              "    </tr>\n",
              "    <tr>\n",
              "      <th>44</th>\n",
              "      <td>region_region_6</td>\n",
              "      <td>0.041597</td>\n",
              "    </tr>\n",
              "    <tr>\n",
              "      <th>48</th>\n",
              "      <td>education_Below Secondary</td>\n",
              "      <td>0.041378</td>\n",
              "    </tr>\n",
              "    <tr>\n",
              "      <th>33</th>\n",
              "      <td>region_region_27</td>\n",
              "      <td>0.040367</td>\n",
              "    </tr>\n",
              "    <tr>\n",
              "      <th>37</th>\n",
              "      <td>region_region_30</td>\n",
              "      <td>0.037928</td>\n",
              "    </tr>\n",
              "    <tr>\n",
              "      <th>47</th>\n",
              "      <td>region_region_9</td>\n",
              "      <td>0.037054</td>\n",
              "    </tr>\n",
              "    <tr>\n",
              "      <th>39</th>\n",
              "      <td>region_region_32</td>\n",
              "      <td>0.037047</td>\n",
              "    </tr>\n",
              "    <tr>\n",
              "      <th>46</th>\n",
              "      <td>region_region_8</td>\n",
              "      <td>0.031003</td>\n",
              "    </tr>\n",
              "    <tr>\n",
              "      <th>15</th>\n",
              "      <td>region_region_10</td>\n",
              "      <td>0.028883</td>\n",
              "    </tr>\n",
              "    <tr>\n",
              "      <th>30</th>\n",
              "      <td>region_region_24</td>\n",
              "      <td>0.028062</td>\n",
              "    </tr>\n",
              "    <tr>\n",
              "      <th>24</th>\n",
              "      <td>region_region_19</td>\n",
              "      <td>0.027633</td>\n",
              "    </tr>\n",
              "    <tr>\n",
              "      <th>18</th>\n",
              "      <td>region_region_13</td>\n",
              "      <td>0.024963</td>\n",
              "    </tr>\n",
              "    <tr>\n",
              "      <th>17</th>\n",
              "      <td>region_region_12</td>\n",
              "      <td>0.021701</td>\n",
              "    </tr>\n",
              "    <tr>\n",
              "      <th>19</th>\n",
              "      <td>region_region_14</td>\n",
              "      <td>0.021258</td>\n",
              "    </tr>\n",
              "    <tr>\n",
              "      <th>27</th>\n",
              "      <td>region_region_21</td>\n",
              "      <td>0.019072</td>\n",
              "    </tr>\n",
              "    <tr>\n",
              "      <th>41</th>\n",
              "      <td>region_region_34</td>\n",
              "      <td>0.017983</td>\n",
              "    </tr>\n",
              "    <tr>\n",
              "      <th>36</th>\n",
              "      <td>region_region_3</td>\n",
              "      <td>0.015944</td>\n",
              "    </tr>\n",
              "    <tr>\n",
              "      <th>40</th>\n",
              "      <td>region_region_33</td>\n",
              "      <td>0.015626</td>\n",
              "    </tr>\n",
              "    <tr>\n",
              "      <th>23</th>\n",
              "      <td>region_region_18</td>\n",
              "      <td>0.001363</td>\n",
              "    </tr>\n",
              "  </tbody>\n",
              "</table>\n",
              "</div>"
            ],
            "text/plain": [
              "                         columna  importance_cat\n",
              "3              length_of_service       22.696451\n",
              "2           previous_year_rating       17.243788\n",
              "6             avg_training_score       12.831414\n",
              "1                            age       12.602170\n",
              "4                  KPIs_met >80%        7.532379\n",
              "0                no_of_trainings        5.588119\n",
              "53        Indice_capa_añoTrabajo        3.693762\n",
              "13  department_Sales & Marketing        3.135984\n",
              "10         department_Operations        2.498916\n",
              "11        department_Procurement        2.282659\n",
              "50                      gender_m        1.761966\n",
              "52  recruitment_channel_sourcing        1.564962\n",
              "49    education_Master's & above        1.431976\n",
              "5                    awards_won?        0.968776\n",
              "14         department_Technology        0.706535\n",
              "7             department_Finance        0.562312\n",
              "25               region_region_2        0.290529\n",
              "28              region_region_22        0.284864\n",
              "8                  department_HR        0.273476\n",
              "45               region_region_7        0.248432\n",
              "51  recruitment_channel_referred        0.220278\n",
              "12                department_R&D        0.124193\n",
              "32              region_region_26        0.120278\n",
              "26              region_region_20        0.111735\n",
              "9               department_Legal        0.110224\n",
              "42               region_region_4        0.079562\n",
              "35              region_region_29        0.079014\n",
              "16              region_region_11        0.062005\n",
              "38              region_region_31        0.055516\n",
              "22              region_region_17        0.054931\n",
              "34              region_region_28        0.054164\n",
              "43               region_region_5        0.053421\n",
              "20              region_region_15        0.050508\n",
              "21              region_region_16        0.047330\n",
              "29              region_region_23        0.044413\n",
              "31              region_region_25        0.044095\n",
              "44               region_region_6        0.041597\n",
              "48     education_Below Secondary        0.041378\n",
              "33              region_region_27        0.040367\n",
              "37              region_region_30        0.037928\n",
              "47               region_region_9        0.037054\n",
              "39              region_region_32        0.037047\n",
              "46               region_region_8        0.031003\n",
              "15              region_region_10        0.028883\n",
              "30              region_region_24        0.028062\n",
              "24              region_region_19        0.027633\n",
              "18              region_region_13        0.024963\n",
              "17              region_region_12        0.021701\n",
              "19              region_region_14        0.021258\n",
              "27              region_region_21        0.019072\n",
              "41              region_region_34        0.017983\n",
              "36               region_region_3        0.015944\n",
              "40              region_region_33        0.015626\n",
              "23              region_region_18        0.001363"
            ]
          },
          "metadata": {
            "tags": []
          },
          "execution_count": 209
        }
      ]
    },
    {
      "cell_type": "markdown",
      "metadata": {
        "id": "aSSU7wXtIQeI"
      },
      "source": [
        "# MODELO ADABOOST"
      ]
    },
    {
      "cell_type": "code",
      "metadata": {
        "id": "_Gl3P4nzIQeI",
        "outputId": "64e78cbb-8703-4b23-8180-fd4f0581b855"
      },
      "source": [
        "from sklearn.ensemble import AdaBoostClassifier\n",
        "model_adaboost = AdaBoostClassifier()\n",
        "\n",
        "model_adaboost.fit(X_smt, y_smt)\n",
        "\n",
        "score = model_adaboost.score(X_smt,y_smt)\n",
        "print(\"Metrica del modelo\", score)\n",
        "\n",
        "\n",
        "preds_adaboost = model_adaboost.predict(X_test_scaled)\n",
        "preds_proba_adaboost = model_adaboost.predict_proba(X_test_scaled)[:,1]\n",
        "\n",
        "score_pred = metrics.f1_score(y_test, preds_adaboost)\n",
        "score_auc_pred = metrics.roc_auc_score(y_test, preds_adaboost)\n",
        "print(\"Metrica f1_score en Test\", score_pred)\n",
        "print(\"Metrica roc_auc en Test\", score_auc_pred)\n",
        "\n",
        "mostrar_resultados(y_test,preds_adaboost)\n",
        " \n",
        "\n",
        "\n",
        "fpr, tpr, thresholds = roc_curve(y_test, preds_proba_adaboost)\n",
        " \n",
        "plot_roc_curve(fpr, tpr)  "
      ],
      "execution_count": null,
      "outputs": [
        {
          "output_type": "stream",
          "text": [
            "Metrica del modelo 0.8380047804755315\n",
            "Metrica f1_score en Test 0.35435630689206765\n",
            "Metrica roc_auc en Test 0.7121288443749364\n"
          ],
          "name": "stdout"
        },
        {
          "output_type": "display_data",
          "data": {
            "image/png": "[encoded data removed]",
            "text/plain": [
              "<Figure size 576x576 with 2 Axes>"
            ]
          },
          "metadata": {
            "tags": [],
            "needs_background": "light"
          }
        },
        {
          "output_type": "stream",
          "text": [
            "              precision    recall  f1-score   support\n",
            "\n",
            "           0       0.96      0.84      0.89     10028\n",
            "           1       0.25      0.58      0.35       934\n",
            "\n",
            "    accuracy                           0.82     10962\n",
            "   macro avg       0.61      0.71      0.62     10962\n",
            "weighted avg       0.90      0.82      0.85     10962\n",
            "\n"
          ],
          "name": "stdout"
        },
        {
          "output_type": "display_data",
          "data": {
            "image/png": "[encoded data removed]",
            "text/plain": [
              "<Figure size 432x288 with 1 Axes>"
            ]
          },
          "metadata": {
            "tags": [],
            "needs_background": "light"
          }
        }
      ]
    },
    {
      "cell_type": "code",
      "metadata": {
        "id": "K7pk8lylIQeI",
        "outputId": "4466877b-ca4d-454f-d207-38137cf526a4"
      },
      "source": [
        "print(model_adaboost.get_params())"
      ],
      "execution_count": null,
      "outputs": [
        {
          "output_type": "stream",
          "text": [
            "{'algorithm': 'SAMME.R', 'base_estimator': None, 'learning_rate': 1.0, 'n_estimators': 50, 'random_state': None}\n"
          ],
          "name": "stdout"
        }
      ]
    },
    {
      "cell_type": "markdown",
      "metadata": {
        "id": "1tC9_1wpIQeK"
      },
      "source": [
        "# MODELO DECISIONTREE Y BALANCEO CON BAGGING"
      ]
    },
    {
      "cell_type": "code",
      "metadata": {
        "id": "1eDwWrVFIQeK",
        "outputId": "331392c5-4bb9-40a5-9233-d8ef16adeeaa"
      },
      "source": [
        "from imblearn.ensemble import BalancedBaggingClassifier\n",
        "from sklearn.tree import DecisionTreeClassifier\n",
        "model_bbc = BalancedBaggingClassifier(base_estimator=DecisionTreeClassifier(),\n",
        "                                sampling_strategy='auto',\n",
        "                                replacement=False,\n",
        "                                random_state=0)\n",
        "\n",
        "\n",
        "model_bbc.fit(X_train_scaled, y_train)\n",
        "\n",
        "score = model_bbc.score(X_train_scaled,y_train)\n",
        "print(\"Metrica del modelo\", score)\n",
        "\n",
        "\n",
        "preds_bbc = model_bbc.predict(X_test_scaled)\n",
        "preds_proba_bbc = model_bbc.predict_proba(X_test_scaled)[:,1]\n",
        "\n",
        "score_pred = metrics.f1_score(y_test, preds_bbc)\n",
        "score_auc_pred = metrics.roc_auc_score(y_test, preds_bbc)\n",
        "print(\"Metrica f1_score en Test\", score_pred)\n",
        "print(\"Metrica roc_auc en Test\", score_auc_pred)\n",
        "\n",
        "mostrar_resultados(y_test,preds_bbc)\n",
        " \n",
        "\n",
        "\n",
        "fpr, tpr, thresholds = roc_curve(y_test, preds_proba_bbc)\n",
        " \n",
        "plot_roc_curve(fpr, tpr)  "
      ],
      "execution_count": null,
      "outputs": [
        {
          "output_type": "stream",
          "text": [
            "Metrica del modelo 0.8787802764220225\n",
            "Metrica f1_score en Test 0.4059625753250872\n",
            "Metrica roc_auc en Test 0.7638828624604854\n"
          ],
          "name": "stdout"
        },
        {
          "output_type": "display_data",
          "data": {
            "image/png": "[encoded data removed]",
            "text/plain": [
              "<Figure size 576x576 with 2 Axes>"
            ]
          },
          "metadata": {
            "tags": [],
            "needs_background": "light"
          }
        },
        {
          "output_type": "stream",
          "text": [
            "              precision    recall  f1-score   support\n",
            "\n",
            "           0       0.97      0.84      0.90     10028\n",
            "           1       0.29      0.69      0.41       934\n",
            "\n",
            "    accuracy                           0.83     10962\n",
            "   macro avg       0.63      0.76      0.65     10962\n",
            "weighted avg       0.91      0.83      0.86     10962\n",
            "\n"
          ],
          "name": "stdout"
        },
        {
          "output_type": "display_data",
          "data": {
            "image/png": "[encoded data removed]",
            "text/plain": [
              "<Figure size 432x288 with 1 Axes>"
            ]
          },
          "metadata": {
            "tags": [],
            "needs_background": "light"
          }
        }
      ]
    },
    {
      "cell_type": "code",
      "metadata": {
        "id": "QuX1MLtPIQeK",
        "outputId": "159d2fce-d463-4acb-a6ae-0cff793420cb"
      },
      "source": [
        "import joblib\n",
        "joblib.dump(model_catboost, 'm_entrenado_catboost1.pkl')"
      ],
      "execution_count": null,
      "outputs": [
        {
          "output_type": "execute_result",
          "data": {
            "text/plain": [
              "['m_entrenado_catboost1.pkl']"
            ]
          },
          "metadata": {
            "tags": []
          },
          "execution_count": 210
        }
      ]
    },
    {
      "cell_type": "code",
      "metadata": {
        "id": "ktMrPhAFIQeL"
      },
      "source": [
        "m_catboost = joblib.load('m_entrenado_catboost1.pkl')"
      ],
      "execution_count": null,
      "outputs": []
    },
    {
      "cell_type": "code",
      "metadata": {
        "id": "IYtucA6mIQeL",
        "outputId": "da2c30e4-f2ee-4479-de2b-2b7b44799b3e"
      },
      "source": [
        "# Importamos datos a validar para enviar\n",
        "df_val= pd.read_csv(\"D:\\\\ANGEL\\\\DMC\\\\Machine Learning Advanced\\\\MACHINE LEARNING ADVANCED _VIVO\\\\test.csv\", sep = \",\",index_col=0)\n",
        "df_val.head()"
      ],
      "execution_count": null,
      "outputs": [
        {
          "output_type": "execute_result",
          "data": {
            "text/html": [
              "<div>\n",
              "<style scoped>\n",
              "    .dataframe tbody tr th:only-of-type {\n",
              "        vertical-align: middle;\n",
              "    }\n",
              "\n",
              "    .dataframe tbody tr th {\n",
              "        vertical-align: top;\n",
              "    }\n",
              "\n",
              "    .dataframe thead th {\n",
              "        text-align: right;\n",
              "    }\n",
              "</style>\n",
              "<table border=\"1\" class=\"dataframe\">\n",
              "  <thead>\n",
              "    <tr style=\"text-align: right;\">\n",
              "      <th></th>\n",
              "      <th>department</th>\n",
              "      <th>region</th>\n",
              "      <th>education</th>\n",
              "      <th>gender</th>\n",
              "      <th>recruitment_channel</th>\n",
              "      <th>no_of_trainings</th>\n",
              "      <th>age</th>\n",
              "      <th>previous_year_rating</th>\n",
              "      <th>length_of_service</th>\n",
              "      <th>KPIs_met &gt;80%</th>\n",
              "      <th>awards_won?</th>\n",
              "      <th>avg_training_score</th>\n",
              "    </tr>\n",
              "    <tr>\n",
              "      <th>employee_id</th>\n",
              "      <th></th>\n",
              "      <th></th>\n",
              "      <th></th>\n",
              "      <th></th>\n",
              "      <th></th>\n",
              "      <th></th>\n",
              "      <th></th>\n",
              "      <th></th>\n",
              "      <th></th>\n",
              "      <th></th>\n",
              "      <th></th>\n",
              "      <th></th>\n",
              "    </tr>\n",
              "  </thead>\n",
              "  <tbody>\n",
              "    <tr>\n",
              "      <th>8724</th>\n",
              "      <td>Technology</td>\n",
              "      <td>region_26</td>\n",
              "      <td>Bachelor's</td>\n",
              "      <td>m</td>\n",
              "      <td>sourcing</td>\n",
              "      <td>1</td>\n",
              "      <td>24</td>\n",
              "      <td>NaN</td>\n",
              "      <td>1</td>\n",
              "      <td>1</td>\n",
              "      <td>0</td>\n",
              "      <td>77</td>\n",
              "    </tr>\n",
              "    <tr>\n",
              "      <th>74430</th>\n",
              "      <td>HR</td>\n",
              "      <td>region_4</td>\n",
              "      <td>Bachelor's</td>\n",
              "      <td>f</td>\n",
              "      <td>other</td>\n",
              "      <td>1</td>\n",
              "      <td>31</td>\n",
              "      <td>3.0</td>\n",
              "      <td>5</td>\n",
              "      <td>0</td>\n",
              "      <td>0</td>\n",
              "      <td>51</td>\n",
              "    </tr>\n",
              "    <tr>\n",
              "      <th>72255</th>\n",
              "      <td>Sales &amp; Marketing</td>\n",
              "      <td>region_13</td>\n",
              "      <td>Bachelor's</td>\n",
              "      <td>m</td>\n",
              "      <td>other</td>\n",
              "      <td>1</td>\n",
              "      <td>31</td>\n",
              "      <td>1.0</td>\n",
              "      <td>4</td>\n",
              "      <td>0</td>\n",
              "      <td>0</td>\n",
              "      <td>47</td>\n",
              "    </tr>\n",
              "    <tr>\n",
              "      <th>38562</th>\n",
              "      <td>Procurement</td>\n",
              "      <td>region_2</td>\n",
              "      <td>Bachelor's</td>\n",
              "      <td>f</td>\n",
              "      <td>other</td>\n",
              "      <td>3</td>\n",
              "      <td>31</td>\n",
              "      <td>2.0</td>\n",
              "      <td>9</td>\n",
              "      <td>0</td>\n",
              "      <td>0</td>\n",
              "      <td>65</td>\n",
              "    </tr>\n",
              "    <tr>\n",
              "      <th>64486</th>\n",
              "      <td>Finance</td>\n",
              "      <td>region_29</td>\n",
              "      <td>Bachelor's</td>\n",
              "      <td>m</td>\n",
              "      <td>sourcing</td>\n",
              "      <td>1</td>\n",
              "      <td>30</td>\n",
              "      <td>4.0</td>\n",
              "      <td>7</td>\n",
              "      <td>0</td>\n",
              "      <td>0</td>\n",
              "      <td>61</td>\n",
              "    </tr>\n",
              "  </tbody>\n",
              "</table>\n",
              "</div>"
            ],
            "text/plain": [
              "                    department     region   education gender  \\\n",
              "employee_id                                                    \n",
              "8724                Technology  region_26  Bachelor's      m   \n",
              "74430                       HR   region_4  Bachelor's      f   \n",
              "72255        Sales & Marketing  region_13  Bachelor's      m   \n",
              "38562              Procurement   region_2  Bachelor's      f   \n",
              "64486                  Finance  region_29  Bachelor's      m   \n",
              "\n",
              "            recruitment_channel  no_of_trainings  age  previous_year_rating  \\\n",
              "employee_id                                                                   \n",
              "8724                   sourcing                1   24                   NaN   \n",
              "74430                     other                1   31                   3.0   \n",
              "72255                     other                1   31                   1.0   \n",
              "38562                     other                3   31                   2.0   \n",
              "64486                  sourcing                1   30                   4.0   \n",
              "\n",
              "             length_of_service  KPIs_met >80%  awards_won?  avg_training_score  \n",
              "employee_id                                                                     \n",
              "8724                         1              1            0                  77  \n",
              "74430                        5              0            0                  51  \n",
              "72255                        4              0            0                  47  \n",
              "38562                        9              0            0                  65  \n",
              "64486                        7              0            0                  61  "
            ]
          },
          "metadata": {
            "tags": []
          },
          "execution_count": 212
        }
      ]
    },
    {
      "cell_type": "code",
      "metadata": {
        "id": "n7kk-MtBIQeL",
        "outputId": "56b6238a-3c72-46f9-a292-32c1f01559bd"
      },
      "source": [
        "df_val.info()"
      ],
      "execution_count": null,
      "outputs": [
        {
          "output_type": "stream",
          "text": [
            "<class 'pandas.core.frame.DataFrame'>\n",
            "Int64Index: 23490 entries, 8724 to 5973\n",
            "Data columns (total 12 columns):\n",
            " #   Column                Non-Null Count  Dtype  \n",
            "---  ------                --------------  -----  \n",
            " 0   department            23490 non-null  object \n",
            " 1   region                23490 non-null  object \n",
            " 2   education             22456 non-null  object \n",
            " 3   gender                23490 non-null  object \n",
            " 4   recruitment_channel   23490 non-null  object \n",
            " 5   no_of_trainings       23490 non-null  int64  \n",
            " 6   age                   23490 non-null  int64  \n",
            " 7   previous_year_rating  21678 non-null  float64\n",
            " 8   length_of_service     23490 non-null  int64  \n",
            " 9   KPIs_met >80%         23490 non-null  int64  \n",
            " 10  awards_won?           23490 non-null  int64  \n",
            " 11  avg_training_score    23490 non-null  int64  \n",
            "dtypes: float64(1), int64(6), object(5)\n",
            "memory usage: 2.3+ MB\n"
          ],
          "name": "stdout"
        }
      ]
    },
    {
      "cell_type": "code",
      "metadata": {
        "id": "zY15lziZIQeM",
        "outputId": "50656bc6-c882-4031-a90b-75e0ecddaf27"
      },
      "source": [
        "df_val.describe()"
      ],
      "execution_count": null,
      "outputs": [
        {
          "output_type": "execute_result",
          "data": {
            "text/html": [
              "<div>\n",
              "<style scoped>\n",
              "    .dataframe tbody tr th:only-of-type {\n",
              "        vertical-align: middle;\n",
              "    }\n",
              "\n",
              "    .dataframe tbody tr th {\n",
              "        vertical-align: top;\n",
              "    }\n",
              "\n",
              "    .dataframe thead th {\n",
              "        text-align: right;\n",
              "    }\n",
              "</style>\n",
              "<table border=\"1\" class=\"dataframe\">\n",
              "  <thead>\n",
              "    <tr style=\"text-align: right;\">\n",
              "      <th></th>\n",
              "      <th>no_of_trainings</th>\n",
              "      <th>age</th>\n",
              "      <th>previous_year_rating</th>\n",
              "      <th>length_of_service</th>\n",
              "      <th>KPIs_met &gt;80%</th>\n",
              "      <th>awards_won?</th>\n",
              "      <th>avg_training_score</th>\n",
              "    </tr>\n",
              "  </thead>\n",
              "  <tbody>\n",
              "    <tr>\n",
              "      <th>count</th>\n",
              "      <td>23490.000000</td>\n",
              "      <td>23490.000000</td>\n",
              "      <td>21678.000000</td>\n",
              "      <td>23490.000000</td>\n",
              "      <td>23490.000000</td>\n",
              "      <td>23490.000000</td>\n",
              "      <td>23490.000000</td>\n",
              "    </tr>\n",
              "    <tr>\n",
              "      <th>mean</th>\n",
              "      <td>1.254236</td>\n",
              "      <td>34.782929</td>\n",
              "      <td>3.339146</td>\n",
              "      <td>5.810387</td>\n",
              "      <td>0.358834</td>\n",
              "      <td>0.022776</td>\n",
              "      <td>63.263133</td>\n",
              "    </tr>\n",
              "    <tr>\n",
              "      <th>std</th>\n",
              "      <td>0.600910</td>\n",
              "      <td>7.679492</td>\n",
              "      <td>1.263294</td>\n",
              "      <td>4.207917</td>\n",
              "      <td>0.479668</td>\n",
              "      <td>0.149191</td>\n",
              "      <td>13.411750</td>\n",
              "    </tr>\n",
              "    <tr>\n",
              "      <th>min</th>\n",
              "      <td>1.000000</td>\n",
              "      <td>20.000000</td>\n",
              "      <td>1.000000</td>\n",
              "      <td>1.000000</td>\n",
              "      <td>0.000000</td>\n",
              "      <td>0.000000</td>\n",
              "      <td>39.000000</td>\n",
              "    </tr>\n",
              "    <tr>\n",
              "      <th>25%</th>\n",
              "      <td>1.000000</td>\n",
              "      <td>29.000000</td>\n",
              "      <td>3.000000</td>\n",
              "      <td>3.000000</td>\n",
              "      <td>0.000000</td>\n",
              "      <td>0.000000</td>\n",
              "      <td>51.000000</td>\n",
              "    </tr>\n",
              "    <tr>\n",
              "      <th>50%</th>\n",
              "      <td>1.000000</td>\n",
              "      <td>33.000000</td>\n",
              "      <td>3.000000</td>\n",
              "      <td>5.000000</td>\n",
              "      <td>0.000000</td>\n",
              "      <td>0.000000</td>\n",
              "      <td>60.000000</td>\n",
              "    </tr>\n",
              "    <tr>\n",
              "      <th>75%</th>\n",
              "      <td>1.000000</td>\n",
              "      <td>39.000000</td>\n",
              "      <td>4.000000</td>\n",
              "      <td>7.000000</td>\n",
              "      <td>1.000000</td>\n",
              "      <td>0.000000</td>\n",
              "      <td>76.000000</td>\n",
              "    </tr>\n",
              "    <tr>\n",
              "      <th>max</th>\n",
              "      <td>9.000000</td>\n",
              "      <td>60.000000</td>\n",
              "      <td>5.000000</td>\n",
              "      <td>34.000000</td>\n",
              "      <td>1.000000</td>\n",
              "      <td>1.000000</td>\n",
              "      <td>99.000000</td>\n",
              "    </tr>\n",
              "  </tbody>\n",
              "</table>\n",
              "</div>"
            ],
            "text/plain": [
              "       no_of_trainings           age  previous_year_rating  length_of_service  \\\n",
              "count     23490.000000  23490.000000          21678.000000       23490.000000   \n",
              "mean          1.254236     34.782929              3.339146           5.810387   \n",
              "std           0.600910      7.679492              1.263294           4.207917   \n",
              "min           1.000000     20.000000              1.000000           1.000000   \n",
              "25%           1.000000     29.000000              3.000000           3.000000   \n",
              "50%           1.000000     33.000000              3.000000           5.000000   \n",
              "75%           1.000000     39.000000              4.000000           7.000000   \n",
              "max           9.000000     60.000000              5.000000          34.000000   \n",
              "\n",
              "       KPIs_met >80%   awards_won?  avg_training_score  \n",
              "count   23490.000000  23490.000000        23490.000000  \n",
              "mean        0.358834      0.022776           63.263133  \n",
              "std         0.479668      0.149191           13.411750  \n",
              "min         0.000000      0.000000           39.000000  \n",
              "25%         0.000000      0.000000           51.000000  \n",
              "50%         0.000000      0.000000           60.000000  \n",
              "75%         1.000000      0.000000           76.000000  \n",
              "max         1.000000      1.000000           99.000000  "
            ]
          },
          "metadata": {
            "tags": []
          },
          "execution_count": 214
        }
      ]
    },
    {
      "cell_type": "code",
      "metadata": {
        "id": "L9vu42kJIQeM",
        "outputId": "037a015e-6451-450f-9071-e707b47b186f"
      },
      "source": [
        "X_train.describe()"
      ],
      "execution_count": null,
      "outputs": [
        {
          "output_type": "execute_result",
          "data": {
            "text/html": [
              "<div>\n",
              "<style scoped>\n",
              "    .dataframe tbody tr th:only-of-type {\n",
              "        vertical-align: middle;\n",
              "    }\n",
              "\n",
              "    .dataframe tbody tr th {\n",
              "        vertical-align: top;\n",
              "    }\n",
              "\n",
              "    .dataframe thead th {\n",
              "        text-align: right;\n",
              "    }\n",
              "</style>\n",
              "<table border=\"1\" class=\"dataframe\">\n",
              "  <thead>\n",
              "    <tr style=\"text-align: right;\">\n",
              "      <th></th>\n",
              "      <th>no_of_trainings</th>\n",
              "      <th>age</th>\n",
              "      <th>previous_year_rating</th>\n",
              "      <th>length_of_service</th>\n",
              "      <th>KPIs_met &gt;80%</th>\n",
              "      <th>awards_won?</th>\n",
              "      <th>avg_training_score</th>\n",
              "    </tr>\n",
              "  </thead>\n",
              "  <tbody>\n",
              "    <tr>\n",
              "      <th>count</th>\n",
              "      <td>43846.000000</td>\n",
              "      <td>43846.000000</td>\n",
              "      <td>40572.000000</td>\n",
              "      <td>43846.000000</td>\n",
              "      <td>43846.000000</td>\n",
              "      <td>43846.000000</td>\n",
              "      <td>43846.000000</td>\n",
              "    </tr>\n",
              "    <tr>\n",
              "      <th>mean</th>\n",
              "      <td>1.251471</td>\n",
              "      <td>34.805934</td>\n",
              "      <td>3.333284</td>\n",
              "      <td>5.871482</td>\n",
              "      <td>0.352894</td>\n",
              "      <td>0.023286</td>\n",
              "      <td>63.387150</td>\n",
              "    </tr>\n",
              "    <tr>\n",
              "      <th>std</th>\n",
              "      <td>0.609187</td>\n",
              "      <td>7.652666</td>\n",
              "      <td>1.259597</td>\n",
              "      <td>4.259109</td>\n",
              "      <td>0.477876</td>\n",
              "      <td>0.150812</td>\n",
              "      <td>13.374862</td>\n",
              "    </tr>\n",
              "    <tr>\n",
              "      <th>min</th>\n",
              "      <td>1.000000</td>\n",
              "      <td>20.000000</td>\n",
              "      <td>1.000000</td>\n",
              "      <td>1.000000</td>\n",
              "      <td>0.000000</td>\n",
              "      <td>0.000000</td>\n",
              "      <td>39.000000</td>\n",
              "    </tr>\n",
              "    <tr>\n",
              "      <th>25%</th>\n",
              "      <td>1.000000</td>\n",
              "      <td>29.000000</td>\n",
              "      <td>3.000000</td>\n",
              "      <td>3.000000</td>\n",
              "      <td>0.000000</td>\n",
              "      <td>0.000000</td>\n",
              "      <td>51.000000</td>\n",
              "    </tr>\n",
              "    <tr>\n",
              "      <th>50%</th>\n",
              "      <td>1.000000</td>\n",
              "      <td>33.000000</td>\n",
              "      <td>3.000000</td>\n",
              "      <td>5.000000</td>\n",
              "      <td>0.000000</td>\n",
              "      <td>0.000000</td>\n",
              "      <td>60.000000</td>\n",
              "    </tr>\n",
              "    <tr>\n",
              "      <th>75%</th>\n",
              "      <td>1.000000</td>\n",
              "      <td>39.000000</td>\n",
              "      <td>4.000000</td>\n",
              "      <td>7.000000</td>\n",
              "      <td>1.000000</td>\n",
              "      <td>0.000000</td>\n",
              "      <td>76.000000</td>\n",
              "    </tr>\n",
              "    <tr>\n",
              "      <th>max</th>\n",
              "      <td>10.000000</td>\n",
              "      <td>60.000000</td>\n",
              "      <td>5.000000</td>\n",
              "      <td>37.000000</td>\n",
              "      <td>1.000000</td>\n",
              "      <td>1.000000</td>\n",
              "      <td>99.000000</td>\n",
              "    </tr>\n",
              "  </tbody>\n",
              "</table>\n",
              "</div>"
            ],
            "text/plain": [
              "       no_of_trainings           age  previous_year_rating  length_of_service  \\\n",
              "count     43846.000000  43846.000000          40572.000000       43846.000000   \n",
              "mean          1.251471     34.805934              3.333284           5.871482   \n",
              "std           0.609187      7.652666              1.259597           4.259109   \n",
              "min           1.000000     20.000000              1.000000           1.000000   \n",
              "25%           1.000000     29.000000              3.000000           3.000000   \n",
              "50%           1.000000     33.000000              3.000000           5.000000   \n",
              "75%           1.000000     39.000000              4.000000           7.000000   \n",
              "max          10.000000     60.000000              5.000000          37.000000   \n",
              "\n",
              "       KPIs_met >80%   awards_won?  avg_training_score  \n",
              "count   43846.000000  43846.000000        43846.000000  \n",
              "mean        0.352894      0.023286           63.387150  \n",
              "std         0.477876      0.150812           13.374862  \n",
              "min         0.000000      0.000000           39.000000  \n",
              "25%         0.000000      0.000000           51.000000  \n",
              "50%         0.000000      0.000000           60.000000  \n",
              "75%         1.000000      0.000000           76.000000  \n",
              "max         1.000000      1.000000           99.000000  "
            ]
          },
          "metadata": {
            "tags": []
          },
          "execution_count": 215
        }
      ]
    },
    {
      "cell_type": "markdown",
      "metadata": {
        "id": "sRuXORfEIQeM"
      },
      "source": [
        "Imputación"
      ]
    },
    {
      "cell_type": "code",
      "metadata": {
        "id": "qWck_IewIQeN"
      },
      "source": [
        "df_val_cat = df_val.select_dtypes('object')\n",
        "df_val_num = df_val.select_dtypes('number')"
      ],
      "execution_count": null,
      "outputs": []
    },
    {
      "cell_type": "markdown",
      "metadata": {
        "id": "UycAcfD5IQeN"
      },
      "source": [
        "Numéricas"
      ]
    },
    {
      "cell_type": "code",
      "metadata": {
        "id": "0sbjl1rvIQeN",
        "outputId": "92259c8a-bcf5-4842-9081-26318838f606"
      },
      "source": [
        "df_val_num_imputed = pd.DataFrame(imputer_num.transform(df_val_num), columns = df_val_num.columns)\n",
        "df_val_num_imputed.head(2)"
      ],
      "execution_count": null,
      "outputs": [
        {
          "output_type": "execute_result",
          "data": {
            "text/html": [
              "<div>\n",
              "<style scoped>\n",
              "    .dataframe tbody tr th:only-of-type {\n",
              "        vertical-align: middle;\n",
              "    }\n",
              "\n",
              "    .dataframe tbody tr th {\n",
              "        vertical-align: top;\n",
              "    }\n",
              "\n",
              "    .dataframe thead th {\n",
              "        text-align: right;\n",
              "    }\n",
              "</style>\n",
              "<table border=\"1\" class=\"dataframe\">\n",
              "  <thead>\n",
              "    <tr style=\"text-align: right;\">\n",
              "      <th></th>\n",
              "      <th>no_of_trainings</th>\n",
              "      <th>age</th>\n",
              "      <th>previous_year_rating</th>\n",
              "      <th>length_of_service</th>\n",
              "      <th>KPIs_met &gt;80%</th>\n",
              "      <th>awards_won?</th>\n",
              "      <th>avg_training_score</th>\n",
              "    </tr>\n",
              "  </thead>\n",
              "  <tbody>\n",
              "    <tr>\n",
              "      <th>0</th>\n",
              "      <td>1.0</td>\n",
              "      <td>24.0</td>\n",
              "      <td>3.0</td>\n",
              "      <td>1.0</td>\n",
              "      <td>1.0</td>\n",
              "      <td>0.0</td>\n",
              "      <td>77.0</td>\n",
              "    </tr>\n",
              "    <tr>\n",
              "      <th>1</th>\n",
              "      <td>1.0</td>\n",
              "      <td>31.0</td>\n",
              "      <td>3.0</td>\n",
              "      <td>5.0</td>\n",
              "      <td>0.0</td>\n",
              "      <td>0.0</td>\n",
              "      <td>51.0</td>\n",
              "    </tr>\n",
              "  </tbody>\n",
              "</table>\n",
              "</div>"
            ],
            "text/plain": [
              "   no_of_trainings   age  previous_year_rating  length_of_service  \\\n",
              "0              1.0  24.0                   3.0                1.0   \n",
              "1              1.0  31.0                   3.0                5.0   \n",
              "\n",
              "   KPIs_met >80%  awards_won?  avg_training_score  \n",
              "0            1.0          0.0                77.0  \n",
              "1            0.0          0.0                51.0  "
            ]
          },
          "metadata": {
            "tags": []
          },
          "execution_count": 217
        }
      ]
    },
    {
      "cell_type": "markdown",
      "metadata": {
        "id": "P7OUL5bUIQeO"
      },
      "source": [
        "Categóricas"
      ]
    },
    {
      "cell_type": "code",
      "metadata": {
        "id": "m0jjH0IlIQeO",
        "outputId": "d33ffd0b-3a8a-42ef-d595-7f1ce228772d"
      },
      "source": [
        "df_val_cat_imputed = pd.DataFrame(imputer_cat.transform(df_val_cat), columns = df_val_cat.columns)\n",
        "df_val_cat_imputed.head(2)"
      ],
      "execution_count": null,
      "outputs": [
        {
          "output_type": "execute_result",
          "data": {
            "text/html": [
              "<div>\n",
              "<style scoped>\n",
              "    .dataframe tbody tr th:only-of-type {\n",
              "        vertical-align: middle;\n",
              "    }\n",
              "\n",
              "    .dataframe tbody tr th {\n",
              "        vertical-align: top;\n",
              "    }\n",
              "\n",
              "    .dataframe thead th {\n",
              "        text-align: right;\n",
              "    }\n",
              "</style>\n",
              "<table border=\"1\" class=\"dataframe\">\n",
              "  <thead>\n",
              "    <tr style=\"text-align: right;\">\n",
              "      <th></th>\n",
              "      <th>department</th>\n",
              "      <th>region</th>\n",
              "      <th>education</th>\n",
              "      <th>gender</th>\n",
              "      <th>recruitment_channel</th>\n",
              "    </tr>\n",
              "  </thead>\n",
              "  <tbody>\n",
              "    <tr>\n",
              "      <th>0</th>\n",
              "      <td>Technology</td>\n",
              "      <td>region_26</td>\n",
              "      <td>Bachelor's</td>\n",
              "      <td>m</td>\n",
              "      <td>sourcing</td>\n",
              "    </tr>\n",
              "    <tr>\n",
              "      <th>1</th>\n",
              "      <td>HR</td>\n",
              "      <td>region_4</td>\n",
              "      <td>Bachelor's</td>\n",
              "      <td>f</td>\n",
              "      <td>other</td>\n",
              "    </tr>\n",
              "  </tbody>\n",
              "</table>\n",
              "</div>"
            ],
            "text/plain": [
              "   department     region   education gender recruitment_channel\n",
              "0  Technology  region_26  Bachelor's      m            sourcing\n",
              "1          HR   region_4  Bachelor's      f               other"
            ]
          },
          "metadata": {
            "tags": []
          },
          "execution_count": 218
        }
      ]
    },
    {
      "cell_type": "markdown",
      "metadata": {
        "id": "p49JCPejIQeO"
      },
      "source": [
        "Encoding"
      ]
    },
    {
      "cell_type": "code",
      "metadata": {
        "id": "N8VUQsoNIQeO"
      },
      "source": [
        "df_val_cat_dummies = pd.get_dummies(df_val_cat_imputed, drop_first=True)"
      ],
      "execution_count": null,
      "outputs": []
    },
    {
      "cell_type": "code",
      "metadata": {
        "id": "FyIvRTT_IQeP"
      },
      "source": [
        "df_val_num_imputed['no_of_trainings'] = np.clip(df_val_num_imputed['no_of_trainings'], None, p99)\n",
        "df_val_num_imputed['length_of_service'] = np.clip(df_val_num_imputed['length_of_service'], None, p999)"
      ],
      "execution_count": null,
      "outputs": []
    },
    {
      "cell_type": "code",
      "metadata": {
        "id": "kFFBAdtcIQeP"
      },
      "source": [
        "df_val_num_imputed['length_of_service'] = np.log(df_val_num_imputed['length_of_service'])"
      ],
      "execution_count": null,
      "outputs": []
    },
    {
      "cell_type": "markdown",
      "metadata": {
        "id": "xmmrw7sfIQeP"
      },
      "source": [
        "Consolidación"
      ]
    },
    {
      "cell_type": "code",
      "metadata": {
        "id": "Gwc_17rbIQeP"
      },
      "source": [
        "df_val_total = pd.concat([df_val_num_imputed, df_val_cat_dummies], axis = 1)"
      ],
      "execution_count": null,
      "outputs": []
    },
    {
      "cell_type": "code",
      "metadata": {
        "id": "pAl7P-o7IQeQ"
      },
      "source": [
        "df_val_total['Indice_capa_añoTrabajo'] = df_val_total['no_of_trainings'] / (df_val_total['length_of_service']+1)"
      ],
      "execution_count": null,
      "outputs": []
    },
    {
      "cell_type": "code",
      "metadata": {
        "id": "E5AsgKM0IQeQ"
      },
      "source": [
        "df_val_scaled = pd.DataFrame(scaler.transform(df_val_total), columns = df_val_total.columns)"
      ],
      "execution_count": null,
      "outputs": []
    },
    {
      "cell_type": "code",
      "metadata": {
        "id": "6GBrZF3NIQeQ",
        "outputId": "8715f427-b9e2-4245-f579-a93221c927fc"
      },
      "source": [
        "X_train_scaled.shape"
      ],
      "execution_count": null,
      "outputs": [
        {
          "output_type": "execute_result",
          "data": {
            "text/plain": [
              "(43846, 54)"
            ]
          },
          "metadata": {
            "tags": []
          },
          "execution_count": 225
        }
      ]
    },
    {
      "cell_type": "code",
      "metadata": {
        "id": "81O1Q_TAIQeQ",
        "outputId": "9d0f1334-6db8-4d67-8412-776f5450a12e"
      },
      "source": [
        "df_val_scaled.shape"
      ],
      "execution_count": null,
      "outputs": [
        {
          "output_type": "execute_result",
          "data": {
            "text/plain": [
              "(23490, 54)"
            ]
          },
          "metadata": {
            "tags": []
          },
          "execution_count": 226
        }
      ]
    },
    {
      "cell_type": "code",
      "metadata": {
        "id": "d0Qy_WwzIQeR",
        "outputId": "60905bae-a4c1-4ba6-bfcb-e616771f782f"
      },
      "source": [
        "para_enviar = m_catboost.predict(df_val_scaled)\n",
        "para_enviar"
      ],
      "execution_count": null,
      "outputs": [
        {
          "output_type": "execute_result",
          "data": {
            "text/plain": [
              "array([0, 0, 0, ..., 0, 0, 1], dtype=int64)"
            ]
          },
          "metadata": {
            "tags": []
          },
          "execution_count": 227
        }
      ]
    },
    {
      "cell_type": "code",
      "metadata": {
        "id": "ac81oWF3IQeR",
        "outputId": "33bfdf4f-b788-409e-a9b4-f88f34ce0d63"
      },
      "source": [
        "data_enviar1 = pd.DataFrame()\n",
        "data_enviar1['is_promoted'] = para_enviar\n",
        "data_enviar1.head()"
      ],
      "execution_count": null,
      "outputs": [
        {
          "output_type": "execute_result",
          "data": {
            "text/html": [
              "<div>\n",
              "<style scoped>\n",
              "    .dataframe tbody tr th:only-of-type {\n",
              "        vertical-align: middle;\n",
              "    }\n",
              "\n",
              "    .dataframe tbody tr th {\n",
              "        vertical-align: top;\n",
              "    }\n",
              "\n",
              "    .dataframe thead th {\n",
              "        text-align: right;\n",
              "    }\n",
              "</style>\n",
              "<table border=\"1\" class=\"dataframe\">\n",
              "  <thead>\n",
              "    <tr style=\"text-align: right;\">\n",
              "      <th></th>\n",
              "      <th>is_promoted</th>\n",
              "    </tr>\n",
              "  </thead>\n",
              "  <tbody>\n",
              "    <tr>\n",
              "      <th>0</th>\n",
              "      <td>0</td>\n",
              "    </tr>\n",
              "    <tr>\n",
              "      <th>1</th>\n",
              "      <td>0</td>\n",
              "    </tr>\n",
              "    <tr>\n",
              "      <th>2</th>\n",
              "      <td>0</td>\n",
              "    </tr>\n",
              "    <tr>\n",
              "      <th>3</th>\n",
              "      <td>0</td>\n",
              "    </tr>\n",
              "    <tr>\n",
              "      <th>4</th>\n",
              "      <td>0</td>\n",
              "    </tr>\n",
              "  </tbody>\n",
              "</table>\n",
              "</div>"
            ],
            "text/plain": [
              "   is_promoted\n",
              "0            0\n",
              "1            0\n",
              "2            0\n",
              "3            0\n",
              "4            0"
            ]
          },
          "metadata": {
            "tags": []
          },
          "execution_count": 228
        }
      ]
    },
    {
      "cell_type": "code",
      "metadata": {
        "id": "eqGjBMZpIQeR",
        "outputId": "ba7978d3-7455-4362-eef7-69ce4989eb40"
      },
      "source": [
        "data_enviar1.index.names = ['employee_id']\n",
        "data_enviar1.head()"
      ],
      "execution_count": null,
      "outputs": [
        {
          "output_type": "execute_result",
          "data": {
            "text/html": [
              "<div>\n",
              "<style scoped>\n",
              "    .dataframe tbody tr th:only-of-type {\n",
              "        vertical-align: middle;\n",
              "    }\n",
              "\n",
              "    .dataframe tbody tr th {\n",
              "        vertical-align: top;\n",
              "    }\n",
              "\n",
              "    .dataframe thead th {\n",
              "        text-align: right;\n",
              "    }\n",
              "</style>\n",
              "<table border=\"1\" class=\"dataframe\">\n",
              "  <thead>\n",
              "    <tr style=\"text-align: right;\">\n",
              "      <th></th>\n",
              "      <th>is_promoted</th>\n",
              "    </tr>\n",
              "    <tr>\n",
              "      <th>employee_id</th>\n",
              "      <th></th>\n",
              "    </tr>\n",
              "  </thead>\n",
              "  <tbody>\n",
              "    <tr>\n",
              "      <th>0</th>\n",
              "      <td>0</td>\n",
              "    </tr>\n",
              "    <tr>\n",
              "      <th>1</th>\n",
              "      <td>0</td>\n",
              "    </tr>\n",
              "    <tr>\n",
              "      <th>2</th>\n",
              "      <td>0</td>\n",
              "    </tr>\n",
              "    <tr>\n",
              "      <th>3</th>\n",
              "      <td>0</td>\n",
              "    </tr>\n",
              "    <tr>\n",
              "      <th>4</th>\n",
              "      <td>0</td>\n",
              "    </tr>\n",
              "  </tbody>\n",
              "</table>\n",
              "</div>"
            ],
            "text/plain": [
              "             is_promoted\n",
              "employee_id             \n",
              "0                      0\n",
              "1                      0\n",
              "2                      0\n",
              "3                      0\n",
              "4                      0"
            ]
          },
          "metadata": {
            "tags": []
          },
          "execution_count": 229
        }
      ]
    },
    {
      "cell_type": "code",
      "metadata": {
        "id": "l9x0r7R4IQeS",
        "outputId": "18128333-83a5-4380-e5b0-f86463b0070f"
      },
      "source": [
        "plt.pie(pd.value_counts(data_enviar1['is_promoted']), labels=LABELS, autopct=\"%0.1f %%\")\n",
        "plt.axis(\"equal\")\n",
        "plt.show()"
      ],
      "execution_count": null,
      "outputs": [
        {
          "output_type": "display_data",
          "data": {
            "image/png": "[encoded data removed]",
            "text/plain": [
              "<Figure size 432x288 with 1 Axes>"
            ]
          },
          "metadata": {
            "tags": []
          }
        }
      ]
    },
    {
      "cell_type": "code",
      "metadata": {
        "id": "PUtgJP8pIQeS"
      },
      "source": [
        "data_enviar1.to_csv(\"D:\\\\ANGEL\\\\DMC\\\\Machine Learning Advanced\\\\MACHINE LEARNING ADVANCED _VIVO\\\\submission1.csv\")"
      ],
      "execution_count": null,
      "outputs": []
    },
    {
      "cell_type": "markdown",
      "metadata": {
        "id": "N9T8PQkaIQeS"
      },
      "source": [
        "# CONCLUSIONES"
      ]
    },
    {
      "cell_type": "markdown",
      "metadata": {
        "id": "JYiM0oUOIQeS"
      },
      "source": [
        "*Se entrenó 3 modelos de los cuales al comparar la metrica roc_auc el mejor modelo sería MODELO DECISIONTREE Y BALANCEO CON BAGGING\n",
        "(Metrica roc_auc en Test 0.7638828624604854)\n",
        "*Se entrenó 3 modelos de los cuales al comparar la metrica f1_score el mejor modelo sería MODELO CATBOOST\n",
        "(Metrica f1_score en Test 0.517557251908397)\n",
        "*La precisión(bueno o malo al predecir si ascendemos o no a tal empleado) en la predicción de nuestros datos futuros del area de Recursos Humanos,\n",
        "no es tan bueno ya que estariamos cometiendo algunos errores se estaría cometiendo mucho error, es decir estariamos ascendiente al quien realmente \n",
        "no es capaz o no merece ser ascendido y por otro lado al quien si realmente merece ser ascendido no lo estariamos ascendiendo.\n",
        "*Necesitamosa añadir variables relevantes para nuestros datos que de seguro estarian mejorando la predicción del modelo"
      ]
    }
  ]
}